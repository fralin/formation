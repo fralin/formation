{
 "cells": [
  {
   "cell_type": "markdown",
   "id": "28192efe-4b12-40aa-81c7-0f9ec572e386",
   "metadata": {},
   "source": [
    "# Introduction à l'apprentissage automatique avec Python\n",
    "\n",
    "## L'apprentissage automatique\n",
    "\n",
    "L'apprentissage automatique est le type de programmation qui donne aux ordinateurs la capacité d'apprendre automatiquement à partir de données sans être explicitement programmés. Cela signifie en d'autres termes que ces programmes modifient leur comportement en apprenant à partir de données.\n",
    "\n",
    "Nous allons couvrir différents aspects de l'apprentissage automatique dans ce tutoriel. Bien entendu, tout sera lié à Python. Il s'agit donc de l'apprentissage automatique à l'aide de Python.\n",
    "\n",
    "Nous couvrirons dans ce tutoriel sur l'apprentissage automatique et Python les sujets suivants, entre autres :\n",
    "\n",
    "- Classificateur de voisinage le plus proche (k-nearest Neighbor)\n",
    "- Réseaux neuronaux\n",
    "    - Réseaux neuronaux à partir de zéro en Python\n",
    "    - Réseaux neuronaux en Python à l'aide de Numypy\n",
    "    - Réseaux neuronaux de Dropout\n",
    "    - Réseaux neuronaux avec Scikit\n",
    "- Apprentissage automatique avec Scikit et Python\n",
    "- Classificateur Naive Bayes\n",
    "- Introduction à la classification de textes à l'aide de Naive Bayes et de Python\n",
    "\n",
    "L'apprentissage automatique peut être grossièrement séparé en trois catégories :\n",
    "\n",
    "__L'apprentissage supervisé__\n",
    "\n",
    "    Le programme d'apprentissage automatique reçoit à la fois les données d'entrée et l'étiquetage correspondant. Cela signifie que les données d'apprentissage doivent être étiquetées au préalable par un être humain.\n",
    "    \n",
    "__Apprentissage non supervisé__\n",
    "\n",
    "    Aucune étiquette n'est fournie à l'algorithme d'apprentissage. L'algorithme doit déterminer le regroupement des données d'entrée.\n",
    "\n",
    "__Apprentissage par renforcement__\n",
    "\n",
    "    Un programme informatique interagit dynamiquement avec son environnement. Cela signifie que le programme reçoit un retour positif et/ou négatif pour améliorer ses performances."
   ]
  },
  {
   "cell_type": "markdown",
   "id": "22d8fcef-9243-4f2d-a110-437f9b20c52e",
   "metadata": {},
   "source": [
    "## Plan\n",
    "[1 - Machine learning avec Python](1_machine_learning_python.ipynb)\n",
    "\n",
    "[2 - Terminologie](2_terminologie.ipynb)\n",
    "\n",
    "[3 - Jeux de données](3_jeux_de_donnees.ipynb)\n",
    "\n",
    "[4 - Représentation visualisation des données](4_representation_visualisation_donnees.ipynb)\n",
    "\n",
    "[5 - Datasets sklearn](5_datasets_sklearn.ipynb)\n",
    "\n",
    "[6 - Creation de datasets avec sklearn](6_artificial_datasets.ipynb)\n",
    "\n",
    "[7 - Préparation d'un dataset pour l'entrainement d'un modèle](7_train_test.ipynb)\n",
    "\n",
    "[8 - Methode des plus proches voisins en python](8_knn_python.ipynb)\n",
    "\n",
    "[9 - Méthode des plus proches voisin avec sklearn](9_knn_sklearn.ipynb)\n",
    "\n",
    "[10 - Introduction aux réseaux de neurones](10_introduction_reseaux_neurones.ipynb)\n",
    "\n",
    "[11 - Séparatrices linéaires](11_separatrice_lineaire.ipynb)\n",
    "\n",
    "[12 - Réseau de neurones simple](12_reseau_de_neurones_simple_python.ipynb)\n",
    "\n",
    "[13 - La classe Perceptron de sklearn](13_classe_perceptron_sklearn.ipynb)\n",
    "\n",
    "[14 - Réseaux neuronaux, structure, poids et matrices](14_reseaux_de_neurones.ipynb)\n",
    "\n",
    "[15 - Construction d'un réseau de neurones avec Python](15_reseau_de_neurone_python.ipynb)\n",
    "\n",
    "[16 - Backpropagation dans les réseaux neuronaux](16_retropropagation.ipynb)\n",
    "\n",
    "[Annexe - 10](A1-Distance_Levenstein.ipynb)"
   ]
  },
  {
   "cell_type": "code",
   "execution_count": null,
   "id": "12cf5c7d-b761-4618-88bf-6584a39a6f75",
   "metadata": {},
   "outputs": [],
   "source": []
  }
 ],
 "metadata": {
  "kernelspec": {
   "display_name": "py11",
   "language": "python",
   "name": "py11"
  },
  "language_info": {
   "codemirror_mode": {
    "name": "ipython",
    "version": 3
   },
   "file_extension": ".py",
   "mimetype": "text/x-python",
   "name": "python",
   "nbconvert_exporter": "python",
   "pygments_lexer": "ipython3",
   "version": "3.11.0"
  }
 },
 "nbformat": 4,
 "nbformat_minor": 5
}
