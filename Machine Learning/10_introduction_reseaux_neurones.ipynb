{
 "cells": [
  {
   "cell_type": "markdown",
   "id": "491a3de9",
   "metadata": {},
   "source": [
    "# 10 - Introduction aux réseaux neuronaux\n",
    "\n",
    "## Introduction\n",
    "\n",
    "Lorsque nous disons \"réseaux de neurones\", nous voulons dire réseaux de neurones artificiels (ANN). L'idée des ANN est basée sur les réseaux neuronaux biologiques, comme le cerveau des êtres vivants.\n",
    "\n",
    "La structure de base d'un réseau neuronal, qu'il soit artificiel ou vivant, est le neurone. En biologie, un neurone se compose de trois parties principales : le soma (corps cellulaire), les dendrites et l'axone.\n",
    "\n",
    "<center>\n",
    "    <img src=\"img/illustration10_1.png\" width=\"40%\">\n",
    "</center>\n",
    "\n",
    "Les dendrites se ramifient du soma en forme d'arbre et deviennent plus fines à chaque ramification. Elles reçoivent des signaux (impulsions) d'autres neurones au niveau des synapses. L'axone - il n'y en a toujours qu'un seul - part également du soma et a généralement tendance à s'étendre sur de plus longues distances que les dentrites. L'axone sert à envoyer la sortie du neurone vers d'autres neurones ou mieux vers les synapses d'autres neurones.\n",
    "\n",
    "## Neurone biologique\n",
    "\n",
    "L'image suivante, illustre ce phénomène :\n",
    "<center>\n",
    "    <img src=\"img/illustration10_2.png\" width=\"40%\">\n",
    "</center>\n",
    "\n",
    "## Abstraction d'un neurone biologique et d'un neurone artificiel\n",
    "\n",
    "Même si l'image ci-dessus est déjà une abstraction pour un biologiste, nous pouvons l'abstraire davantage :\n",
    "<center>\n",
    "    <img src=\"img/illustration10_3.png\" width=\"40%\">\n",
    "</center>\n",
    "\n",
    "Le perceptron simule un neurone biologique.\n",
    "\n",
    "<center>\n",
    "    <img src=\"img/illustration10_4.png\" width=\"40%\">\n",
    "</center>\n",
    "\n",
    "Ce qui se passe dans le corps d'un perceptron ou d'un neurone est étonnamment simple. Les signaux d'entrée sont multipliés par des valeurs de poids, c'est-à-dire que chaque entrée a son poids correspondant. De cette façon, l'entrée peut être ajustée individuellement pour chaque $x_i$. Nous pouvons voir toutes les entrées comme un vecteur d'entrée et les poids correspondants comme le vecteur des poids.\n",
    "\n",
    "Lorsqu'un signal entre, il est multiplié par une valeur de poids qui est attribuée à cette entrée particulière. Autrement dit, si un neurone a trois entrées, il a trois poids qui peuvent être ajustés individuellement. Les poids sont généralement ajustés pendant la phase d'apprentissage.\n",
    "Ensuite, les signaux d'entrée modifiés sont additionnés. Il est également possible d'ajouter un biais \"b\" à cette somme. Le biais est une valeur qui peut également être ajustée pendant la phase d'apprentissage.\n",
    "\n",
    "Enfin, la sortie réelle doit être déterminée. À cette fin, une fonction d'activation ou d'échelon Φ est appliquée à la somme pondérée des valeurs d'entrée.\n",
    "\n",
    "<center>\n",
    "    <img src=\"img/illustration10_5.png\" width=\"40%\">\n",
    "</center>\n",
    "\n",
    "La forme la plus simple d'une fonction d'activation est une fonction binaire. Si le résultat de la sommation est supérieur à un certain seuil s, le résultat de Φ sera 1, sinon 0.\n",
    "\n",
    "<center>\n",
    "    <img src=\"img/illustration10_6.png\" width=\"40%\">\n",
    "</center>\n",
    "\n",
    "## Nombre de neurones chez les animaux\n",
    "\n",
    "Nous examinerons dans les chapitres suivants des réseaux neuronaux artificiels de tailles et de structures diverses. Il est intéressant de jeter un coup d'œil au nombre total de neurones que possèdent certains animaux :\n",
    "\n",
    "<center>\n",
    "    <img src=\"img/illustration10_7.png\" width=\"40%\">\n",
    "</center>"
   ]
  },
  {
   "cell_type": "markdown",
   "id": "55e76d21",
   "metadata": {},
   "source": [
    "[Suivant](11_separatrice_lineaire.ipynb)"
   ]
  }
 ],
 "metadata": {
  "kernelspec": {
   "display_name": "Python 3 (ipykernel)",
   "language": "python",
   "name": "python3"
  },
  "language_info": {
   "codemirror_mode": {
    "name": "ipython",
    "version": 3
   },
   "file_extension": ".py",
   "mimetype": "text/x-python",
   "name": "python",
   "nbconvert_exporter": "python",
   "pygments_lexer": "ipython3",
   "version": "3.9.13"
  },
  "latex_envs": {
   "LaTeX_envs_menu_present": true,
   "autoclose": false,
   "autocomplete": true,
   "bibliofile": "biblio.bib",
   "cite_by": "apalike",
   "current_citInitial": 1,
   "eqLabelWithNumbers": true,
   "eqNumInitial": 1,
   "hotkeys": {
    "equation": "Ctrl-E",
    "itemize": "Ctrl-I"
   },
   "labels_anchors": false,
   "latex_user_defs": false,
   "report_style_numbering": false,
   "user_envs_cfg": false
  }
 },
 "nbformat": 4,
 "nbformat_minor": 5
}
