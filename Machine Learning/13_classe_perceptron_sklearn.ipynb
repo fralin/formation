{
 "cells": [
  {
   "cell_type": "markdown",
   "id": "916931e2",
   "metadata": {},
   "source": [
    "# 13 - La classe de Perceptron de sklearn\n",
    "\n",
    "## Introduction\n",
    "\n",
    "Dans le chapitre précédent, nous avions implémenté une classe Perceptron simple en utilisant du Python pur. Le module sklearn contient une classe Perceptron. Nous avons vu qu'un perceptron est un algorithme permettant de résoudre des problèmes de classifieurs binaires. Cela signifie qu'un Perceptron est un classificateur binaire, qui peut décider si une entrée appartient ou non à l'une ou l'autre classe. Par exemple, \"spam\" ou \"ham\". Pour ce faire, nous combinons linéairement les poids avec le vecteur de caractéristiques, c'est-à-dire l'entrée.\n",
    "\n",
    "\n",
    "Il est étonnant que l'algorithme du perceptron ait été inventé en 1958 par Frank Rosenblatt. L'algorithme a été mis en œuvre dans un matériel personnalisé, appelé \"perceptron Mark 1\". Ce matériel a été conçu pour la reconnaissance d'images.\n",
    "\n",
    "L'invention a été extrêmement surestimée : En 1958, le New York Times écrivait après une conférence de presse avec Rosenblatt : \"New Navy Device Learns By Doing ; Psychologist Shows Embryo of Computer Designed to Read and Grow Wiser\".\n",
    "\n",
    "Ce qui semblait initialement très prometteur s'est rapidement révélé incapable de tenir ses promesses. Ces perceptrons n'ont pas pu être entraînés à reconnaître de nombreuses classes de modèles.\n",
    "\n",
    "## Exemple : Classe Perceptron\n",
    "\n",
    "Nous allons créer avec l'aide de ```make_blobs``` un jeu de tests binaires :"
   ]
  },
  {
   "cell_type": "code",
   "execution_count": null,
   "id": "5081ce9e",
   "metadata": {},
   "outputs": [],
   "source": [
    "import matplotlib.pyplot as plt\n",
    "from sklearn.datasets import make_blobs\n",
    "\n",
    "n_samples = 500\n",
    "data, labels = make_blobs(n_samples=n_samples, \n",
    "                             centers=([1.1, 3], [4.5, 6.9]), \n",
    "                             cluster_std=1.3,\n",
    "                             random_state=0)\n",
    "\n",
    "\n",
    "colours = ('green', 'orange')\n",
    "fig, ax = plt.subplots()\n",
    "\n",
    "for n_class in range(2):\n",
    "    ax.scatter(data[labels==n_class][:, 0], \n",
    "               data[labels==n_class][:, 1], \n",
    "               c=colours[n_class], \n",
    "               s=50, \n",
    "               label=str(n_class))"
   ]
  },
  {
   "cell_type": "markdown",
   "id": "e03f586f",
   "metadata": {},
   "source": [
    "Nous allons diviser notre jeu de tests en un jeu d'apprentissage et un jeu de tests :"
   ]
  },
  {
   "cell_type": "code",
   "execution_count": null,
   "id": "20fbab3b",
   "metadata": {},
   "outputs": [],
   "source": [
    "from sklearn.model_selection import train_test_split\n",
    "datasets = train_test_split(data, \n",
    "                            labels,\n",
    "                            test_size=0.2)\n",
    "\n",
    "train_data, test_data, train_labels, test_labels = datasets"
   ]
  },
  {
   "cell_type": "markdown",
   "id": "5ecbaa33",
   "metadata": {},
   "source": [
    "Nous n'utiliserons pas la classe Perceptron de sklearn.linear_model :"
   ]
  },
  {
   "cell_type": "code",
   "execution_count": null,
   "id": "494fb718",
   "metadata": {},
   "outputs": [],
   "source": [
    "from sklearn.linear_model import Perceptron\n",
    "p = Perceptron(random_state=42)\n",
    "p.fit(train_data, train_labels)"
   ]
  },
  {
   "cell_type": "markdown",
   "id": "c00074ab",
   "metadata": {},
   "source": [
    "Nous pouvons calculer des prédictions sur l'ensemble d'apprentissage et l'ensemble de tests et évaluer le score :"
   ]
  },
  {
   "cell_type": "code",
   "execution_count": null,
   "id": "b7c3df07",
   "metadata": {},
   "outputs": [],
   "source": [
    "from sklearn.metrics import accuracy_score\n",
    "\n",
    "predictions_train = p.predict(train_data)\n",
    "predictions_test = p.predict(test_data)\n",
    "train_score = accuracy_score(predictions_train, train_labels)\n",
    "print(\"score on train data: \", train_score)\n",
    "test_score = accuracy_score(predictions_test, test_labels)\n",
    "print(\"score on test data: \", test_score)"
   ]
  },
  {
   "cell_type": "code",
   "execution_count": null,
   "id": "790956ee",
   "metadata": {},
   "outputs": [],
   "source": [
    "p.score(train_data, train_labels)"
   ]
  },
  {
   "cell_type": "markdown",
   "id": "c14001ac",
   "metadata": {},
   "source": [
    "Classification des données d'iris avec le classificateur Perceptron\n",
    "\n",
    "Nous voulons appliquer le classificateur Perceptron sur le jeu de données de l'iris, que nous avions déjà utilisé dans notre chapitre sur le k-plus proche voisin.\n",
    "\n",
    "Chargement du jeu de données de l'iris :"
   ]
  },
  {
   "cell_type": "code",
   "execution_count": null,
   "id": "79d7864c",
   "metadata": {},
   "outputs": [],
   "source": [
    "import numpy as np\n",
    "from sklearn.datasets import load_iris\n",
    "\n",
    "\n",
    "iris = load_iris()"
   ]
  },
  {
   "cell_type": "markdown",
   "id": "7e39385e",
   "metadata": {},
   "source": [
    "Nous avons un problème : le classificateur Perceptron ne peut être utilisé que pour des problèmes de classification binaire, mais l'ensemble de données sur l'iris comprend trois classes différentes, à savoir ```setosa```, ```versicolor```, ```virginica```, correspondant aux étiquettes 0, 1 et 2 :"
   ]
  },
  {
   "cell_type": "code",
   "execution_count": null,
   "id": "d9ba0986",
   "metadata": {},
   "outputs": [],
   "source": [
    "iris.target_names"
   ]
  },
  {
   "cell_type": "markdown",
   "id": "86403886",
   "metadata": {},
   "source": [
    "Nous allons fusionner les classes 'versicolor' et 'virginica' en une seule classe. Cela signifie qu'il ne reste que deux classes. Nous pouvons donc différencier avec le classificateur entre\n",
    "\n",
    "- Iris ```setose```;\n",
    "- et non Iris ```setosa```, ou en d'autres termes soit ```viriginica``` soit ```versicolor```.\n",
    "\n",
    "Nous accomplissons ceci avec la commande suivante :"
   ]
  },
  {
   "cell_type": "code",
   "execution_count": null,
   "id": "5d28a811",
   "metadata": {},
   "outputs": [],
   "source": [
    "targets = (iris.target==0).astype(np.int8)\n",
    "print(targets)"
   ]
  },
  {
   "cell_type": "markdown",
   "id": "c02d2236",
   "metadata": {},
   "source": [
    "Nous divisons les données en un ensemble d'apprentissage et un ensemble de tests :"
   ]
  },
  {
   "cell_type": "code",
   "execution_count": null,
   "id": "4413f28b",
   "metadata": {},
   "outputs": [],
   "source": [
    "from sklearn.model_selection import train_test_split\n",
    "datasets = train_test_split(iris.data, \n",
    "                            targets,\n",
    "                            test_size=0.2)\n",
    "\n",
    "train_data, test_data, train_labels, test_labels = datasets"
   ]
  },
  {
   "cell_type": "markdown",
   "id": "9bb8dbb0",
   "metadata": {},
   "source": [
    "Maintenant, nous créons une instance de Perceptron et ajustons les données d'entraînement :"
   ]
  },
  {
   "cell_type": "code",
   "execution_count": null,
   "id": "2c0e6ef2",
   "metadata": {},
   "outputs": [],
   "source": [
    "from sklearn.linear_model import Perceptron\n",
    "p = Perceptron(random_state=42,\n",
    "               max_iter=10,\n",
    "               tol=0.001)\n",
    "p.fit(train_data, train_labels)"
   ]
  },
  {
   "cell_type": "markdown",
   "id": "493282dd",
   "metadata": {},
   "source": [
    "Maintenant, nous sommes prêts pour les prédictions et nous allons examiner quelques valeurs X choisies au hasard :"
   ]
  },
  {
   "cell_type": "code",
   "execution_count": null,
   "id": "d6962325",
   "metadata": {},
   "outputs": [],
   "source": [
    "import random\n",
    "\n",
    "\n",
    "sample = random.sample(range(len(train_data)), 10)\n",
    "for i in sample:\n",
    "    print(i, p.predict([train_data[i]]))"
   ]
  },
  {
   "cell_type": "code",
   "execution_count": null,
   "id": "1265b7a1",
   "metadata": {},
   "outputs": [],
   "source": [
    "from sklearn.metrics import classification_report\n",
    "\n",
    "print(classification_report(p.predict(train_data), train_labels))"
   ]
  },
  {
   "cell_type": "code",
   "execution_count": null,
   "id": "dcc1cc25",
   "metadata": {},
   "outputs": [],
   "source": [
    "from sklearn.metrics import classification_report\n",
    "\n",
    "print(classification_report(p.predict(test_data), test_labels))"
   ]
  },
  {
   "cell_type": "markdown",
   "id": "3937957b",
   "metadata": {},
   "source": [
    "[Suivant](14_reseaux_de_neurones.ipynb)"
   ]
  }
 ],
 "metadata": {
  "kernelspec": {
   "display_name": "py10",
   "language": "python",
   "name": "py10"
  },
  "language_info": {
   "codemirror_mode": {
    "name": "ipython",
    "version": 3
   },
   "file_extension": ".py",
   "mimetype": "text/x-python",
   "name": "python",
   "nbconvert_exporter": "python",
   "pygments_lexer": "ipython3",
   "version": "3.10.9"
  }
 },
 "nbformat": 4,
 "nbformat_minor": 5
}
