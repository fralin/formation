{
 "cells": [
  {
   "cell_type": "markdown",
   "id": "d3ec5f24-96ca-4d4c-9139-5d179370a14a",
   "metadata": {},
   "source": [
    "# Terminologie de l'apprentissage automatique\n",
    "\n",
    "## Classifier\n",
    "\n",
    "Un programme ou une fonction qui fait correspondre des instances non étiquetées à des classes est appelé un classificateur.\n",
    "\n",
    "<center><img src=\"img/illustration5.png\" width=70%></center>\n",
    "\n",
    "Une matrice de confusion, également appelée table de contingence ou matrice d'erreur, est utilisée pour visualiser les performances d'un classificateur.\n",
    "\n",
    "Les colonnes de la matrice représentent les instances des classes prédites et les lignes représentent les instances de la classe réelle. (Remarque : cela peut aussi être l'inverse).\n",
    "\n",
    "Dans le cas d'une classification binaire, le tableau comporte 2 lignes et 2 colonnes.\n",
    "\n",
    "Exemple :\n",
    "\n",
    "<center><img src=\"img/matrice_confusion.png\" width=50%></center>"
   ]
  },
  {
   "cell_type": "markdown",
   "id": "c922d528-a667-4a9f-80b0-7863738ab674",
   "metadata": {},
   "source": [
    "Cela signifie que le classificateur a correctement prédit une personne masculine dans 42 cas et qu'il a prédit à tort que 8 instances masculines étaient des femmes. Il a correctement prédit une personne féminine dans 32 cas. 18 cas ont été prédits à tort comme étant des hommes au lieu de femmes.\n",
    "\n",
    "## Précision (accuracy)\n",
    "\n",
    "La précision est une mesure statistique qui est définie comme le quotient des prédictions correctes faites par un classificateur divisé par la somme des prédictions faites par le classificateur.\n",
    "\n",
    "Dans notre exemple précédent, le classificateur a correctement prédit 42 instances masculines et 32 instances féminines.\n",
    "\n",
    "Par conséquent, la précision peut être calculée par :\n",
    "<center>\n",
    "    $acc=\\frac{42+32}{42+8+18+32}=0,72$\n",
    "</center>\n",
    "\n",
    "Supposons que nous ayons un classifieur qui prédit toujours __femme__. Nous avons une précision de 50 % dans ce cas.\n",
    "\n",
    "<center><img src=\"img/matrice_confusion2.png\" width=50%></center>\n",
    "\n",
    "Nous allons démontrer le paradoxe de la précision.\n",
    "\n",
    "Un classificateur de reconnaissance de spam est décrit par la matrice de confusion suivante :\n",
    "\n",
    "<center><img src=\"img/matrice_confusion3.png\" width=50%></center>\n",
    "\n",
    "La précision de ce classificateur est de $\\frac{4 + 91}{100}=95\\%$.\n",
    "\n",
    "Le classificateur suivant prédit uniquement \"jambon\" et a la même précision.\n",
    "\n",
    "<center><img src=\"img/matrice_confusion4.png\" width=50%></center>\n",
    "\n",
    "La précision de ce classificateur est de 95%, même s'il n'est pas capable de reconnaître le moindre spam."
   ]
  },
  {
   "cell_type": "markdown",
   "id": "7fa3aedf-d104-4bc4-8a8d-9fbc2f0c2552",
   "metadata": {},
   "source": [
    "## Précision et rappel\n",
    "\n",
    "<center><img src=\"img/matrice_confusion5.png\" width=50%></center>\n",
    "\n",
    "$accuracy = \\frac{T_P + T_N}{T_P+F_P+T_N+F_N}$\n",
    "\n",
    "$precision=\\frac{T_P}{T_P+F_P}$\n",
    "\n",
    "$racall=\\frac{T_P}{T_P+F_N}$"
   ]
  },
  {
   "cell_type": "markdown",
   "id": "648448b2-7082-4641-9914-2379e745bcfc",
   "metadata": {},
   "source": [
    "## Apprentissage supervisé\n",
    "\n",
    "Le programme d'apprentissage automatique reçoit à la fois les données d'entrée et l'étiquetage correspondant. Cela signifie que les données d'apprentissage doivent être étiquetées au préalable par un être humain.\n",
    "\n",
    "## Apprentissage non supervisé\n",
    "\n",
    "Aucune étiquette n'est fournie à l'algorithme d'apprentissage. L'algorithme doit déterminer le regroupement des données d'entrée.\n",
    "\n",
    "## Apprentissage par renforcement\n",
    "\n",
    "Un programme informatique interagit dynamiquement avec son environnement. Cela signifie que le programme reçoit un retour positif et/ou négatif pour améliorer ses performances.\n",
    "\n",
    "[Suivant](3_jeux_de_donnees.ipynb)"
   ]
  }
 ],
 "metadata": {
  "kernelspec": {
   "display_name": "py11",
   "language": "python",
   "name": "py11"
  },
  "language_info": {
   "codemirror_mode": {
    "name": "ipython",
    "version": 3
   },
   "file_extension": ".py",
   "mimetype": "text/x-python",
   "name": "python",
   "nbconvert_exporter": "python",
   "pygments_lexer": "ipython3",
   "version": "3.11.0"
  }
 },
 "nbformat": 4,
 "nbformat_minor": 5
}
