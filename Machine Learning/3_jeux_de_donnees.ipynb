{
 "cells": [
  {
   "cell_type": "markdown",
   "id": "e6c7f8b7-bcce-4c77-874b-161f07a5c631",
   "metadata": {},
   "source": [
    "# 3 - Ensembles de données disponibles dans Sklearn\n",
    "\n",
    "## Jeux de données dans Sklearn\n",
    "\n",
    "```Scikit-learn``` met à disposition une multitude de jeux de données pour tester les algorithmes d'apprentissage. Ils sont disponibles en trois versions :\n",
    "\n",
    "__Données emballées :__ ces petits ensembles de données sont emballés avec l'installation de Scikit-learn et peuvent être téléchargés à l'aide des outils de ```sklearn.datasets.load_*```.\n",
    "__Données téléchargeables :__ ces ensembles de données plus importants sont disponibles pour le téléchargement, et scikit-learn inclut des outils qui simplifient ce processus. Ces outils se trouvent dans ```sklearn.datasets.fetch_*```.\n",
    "__Données générées :__ il existe plusieurs jeux de données qui sont générés à partir de modèles basés sur une graine aléatoire. Ils sont disponibles dans ```sklearn.datasets.make_```.\n",
    "\n",
    "Vous pouvez explorer les chargeurs, les récupérateurs et les générateurs de jeux de données disponibles en utilisant la fonctionnalité de complétion de tabulation d'IPython. Après avoir importé le sous-module datasets de sklearn, tapez:\n",
    "\n",
    "```datasets.load_<TAB>``` ou ```datasets.fetch_<TAB>``` ou ```datasets.make_<TAB>```\n",
    "\n",
    "pour voir la liste des fonctions disponibles.\n",
    "\n",
    "## Structure des données et des étiquettes\n",
    "\n",
    "Les données dans scikit-learn sont dans la plupart des cas enregistrées sous forme de tableaux ```Numpy``` bidimensionnels de la forme ```(n, m)```. De nombreux algorithmes acceptent également les matrices ```scipy.sparse``` de la même forme.\n",
    "\n",
    "- __n :__ (n_samples) Le nombre d'échantillons : chaque échantillon est un élément à traiter (par exemple, classifier). Un échantillon peut être un document, une image, un son, une vidéo, un objet astronomique, une ligne dans une base de données ou un fichier CSV, ou tout ce que vous pouvez décrire avec un ensemble fixe de traits quantitatifs.\n",
    "- __m :__ (n_features) Le nombre de caractéristiques ou de traits distincts qui peuvent être utilisés pour décrire chaque élément de manière quantitative. Les caractéristiques sont généralement à valeur réelle, mais peuvent être booléennes ou à valeur discrète dans certains cas."
   ]
  },
  {
   "cell_type": "code",
   "execution_count": null,
   "id": "c882ede1-c5ae-4d46-9bd0-14f0c91193c0",
   "metadata": {},
   "outputs": [],
   "source": [
    "!pip install sklearn"
   ]
  },
  {
   "cell_type": "code",
   "execution_count": null,
   "id": "16aeb164-0017-4cb4-9d53-75bf8f11a335",
   "metadata": {},
   "outputs": [],
   "source": [
    "from sklearn import datasets"
   ]
  },
  {
   "cell_type": "markdown",
   "id": "028d0b95-969c-41ef-a880-b102fda5e70d",
   "metadata": {},
   "source": [
    "Attention : beaucoup de ces ensembles de données sont assez volumineux et peuvent prendre beaucoup de temps à télécharger !\n",
    "\n",
    "Nous allons examiner de plus près l'un de ces ensembles de données. Nous examinons l'ensemble de données sur les chiffres. Nous allons d'abord le charger :"
   ]
  },
  {
   "cell_type": "code",
   "execution_count": null,
   "id": "a3f88a30-a15f-4359-ba23-9f2262c21cae",
   "metadata": {},
   "outputs": [],
   "source": [
    "from sklearn.datasets import load_digits\n",
    "digits = load_digits()"
   ]
  },
  {
   "cell_type": "markdown",
   "id": "11bdfeb3-98e0-4c20-b93f-1027835f417f",
   "metadata": {},
   "source": [
    "Là encore, nous pouvons obtenir un aperçu des attributs disponibles en examinant les \"clés\" :"
   ]
  },
  {
   "cell_type": "code",
   "execution_count": null,
   "id": "e4899453-5e9d-4f41-848e-fd052256a598",
   "metadata": {},
   "outputs": [],
   "source": [
    "digits.keys()"
   ]
  },
  {
   "cell_type": "markdown",
   "id": "5d6f6e6d-ad18-4de7-bcfd-fb5956d709e0",
   "metadata": {},
   "source": [
    "Jetons un coup d'œil au nombre d'articles et de fonctionnalités :"
   ]
  },
  {
   "cell_type": "code",
   "execution_count": null,
   "id": "32ede219-9b22-4360-a226-dcc99c472eaa",
   "metadata": {},
   "outputs": [],
   "source": [
    "n_samples, n_features = digits.data.shape\n",
    "print((n_samples, n_features))"
   ]
  },
  {
   "cell_type": "code",
   "execution_count": null,
   "id": "c9125a88-0b19-4905-bc0f-565b1522a70f",
   "metadata": {},
   "outputs": [],
   "source": [
    "print(digits.data[0])\n",
    "print(digits.target)"
   ]
  },
  {
   "cell_type": "markdown",
   "id": "8b33c39f-d771-4bcd-8c59-d17e8fb91c7f",
   "metadata": {},
   "source": [
    "Les données sont également disponibles sur ```digits.images```. Il s'agit des données brutes des images sous la forme de 8 lignes et 8 colonnes.\n",
    "\n",
    "Avec ```data``` une image correspond à un tableau Numpy unidimensionnel avec la longueur 64, et la représentation ```images``` contient des tableaux ```numpy``` bidimensionnels avec la forme (8, 8)"
   ]
  },
  {
   "cell_type": "code",
   "execution_count": null,
   "id": "90b35973-0dff-47c0-8cf6-04ceb1290a57",
   "metadata": {},
   "outputs": [],
   "source": [
    "print(\"Shape of an item: \", digits.data[0].shape)\n",
    "print(\"Data type of an item: \", type(digits.data[0]))\n",
    "print(\"Shape of an item: \", digits.images[0].shape)\n",
    "print(\"Data tpye of an item: \", type(digits.images[0]))"
   ]
  },
  {
   "cell_type": "markdown",
   "id": "31511c87-2d1a-49a5-ba13-cdb8df520b59",
   "metadata": {},
   "source": [
    "Visualisons les données. C'est un peu plus compliqué que le simple nuage de points que nous avons utilisé plus haut, mais nous pouvons le faire assez rapidement."
   ]
  },
  {
   "cell_type": "code",
   "execution_count": null,
   "id": "fdbf7171-029e-40e7-9b5a-d0773bc67f7b",
   "metadata": {},
   "outputs": [],
   "source": [
    "# visualisation of the digits data set\n",
    "import matplotlib.pyplot as plt\n",
    "# set up the figure\n",
    "fig = plt.figure(figsize=(6, 6))  # figure size in inches\n",
    "fig.subplots_adjust(left=0, right=1, bottom=0, top=1, hspace=0.05, wspace=0.05)\n",
    "\n",
    "# plot the digits: each image is 8x8 pixels\n",
    "for i in range(64):\n",
    "    ax = fig.add_subplot(8, 8, i + 1, xticks=[], yticks=[])\n",
    "    ax.imshow(digits.images[i], cmap=plt.cm.binary, interpolation='nearest')\n",
    "    \n",
    "    # label the image with the target value\n",
    "    ax.text(0, 7, str(digits.target[i]))"
   ]
  },
  {
   "cell_type": "markdown",
   "id": "4d14720d-3c8f-49f1-b1e3-9981d369d7d7",
   "metadata": {},
   "source": [
    "## Exercices\n",
    "\n",
    "### Exercice 1\n",
    "```sklearn``` contient un _ensemble de données sur le vin_.\n",
    "\n",
    "- Trouvez et chargez cet ensemble de données\n",
    "- Pouvez-vous trouver une description ?\n",
    "- Quels sont les noms des classes ?\n",
    "- Quelles sont les caractéristiques ?\n",
    "- Où se trouvent les données et les données étiquetées ?"
   ]
  },
  {
   "cell_type": "code",
   "execution_count": null,
   "id": "94501a8d-b821-4d1c-a90a-86a533e1af46",
   "metadata": {},
   "outputs": [],
   "source": [
    "from sklearn.datasets import load_wine\n",
    "data = load_wine()\n",
    "data.data"
   ]
  },
  {
   "cell_type": "markdown",
   "id": "7c43bcf7-c675-4d06-9470-ea83687c9ff5",
   "metadata": {},
   "source": [
    "### Exercice 2 :\n",
    "Créez un diagramme de dispersion des caractéristiques ```cendre``` et ```couleur_intensit``` de l'ensemble de données sur le vin."
   ]
  },
  {
   "cell_type": "markdown",
   "id": "0695abe4-5d41-4edb-adbc-3e5c354eee2c",
   "metadata": {},
   "source": [
    "### Exercice 3 :\n",
    "Créez une matrice de dispersion des caractéristiques de l'ensemble de données sur le vin."
   ]
  },
  {
   "cell_type": "markdown",
   "id": "f28e35fd-8252-45cc-93ef-c4ab69be0ab3",
   "metadata": {},
   "source": [
    "### Exercice 4 :\n",
    "Récupérer le jeu de données des visages Olivetti et visualiser les visages.\n",
    "\n",
    "[Suivant](4_representation_visualisation_donnees.ipynb)"
   ]
  },
  {
   "cell_type": "code",
   "execution_count": null,
   "id": "8c707872-ef5a-46ac-9cf7-63534a52cb36",
   "metadata": {},
   "outputs": [],
   "source": []
  }
 ],
 "metadata": {
  "kernelspec": {
   "display_name": "Python 3 (ipykernel)",
   "language": "python",
   "name": "python3"
  },
  "language_info": {
   "codemirror_mode": {
    "name": "ipython",
    "version": 3
   },
   "file_extension": ".py",
   "mimetype": "text/x-python",
   "name": "python",
   "nbconvert_exporter": "python",
   "pygments_lexer": "ipython3",
   "version": "3.9.13"
  }
 },
 "nbformat": 4,
 "nbformat_minor": 5
}
