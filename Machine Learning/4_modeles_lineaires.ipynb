{
 "cells": [
  {
   "cell_type": "code",
   "execution_count": 18,
   "id": "95d4a93c-5c48-4d30-8819-047fa6ba16a7",
   "metadata": {},
   "outputs": [],
   "source": [
    "import numpy\n",
    "%matplotlib inline"
   ]
  },
  {
   "cell_type": "markdown",
   "id": "84451d05-94f4-4e3f-8467-370283dbcae5",
   "metadata": {},
   "source": [
    "# Modèles linéaires\n",
    "\n",
    "Voici un ensemble de méthodes destinées à la régression dans laquelle la valeur cible est censée être une combinaison linéaire des caractéristiques. En notation mathématique, si $\\tilde{y}$ est la valeur prédite:\n",
    "\n",
    "$$\\tilde{y}(\\omega, x)=\\omega_0+\\omega_1\\cdot x_1+\\cdots+ \\omega_n\\cdot x_n$$"
   ]
  },
  {
   "cell_type": "markdown",
   "id": "c666f014-36aa-4222-93f7-38ef7098202d",
   "metadata": {},
   "source": [
    "## Les moindres carrés ordinaires\n",
    "\n",
    "```LinearRegression``` ajuste un modèle linéaire avec des coefficients:\n",
    "\n",
    "$$\\omega=(\\omega_1, \\omega_2, \\cdots, \\omega_n)$$\n",
    "\n",
    "pour minimiser la somme résiduelle des carrés entre les cibles observées dans l'ensemble de données et les cibles prédites par l'approximation linéaire. La méthode des moindres carrés consiste donc à minimiser la fonction d'erreur :\n",
    "\n",
    "$$E(\\omega)=\\Vert X\\cdot\\omega - y \\Vert_2^2$$\n",
    "\n",
    "La classe ```LinearRegression``` prendra dans sa méthode d'ajustement des tableaux ```X```, ```y``` et stockera les coefficients $\\omega$ du modèle linéaire dans son membre ```coef_``` :"
   ]
  },
  {
   "cell_type": "markdown",
   "id": "191370a9-b206-4624-8eb7-8b8367d95d6c",
   "metadata": {},
   "source": [
    "Les estimations des coefficients pour les moindres carrés ordinaires reposent sur l'indépendance des caractéristiques. Lorsque les caractéristiques sont corrélées et que les colonnes de la matrice de conception ```X``` ont une dépendance approximativement linéaire, la matrice de conception devient proche d'une matrice singulière et, par conséquent, l'estimation des moindres carrés devient très sensible aux erreurs aléatoires dans la cible observée, produisant une grande variance. Cette situation de multicollinéarité peut se produire, par exemple, lorsque les données sont recueillies sans plan d'expérience."
   ]
  },
  {
   "cell_type": "markdown",
   "id": "5ea98f33-3c0f-46d1-bfd1-bb433dfd3ace",
   "metadata": {},
   "source": [
    "### Exemple\n",
    "\n",
    "Dans cet exemple nous allons utiliser le dataset sur le diabetes"
   ]
  },
  {
   "cell_type": "code",
   "execution_count": 25,
   "id": "b4f032a9",
   "metadata": {},
   "outputs": [
    {
     "name": "stdout",
     "output_type": "stream",
     "text": [
      ".. _diabetes_dataset:\n",
      "\n",
      "Diabetes dataset\n",
      "----------------\n",
      "\n",
      "Ten baseline variables, age, sex, body mass index, average blood\n",
      "pressure, and six blood serum measurements were obtained for each of n =\n",
      "442 diabetes patients, as well as the response of interest, a\n",
      "quantitative measure of disease progression one year after baseline.\n",
      "\n",
      "**Data Set Characteristics:**\n",
      "\n",
      "  :Number of Instances: 442\n",
      "\n",
      "  :Number of Attributes: First 10 columns are numeric predictive values\n",
      "\n",
      "  :Target: Column 11 is a quantitative measure of disease progression one year after baseline\n",
      "\n",
      "  :Attribute Information:\n",
      "      - age     age in years\n",
      "      - sex\n",
      "      - bmi     body mass index\n",
      "      - bp      average blood pressure\n",
      "      - s1      tc, total serum cholesterol\n",
      "      - s2      ldl, low-density lipoproteins\n",
      "      - s3      hdl, high-density lipoproteins\n",
      "      - s4      tch, total cholesterol / HDL\n",
      "      - s5      ltg, possibly log of serum triglycerides level\n",
      "      - s6      glu, blood sugar level\n",
      "\n",
      "Note: Each of these 10 feature variables have been mean centered and scaled by the standard deviation times `n_samples` (i.e. the sum of squares of each column totals 1).\n",
      "\n",
      "Source URL:\n",
      "https://www4.stat.ncsu.edu/~boos/var.select/diabetes.html\n",
      "\n",
      "For more information see:\n",
      "Bradley Efron, Trevor Hastie, Iain Johnstone and Robert Tibshirani (2004) \"Least Angle Regression,\" Annals of Statistics (with discussion), 407-499.\n",
      "(https://web.stanford.edu/~hastie/Papers/LARS/LeastAngle_2002.pdf)\n"
     ]
    }
   ],
   "source": [
    "## Lecture du dataset \n",
    "from sklearn.datasets import load_diabetes\n",
    "\n",
    "data = load_diabetes(as_frame=True)\n",
    "print(data['DESCR'])"
   ]
  },
  {
   "cell_type": "code",
   "execution_count": 26,
   "id": "69e6cb77",
   "metadata": {},
   "outputs": [
    {
     "data": {
      "text/html": [
       "<div>\n",
       "<style scoped>\n",
       "    .dataframe tbody tr th:only-of-type {\n",
       "        vertical-align: middle;\n",
       "    }\n",
       "\n",
       "    .dataframe tbody tr th {\n",
       "        vertical-align: top;\n",
       "    }\n",
       "\n",
       "    .dataframe thead th {\n",
       "        text-align: right;\n",
       "    }\n",
       "</style>\n",
       "<table border=\"1\" class=\"dataframe\">\n",
       "  <thead>\n",
       "    <tr style=\"text-align: right;\">\n",
       "      <th></th>\n",
       "      <th>age</th>\n",
       "      <th>sex</th>\n",
       "      <th>bmi</th>\n",
       "      <th>bp</th>\n",
       "      <th>s1</th>\n",
       "      <th>s2</th>\n",
       "      <th>s3</th>\n",
       "      <th>s4</th>\n",
       "      <th>s5</th>\n",
       "      <th>s6</th>\n",
       "      <th>target</th>\n",
       "    </tr>\n",
       "  </thead>\n",
       "  <tbody>\n",
       "    <tr>\n",
       "      <th>0</th>\n",
       "      <td>0.038076</td>\n",
       "      <td>0.050680</td>\n",
       "      <td>0.061696</td>\n",
       "      <td>0.021872</td>\n",
       "      <td>-0.044223</td>\n",
       "      <td>-0.034821</td>\n",
       "      <td>-0.043401</td>\n",
       "      <td>-0.002592</td>\n",
       "      <td>0.019908</td>\n",
       "      <td>-0.017646</td>\n",
       "      <td>151.0</td>\n",
       "    </tr>\n",
       "    <tr>\n",
       "      <th>1</th>\n",
       "      <td>-0.001882</td>\n",
       "      <td>-0.044642</td>\n",
       "      <td>-0.051474</td>\n",
       "      <td>-0.026328</td>\n",
       "      <td>-0.008449</td>\n",
       "      <td>-0.019163</td>\n",
       "      <td>0.074412</td>\n",
       "      <td>-0.039493</td>\n",
       "      <td>-0.068330</td>\n",
       "      <td>-0.092204</td>\n",
       "      <td>75.0</td>\n",
       "    </tr>\n",
       "    <tr>\n",
       "      <th>2</th>\n",
       "      <td>0.085299</td>\n",
       "      <td>0.050680</td>\n",
       "      <td>0.044451</td>\n",
       "      <td>-0.005671</td>\n",
       "      <td>-0.045599</td>\n",
       "      <td>-0.034194</td>\n",
       "      <td>-0.032356</td>\n",
       "      <td>-0.002592</td>\n",
       "      <td>0.002864</td>\n",
       "      <td>-0.025930</td>\n",
       "      <td>141.0</td>\n",
       "    </tr>\n",
       "    <tr>\n",
       "      <th>3</th>\n",
       "      <td>-0.089063</td>\n",
       "      <td>-0.044642</td>\n",
       "      <td>-0.011595</td>\n",
       "      <td>-0.036656</td>\n",
       "      <td>0.012191</td>\n",
       "      <td>0.024991</td>\n",
       "      <td>-0.036038</td>\n",
       "      <td>0.034309</td>\n",
       "      <td>0.022692</td>\n",
       "      <td>-0.009362</td>\n",
       "      <td>206.0</td>\n",
       "    </tr>\n",
       "    <tr>\n",
       "      <th>4</th>\n",
       "      <td>0.005383</td>\n",
       "      <td>-0.044642</td>\n",
       "      <td>-0.036385</td>\n",
       "      <td>0.021872</td>\n",
       "      <td>0.003935</td>\n",
       "      <td>0.015596</td>\n",
       "      <td>0.008142</td>\n",
       "      <td>-0.002592</td>\n",
       "      <td>-0.031991</td>\n",
       "      <td>-0.046641</td>\n",
       "      <td>135.0</td>\n",
       "    </tr>\n",
       "  </tbody>\n",
       "</table>\n",
       "</div>"
      ],
      "text/plain": [
       "        age       sex       bmi        bp        s1        s2        s3  \\\n",
       "0  0.038076  0.050680  0.061696  0.021872 -0.044223 -0.034821 -0.043401   \n",
       "1 -0.001882 -0.044642 -0.051474 -0.026328 -0.008449 -0.019163  0.074412   \n",
       "2  0.085299  0.050680  0.044451 -0.005671 -0.045599 -0.034194 -0.032356   \n",
       "3 -0.089063 -0.044642 -0.011595 -0.036656  0.012191  0.024991 -0.036038   \n",
       "4  0.005383 -0.044642 -0.036385  0.021872  0.003935  0.015596  0.008142   \n",
       "\n",
       "         s4        s5        s6  target  \n",
       "0 -0.002592  0.019908 -0.017646   151.0  \n",
       "1 -0.039493 -0.068330 -0.092204    75.0  \n",
       "2 -0.002592  0.002864 -0.025930   141.0  \n",
       "3  0.034309  0.022692 -0.009362   206.0  \n",
       "4 -0.002592 -0.031991 -0.046641   135.0  "
      ]
     },
     "execution_count": 26,
     "metadata": {},
     "output_type": "execute_result"
    }
   ],
   "source": [
    "data.frame.head()"
   ]
  },
  {
   "cell_type": "code",
   "execution_count": 27,
   "id": "c1ad5ceb-9e15-457b-95c1-caec5a4cd814",
   "metadata": {},
   "outputs": [
    {
     "name": "stdout",
     "output_type": "stream",
     "text": [
      "          age       sex       bmi        bp        s1        s2        s3  \\\n",
      "0    0.038076  0.050680  0.061696  0.021872 -0.044223 -0.034821 -0.043401   \n",
      "1   -0.001882 -0.044642 -0.051474 -0.026328 -0.008449 -0.019163  0.074412   \n",
      "2    0.085299  0.050680  0.044451 -0.005671 -0.045599 -0.034194 -0.032356   \n",
      "3   -0.089063 -0.044642 -0.011595 -0.036656  0.012191  0.024991 -0.036038   \n",
      "4    0.005383 -0.044642 -0.036385  0.021872  0.003935  0.015596  0.008142   \n",
      "..        ...       ...       ...       ...       ...       ...       ...   \n",
      "437  0.041708  0.050680  0.019662  0.059744 -0.005697 -0.002566 -0.028674   \n",
      "438 -0.005515  0.050680 -0.015906 -0.067642  0.049341  0.079165 -0.028674   \n",
      "439  0.041708  0.050680 -0.015906  0.017282 -0.037344 -0.013840 -0.024993   \n",
      "440 -0.045472 -0.044642  0.039062  0.001215  0.016318  0.015283 -0.028674   \n",
      "441 -0.045472 -0.044642 -0.073030 -0.081414  0.083740  0.027809  0.173816   \n",
      "\n",
      "           s4        s5        s6  \n",
      "0   -0.002592  0.019908 -0.017646  \n",
      "1   -0.039493 -0.068330 -0.092204  \n",
      "2   -0.002592  0.002864 -0.025930  \n",
      "3    0.034309  0.022692 -0.009362  \n",
      "4   -0.002592 -0.031991 -0.046641  \n",
      "..        ...       ...       ...  \n",
      "437 -0.002592  0.031193  0.007207  \n",
      "438  0.034309 -0.018118  0.044485  \n",
      "439 -0.011080 -0.046879  0.015491  \n",
      "440  0.026560  0.044528 -0.025930  \n",
      "441 -0.039493 -0.004220  0.003064  \n",
      "\n",
      "[442 rows x 10 columns]\n"
     ]
    }
   ],
   "source": [
    "X, y = data.data, data.target\n",
    "print(X)"
   ]
  },
  {
   "cell_type": "code",
   "execution_count": 38,
   "id": "96763ba7-b8ca-4d47-bb7f-0afc0dea2133",
   "metadata": {},
   "outputs": [],
   "source": [
    "## Répartition des données entre training et test\n",
    "\n",
    "from sklearn.model_selection import train_test_split\n",
    "X_train, X_test, y_train, y_test = train_test_split(X, y)"
   ]
  },
  {
   "cell_type": "code",
   "execution_count": 39,
   "id": "a3497f3d-0502-40ca-bdad-4a386190162c",
   "metadata": {},
   "outputs": [
    {
     "data": {
      "text/plain": [
       "array([ -98.11759579, -245.53896092,  529.46200412,  253.34939387,\n",
       "       -427.15196093,  188.87773286, -114.18963024,   67.24142356,\n",
       "        698.04557239,   78.97029753])"
      ]
     },
     "execution_count": 39,
     "metadata": {},
     "output_type": "execute_result"
    }
   ],
   "source": [
    "## Création du modèle et ajustement des paramètres\n",
    "from sklearn.linear_model import LinearRegression\n",
    "lin = LinearRegression()\n",
    "lin.fit(X_train, y_train)\n",
    "\n",
    "## Affichage des coefficients\n",
    "lin.coef_"
   ]
  },
  {
   "cell_type": "code",
   "execution_count": 40,
   "id": "c72bd903-b37d-452d-8526-c0fe3b9c7271",
   "metadata": {},
   "outputs": [
    {
     "data": {
      "text/plain": [
       "0.4508167392135174"
      ]
     },
     "execution_count": 40,
     "metadata": {},
     "output_type": "execute_result"
    }
   ],
   "source": [
    "from sklearn.metrics import r2_score\n",
    "r2_score(y_test, lin.predict(X_test))"
   ]
  },
  {
   "cell_type": "markdown",
   "id": "4de51481",
   "metadata": {},
   "source": [
    "## Exercice\n",
    "\n",
    "1. Chargez l'ensemble de données sur le [logement en Californie](https://scikit-learn.org/stable/modules/generated/sklearn.datasets.fetch_california_housing.html#sklearn.datasets.fetch_california_housing).\n",
    "\n",
    "2. Que contient ce dataset\n",
    "3. Regression"
   ]
  },
  {
   "cell_type": "code",
   "execution_count": 44,
   "id": "51048031",
   "metadata": {},
   "outputs": [
    {
     "data": {
      "text/html": [
       "<div>\n",
       "<style scoped>\n",
       "    .dataframe tbody tr th:only-of-type {\n",
       "        vertical-align: middle;\n",
       "    }\n",
       "\n",
       "    .dataframe tbody tr th {\n",
       "        vertical-align: top;\n",
       "    }\n",
       "\n",
       "    .dataframe thead th {\n",
       "        text-align: right;\n",
       "    }\n",
       "</style>\n",
       "<table border=\"1\" class=\"dataframe\">\n",
       "  <thead>\n",
       "    <tr style=\"text-align: right;\">\n",
       "      <th></th>\n",
       "      <th>MedInc</th>\n",
       "      <th>HouseAge</th>\n",
       "      <th>AveRooms</th>\n",
       "      <th>AveBedrms</th>\n",
       "      <th>Population</th>\n",
       "      <th>AveOccup</th>\n",
       "      <th>Latitude</th>\n",
       "      <th>Longitude</th>\n",
       "      <th>MedHouseVal</th>\n",
       "    </tr>\n",
       "  </thead>\n",
       "  <tbody>\n",
       "    <tr>\n",
       "      <th>0</th>\n",
       "      <td>8.3252</td>\n",
       "      <td>41.0</td>\n",
       "      <td>6.984127</td>\n",
       "      <td>1.023810</td>\n",
       "      <td>322.0</td>\n",
       "      <td>2.555556</td>\n",
       "      <td>37.88</td>\n",
       "      <td>-122.23</td>\n",
       "      <td>4.526</td>\n",
       "    </tr>\n",
       "    <tr>\n",
       "      <th>1</th>\n",
       "      <td>8.3014</td>\n",
       "      <td>21.0</td>\n",
       "      <td>6.238137</td>\n",
       "      <td>0.971880</td>\n",
       "      <td>2401.0</td>\n",
       "      <td>2.109842</td>\n",
       "      <td>37.86</td>\n",
       "      <td>-122.22</td>\n",
       "      <td>3.585</td>\n",
       "    </tr>\n",
       "    <tr>\n",
       "      <th>2</th>\n",
       "      <td>7.2574</td>\n",
       "      <td>52.0</td>\n",
       "      <td>8.288136</td>\n",
       "      <td>1.073446</td>\n",
       "      <td>496.0</td>\n",
       "      <td>2.802260</td>\n",
       "      <td>37.85</td>\n",
       "      <td>-122.24</td>\n",
       "      <td>3.521</td>\n",
       "    </tr>\n",
       "    <tr>\n",
       "      <th>3</th>\n",
       "      <td>5.6431</td>\n",
       "      <td>52.0</td>\n",
       "      <td>5.817352</td>\n",
       "      <td>1.073059</td>\n",
       "      <td>558.0</td>\n",
       "      <td>2.547945</td>\n",
       "      <td>37.85</td>\n",
       "      <td>-122.25</td>\n",
       "      <td>3.413</td>\n",
       "    </tr>\n",
       "    <tr>\n",
       "      <th>4</th>\n",
       "      <td>3.8462</td>\n",
       "      <td>52.0</td>\n",
       "      <td>6.281853</td>\n",
       "      <td>1.081081</td>\n",
       "      <td>565.0</td>\n",
       "      <td>2.181467</td>\n",
       "      <td>37.85</td>\n",
       "      <td>-122.25</td>\n",
       "      <td>3.422</td>\n",
       "    </tr>\n",
       "  </tbody>\n",
       "</table>\n",
       "</div>"
      ],
      "text/plain": [
       "   MedInc  HouseAge  AveRooms  AveBedrms  Population  AveOccup  Latitude  \\\n",
       "0  8.3252      41.0  6.984127   1.023810       322.0  2.555556     37.88   \n",
       "1  8.3014      21.0  6.238137   0.971880      2401.0  2.109842     37.86   \n",
       "2  7.2574      52.0  8.288136   1.073446       496.0  2.802260     37.85   \n",
       "3  5.6431      52.0  5.817352   1.073059       558.0  2.547945     37.85   \n",
       "4  3.8462      52.0  6.281853   1.081081       565.0  2.181467     37.85   \n",
       "\n",
       "   Longitude  MedHouseVal  \n",
       "0    -122.23        4.526  \n",
       "1    -122.22        3.585  \n",
       "2    -122.24        3.521  \n",
       "3    -122.25        3.413  \n",
       "4    -122.25        3.422  "
      ]
     },
     "execution_count": 44,
     "metadata": {},
     "output_type": "execute_result"
    }
   ],
   "source": [
    "from sklearn.datasets import fetch_california_housing\n",
    "\n",
    "data = fetch_california_housing(as_frame=True)\n",
    "df = data.frame\n",
    "df.head()"
   ]
  },
  {
   "cell_type": "code",
   "execution_count": 49,
   "id": "67676d35",
   "metadata": {},
   "outputs": [
    {
     "name": "stdout",
     "output_type": "stream",
     "text": [
      ".. _california_housing_dataset:\n",
      "\n",
      "California Housing dataset\n",
      "--------------------------\n",
      "\n",
      "**Data Set Characteristics:**\n",
      "\n",
      "    :Number of Instances: 20640\n",
      "\n",
      "    :Number of Attributes: 8 numeric, predictive attributes and the target\n",
      "\n",
      "    :Attribute Information:\n",
      "        - MedInc        median income in block group\n",
      "        - HouseAge      median house age in block group\n",
      "        - AveRooms      average number of rooms per household\n",
      "        - AveBedrms     average number of bedrooms per household\n",
      "        - Population    block group population\n",
      "        - AveOccup      average number of household members\n",
      "        - Latitude      block group latitude\n",
      "        - Longitude     block group longitude\n",
      "\n",
      "    :Missing Attribute Values: None\n",
      "\n",
      "This dataset was obtained from the StatLib repository.\n",
      "https://www.dcc.fc.up.pt/~ltorgo/Regression/cal_housing.html\n",
      "\n",
      "The target variable is the median house value for California districts,\n",
      "expressed in hundreds of thousands of dollars ($100,000).\n",
      "\n",
      "This dataset was derived from the 1990 U.S. census, using one row per census\n",
      "block group. A block group is the smallest geographical unit for which the U.S.\n",
      "Census Bureau publishes sample data (a block group typically has a population\n",
      "of 600 to 3,000 people).\n",
      "\n",
      "An household is a group of people residing within a home. Since the average\n",
      "number of rooms and bedrooms in this dataset are provided per household, these\n",
      "columns may take surpinsingly large values for block groups with few households\n",
      "and many empty houses, such as vacation resorts.\n",
      "\n",
      "It can be downloaded/loaded using the\n",
      ":func:`sklearn.datasets.fetch_california_housing` function.\n",
      "\n",
      ".. topic:: References\n",
      "\n",
      "    - Pace, R. Kelley and Ronald Barry, Sparse Spatial Autoregressions,\n",
      "      Statistics and Probability Letters, 33 (1997) 291-297\n",
      "\n"
     ]
    }
   ],
   "source": [
    "print(data.DESCR)"
   ]
  },
  {
   "cell_type": "code",
   "execution_count": 52,
   "id": "73192a05",
   "metadata": {},
   "outputs": [],
   "source": [
    "X, y = data.data, data.target\n",
    "X_train, X_test, y_train, y_test = train_test_split(X, y)"
   ]
  },
  {
   "cell_type": "code",
   "execution_count": 53,
   "id": "4efe3ddb",
   "metadata": {},
   "outputs": [
    {
     "data": {
      "text/plain": [
       "array([ 4.42294566e-01,  9.14114990e-03, -1.22807827e-01,  7.74509225e-01,\n",
       "       -3.86714625e-06, -3.32333249e-03, -4.26301514e-01, -4.40066692e-01])"
      ]
     },
     "execution_count": 53,
     "metadata": {},
     "output_type": "execute_result"
    }
   ],
   "source": [
    "## Création du modèle et ajustement des paramètres\n",
    "from sklearn.linear_model import LinearRegression\n",
    "lin = LinearRegression()\n",
    "lin.fit(X_train, y_train)\n",
    "\n",
    "## Affichage des coefficients\n",
    "lin.coef_"
   ]
  },
  {
   "cell_type": "code",
   "execution_count": 54,
   "id": "5ebff48c",
   "metadata": {},
   "outputs": [
    {
     "data": {
      "text/plain": [
       "0.5977839461503445"
      ]
     },
     "execution_count": 54,
     "metadata": {},
     "output_type": "execute_result"
    }
   ],
   "source": [
    "from sklearn.metrics import r2_score\n",
    "r2_score(y_test, lin.predict(X_test))"
   ]
  },
  {
   "cell_type": "markdown",
   "id": "964e063d-4755-4455-81cb-f4eea512ecc7",
   "metadata": {},
   "source": [
    "## Moindres carrés non négatifs\n",
    "Il est possible de contraindre tous les coefficients à être non-négatifs, ce qui peut être utile lorsqu'ils représentent des quantités physiques ou naturellement non-négatives (par exemple, des comptes de fréquence ou des prix de marchandises). ```LinearRegression``` accepte un paramètre positif booléen : lorsqu'il est défini sur ```True```, les moindres carrés non négatifs sont alors appliqués.\n",
    "\n",
    "[Exemple: Moindres carrés non négatifs](https://scikit-learn.org/stable/auto_examples/linear_model/plot_nnls.html#sphx-glr-auto-examples-linear-model-plot-nnls-py)\n",
    "\n",
    "### Complexité des moindres carrés ordinaires¶\n",
    "La solution des moindres carrés est calculée en utilisant la décomposition en valeurs singulières de X. Si X est une matrice de forme (n_échantillons, n_caractéristiques), cette méthode a un coût de :\n",
    "$O(n_{ech}n_{car}^2)$ en supposant que $n_{ech}\\gt n_{car}^2$\n",
    "\n",
    "avec:\n",
    "- $n_{ech}$ le nombre de mesures;\n",
    "- $n_{car}$ le nombre de caractéristiques."
   ]
  },
  {
   "cell_type": "markdown",
   "id": "0c9da329-a6d6-4be3-8575-877a759a572c",
   "metadata": {},
   "source": [
    "## Régression ridge et classification\n",
    "\n",
    "### Régression\n",
    "La régression ridge résout certains des problèmes de la méthode des moindres carrés ordinaires en imposant une pénalité sur la valeur des coefficients. Le problème consiste donc cette fois à minimiser l'erreur : \n",
    "$$E(\\omega, \\alpha) = \\Vert X\\cdot\\omega - y \\Vert_2^2 - \\alpha\\Vert\\omega\\Vert_2^2$$\n",
    "\n",
    "La valeur du paramètre $\\alpha$ définit la pénalité imposée aux valeurs de $\\omega$. Plus $\\alpha$ est grand, plus la pénalité sur $\\omega$ sera importante.\n",
    "\n",
    "Comme pour les autres modèles linéaires proposés par la librairie ```sklearn```, la méthode ```Ridge``` reçoit les paramètres ```X``` et ```y``` et stocke les coefficients \n",
    "$\\omega$ du modèle linéaire dans la propriété ```coef_``` :\n",
    "\n",
    "[Description détaillée de la méthode Ridge](https://scikit-learn.org/stable/modules/generated/sklearn.linear_model.Ridge.html)"
   ]
  },
  {
   "cell_type": "code",
   "execution_count": 27,
   "id": "a810c524-671b-4f84-983b-4696aaf610a6",
   "metadata": {},
   "outputs": [
    {
     "data": {
      "text/plain": [
       "0.13836297895564353"
      ]
     },
     "execution_count": 27,
     "metadata": {},
     "output_type": "execute_result"
    }
   ],
   "source": [
    "## Régression Ridge avec alpha=10\n",
    "\n",
    "from sklearn.linear_model import Ridge\n",
    "rid = Ridge(10).fit(X_train, y_train)\n",
    "r2_score(y_test, rid.predict(X_test))"
   ]
  },
  {
   "cell_type": "code",
   "execution_count": 28,
   "id": "f1e09488-12be-4376-97b1-4d961888f817",
   "metadata": {},
   "outputs": [
    {
     "data": {
      "text/plain": [
       "(0.5096361247756863, 0.15252843898770885)"
      ]
     },
     "execution_count": 28,
     "metadata": {},
     "output_type": "execute_result"
    }
   ],
   "source": [
    "(r2_score(y_train, lin.predict(X_train)),\n",
    " r2_score(y_train, rid.predict(X_train)))"
   ]
  },
  {
   "cell_type": "code",
   "execution_count": 19,
   "id": "c91a08af-ef56-47ea-87d0-d6fa672763f7",
   "metadata": {},
   "outputs": [
    {
     "data": {
      "image/png": "[encoded data removed]",
      "text/plain": [
       "<Figure size 400x400 with 1 Axes>"
      ]
     },
     "metadata": {},
     "output_type": "display_data"
    }
   ],
   "source": [
    "import matplotlib.pyplot as plt\n",
    "r = numpy.abs(lin.coef_) / numpy.abs(rid.coef_)\n",
    "fig, ax = plt.subplots(1, 1, figsize=(4, 4))\n",
    "ax.plot(r)\n",
    "ax.set_title(\"Ratio des coefficients\\npour une régression Ridge\");"
   ]
  },
  {
   "cell_type": "markdown",
   "id": "47a003f6-dff1-4a77-a2bd-aba453950b91",
   "metadata": {},
   "source": [
    "## Régression Lasso\n",
    "La régression Lasso minimise l'erreur :\n",
    "\n",
    "$$E(\\omega, \\alpha) = \\Vert X\\cdot\\omega - y \\Vert_2^2 - \\alpha\\Vert\\omega\\Vert_2$$\n",
    "\n",
    "C’est une régression linéaire avec une contrainte linéaire sur les coefficients. C’est utile lorsque les variables sont très corrélées, ce qui fausse souvent la résolution numérique. La solution ne s’exprime de façon exacte et la résolution utilise une méthode à base de gradient."
   ]
  },
  {
   "cell_type": "code",
   "execution_count": 20,
   "id": "256e92c3-e13d-43c8-9210-7d77c8249ff9",
   "metadata": {},
   "outputs": [
    {
     "data": {
      "text/plain": [
       "array([ 0.,  0.,  0.,  0.,  0.,  0., -0.,  0.,  0.,  0.])"
      ]
     },
     "execution_count": 20,
     "metadata": {},
     "output_type": "execute_result"
    }
   ],
   "source": [
    "from sklearn.linear_model import Lasso\n",
    "las = Lasso(5.).fit(X_train, y_train)\n",
    "las.coef_"
   ]
  },
  {
   "cell_type": "markdown",
   "id": "e7f3d35e-3a0f-46af-b637-361dd0fe7f34",
   "metadata": {},
   "source": [
    "On voit que beaucoup de coefficients sont nuls."
   ]
  },
  {
   "cell_type": "code",
   "execution_count": 21,
   "id": "a920fb09-4374-460e-bff4-668fb908fd64",
   "metadata": {},
   "outputs": [
    {
     "data": {
      "text/plain": [
       "array([ True,  True,  True,  True,  True,  True,  True,  True,  True,\n",
       "        True])"
      ]
     },
     "execution_count": 21,
     "metadata": {},
     "output_type": "execute_result"
    }
   ],
   "source": [
    "las.coef_ == 0"
   ]
  },
  {
   "cell_type": "code",
   "execution_count": 22,
   "id": "fa50ff0a-fd1b-4809-bcdd-cacd2f9ce8ee",
   "metadata": {},
   "outputs": [
    {
     "data": {
      "text/plain": [
       "10"
      ]
     },
     "execution_count": 22,
     "metadata": {},
     "output_type": "execute_result"
    }
   ],
   "source": [
    "sum(las.coef_ == 0)"
   ]
  },
  {
   "cell_type": "markdown",
   "id": "c947ebcf-f083-407a-887c-f5ef4b01cb7a",
   "metadata": {},
   "source": [
    "Comme pour la régression Ridge, il est préférable de normaliser. On étudie également le nombre de coefficients nuls en fonction de la valeur $\\alpha$."
   ]
  },
  {
   "cell_type": "code",
   "execution_count": 23,
   "id": "04c539f0-5a9f-4cf3-bc9f-59d86fe18072",
   "metadata": {},
   "outputs": [
    {
     "name": "stderr",
     "output_type": "stream",
     "text": [
      "100%|██████████| 18/18 [00:00<00:00, 1354.38it/s]\n"
     ]
    },
    {
     "data": {
      "text/html": [
       "<div>\n",
       "<style scoped>\n",
       "    .dataframe tbody tr th:only-of-type {\n",
       "        vertical-align: middle;\n",
       "    }\n",
       "\n",
       "    .dataframe tbody tr th {\n",
       "        vertical-align: top;\n",
       "    }\n",
       "\n",
       "    .dataframe thead th {\n",
       "        text-align: right;\n",
       "    }\n",
       "</style>\n",
       "<table border=\"1\" class=\"dataframe\">\n",
       "  <thead>\n",
       "    <tr style=\"text-align: right;\">\n",
       "      <th></th>\n",
       "      <th>lambda</th>\n",
       "      <th>r2</th>\n",
       "      <th>nbnull</th>\n",
       "    </tr>\n",
       "  </thead>\n",
       "  <tbody>\n",
       "    <tr>\n",
       "      <th>0</th>\n",
       "      <td>0.00001</td>\n",
       "      <td>0.528305</td>\n",
       "      <td>0</td>\n",
       "    </tr>\n",
       "    <tr>\n",
       "      <th>1</th>\n",
       "      <td>0.00010</td>\n",
       "      <td>0.528261</td>\n",
       "      <td>0</td>\n",
       "    </tr>\n",
       "    <tr>\n",
       "      <th>2</th>\n",
       "      <td>0.00500</td>\n",
       "      <td>0.526800</td>\n",
       "      <td>0</td>\n",
       "    </tr>\n",
       "    <tr>\n",
       "      <th>3</th>\n",
       "      <td>0.01000</td>\n",
       "      <td>0.524982</td>\n",
       "      <td>1</td>\n",
       "    </tr>\n",
       "    <tr>\n",
       "      <th>4</th>\n",
       "      <td>0.01500</td>\n",
       "      <td>0.524078</td>\n",
       "      <td>2</td>\n",
       "    </tr>\n",
       "  </tbody>\n",
       "</table>\n",
       "</div>"
      ],
      "text/plain": [
       "    lambda        r2  nbnull\n",
       "0  0.00001  0.528305       0\n",
       "1  0.00010  0.528261       0\n",
       "2  0.00500  0.526800       0\n",
       "3  0.01000  0.524982       1\n",
       "4  0.01500  0.524078       2"
      ]
     },
     "execution_count": 23,
     "metadata": {},
     "output_type": "execute_result"
    }
   ],
   "source": [
    "from tqdm import tqdm\n",
    "res = []\n",
    "for alf in tqdm([0.00001, 0.0001, 0.005, 0.01, 0.015,\n",
    "                 0.02, 0.025, 0.03, 0.04, 0.05, 0.06,\n",
    "                 0.07, 0.08, 0.09, 0.1, 0.2, 0.3, 0.4]):\n",
    "    las = Lasso(alf).fit(X_train, y_train)\n",
    "    r2 = r2_score(y_test, las.predict(X_test))\n",
    "    res.append({'lambda': alf, 'r2': r2,\n",
    "                'nbnull': sum(las.coef_ == 0)})\n",
    "\n",
    "\n",
    "from pandas import DataFrame\n",
    "df = DataFrame(res)\n",
    "df.head(5)"
   ]
  },
  {
   "cell_type": "code",
   "execution_count": 24,
   "id": "2318aea2-f9b6-4d46-836d-4abddb549084",
   "metadata": {},
   "outputs": [
    {
     "data": {
      "image/png": "[encoded data removed]",
      "text/plain": [
       "<Figure size 800x300 with 2 Axes>"
      ]
     },
     "metadata": {},
     "output_type": "display_data"
    }
   ],
   "source": [
    "fig, ax = plt.subplots(1, 2, figsize=(8, 3))\n",
    "ax[0].plot(df['lambda'], df['r2'], label='r2')\n",
    "ax[1].plot(df['lambda'], df['nbnull'], label=\"nbnull\")\n",
    "ax[1].plot(df['lambda'], las.coef_.shape[0] - df['nbnull'], label=\"nbvar\")\n",
    "ax[0].set_xscale('log'); ax[1].set_xscale('log')\n",
    "ax[0].set_xlabel(\"lambda\"); ax[1].set_xlabel(\"lambda\")\n",
    "ax[0].legend(); ax[1].legend();"
   ]
  },
  {
   "cell_type": "code",
   "execution_count": null,
   "id": "649ce1b8-266d-4b30-ba17-6952fd5e4d06",
   "metadata": {},
   "outputs": [],
   "source": []
  }
 ],
 "metadata": {
  "kernelspec": {
   "display_name": "Python 3 (ipykernel)",
   "language": "python",
   "name": "python3"
  },
  "language_info": {
   "codemirror_mode": {
    "name": "ipython",
    "version": 3
   },
   "file_extension": ".py",
   "mimetype": "text/x-python",
   "name": "python",
   "nbconvert_exporter": "python",
   "pygments_lexer": "ipython3",
   "version": "3.9.13"
  }
 },
 "nbformat": 4,
 "nbformat_minor": 5
}
