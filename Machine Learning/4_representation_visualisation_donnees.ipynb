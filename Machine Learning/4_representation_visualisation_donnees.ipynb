{
 "cells": [
  {
   "cell_type": "markdown",
   "id": "01378445-ff53-4ced-9c41-5478ffac006f",
   "metadata": {},
   "source": [
    "# 4 - Représentation et visualisation des données\n",
    "\n",
    "L'apprentissage automatique consiste à adapter des modèles aux données. C'est pourquoi nous commençons par montrer comment les données peuvent être représentées afin d'être comprises par l'ordinateur.\n",
    "\n",
    "Au début de ce chapitre, nous avons cité la définition de l'apprentissage automatique donnée par Tom Mitchell : \"Problème d'apprentissage bien posé : on dit qu'un programme informatique apprend de l'expérience E en ce qui concerne une certaine tâche T et une certaine mesure de performance P, si sa performance sur T, telle que mesurée par P, s'améliore avec l'expérience E.\" Les données constituent la \"matière première\" de l'apprentissage automatique. Il apprend à partir des données. Dans la définition de Mitchell, les \"données\" sont cachées derrière les termes \"expérience E\" et \"mesure de performance P\". Comme mentionné précédemment, nous avons besoin de données étiquetées pour apprendre et tester notre algorithme.\n",
    "\n",
    "Cependant, il est recommandé de vous familiariser avec vos données avant de commencer à entraîner votre classificateur.\n",
    "\n",
    "Numpy offre des structures de données idéales pour représenter vos données et Matplotlib offre de grandes possibilités pour visualiser vos données.\n",
    "\n",
    "Dans ce qui suit, nous voulons montrer comment le faire en utilisant les données du module sklearn.\n",
    "\n",
    "## L'ensemble de données Iris, le \"Hello World\" de l'apprentissage automatique\n",
    "\n",
    "Quel est le premier programme que vous avez vu ? Je parie que c'était un programme qui lançait \"Hello World\" dans un langage de programmation. Il est fort probable que j'aie raison. Presque chaque livre d'introduction ou tutoriel sur la programmation commence par un tel programme. C'est une tradition qui remonte au livre de 1968 \"The C Programming Language\" de Brian Kernighan et Dennis Ritchie !\n",
    "\n",
    "La probabilité que le premier jeu de données que vous verrez dans un cours d'introduction à l'apprentissage automatique soit le \"jeu de données Iris\" est tout aussi élevée. Le jeu de données Iris contient les mesures de 150 fleurs d'iris de 3 espèces différentes :\n",
    "\n",
    "- Iris-Setosa,\n",
    "- Iris-Versicolor, et\n",
    "- Iris-Virginica.\n",
    "\n",
    "\n",
    "<center><img src=\"img/iris_setosa.png\" width=\"40%\"><br>\n",
    "    Iris Setosa\n",
    "</center>\n",
    "\n",
    "<center><img src=\"img/iris_versicolor.png\" width=\"40%\"><br>\n",
    "    Iris Versicolor\n",
    "</center>\n",
    "\n",
    "<center><img src=\"img/iris_virginica.png\" width=\"40%\"><br>\n",
    "    Iris Virginica\n",
    "</center>\n",
    "\n",
    "Le jeu de données Iris est souvent utilisé pour sa simplicité. Ce jeu de données est contenu dans scikit-learn, mais avant d'approfondir le jeu de données Iris, nous allons examiner les autres jeux de données disponibles dans scikit-learn.\n"
   ]
  },
  {
   "cell_type": "markdown",
   "id": "ba2a6440-5740-4a1b-838c-d6e202b82c49",
   "metadata": {},
   "source": [
    "## Chargement des données sur les iris avec Scikit-learn\n",
    "\n",
    "Par exemple, Scikit-learn dispose d'un ensemble très simple de données sur ces espèces d'iris. Les données se composent des éléments suivants :\n",
    "\n",
    "__Caractéristiques de l'ensemble de données sur les iris :__\n",
    "\n",
    "- longueur du sépale en cm\n",
    "- largeur du sépale en cm\n",
    "- Longueur des pétales en cm\n",
    "- largeur des pétales en cm\n",
    "\n",
    "__Classes cibles à prédire :__\n",
    "\n",
    "- Iris Setosa\n",
    "- Iris Versicolour\n",
    "- Iris Virginica\n",
    "\n",
    "<center><img src=\"img/iris_caracteristiques.png\" width=\"60%\"><br>\n",
    "    Caractéristiques du jeu de données\n",
    "</center>\n",
    "\n",
    "```scikit-learn``` intègre une copie du fichier CSV de l'iris ainsi qu'une fonction d'aide pour le charger dans des tableaux ```numpy``` :"
   ]
  },
  {
   "cell_type": "code",
   "execution_count": null,
   "id": "2138cb83-f510-425b-a77f-b7af071937c4",
   "metadata": {},
   "outputs": [],
   "source": [
    "from sklearn.datasets import load_iris\n",
    "iris = load_iris()"
   ]
  },
  {
   "cell_type": "markdown",
   "id": "6d3a59b6-d7da-4974-9b49-57b5e2f70a76",
   "metadata": {},
   "source": [
    "Pour obtenir la liste de tous les ```datasets``` disponibles dans ```sklearn``` rendez-vous [ici](https://scikit-learn.org/stable/datasets/toy_dataset.html).\n",
    "\n",
    "Le jeu de données résultant est un objet [Bunch](https://scikit-learn.org/stable/modules/generated/sklearn.utils.Bunch.html) :"
   ]
  },
  {
   "cell_type": "code",
   "execution_count": null,
   "id": "e0b4ae9c-0a0a-493c-8167-52ca33b843ae",
   "metadata": {},
   "outputs": [],
   "source": [
    "type(iris)"
   ]
  },
  {
   "cell_type": "markdown",
   "id": "9c7bfeeb-14d9-4144-99ed-2a97fe3810b3",
   "metadata": {},
   "source": [
    "Vous pouvez voir ce qui est disponible pour ce type de données en utilisant la méthode ```keys()``` :"
   ]
  },
  {
   "cell_type": "code",
   "execution_count": null,
   "id": "0edcc284-235c-485d-95bb-78489871b516",
   "metadata": {},
   "outputs": [],
   "source": [
    "iris.keys()"
   ]
  },
  {
   "cell_type": "markdown",
   "id": "11afb5a3-eb88-4552-9841-95060778118e",
   "metadata": {},
   "source": [
    "Un objet Bunch est similaire à un dictionnaire, mais il permet en plus d'accéder aux clés comme si il s’agissait d'attributs :"
   ]
  },
  {
   "cell_type": "code",
   "execution_count": null,
   "id": "a4570775-ed42-4458-bad3-a72bca3460ad",
   "metadata": {},
   "outputs": [],
   "source": [
    "## Les deux appels sont équivalents\n",
    "\n",
    "print(iris[\"target_names\"])\n",
    "print(iris.target_names)"
   ]
  },
  {
   "cell_type": "markdown",
   "id": "fc406aa4-b1c5-4f6e-a88d-42a95e2b54df",
   "metadata": {},
   "source": [
    "Les caractéristiques de chaque échantillon de fleur sont stockées dans l'attribut ```data``` de l'ensemble de données :"
   ]
  },
  {
   "cell_type": "code",
   "execution_count": null,
   "id": "bdb582c8-3829-4800-a5ae-07ccfa4eb389",
   "metadata": {},
   "outputs": [],
   "source": [
    "n_samples, n_features = iris.data.shape\n",
    "print('Number of samples:', n_samples)\n",
    "print('Number of features:', n_features)\n",
    "# the sepal length, sepal width, petal length and petal width of the first sample (first flower)\n",
    "print(iris.data[0])"
   ]
  },
  {
   "cell_type": "markdown",
   "id": "6cc5714a-7a72-4f96-a391-f265bcf10f8a",
   "metadata": {},
   "source": [
    "Les caractéristiques de chaque fleur sont stockées dans l'attribut ```data``` de l'ensemble de données. Jetons un coup d'œil à certains des échantillons :\n",
    "\n"
   ]
  },
  {
   "cell_type": "code",
   "execution_count": null,
   "id": "5d567576-da73-41b4-a0ba-36fe954457f8",
   "metadata": {},
   "outputs": [],
   "source": [
    "# Flowers with the indices 12, 26, 89, and 114\n",
    "iris.data[[12, 26, 89, 114]]"
   ]
  },
  {
   "cell_type": "markdown",
   "id": "73d7d4b8-9225-4218-8b86-711ed5f98e44",
   "metadata": {},
   "source": [
    "Les informations sur la classe de chaque échantillon, c'est-à-dire les étiquettes, sont stockées dans l'attribut \"target\" de l'ensemble de données :"
   ]
  },
  {
   "cell_type": "code",
   "execution_count": null,
   "id": "5c79322e-93b9-4cf1-b6c3-063067904a56",
   "metadata": {},
   "outputs": [],
   "source": [
    "print(iris.data.shape)\n",
    "print(iris.target.shape)"
   ]
  },
  {
   "cell_type": "code",
   "execution_count": null,
   "id": "43292b54-0018-440d-91e7-474fe46783f6",
   "metadata": {},
   "outputs": [],
   "source": [
    "print(iris.target)"
   ]
  },
  {
   "cell_type": "code",
   "execution_count": null,
   "id": "75907c8d-d706-492c-9800-ce2c39d494cc",
   "metadata": {},
   "outputs": [],
   "source": [
    "import numpy as np\n",
    "\n",
    "np.bincount(iris.target)"
   ]
  },
  {
   "cell_type": "markdown",
   "id": "c41542f2-eba4-47af-989e-1e26403f0e49",
   "metadata": {},
   "source": [
    "À l'aide de la fonction ```bincount``` de ```NumPy``` (ci-dessus), nous pouvons constater que les classes de cet ensemble de données sont distribuées de manière égale - il y a 50 fleurs de chaque espèce, avec :\n",
    "\n",
    "- classe 0 : Iris Setosa\n",
    "- classe 1 : Iris Versicolor\n",
    "- classe 2 : Iris Virginica\n",
    "\n",
    "Ces noms de classe sont stockés dans le dernier attribut, à savoir ```target_names``` :"
   ]
  },
  {
   "cell_type": "code",
   "execution_count": null,
   "id": "1b032c5c-29b3-45de-9aaa-acf991f747ca",
   "metadata": {},
   "outputs": [],
   "source": [
    "print(iris.target_names)"
   ]
  },
  {
   "cell_type": "markdown",
   "id": "0fa8b7bc-0aab-45f1-9c8b-32f1dd98b7cb",
   "metadata": {},
   "source": [
    "Outre la forme des données, nous pouvons également vérifier la forme des étiquettes, c'est-à-dire ```target.shape``` :\n",
    "\n",
    "Chaque échantillon de fleur est une ligne dans le tableau de données, et les colonnes (caractéristiques) représentent les mesures de la fleur en centimètres. Par exemple, nous pouvons représenter cet ensemble de données sur les iris, composé de 150 échantillons et de 4 caractéristiques, par un tableau ou une matrice à 2 dimensions $\\mathbb{R}^{150x4}$ dans le format suivant :\n",
    "\n",
    "$$\n",
    "    \\begin{pmatrix}\n",
    "    x_1^{(1)} & x_2^{(1)} & x_3^{(1)} & x_4^{(1)} \\\\\n",
    "    x_1^{(2)} & x_2^{(2)} & x_3^{(2)} & x_4^{(2)} \\\\\n",
    "    \\vdots & \\vdots & \\vdots & \\vdots \\\\\n",
    "    x_1^{(150)} & x_2^{(150)} & x_3^{(150)} & x_4^{(150)}\n",
    "    \\end{pmatrix}\n",
    "$$"
   ]
  },
  {
   "cell_type": "markdown",
   "id": "2afe16bb-ce2f-473c-a425-12adf5b1a245",
   "metadata": {},
   "source": [
    "L'exposant désigne la ième ligne, et l'indice la jième caractéristique, respectivement.\n",
    "\n",
    "En général, nous avons $n$ rangées et $k$ colonnes :\n",
    "\n",
    "$$\n",
    "    \\begin{bmatrix}\n",
    "    x_1^{(1)} & x_2^{(1)} & x_3^{(1)} & \\cdots & x_k^{(1)} \\\\\n",
    "    x_1^{(2)} & x_2^{(2)} & x_3^{(2)} & \\cdots & x_k^{(2)} \\\\\n",
    "    \\vdots & \\vdots & \\vdots & \\vdots & \\vdots \\\\\n",
    "    x_1^{(150)} & x_2^{(150)} & x_3^{(150)} & \\cdots & x_k^{(150)}\n",
    "    \\end{bmatrix}\n",
    "$$"
   ]
  },
  {
   "cell_type": "code",
   "execution_count": null,
   "id": "720395bb-9845-4dcf-9cf1-2418ccd8ea97",
   "metadata": {},
   "outputs": [],
   "source": [
    "print(iris.data.shape)\n",
    "print(iris.target.shape)"
   ]
  },
  {
   "cell_type": "markdown",
   "id": "53bbf5e0-069c-4e07-9fdc-eb019d53e966",
   "metadata": {},
   "source": [
    "```bincount``` de ```NumPy``` compte le nombre d'occurrences de chaque valeur dans un tableau d'entiers non-négatifs. Nous pouvons l'utiliser pour vérifier la distribution des classes dans l'ensemble de données :"
   ]
  },
  {
   "cell_type": "code",
   "execution_count": null,
   "id": "2ee59466-501d-450e-b31b-afc5406e1144",
   "metadata": {},
   "outputs": [],
   "source": [
    "print(iris.target_names)"
   ]
  },
  {
   "cell_type": "markdown",
   "id": "1841f7ff-35c4-473e-b8ee-4e777e3d2d69",
   "metadata": {},
   "source": [
    "## Visualisation des caractéristiques de l'ensemble de données Iris\n",
    "\n",
    "Les données d'iris sont quadridimensionnelles, mais nous pouvons visualiser une ou deux des dimensions à la fois en utilisant un simple histogramme ou un nuage de points."
   ]
  },
  {
   "cell_type": "code",
   "execution_count": null,
   "id": "fbe8f168-1791-4092-aee4-fe777c3188ee",
   "metadata": {},
   "outputs": [],
   "source": [
    "from sklearn.datasets import load_iris\n",
    "iris = load_iris()\n",
    "print(iris.data[iris.target==1][:5])\n",
    "\n",
    "print(iris.data[iris.target==1, 0][:5])"
   ]
  },
  {
   "cell_type": "markdown",
   "id": "35ae13d5-9004-4991-9435-64b077c60236",
   "metadata": {},
   "source": [
    "### Histogrammes des caractéristiques"
   ]
  },
  {
   "cell_type": "code",
   "execution_count": null,
   "id": "65ef9121-a0af-40a7-85a9-97427f5c2851",
   "metadata": {},
   "outputs": [],
   "source": [
    "%matplotlib inline\n",
    "import matplotlib.pyplot as plt\n",
    "\n",
    "fig, ax = plt.subplots()\n",
    "x_index = 3\n",
    "colors = ['blue', 'red', 'green']\n",
    "\n",
    "for label, color in zip(range(len(iris.target_names)), colors):\n",
    "    ax.hist(iris.data[iris.target==label, x_index], \n",
    "            label=iris.target_names[label],\n",
    "            color=color)\n",
    "\n",
    "ax.set_xlabel(iris.feature_names[x_index])\n",
    "ax.legend(loc='upper right')\n",
    "plt.show()"
   ]
  },
  {
   "cell_type": "markdown",
   "id": "a153f621-ab17-47d3-8e9b-7b7e98f99a20",
   "metadata": {},
   "source": [
    "## Exercice\n",
    "\n",
    "Regarder les histogrammes des autres caractéristiques, c'est-à-dire la longueur des pétales, la largeur des sépales et la longueur des sépales."
   ]
  },
  {
   "cell_type": "code",
   "execution_count": null,
   "id": "a73ddf63-f474-4d28-a520-0cfbbe5ffdc6",
   "metadata": {},
   "outputs": [],
   "source": [
    "## Completer"
   ]
  },
  {
   "cell_type": "markdown",
   "id": "ebe9e18f-4ef6-4c11-81cc-c97402bbaa53",
   "metadata": {},
   "source": [
    "## Diagramme de dispersion avec deux caractéristiques\n",
    "\n",
    "Le diagramme d'aspect montre deux caractéristiques dans un diagramme :"
   ]
  },
  {
   "cell_type": "code",
   "execution_count": null,
   "id": "b57a383d-03f1-4f46-b09f-42650f6cf155",
   "metadata": {},
   "outputs": [],
   "source": [
    "import matplotlib.pyplot as plt\n",
    "fig, ax = plt.subplots()\n",
    "\n",
    "x_index = 3\n",
    "y_index = 0\n",
    "\n",
    "colors = ['blue', 'red', 'green']\n",
    "\n",
    "for label, color in zip(range(len(iris.target_names)), colors):\n",
    "    ax.scatter(iris.data[iris.target==label, x_index], \n",
    "                iris.data[iris.target==label, y_index],\n",
    "                label=iris.target_names[label],\n",
    "                c=color)\n",
    "\n",
    "ax.set_xlabel(iris.feature_names[x_index])\n",
    "ax.set_ylabel(iris.feature_names[y_index])\n",
    "ax.legend(loc='upper left')\n",
    "plt.show()"
   ]
  },
  {
   "cell_type": "markdown",
   "id": "7d2cf01b-8f5d-4093-923e-1f8f1aee9261",
   "metadata": {},
   "source": [
    "### Exercice\n",
    "\n",
    "Changez ```x_index``` et ```y_index``` dans le script ci-dessus.\n",
    "\n",
    "Changez ```x_index``` et ```y_index``` dans le script ci-dessus et trouvez une combinaison de deux paramètres qui séparent au maximum les trois classes."
   ]
  },
  {
   "cell_type": "code",
   "execution_count": null,
   "id": "e659cdd0-a57a-4e8f-8fb4-20e7aaff5e7b",
   "metadata": {},
   "outputs": [],
   "source": [
    "## Completer"
   ]
  },
  {
   "cell_type": "markdown",
   "id": "1450aa11-182b-4dce-854b-433a1879732d",
   "metadata": {},
   "source": [
    "## Généralisation\n",
    "\n",
    "Nous allons maintenant examiner toutes les combinaisons de caractéristiques dans un diagramme combiné :"
   ]
  },
  {
   "cell_type": "code",
   "execution_count": null,
   "id": "f603b973-1cd0-4182-b2b1-b171dea1fd45",
   "metadata": {},
   "outputs": [],
   "source": [
    "import matplotlib.pyplot as plt\n",
    "\n",
    "n = len(iris.feature_names)\n",
    "fig, ax = plt.subplots(n, n, figsize=(16, 16))\n",
    "\n",
    "colors = ['blue', 'red', 'green']\n",
    "\n",
    "for x in range(n):\n",
    "    for y in range(n):\n",
    "        xname = iris.feature_names[x]\n",
    "        yname = iris.feature_names[y]\n",
    "        for color_ind in range(len(iris.target_names)):\n",
    "            ax[x, y].scatter(iris.data[iris.target==color_ind, x], \n",
    "                             iris.data[iris.target==color_ind, y],\n",
    "                             label=iris.target_names[color_ind],\n",
    "                             c=colors[color_ind])\n",
    "\n",
    "        ax[x, y].set_xlabel(xname)\n",
    "        ax[x, y].set_ylabel(yname)\n",
    "        ax[x, y].legend(loc='upper left')\n",
    "\n",
    "\n",
    "plt.show()"
   ]
  },
  {
   "cell_type": "markdown",
   "id": "f9a97bb0-0d15-45a6-8e1e-27ca665cbc53",
   "metadata": {},
   "source": [
    "### Matrices Scatterplot\n",
    "\n",
    "Au lieu de le faire manuellement, nous pouvons également utiliser la matrice [```scatterplot```](https://pandas.pydata.org/docs/reference/api/pandas.plotting.scatter_matrix.html) fournie par le module pandas.\n",
    "\n",
    "Les matrices ```scatterplot``` affichent des diagrammes de dispersion entre toutes les caractéristiques de l'ensemble de données, ainsi que des histogrammes pour montrer la distribution de chaque caractéristique."
   ]
  },
  {
   "cell_type": "code",
   "execution_count": null,
   "id": "99d1d9ea-ea9b-431a-97a6-5bbc720d9822",
   "metadata": {},
   "outputs": [],
   "source": [
    "import pandas as pd\n",
    "    \n",
    "iris_df = pd.DataFrame(iris.data, columns=iris.feature_names)\n",
    "pd.plotting.scatter_matrix(iris_df, \n",
    "                           c=iris.target, \n",
    "                           figsize=(8, 8)\n",
    "                          );"
   ]
  },
  {
   "cell_type": "markdown",
   "id": "d3231e2c-9ae5-4be5-9fb4-2ef3a1ccccff",
   "metadata": {},
   "source": [
    "### Visualisation tridimensionnelle"
   ]
  },
  {
   "cell_type": "code",
   "execution_count": null,
   "id": "56214d4a-c379-4fad-8031-e37cfd107e73",
   "metadata": {},
   "outputs": [],
   "source": [
    "import matplotlib.pyplot as plt\n",
    "from sklearn.datasets import load_iris\n",
    "from mpl_toolkits.mplot3d import Axes3D\n",
    "iris = load_iris()\n",
    "X = []\n",
    "for iclass in range(3):\n",
    "    X.append([[], [], []])\n",
    "    for i in range(len(iris.data)):\n",
    "        if iris.target[i] == iclass:\n",
    "            X[iclass][0].append(iris.data[i][0])\n",
    "            X[iclass][1].append(iris.data[i][1])\n",
    "            X[iclass][2].append(sum(iris.data[i][2:]))\n",
    "\n",
    "colours = (\"r\", \"g\", \"y\")\n",
    "fig = plt.figure()\n",
    "ax = fig.add_subplot(111, projection='3d')\n",
    "\n",
    "for iclass in range(3):\n",
    "    ax.scatter(X[iclass][0], X[iclass][1], X[iclass][2], c=colours[iclass])\n",
    "plt.show()"
   ]
  },
  {
   "cell_type": "markdown",
   "id": "50879b58",
   "metadata": {},
   "source": [
    "[Suivant](5_datasets_sklearn.ipynb)"
   ]
  }
 ],
 "metadata": {
  "kernelspec": {
   "display_name": "Python 3 (ipykernel)",
   "language": "python",
   "name": "python3"
  },
  "language_info": {
   "codemirror_mode": {
    "name": "ipython",
    "version": 3
   },
   "file_extension": ".py",
   "mimetype": "text/x-python",
   "name": "python",
   "nbconvert_exporter": "python",
   "pygments_lexer": "ipython3",
   "version": "3.9.13"
  }
 },
 "nbformat": 4,
 "nbformat_minor": 5
}
