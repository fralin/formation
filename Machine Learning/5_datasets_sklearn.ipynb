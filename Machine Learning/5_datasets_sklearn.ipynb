{
 "cells": [
  {
   "cell_type": "markdown",
   "id": "b9b600c6-ad18-4017-b66a-4cab3d0a2626",
   "metadata": {},
   "source": [
    "# 5. Ensembles de données disponibles dans Sklearn\n",
    "\n",
    "## Jeux de données dans Sklearn\n",
    "\n",
    "Scikit-learn met à disposition une multitude de jeux de données pour tester les algorithmes d'apprentissage. Ils sont disponibles en trois versions :\n",
    "\n",
    "- __Data sets:__ ces petits ensembles de données sont emballés avec l'installation de Scikit-learn et peuvent être téléchargés à l'aide des outils de sklearn.datasets.load_*.\n",
    "- __Données téléchargeables :__ ces ensembles de données plus importants sont disponibles pour le téléchargement, et scikit-learn inclut des outils qui simplifient ce processus. Ces outils se trouvent dans sklearn.datasets.fetch_*.__\n",
    "- __Données générées :__ il existe plusieurs jeux de données qui sont générés à partir de modèles basés sur une graine aléatoire. Ils sont disponibles dans sklearn.datasets.make_*.\n",
    "\n",
    "\n",
    "Vous pouvez explorer les chargeurs, les récupérateurs et les générateurs de jeux de données disponibles en utilisant la fonctionnalité de complétion de tabulation d'IPython. Après avoir importé le sous-module datasets de sklearn, tapez : \n",
    "\n",
    "datasets.load_```<TAB>```\n",
    "\n",
    "ou\n",
    "\n",
    "datasets.fetch_```<TAB>```\n",
    "\n",
    "ou\n",
    "\n",
    "datasets.make_```<TAB>```\n",
    "\n",
    "pour voir la liste des fonctions disponibles.\n",
    "\n",
    "## Structure des données et des étiquettes\n",
    "\n",
    "Les données dans scikit-learn sont dans la plupart des cas enregistrées sous forme de tableaux ```Numpy``` bidimensionnels de la forme $(n, m)$. De nombreux algorithmes acceptent également les matrices ```scipy.sparse``` de la même forme.\n",
    "\n",
    "- __n : (n_samples)__ :  Le nombre d'échantillons : chaque échantillon est un élément à traiter (par exemple, classifier). Un échantillon peut être un document, une image, un son, une vidéo, un objet astronomique, une ligne dans une base de données ou un fichier CSV, ou tout ce que vous pouvez décrire avec un ensemble fixe de traits quantitatifs.\n",
    "- __m : (n_features)__ Le nombre de caractéristiques ou de traits distincts qui peuvent être utilisés pour décrire chaque élément de manière quantitative. Les caractéristiques sont généralement à valeur réelle, mais peuvent être booléennes ou à valeur discrète dans certains cas."
   ]
  },
  {
   "cell_type": "code",
   "execution_count": null,
   "id": "eba05242-0a49-40bb-995a-67864673d8cf",
   "metadata": {},
   "outputs": [],
   "source": [
    "from sklearn import datasets"
   ]
  },
  {
   "cell_type": "markdown",
   "id": "62cce131-ae12-4f54-a0cb-a46aa248192b",
   "metadata": {},
   "source": [
    "Attention : beaucoup de ces ensembles de données sont assez volumineux et peuvent prendre beaucoup de temps à télécharger !\n",
    "\n",
    "Nous allons examiner de plus près l'un de ces ensembles de données. Nous examinons l'ensemble de données sur les chiffres. Nous allons d'abord le charger :"
   ]
  },
  {
   "cell_type": "code",
   "execution_count": null,
   "id": "990820bc-40e1-4df7-b8ce-0be7dcd7e131",
   "metadata": {},
   "outputs": [],
   "source": [
    "from sklearn.datasets import load_digits\n",
    "digits = load_digits()"
   ]
  },
  {
   "cell_type": "markdown",
   "id": "572a4728-2645-44c5-8e19-8e8dc5d62fb8",
   "metadata": {},
   "source": [
    "Là encore, nous pouvons obtenir un aperçu des attributs disponibles en examinant les \"clés\" :"
   ]
  },
  {
   "cell_type": "code",
   "execution_count": null,
   "id": "e57eba99-48a6-4579-8041-3fb9b603b839",
   "metadata": {},
   "outputs": [],
   "source": [
    "digits.keys()"
   ]
  },
  {
   "cell_type": "markdown",
   "id": "2c40d6ec-2e77-4dc9-9d09-f4e8189a2f77",
   "metadata": {},
   "source": [
    "Jetons un coup d'œil au nombre d'éléments et leurs cractéristiques :"
   ]
  },
  {
   "cell_type": "code",
   "execution_count": null,
   "id": "af3e6566-9f6a-4dd2-83a0-dcbd89b25dfd",
   "metadata": {},
   "outputs": [],
   "source": [
    "n_samples, n_features = digits.data.shape\n",
    "print((n_samples, n_features))"
   ]
  },
  {
   "cell_type": "code",
   "execution_count": null,
   "id": "280cb2ae-5870-472a-a395-29fb37b0a360",
   "metadata": {},
   "outputs": [],
   "source": [
    "print(digits.data[0])\n",
    "print(digits.target)"
   ]
  },
  {
   "cell_type": "markdown",
   "id": "167e3045-36c2-432c-b988-a9aad1511faf",
   "metadata": {},
   "source": [
    "Les données sont également disponibles en appelant ```digits.images```. Il s'agit des données brutes des images sous la forme de 8 lignes et 8 colonnes.\n",
    "\n",
    "Avec ```data``` une image correspond à un tableau ```numpy``` unidimensionnel avec la longueur 64, et la représentation ```images``` contient des tableaux ```numpy``` bidimensionnels avec la forme (8, 8)"
   ]
  },
  {
   "cell_type": "code",
   "execution_count": null,
   "id": "41b49c29-3f42-4470-affe-c02e5bd6b9e7",
   "metadata": {},
   "outputs": [],
   "source": [
    "print(\"Shape of an item: \", digits.data[0].shape)\n",
    "print(\"Data type of an item: \", type(digits.data[0]))\n",
    "print(\"Shape of an item: \", digits.images[0].shape)\n",
    "print(\"Data tpye of an item: \", type(digits.images[0]))"
   ]
  },
  {
   "cell_type": "markdown",
   "id": "d46076b2-ad85-4972-b843-46b2bdaa7590",
   "metadata": {},
   "source": [
    "Visualisons les données. C'est un peu plus compliqué que le simple nuage de points que nous avons utilisé plus haut, mais nous pouvons le faire assez rapidement."
   ]
  },
  {
   "cell_type": "code",
   "execution_count": null,
   "id": "ba448212-7797-4b56-b9fc-8677a23c0831",
   "metadata": {},
   "outputs": [],
   "source": [
    "# visualisation of the digits data set\n",
    "import matplotlib.pyplot as plt\n",
    "# set up the figure\n",
    "fig = plt.figure(figsize=(6, 6))  # figure size in inches\n",
    "fig.subplots_adjust(left=0, right=1, bottom=0, top=1, hspace=0.05, wspace=0.05)\n",
    "\n",
    "# plot the digits: each image is 8x8 pixels\n",
    "for i in range(64):\n",
    "    ax = fig.add_subplot(8, 8, i + 1, xticks=[], yticks=[])\n",
    "    ax.imshow(digits.images[i], cmap=plt.cm.binary, interpolation='nearest')\n",
    "    \n",
    "    # label the image with the target value\n",
    "    ax.text(0, 7, str(digits.target[i]))"
   ]
  },
  {
   "cell_type": "markdown",
   "id": "20bd91f3-7c3f-4661-a4a3-d58ce26b8039",
   "metadata": {},
   "source": [
    "## Exercices\n",
    "\n",
    "### Exercice 1\n",
    "sklearn contient un \"ensemble de données sur le vin\".\n",
    "\n",
    "- Trouvez et chargez cet ensemble de données\n",
    "- Pouvez-vous trouver une description ?\n",
    "- Quels sont les noms des classes ?\n",
    "- Quelles sont les caractéristiques ?\n",
    "- Où se trouvent les données et les données étiquetées ?\n",
    "\n",
    "\n",
    "### Exercice 2 :\n",
    "\n",
    "Créez un diagramme de dispersion des caractéristiques cendre et couleur_intensité de l'ensemble de données sur le vin.\n",
    "\n",
    "### Exercice 3 :\n",
    "Créez une matrice de dispersion des caractéristiques de l'ensemble de données sur le vin.\n",
    "\n",
    "### Exercice 4 :\n",
    "Récupérer le jeu de données des visages Olivetti et visualiser les visages.\n",
    "\n",
    "[Suivant](6_artificial_datasets.ipynb)"
   ]
  },
  {
   "cell_type": "code",
   "execution_count": null,
   "id": "4bbdb1bd-acec-4e4e-83df-09adc54757c6",
   "metadata": {},
   "outputs": [],
   "source": []
  }
 ],
 "metadata": {
  "kernelspec": {
   "display_name": "Python 3 (ipykernel)",
   "language": "python",
   "name": "python3"
  },
  "language_info": {
   "codemirror_mode": {
    "name": "ipython",
    "version": 3
   },
   "file_extension": ".py",
   "mimetype": "text/x-python",
   "name": "python",
   "nbconvert_exporter": "python",
   "pygments_lexer": "ipython3",
   "version": "3.9.13"
  }
 },
 "nbformat": 4,
 "nbformat_minor": 5
}
