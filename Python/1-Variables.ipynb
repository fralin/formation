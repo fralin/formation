{
 "cells": [
  {
   "cell_type": "markdown",
   "id": "ad0a55e0-25e9-4772-800f-cae4bc71bef4",
   "metadata": {},
   "source": [
    "# Les Variables\n",
    "__Conseil__ : utilisez l’interpréteur Python pour les exercices suivants.\n",
    "\n",
    "## Nombres de Friedman\n",
    "Les nombres de Friedman 3 sont des nombres qui peuvent s’exprimer avec tous leurs chiffres dans une expression mathématique.\n",
    "Par exemple, 347 est un nombre de Friedman car il peut s’écrire sous la forme $4+7^3$. De même pour 127 qui peut s’écire sous la forme $2^7 − 1$.\n",
    "Déterminez si les expressions suivantes correspondent à des nombres de Friedman. Pour cela, vous les écrirez en Python puis exécuterez le code correspondant.\n",
    "- $7+3^6$\n",
    "- $(3+4)^3$\n",
    "- $3^6−5$\n",
    "- $(1+2^8)×5$\n",
    "— $(2+1^8)^7$"
   ]
  },
  {
   "cell_type": "code",
   "execution_count": 1,
   "id": "2eca0689-e6d3-464b-ada1-8875a2ea4f5e",
   "metadata": {},
   "outputs": [
    {
     "data": {
      "text/plain": [
       "736"
      ]
     },
     "execution_count": 1,
     "metadata": {},
     "output_type": "execute_result"
    }
   ],
   "source": [
    "## Completer ici"
   ]
  },
  {
   "cell_type": "markdown",
   "id": "66545da4-3b19-4f7e-92b9-e532e5e29134",
   "metadata": {},
   "source": [
    "## Prédire le résultat : opérations\n",
    "Essayez de prédire le résultat de chacune des instructions suivantes, puis vérifiez-le dans l’interpréteur Python : \n",
    "\n",
    "- ```(1+2)**3```\n",
    "- ```\"Da\" * 4```\n",
    "-  ```\"Da\" + 3```\n",
    "- ```(\"Pa\"+\"La\") * 2```\n",
    "- ```(\"Da\"*4) / 2 — 5/2```\n",
    "- ```5 // 2```\n",
    "- ```5%2```\n"
   ]
  },
  {
   "cell_type": "code",
   "execution_count": 1,
   "id": "cfb285ab-59d2-4de6-b4f9-ab1a0137d9b7",
   "metadata": {},
   "outputs": [],
   "source": [
    "## Completer ici"
   ]
  },
  {
   "cell_type": "markdown",
   "id": "a5bed499-a150-40f7-9d3f-1b589e350f52",
   "metadata": {},
   "source": [
    "## Prédire le résultat : opérations et conversions de types\n",
    "Essayez de prédire le résultat de chacune des instructions suivantes, puis vérifiez-le dans l’interpréteur Python : \n",
    "- ```str(4) * int(\"3\")```\n",
    "- ```int(\"3\") + float(\"3.2\")```\n",
    "- ```str(3) * float(\"3.2\")```\n",
    "- ```str(3/4) * 2```"
   ]
  },
  {
   "cell_type": "code",
   "execution_count": 3,
   "id": "264b0270-16af-417c-85f5-54e2e33e3e40",
   "metadata": {},
   "outputs": [],
   "source": [
    "## Completer ici"
   ]
  }
 ],
 "metadata": {
  "kernelspec": {
   "display_name": "Python 3 (ipykernel)",
   "language": "python",
   "name": "python3"
  },
  "language_info": {
   "codemirror_mode": {
    "name": "ipython",
    "version": 3
   },
   "file_extension": ".py",
   "mimetype": "text/x-python",
   "name": "python",
   "nbconvert_exporter": "python",
   "pygments_lexer": "ipython3",
   "version": "3.9.13"
  }
 },
 "nbformat": 4,
 "nbformat_minor": 5
}
