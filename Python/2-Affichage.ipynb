{
 "cells": [
  {
   "cell_type": "markdown",
   "id": "bcac8ee0-4c8f-4bce-b796-61cbeb5915bb",
   "metadata": {},
   "source": [
    "# Affichage\n",
    "## Affichage dans l’interpréteur et dans un programme\n",
    "\n",
    "Ouvrez l’interpréteur Python et tapez l’instruction ```1+1```. Que se passe-t-il ?\n",
    "Écrivez la même chose dans un script test.py que vous allez créer avec un éditeur de texte. Exécutez ce script en tapant python test.py dans un shell. Que se passe-t-il? Pourquoi? Faites en sorte d’afficher le résultat de l’addition ```1+1``` en exécutant le script dans un shell."
   ]
  },
  {
   "cell_type": "code",
   "execution_count": null,
   "id": "dd4f2bd1-8526-4ca0-b68d-3205e45378e0",
   "metadata": {},
   "outputs": [],
   "source": [
    "## Compléter"
   ]
  },
  {
   "cell_type": "markdown",
   "id": "7016d937-bc85-45b2-8c87-e3d875a79b77",
   "metadata": {},
   "source": [
    "## Poly-A\n",
    "Générez une chaîne de caractères représentant un brin d’ADN poly-A (c’est-à-dire qui ne contient que des bases A) de 20 bases de longueur, sans taper littéralement toutes les bases."
   ]
  },
  {
   "cell_type": "markdown",
   "id": "a3fe39fd-ead7-41d3-ab06-1139ce844947",
   "metadata": {},
   "source": [
    "## Poly-A et poly-GC\n",
    "Sur le modèle de l’exercice précédent, générez en une ligne de code un brin d’ADN poly-A (AAAA. . . ) de 20 bases suivi d’un poly-GC régulier (GCGCGC. . . ) de 40 bases."
   ]
  },
  {
   "cell_type": "markdown",
   "id": "6d4a1d41-6e76-4e3e-9278-689d0a337b47",
   "metadata": {},
   "source": [
    "## Écriture formatée\n",
    "En utilisant l’écriture formatée, affichez en une seule ligne les variables a, b et c dont les valeurs sont respectivement la chaîne de caractères \"salut\", le nombre entier 102 et le float 10.318. La variable c sera affichée avec 2 décimales."
   ]
  },
  {
   "cell_type": "markdown",
   "id": "9cb5c79d-2a27-4542-8e46-08e748b6199f",
   "metadata": {},
   "source": [
    "## Écriture formatée 2\n",
    "Dans un script ```percGC.py```, calculez un pourcentage de GC avec l’instruction suivante :\n",
    "```perc_GC = ((4500 + 2575)/14800)*100```\n",
    "\n",
    "Ensuite, affichez le contenu de la variable ```perc_GC``` à l’écran avec 0, 1, 2 puis 3 décimales sous forme arrondie en utilisant l’écriture formatée et les f-strings. On souhaite que le programme affiche la sortie suivante :\n",
    "```shell\n",
    "Le pourcentage de GC est 48       %\n",
    "Le pourcentage de GC est 47.8     %\n",
    "Le pourcentage de GC est 47.80    %\n",
    "Le pourcentage de GC est 47.804   %\n",
    "```"
   ]
  },
  {
   "cell_type": "code",
   "execution_count": null,
   "id": "a9d9a2f4-1909-43bb-9b9c-e63669bea93a",
   "metadata": {},
   "outputs": [],
   "source": []
  }
 ],
 "metadata": {
  "kernelspec": {
   "display_name": "Python 3 (ipykernel)",
   "language": "python",
   "name": "python3"
  },
  "language_info": {
   "codemirror_mode": {
    "name": "ipython",
    "version": 3
   },
   "file_extension": ".py",
   "mimetype": "text/x-python",
   "name": "python",
   "nbconvert_exporter": "python",
   "pygments_lexer": "ipython3",
   "version": "3.9.13"
  }
 },
 "nbformat": 4,
 "nbformat_minor": 5
}
