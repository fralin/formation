{
 "cells": [
  {
   "cell_type": "markdown",
   "id": "a1d30e6e-1d17-4038-93df-19cf2f52007e",
   "metadata": {},
   "source": [
    "# Les Lists\n",
    "Conseil : utilisez l’interpréteur Python.\n",
    "\n",
    "## Jours de la semaine\n",
    "Constituez une liste semaine contenant les 7 jours de la semaine.\n",
    "1. À partir de cette liste, comment récupérez-vous seulement les 5 premiers jours de la semaine d’une part, et ceux du\n",
    "week-end d’autre part ? Utilisez pour cela l’indiçage.\n",
    "2. Cherchez un autre moyen pour arriver au même résultat (en utilisant un autre indiçage).\n",
    "3. Trouvez deux manières pour accéder au dernier jour de la semaine.\n",
    "4. Inversez les jours de la semaine en une commande."
   ]
  },
  {
   "cell_type": "markdown",
   "id": "9519f1c1-8ae2-4d05-970f-9bfa989cb3b4",
   "metadata": {},
   "source": [
    "## Saisons\n",
    "Créez 4 listes hiver, printemps, ete et automne contenant les mois correspondants à ces saisons. Créez ensuite une liste saisons contenant les listes hiver, printemps, ete et automne. Prévoyez ce que renvoient les instructions suivantes, puis vérifiez-le dans l’interpréteur :\n",
    "1. saisons[2]\n",
    "2. saisons[1][0]\n",
    "3. saisons[1:2]\n",
    "4. saisons[:][1]. Comment expliquez-vous ce dernier résultat ?"
   ]
  },
  {
   "cell_type": "markdown",
   "id": "6b6a1e29-d4bf-409d-b437-38d323c15ae4",
   "metadata": {},
   "source": [
    "## Table de multiplication par 9\n",
    "Affichez la table de multiplication par 9 en une seule commande avec les instructions ```range()``` et ```list()```. "
   ]
  },
  {
   "cell_type": "markdown",
   "id": "821f9359-edbb-434a-af44-10895aed9559",
   "metadata": {},
   "source": [
    "## Nombres pairs\n",
    "Répondez à la question suivante en une seule commande. Combien y a-t-il de nombres pairs dans l’intervalle [2, 10000] inclus ?"
   ]
  },
  {
   "cell_type": "markdown",
   "id": "b2a3fba3-9ebf-4d73-9fae-d22a72e71547",
   "metadata": {},
   "source": []
  }
 ],
 "metadata": {
  "kernelspec": {
   "display_name": "Python 3 (ipykernel)",
   "language": "python",
   "name": "python3"
  },
  "language_info": {
   "codemirror_mode": {
    "name": "ipython",
    "version": 3
   },
   "file_extension": ".py",
   "mimetype": "text/x-python",
   "name": "python",
   "nbconvert_exporter": "python",
   "pygments_lexer": "ipython3",
   "version": "3.9.13"
  }
 },
 "nbformat": 4,
 "nbformat_minor": 5
}
