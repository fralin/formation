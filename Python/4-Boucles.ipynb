{
 "cells": [
  {
   "cell_type": "markdown",
   "id": "07dc4a22-9a7d-4df5-ab92-638859d8806d",
   "metadata": {},
   "source": [
    "# Les Boucles\n",
    "\n",
    "Conseil : pour ces exercices, créez des scripts puis exécutez-les dans un shell, ou complétez le notebook. \n",
    "\n",
    "## Boucles de base\n",
    "Soit la liste ```[\"vache\", \"souris\", \"levure\", \"bacterie\"]```. \n",
    "\n",
    "Affichez l’ensemble des éléments de cette liste (un élément par ligne) de trois manières différentes (deux avec for et une avec ```while```)."
   ]
  },
  {
   "cell_type": "code",
   "execution_count": 1,
   "id": "02e5dfce-f2d4-4e51-8f09-8d78823017fd",
   "metadata": {},
   "outputs": [],
   "source": [
    "## Compléter"
   ]
  },
  {
   "cell_type": "markdown",
   "id": "5f1b5914-d72d-481f-b208-a59283e8adba",
   "metadata": {},
   "source": [
    "## Boucle et jours de la semaine\n",
    "Constituez une liste semaine contenant les 7 jours de la semaine.\n",
    "Écrivez une série d’instructions affichant les jours de la semaine (en utilisant une boucle ```for```), ainsi qu’une autre série d’instructions affichant les jours du week-end (en utilisant une boucle ```while```)."
   ]
  },
  {
   "cell_type": "code",
   "execution_count": 2,
   "id": "9ca7d76a-6e2d-4161-b7e2-ec019608891d",
   "metadata": {},
   "outputs": [],
   "source": [
    "## Compléter"
   ]
  },
  {
   "cell_type": "markdown",
   "id": "1fd3571e-90da-4818-8cfa-4f2dbf5ae55b",
   "metadata": {},
   "source": [
    "## Nombres de 1 à 10 sur une ligne\n",
    "Avec une boucle, affichez les nombres de 1 à 10 sur une seule ligne.\n",
    "\n",
    "__Conseil__ : n’hésitez pas à revoir la fonction ```print()```."
   ]
  },
  {
   "cell_type": "code",
   "execution_count": 3,
   "id": "c60da048-395c-42c7-9b18-08467fae7b6c",
   "metadata": {},
   "outputs": [],
   "source": [
    "## Compléter"
   ]
  },
  {
   "cell_type": "markdown",
   "id": "4f68c6af-000a-4c5c-b39a-f8fc99997e16",
   "metadata": {},
   "source": [
    "## Nombres pairs et impairs\n",
    "Soit impairs la liste de nombres ```[1, 3, 5, 7, 9, 11, 13, 15, 17, 19, 21]```.\n",
    "Écrivez un programme qui, à partir de la liste impairs, construit une liste pairs dans laquelle tous les éléments de impairs sont incrémentés de 1."
   ]
  },
  {
   "cell_type": "code",
   "execution_count": 4,
   "id": "273648e8-b8ff-4cfa-b042-57fc6368de66",
   "metadata": {},
   "outputs": [],
   "source": [
    "## Compléter"
   ]
  },
  {
   "cell_type": "markdown",
   "id": "ae9f11b3-ea24-43d8-86c5-3b3f9d577c87",
   "metadata": {},
   "source": [
    "## Calcul de la moyenne\n",
    "Voici les notes d’un étudiant ```[14, 9, 6, 8, 12]```. Calculez la moyenne de ces notes. Utilisez l’écriture formatée pour afficher la valeur de la moyenne avec deux décimales."
   ]
  },
  {
   "cell_type": "code",
   "execution_count": null,
   "id": "aa03e5e3-387b-4c71-ad31-90772d43e836",
   "metadata": {},
   "outputs": [],
   "source": []
  },
  {
   "cell_type": "markdown",
   "id": "3ec40c9b-b7a7-4435-a636-e6eb64128cb2",
   "metadata": {},
   "source": [
    "## Produit de nombres consécutifs\n",
    "Avez les fonctions ```list()``` et ```range()```, créez la liste entiers contenant les nombres entiers pairs de 2 à 20 inclus.\n",
    "Calculez ensuite le produit des nombres consécutifs deux à deux de entiers en utilisant une boucle. __Exemple pour les premières itérations :__\n",
    "```shell\n",
    "8\n",
    "24\n",
    "48\n",
    "[...]\n",
    "```"
   ]
  },
  {
   "cell_type": "code",
   "execution_count": null,
   "id": "43da44c2-6985-40a6-8a15-0e14552efb2a",
   "metadata": {},
   "outputs": [],
   "source": []
  },
  {
   "cell_type": "markdown",
   "id": "f5431c64-6aad-43e6-a8c9-639bc44d1ee9",
   "metadata": {},
   "source": [
    "## Triangle\n",
    "Créez un script qui dessine un triangle comme celui-ci :\n",
    "```shell\n",
    "*\n",
    "**\n",
    "***\n",
    "****\n",
    "*****\n",
    "******\n",
    "*******\n",
    "********\n",
    "*********\n",
    "**********\n",
    "```"
   ]
  },
  {
   "cell_type": "code",
   "execution_count": null,
   "id": "88cdef24-66a0-42b6-93f7-02d1d2a4d9fe",
   "metadata": {},
   "outputs": [],
   "source": []
  },
  {
   "cell_type": "markdown",
   "id": "054ad517-7a28-4146-be19-07a798835d57",
   "metadata": {},
   "source": [
    "## Triangle inversé\n",
    "Créez un script qui dessine un triangle comme celui-ci :\n",
    "\n",
    "```shell\n",
    "********** \n",
    "*********\n",
    "********\n",
    "*******\n",
    "****** \n",
    "*****\n",
    "****\n",
    "***\n",
    "**\n",
    "*\n",
    "```"
   ]
  },
  {
   "cell_type": "code",
   "execution_count": 5,
   "id": "f19c2c52-4669-42b3-bca2-701dc0e90b99",
   "metadata": {},
   "outputs": [],
   "source": [
    "## Compléter"
   ]
  },
  {
   "cell_type": "markdown",
   "id": "3530969d-47a2-4294-b8dc-e808574d59c6",
   "metadata": {},
   "source": [
    "## Triangle gauche\n",
    "Créez un script qui dessine un triangle comme celui-ci :\n",
    "```shell\n",
    "         *\n",
    "        ** \n",
    "       *** \n",
    "      **** \n",
    "     ***** \n",
    "    ****** \n",
    "   ******* \n",
    "  ******** \n",
    " ********* \n",
    "**********\n",
    "```"
   ]
  },
  {
   "cell_type": "code",
   "execution_count": 6,
   "id": "9aa3d108-aae7-4d13-9a53-2590f320f7dc",
   "metadata": {},
   "outputs": [],
   "source": [
    "## Compléter"
   ]
  },
  {
   "cell_type": "markdown",
   "id": "39f33a5f-be1c-4733-bf03-16d8b41cbdce",
   "metadata": {},
   "source": [
    "## Pyramide\n",
    "- Créez un script pyra.py qui dessine une pyramide comme celle-ci :\n",
    "\n",
    "```shell\n",
    "         *     \n",
    "        ***\n",
    "       ***** \n",
    "      ******* \n",
    "     ********* \n",
    "    *********** \n",
    "   ************* \n",
    "  *************** \n",
    " ***************** \n",
    "*******************\n",
    "```\n",
    "- Essayez de faire évoluer votre script pour dessiner la pyramide à partir d’un nombre arbitraire de lignes N. Vous pourrez demander à l’utilisateur le nombre de lignes de la pyramide avec les instructions suivantes qui utilisent la fonction ```input()``` :\n",
    "```python\n",
    "reponse = input(\"Entrez un nombre de lignes (entier positif): \") \n",
    "N = int(reponse)\n",
    "```\n"
   ]
  },
  {
   "cell_type": "code",
   "execution_count": 7,
   "id": "6bbb0a83-7dc0-4056-9ae0-2d4f2e41a3e8",
   "metadata": {},
   "outputs": [],
   "source": [
    "## Compléter"
   ]
  },
  {
   "cell_type": "markdown",
   "id": "ceae4ef0-e102-4259-a1b9-cba7b12beb5c",
   "metadata": {},
   "source": [
    "## Parcours de matrice\n",
    "Imaginons que l’on souhaite parcourir tous les éléments d’une matrice carrée, c’est-à-dire d’une matrice qui est constituée d’autant de lignes que de colonnes.\n",
    "\n",
    "- Créez un script qui parcourt chaque élément de la matrice et qui affiche le numéro de ligne et de colonne uniquement avec des boucles for.\n",
    "\n",
    "Pour une matrice 2 × 2, le schéma suivant vous indique comment parcourir une telle matrice. \n",
    "\n",
    "<center><img src=\"img/parcours_matrice.png\" width='200px'></center>\n",
    "\n",
    "L’affichage attendu est :\n",
    "```shell\n",
    "ligne colonne \n",
    "  1       1 \n",
    "  1       2 \n",
    "  2       1 \n",
    "  2       2\n",
    "```\n",
    "\n",
    "Attention à bien respecter l’alignement des chiffres qui doit être justifié à droite sur 4 caractères. \n",
    "Testez pour une matrice 3 × 3, puis 5 × 5, et enfin 10 × 10.\n",
    "\n",
    "- Créez une seconde version de votre script, cette fois-ci avec deux boucles while."
   ]
  },
  {
   "cell_type": "code",
   "execution_count": 8,
   "id": "f7820764-50ab-4362-b25e-da94a0395c7e",
   "metadata": {},
   "outputs": [],
   "source": [
    "## Compléter"
   ]
  },
  {
   "cell_type": "markdown",
   "id": "c216d289-fe05-4e17-b19b-63d36b92f62b",
   "metadata": {},
   "source": [
    "## Parcours de demi-matrice sans la diagonale (exercice ++)\n",
    "En se basant sur le script précédent, on souhaite réaliser le parcours d’une demi-matrice carrée sans la diagonale. On peut noter que cela produit tous les couples possibles une seule fois (1 et 2 est équivalent à 2 et 1), en excluant par ailleurs chaque élément avec lui même (1 et 1, 2 et 2, etc). \n",
    "Pour mieux comprendre ce qui est demandé, la figure suivante indique les cases à parcourir en gris \n",
    "\n",
    "<center><img src=\"img/fig2.png\" width='300px'></center>\n",
    "\n",
    "- Créez un script qui affiche le numéro de ligne et de colonne, puis la taille de la matrice N × N et le nombre total de cases parcourues. Par exemple pour une matrice 4 × 4 (N=4) :\n",
    "\n",
    "```shell\n",
    "ligne colonne\n",
    "    1     2\n",
    "    1     3\n",
    "    1     4\n",
    "    2     3\n",
    "    2     4\n",
    "    3     4\n",
    "```\n",
    "\n",
    "Pour une matrice 4x4, on a parcouru 6 cases\n",
    "\n",
    "Testez votre script avec N=3, puis N=4 et enfin N=5.\n",
    "\n",
    "- Concevez une seconde version à partir du script précédent, où cette fois on n’affiche plus tous les couples possibles mais simplement la valeur de N, et le nombre de cases parcourues. Affichez cela pour des valeurs de N allant de 2 à 10.\n",
    "- Pouvez-vous trouver une formule générale reliant le nombre de cases parcourues à N ?"
   ]
  },
  {
   "cell_type": "code",
   "execution_count": 9,
   "id": "1d53c277-6774-4d80-93a6-c1f677744864",
   "metadata": {},
   "outputs": [],
   "source": [
    "## Compléter"
   ]
  },
  {
   "cell_type": "markdown",
   "id": "79597af6-1ce0-4c45-b33e-de90109ad8d4",
   "metadata": {},
   "source": [
    "## Sauts de puce\n",
    "On imagine une puce qui se déplace aléatoirement sur une ligne, en avant ou en arrière, par pas de 1 ou -1. \n",
    "Par exemple, si elle est à l’emplacement 0, elle peut sauter à l’emplacement 1 ou -1; si elle est à l’emplacement 2, elle peut sauter à l’emplacement 3 ou 1, etc.\n",
    "\n",
    "Avec une boucle ```while```, simuler le mouvement de cette puce de l’emplacement initial 0 à l’emplacement final 5 (voir figure). \n",
    "\n",
    "<center><img src=\"img/fig3.png\" width='400px'></center>\n",
    "\n",
    "Combien de sauts sont nécessaires pour réaliser ce parcours ? Relancez plusieurs fois le programme. Trouvez-vous le même nombre de sauts à chaque exécution ?\n",
    "\n",
    "__Conseil__ : vous utiliserez l’instruction ```random.choice([-1,1])``` qui renvoie au hasard les valeurs -1 ou 1 avec la même probabilité. Avant d’utiliser cette instruction vous mettrez au tout début de votre script la ligne\n",
    "```python\n",
    "import random\n",
    "```"
   ]
  },
  {
   "cell_type": "code",
   "execution_count": 10,
   "id": "fdb503a1-b12f-41d9-ac09-99d3789f8016",
   "metadata": {},
   "outputs": [],
   "source": [
    "## Completer"
   ]
  },
  {
   "cell_type": "markdown",
   "id": "62e949b8-18cc-49ec-983d-9b2e2b690815",
   "metadata": {},
   "source": [
    "## Suite de Fibonacci (exercice +++)\n",
    "La suite de Fibonacci est une suite mathématique qui porte le nom de Leonardo Fibonacci, un mathématicien italien du XIIIe siècle. Initialement, cette suite a été conçue pour décrire la croissance d’une population de lapins, mais elle peut également être utilisée pour décrire certains motifs géométriques retrouvés dans la nature (coquillages, fleurs de tournesol. . . ). \n",
    "Pour la suite de Fibonacci $(x_n)$, le terme au rang n (avec n > 1) est la somme des nombres aux rangs n−1 et n−2 :\n",
    "$x_n = x_{n−1} + x_{n−2}$\n",
    "Par définition, les deux premiers termes sont $x_0 = 0$ et $x_1 = 1$.\n",
    "\n",
    "À titre d’exemple, les 10 premiers termes de la suite de Fibonacci sont donc 0, 1, 1, 2, 3, 5, 8, 13, 21 et 34.\n",
    "\n",
    "- Créez un script qui construit une liste fibo avec les 15 premiers termes de la suite de Fibonacci puis l’affiche.\n",
    "- Améliorez ce script en affichant, pour chaque élément de la liste fibo avec n > 1, le rapport entre l’élément de rang n et l’élément de rang n − 1. Ce rapport tend-il vers une constante ? Si oui, laquelle ?"
   ]
  },
  {
   "cell_type": "code",
   "execution_count": 11,
   "id": "375d4871-37b5-4545-b4fc-24a7570cd7e1",
   "metadata": {},
   "outputs": [],
   "source": [
    "## Completer"
   ]
  },
  {
   "cell_type": "code",
   "execution_count": null,
   "id": "d64b4ff7-cca5-4de6-a885-942d28218023",
   "metadata": {},
   "outputs": [],
   "source": []
  }
 ],
 "metadata": {
  "kernelspec": {
   "display_name": "Python 3 (ipykernel)",
   "language": "python",
   "name": "python3"
  },
  "language_info": {
   "codemirror_mode": {
    "name": "ipython",
    "version": 3
   },
   "file_extension": ".py",
   "mimetype": "text/x-python",
   "name": "python",
   "nbconvert_exporter": "python",
   "pygments_lexer": "ipython3",
   "version": "3.9.13"
  }
 },
 "nbformat": 4,
 "nbformat_minor": 5
}
