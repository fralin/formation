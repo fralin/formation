{
 "cells": [
  {
   "cell_type": "markdown",
   "id": "5d9f2599-d090-4ca8-bef9-7a2f765bfcec",
   "metadata": {},
   "source": [
    "# Test\n",
    "\n",
    "__Conseil__ : pour ces exercices, créez des scripts puis exécutez-les dans un shell, ou compléter le notebook. \n",
    "\n",
    "## Jours de la semaine\n",
    "Constituez une liste semaine contenant le nom des sept jours de la semaine.\n",
    "En utilisant une boucle, écrivez chaque jour de la semaine ainsi que les messages suivants :\n",
    "- Au travail s’il s’agit du lundi au jeudi ;\n",
    "- Chouette c'est vendredis’il s’agit du vendredi;\n",
    "- Repos ce week-end s’il s’agit du samedi ou du dimanche.\n",
    "\n",
    "Ces messages ne sont que des suggestions, vous pouvez laisser libre cours à votre imagination."
   ]
  },
  {
   "cell_type": "code",
   "execution_count": 1,
   "id": "74361b06-4350-49eb-8fd8-f687f218ead9",
   "metadata": {},
   "outputs": [],
   "source": [
    "## Compléter"
   ]
  },
  {
   "cell_type": "markdown",
   "id": "76fe0eb8-c256-4f9c-b264-729d822fcbc6",
   "metadata": {},
   "source": [
    "## Séquence complémentaire d’un brin d’ADN\n",
    "La liste ci-dessous représente la séquence d’un brin d’ADN :\n",
    "<center>\n",
    "   ```[\"A\", \"C\", \"G\", \"T\", \"T\", \"A\", \"G\", \"C\", \"T\", \"A\", \"A\", \"C\", \"G\"]```\n",
    "</center>\n",
    "\n",
    "_Créez un script qui transforme cette séquence en sa séquence complémentaire._\n",
    "\n",
    "__Note__ : la séquence complémentaire s’obtient en remplaçant A par T, T par A, C par G et G par C."
   ]
  },
  {
   "cell_type": "code",
   "execution_count": 2,
   "id": "22b245dd-06f2-4242-a747-aa45bc69b79f",
   "metadata": {},
   "outputs": [],
   "source": [
    "## Compléter"
   ]
  },
  {
   "cell_type": "markdown",
   "id": "0282635d-c3c0-4427-8812-a2275bed1cf8",
   "metadata": {},
   "source": [
    "## Minimum d’une liste\n",
    "La fonction ```min()``` de Python renvoie l’élément le plus petit d’une liste constituée de valeurs numériques ou de chaînes de caractères. Sans utiliser cette fonction, créez un script qui détermine le plus petit élément de la liste ```[8, 4, 6, 1, 5]```."
   ]
  },
  {
   "cell_type": "code",
   "execution_count": null,
   "id": "5898f523-282e-40a8-9daf-9d31c8570dc9",
   "metadata": {},
   "outputs": [],
   "source": [
    "## Compléter"
   ]
  },
  {
   "cell_type": "markdown",
   "id": "eee2d1b5-326e-4fa9-8b90-5f8ceecb5f61",
   "metadata": {},
   "source": [
    "## Fréquence des acides aminés\n",
    "La liste ci-dessous représente une séquence d’acides aminés :\n",
    "<center>\n",
    "[\"A\", \"R\", \"A\", \"W\", \"W\", \"A\", \"W\", \"A\", \"R\", \"W\", \"W\", \"R\", \"A\", \"G\"]\n",
    "</center>\n",
    "\n",
    "_Calculez la fréquence des acides aminés alanine (A), arginine (R), tryptophane (W) et glycine (G) dans cette séquence._"
   ]
  },
  {
   "cell_type": "code",
   "execution_count": null,
   "id": "cee55107-a351-419a-b597-2f9f2ea62be1",
   "metadata": {},
   "outputs": [],
   "source": []
  },
  {
   "cell_type": "markdown",
   "id": "adcb8dea-41ec-48fb-bb69-28cc2c55e8a1",
   "metadata": {},
   "source": [
    "## Notes et mention d’un étudiant\n",
    "Voici les notes d’un étudiant : 14, 9, 13, 15 et 12. \n",
    "\n",
    "- _Créez un script qui affiche la note maximum (utilisez la fonction ```max()```), la note minimum (utilisez la fonction ```min()```) et qui calcule la moyenne._\n",
    "\n",
    "- _Affichez la valeur de la moyenne avec deux décimales. Affichez aussi la mention obtenue sachant que la mention est « passable » si la moyenne est entre 10 inclus et 12 exclus, « assez bien » entre 12 inclus et 14 exclus et « bien » au-delà de 14._"
   ]
  },
  {
   "cell_type": "code",
   "execution_count": null,
   "id": "e9651f01-d2ae-47f8-87bf-df6be0b8df9a",
   "metadata": {},
   "outputs": [],
   "source": []
  },
  {
   "cell_type": "markdown",
   "id": "ba54b3ee-e4d3-46c3-8a78-39f543ef3be4",
   "metadata": {},
   "source": [
    "## Nombres pairs\n",
    "Construisez une boucle qui parcourt les nombres de 0 à 20 et qui affiche les nombres pairs inférieurs ou égaux à 10 d’une part, et les nombres impairs strictement supérieurs à 10 d’autre part.\n",
    "Pour cet exercice, vous pourrez utiliser l’opérateur modulo ```%``` qui renvoie le reste de la division entière entre deux nombres et dont voici quelques exemples d’utilisation :\n",
    "```shell\n",
    ">>>4%3\n",
    "1\n",
    ">>>5%3\n",
    "2\n",
    ">>>4%2\n",
    "0\n",
    ">>>5%2\n",
    "1\n",
    ">>>6%2\n",
    "0\n",
    ">>>7%2\n",
    "1\n",
    "```\n",
    "Vous remarquerez qu’un nombre est pair lorsque le reste de sa division entière par 2 est nul."
   ]
  },
  {
   "cell_type": "code",
   "execution_count": 3,
   "id": "a34981fe-215a-4ee4-ac21-8bddb476d637",
   "metadata": {},
   "outputs": [],
   "source": [
    "## Compléter"
   ]
  },
  {
   "cell_type": "markdown",
   "id": "60f0e986-57c6-428f-bdfe-56e4cacfd88e",
   "metadata": {},
   "source": [
    "## Conjecture de Syracuse (exercice +++)\n",
    "La conjecture de Syracuse est une conjecture mathématique qui reste improuvée à ce jour et qui est définie de la manière suivante.\n",
    "\n",
    "Soit un entier positif n. Si n est pair, alors le diviser par 2. Si il est impair, alors le multiplier par 3 et lui ajouter 1. En répétant cette procédure, la suite de nombres atteint la valeur 1 puis se prolonge indéfiniment par une suite de trois valeurs triviales appelée cycle trivial.\n",
    "\n",
    "Jusqu’à présent, la conjecture de Syracuse, selon laquelle depuis n’importe quel entier positif la suite de Syracuse atteint 1, n’a pas été mise en défaut.\n",
    "\n",
    "Par exemple, les premiers éléments de la suite de Syracuse si on prend comme point de départ 10 sont : 10, 5, 16, 8, 4, 2, 1...\n",
    "\n",
    "_Créez un script qui, partant d’un entier positif n (par exemple 10 ou 20), crée une liste des nombres de la suite de Syracuse. Avec différents points de départ (c’est-à-dire avec différentes valeurs de n), la conjecture de Syracuse est-elle toujours vérifiée ? Quels sont les nombres qui constituent le cycle trivial ?_\n",
    "\n",
    "__Remarque__\n",
    "1. Pour cet exercice, vous avez besoin de faire un nombre d’itérations inconnu pour que la suite de Syracuse atteigne le chiffre 1 puis entame son cycle trivial. Vous pourrez tester votre algorithme avec un nombre arbitraire d’itérations, typiquement 20 ou 100, suivant votre nombre n de départ.\n",
    "2. Un nombre est pair lorsque le reste de sa division entière (opérateur modulo %) par 2 est nul."
   ]
  },
  {
   "cell_type": "code",
   "execution_count": 4,
   "id": "15db78b8-a157-4a8b-b358-ff78a7c8895d",
   "metadata": {},
   "outputs": [],
   "source": [
    "## Compléter"
   ]
  },
  {
   "cell_type": "markdown",
   "id": "b2be2e7b-6811-4f3a-8823-de3356c36ffe",
   "metadata": {},
   "source": [
    "## Détermination des nombres premiers inférieurs à 100 (exercice +++)\n",
    "Voici un extrait de l’article sur les nombres premiers tiré de l’encyclopédie en ligne wikipédia.\n",
    "\n",
    "Un nombre premier est un entier naturel qui admet exactement deux diviseurs distincts entiers et positifs (qui sont alors 1 et lui-même). Cette définition exclut 1, qui n’a qu’un seul diviseur entier positif. Par opposition, un nombre non nul produit de deux nombres entiers différents de 1 est dit composé. Par exemple 6 = 2 × 3 est composé, tout comme 21 = 3 × 7, mais 11 est premier car 1 et 11 sont les seuls diviseurs de 11. Les nombres 0 et 1 ne sont ni premiers ni composés.\n",
    "Déterminez les nombres premiers inférieurs à 100. \n",
    "\n",
    "Combien y a-t-il de nombres premiers entre 0 et 100 ? Pour vous aider, nous vous proposons plusieurs méthodes.\n",
    "\n",
    "### Méthode 1 (peu optimale mais assez intuitive)\n",
    "Pour chaque nombre de 2 à 100, calculez le reste de la division entière (avec l’opérateur modulo %) depuis 1 jusqu’à lui-même. Si c’est un nombre premier, il aura exactement deux nombres pour lesquels le reste de la division entière est égal à 0 (1 et lui-même). Si ce n’est pas un nombre premier, il aura plus de deux nombres pour lesquels le reste de la division entière est égal à 0.\n",
    "\n",
    "### Méthode 2 (plus optimale et plus rapide, mais un peu plus compliquée)\n",
    "Parcourez tous les nombres de 2 à 100 et vérifiez si ceux-ci sont composés, c’est-à-dire qu’ils sont le produit de deux nombres premiers. Pratiquement, cela consiste à vérifier que le reste de la division entière (opérateur modulo %) entre le nombre considéré et chaque nombre premier déterminé jusqu’à maintenant est nul. Le cas échéant, ce nombre n’est pas premier. Attention, pour cette méthode, il faudra initialiser la liste de nombres premiers avec le premier nombre premier (donc 2 !)."
   ]
  },
  {
   "cell_type": "code",
   "execution_count": 5,
   "id": "d190ce07-e50d-4633-9795-9d344a3782bb",
   "metadata": {},
   "outputs": [],
   "source": [
    "## Compléter"
   ]
  },
  {
   "cell_type": "markdown",
   "id": "918ebc6d-5aaf-4c67-b593-8d52fcc1143f",
   "metadata": {},
   "source": [
    "### Recherche d’un nombre par dichotomie (exercice +++)\n",
    "La recherche par dichotomie est une méthode qui consiste à diviser (en général en parties égales) un problème pour en trouver la solution. À titre d’exemple, voici une discussion entre Pierre et Patrick dans laquelle Pierre essaie de deviner le nombre (compris entre 1 et 100 inclus) auquel Patrick a pensé.\n",
    "- [Patrick] « C’est bon, j’ai pensé à un nombre entre 1 et 100. »\n",
    "- [Pierre] « OK, je vais essayer de le deviner. Est-ce que ton nombre est plus petit ou plus grand que 50 ? »\n",
    "- [Patrick] « Plus grand. »\n",
    "- [Pierre] « Est-ce que ton nombre est plus petit, plus grand ou égal à 75 ? »\n",
    "- [Patrick] « Plus grand. »\n",
    "- [Pierre] « Est-ce que ton nombre est plus petit, plus grand ou égal à 87 ? »\n",
    "- [Patrick] « Plus petit. »\n",
    "- [Pierre] « Est-ce que ton nombre est plus petit, plus grand ou égal à 81 ? »\n",
    "- [Patrick] « Plus petit. »\n",
    "- [Pierre] « Est-ce que ton nombre est plus petit, plus grand ou égal à 78 ? »\n",
    "- [Patrick] « Plus grand. »\n",
    "- [Pierre] « Est-ce que ton nombre est plus petit, plus grand ou égal à 79 ? »\n",
    "- [Patrick] « Égal. C’est le nombre auquel j’avais pensé. Bravo ! »\n",
    "\n",
    "Pour arriver rapidement à deviner le nombre, l’astuce consiste à prendre à chaque fois la moitié de l’intervalle dans lequel se trouve le nombre. Voici le détail des différentes étapes :\n",
    "1. le nombre se trouve entre 1 et 100, on propose 50 (100 / 2).\n",
    "2. le nombre se trouve entre 50 et 100, on propose 75 ( 50 + (100-50)/2 ). \n",
    "3. le nombre se trouve entre 75 et 100, on propose 87 ( 75 + (100-75)/2 ). \n",
    "4. le nombre se trouve entre 75 et 87, on propose 81 ( 75 + (87-75)/2 ). \n",
    "5. le nombre se trouve entre 75 et 81, on propose 78 ( 75 + (81-75)/2 ). \n",
    "6. le nombre se trouve entre 78 et 81, on propose 79 ( 78 + (81-78)/2 ).\n",
    "\n",
    "_Créez un script qui reproduit ce jeu de devinettes. Vous pensez à un nombre entre 1 et 100 et l’ordinateur essaie de le deviner par dichotomie en vous posant des questions._\n",
    "\n",
    "Votre programme utilisera la fonction ```input()``` pour interagir avec l’utilisateur. Voici un exemple de son fonctionnement :\n",
    "```shell\n",
    ">>> lettre = input (\" Entrez une lettre : \")\n",
    "Entrez une lettre : P\n",
    ">>> print(lettre)\n",
    "P\n",
    "1 2 3 4 5\n",
    "```\n",
    "Pour vous guider, voici ce que donnerait le programme avec la conversation précédente :\n",
    "Pensez à un nombre entre 1 et 100.\n",
    "```shell\n",
    "Est-ce votre nombre est plus grand, plus petit ou égal à 50 ? [+/-/=] + \n",
    "Est-ce votre nombre est plus grand, plus petit ou égal à 75 ? [+/-/=] + \n",
    "Est-ce votre nombre est plus grand, plus petit ou égal à 87 ? [+/-/=] - \n",
    "Est-ce votre nombre est plus grand, plus petit ou égal à 81 ? [+/-/=] -\n",
    "Est-ce votre nombre est plus grand, plus petit ou égal à 78 ? [+/-/=] + \n",
    "Est-ce votre nombre est plus grand, plus petit ou égal à 79 ? [+/-/=] = \n",
    "J'ai trouvé en 6 questions !\n",
    "```\n",
    "\n",
    "Les caractères [+/-/=] indiquent à l’utilisateur comment il doit interagir avec l’ordinateur, c’est-à-dire entrer soit le caractère + si le nombre choisi est plus grand que le nombre proposé par l’ordinateur, soit le caractère - si le nombre choisi est plus petit que le nombre proposé par l’ordinateur, soit le caractère = si le nombre choisi est celui proposé par l’ordinateur (en appuyant ensuite sur la touche Entrée)."
   ]
  },
  {
   "cell_type": "code",
   "execution_count": null,
   "id": "5edd2c46-fece-4e60-8d73-fe6aedbf3f43",
   "metadata": {},
   "outputs": [],
   "source": []
  }
 ],
 "metadata": {
  "kernelspec": {
   "display_name": "Python 3 (ipykernel)",
   "language": "python",
   "name": "python3"
  },
  "language_info": {
   "codemirror_mode": {
    "name": "ipython",
    "version": 3
   },
   "file_extension": ".py",
   "mimetype": "text/x-python",
   "name": "python",
   "nbconvert_exporter": "python",
   "pygments_lexer": "ipython3",
   "version": "3.9.13"
  }
 },
 "nbformat": 4,
 "nbformat_minor": 5
}
