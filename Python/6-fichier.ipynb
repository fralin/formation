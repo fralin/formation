{
 "cells": [
  {
   "cell_type": "markdown",
   "id": "e2a303a0-3313-476a-8394-a507489802c0",
   "metadata": {},
   "source": [
    "# Fichiers\n",
    "\n",
    "## Spirale (exercice +++)\n",
    "\n",
    "Créez un script ```spirale.py``` qui calcule les coordonnées cartésiennes d’une spirale à deux dimensions.\n",
    "Les coordonnées cartésiennes $x_A$ et $y_A$ d’un point A sur un cercle de rayon r s’expriment en fonction de l’angle $\\theta$ représenté sur la figure comme :\n",
    "<center>\n",
    "$x_A =cos(\\theta)\\cdot r,  y_A =sin(\\theta)\\cdot$\n",
    "</center>\n",
    "\n",
    "Pour calculer les coordonnées cartésiennes qui décrivent la spirale, vous allez faire varier deux variables en même temps :\n",
    "- l’angle $\\theta$ , qui va prendre des valeurs de 0 à $4\\pi$ radians par pas de 0.1, ce qui correspond à deux tours complets ;\n",
    "- le rayon du cercle r, qui va prendre comme valeur initiale 0.5 puis que vous allez incrémenter (c’est-à-dire augmenter) par pas de 0.1.\n",
    "\n",
    "Les fonctions trigonométriques sinus et cosinus sont disponibles dans le module ```math```. Pour les utiliser, vous ajouterez au début de votre script l’instruction ```import math```.\n",
    "La fonction sinus sera```math.sin()``` et la fonction cosinus```math.cos()```. Ces deux fonctions prennent comme argument une valeur d’angle en radian. La constante mathématique π sera également accessible grâce à ce module via ```math.pi```. \n",
    "Par exemple :\n",
    "```shell\n",
    ">>> math.sin(0)\n",
    "0.0\n",
    ">>> math.sin(math.pi/2) \n",
    "1.0\n",
    ">>> math.cos(math.pi) \n",
    "-1.0\n",
    "```\n",
    "\n",
    "Sauvegardez ensuite les coordonnées cartésiennes dans le fichier ```spirale.dat``` en respectant le format suivant :\n",
    "- un couple de coordonnées ($x_A$ et $y_A$) par ligne;\n",
    "- au moins un espace entre les deux coordonnées $x_A$ et $y_A$ ;\n",
    "- les coordonnées affichées sur 10 caractères avec 5 chiffres après la virgule.\n",
    "\n",
    "Les premières lignes de spirale.dat devrait ressembler à :\n",
    "```shell\n",
    "1 0.50000 2 0.59700 3 0.68605\n",
    "0.00000 0.05990 0.13907\n",
    "0.76427 0.82895 0.87758 [...]\n",
    "0.23642 0.35048 0.47943 [...]\n",
    "```\n",
    "Une fois que vous avez généré le fichier ```spirale.dat```, visualisez votre spirale avec le code suivant (que vous pouvez recopier dans un autre script ou à la suite de votre script```spirale.py```):\n",
    "```python\n",
    "import matplotlib.pyplot as plt\n",
    "x = []\n",
    "y = []\n",
    "with open(\"spirale.dat\", \"r\") as f_in:\n",
    "for line in f_in:\n",
    "    coords = line.split() \n",
    "    x.append(float(coords[0])) \n",
    "    y.append(float(coords[1]))\n",
    "plt.figure(figsize=(8,8)) \n",
    "mini = min(x+y) * 1.2\n",
    "maxi = max(x+y) * 1.2 \n",
    "plt.xlim(mini , maxi) \n",
    "plt.ylim(mini , maxi) \n",
    "plt.plot(x, y) \n",
    "plt.savefig(\"spirale.png\")\n",
    "```\n",
    "- Visualisez l’image ```spirale.png``` ainsi créée.\n",
    "- Essayez de jouer sur les paramètres θ et r, et leur pas d’incrémentation, pour construire de nouvelles spirales."
   ]
  },
  {
   "cell_type": "code",
   "execution_count": 1,
   "id": "d1f26e9c-38aa-4578-834b-9d4d9f2a65f4",
   "metadata": {},
   "outputs": [],
   "source": [
    "## Compléter"
   ]
  },
  {
   "cell_type": "code",
   "execution_count": null,
   "id": "c30643d3-0c1c-4619-86cf-2e1e72d5f24d",
   "metadata": {},
   "outputs": [],
   "source": []
  }
 ],
 "metadata": {
  "kernelspec": {
   "display_name": "Python 3 (ipykernel)",
   "language": "python",
   "name": "python3"
  },
  "language_info": {
   "codemirror_mode": {
    "name": "ipython",
    "version": 3
   },
   "file_extension": ".py",
   "mimetype": "text/x-python",
   "name": "python",
   "nbconvert_exporter": "python",
   "pygments_lexer": "ipython3",
   "version": "3.9.16"
  }
 },
 "nbformat": 4,
 "nbformat_minor": 5
}
