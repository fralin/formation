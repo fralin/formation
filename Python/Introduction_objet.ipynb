{
 "cells": [
  {
   "cell_type": "code",
   "execution_count": 1,
   "id": "7290b806",
   "metadata": {},
   "outputs": [
    {
     "data": {
      "text/html": [
       "<style>@media only screen and (min-width:960px){\n",
       "    .md-content {\n",
       "        margin-right: 10rem;\n",
       "    }\n",
       "    .md-sidebar {\n",
       "        width: 10rem;\n",
       "    }\n",
       "}\n",
       "\n",
       "@media only screen and (max-width:960px){\n",
       "    img {width: 100%}\n",
       "}\n",
       "\n",
       ".box {\n",
       "    box-shadow: 0 2px 2px 0 rgba(0,0,0,.14),0 1px 5px 0 rgba(0,0,0,.12),0 3px 1px -2px rgba(0,0,0,.2);\n",
       "    position: relative;\n",
       "    margin: 1.5625em 0;\n",
       "    padding: 0 .6rem;\n",
       "    border-left: .2rem solid\n",
       "    border-radius: .1rem;\n",
       "\n",
       "    overflow: auto;\n",
       "}\n",
       "\n",
       ".box-title {\n",
       "    margin: 0 -.6rem;\n",
       "    padding: .4rem .6rem .4rem .6rem;\n",
       "    border-bottom: .05rem solid rgba(68,138,255,.1);\n",
       "    font-weight: 700;\n",
       "}\n",
       "\n",
       ".box-rem {\n",
       "    border-left-color: #448aff;\n",
       "}\n",
       ".box-rem .box-title {\n",
       "    background-color: rgba(68,138,255,.1);\n",
       "}\n",
       "\n",
       ".box-def {\n",
       "    border-left-color: #00bfa5;\n",
       "}\n",
       ".box-def .box-title {\n",
       "    background-color: #e5f9f6;\n",
       "}\n",
       "\n",
       ".box-warn {\n",
       "    border-left-color: #ff9100;\n",
       "}\n",
       ".box-warn .box-title {\n",
       "    background-color: #fff4e5;\n",
       "}\n",
       "\n",
       ".box-adv {\n",
       "    border-left-color: #651fff;\n",
       "}\n",
       ".box-adv .box-title {\n",
       "    background-color: #efe8ff;\n",
       "}\n",
       "\n",
       ".box-more {\n",
       "    border-left-color: #f50057;\n",
       "}\n",
       ".box-more .box-title {\n",
       "    background-color: #fee5ee;\n",
       "}\n",
       "\n",
       ".img-legend p {\n",
       "    margin-top: 5px;\n",
       "}\n",
       "\n",
       "p {\n",
       "    text-align: justify;\n",
       "}</style>"
      ],
      "text/plain": [
       "<IPython.core.display.HTML object>"
      ]
     },
     "execution_count": 1,
     "metadata": {},
     "output_type": "execute_result"
    }
   ],
   "source": [
    "## Ce code permet d'améliorer la mise en page du notebook\n",
    "\n",
    "from IPython.core.display import HTML\n",
    "def css_styling():\n",
    "    styles = open(\"./styles/custom.css\", \"r\").read()\n",
    "    return HTML(\"<style>\"+styles+\"</style>\")\n",
    "css_styling()"
   ]
  },
  {
   "cell_type": "markdown",
   "id": "0a8dd433-b17a-495e-8bd1-c4521e74054f",
   "metadata": {},
   "source": [
    "# Introduction à la programmation orientée objet\n",
    "\n",
    "<p>Cette section traite de la programmation orientée objet, généralement abrégée en POO. Il est difficile de résumer l'essence de l'orientation objet en quelques phrases :</p>\n",
    "\n",
    "<div class=\"box box-def\">\n",
    "    <div class=\"box-title\">La programmation orientée objet</div>\n",
    "<p>La programmation orientée objet (POO) est un paradigme de programmation basé sur le concept d'objets qui peuvent contenir des données et du code. Les données sont souvent implémentées en tant qu'attributs. Les fonctions implémentent le code associé aux données et sont généralement appelées méthodes dans le jargon orienté objet. Dans le cadre de la POO, les programmes informatiques sont conçus en étant constitués d'objets qui interagissent entre eux par le biais de méthodes.</p>\n",
    "</div>\n",
    "\n",
    "Certains pensent qu'il est préférable de combiner l'apprentissage de Python avec la POO dès le départ. C'est essentiel dans les langages de programmation comme Java. Python peut être utilisé sans programmer dans un style POO. De nombreux débutants en Python préfèrent cela, et s'ils veulent seulement écrire des applications de petite ou moyenne taille, c'est suffisant. Toutefois, pour les applications et les projets de plus grande envergure, il est recommandé de s'intéresser à la POO. \n",
    "\n",
    "Les chapitres suivants décrivent presque tous les aspects de la POO de Python."
   ]
  },
  {
   "cell_type": "markdown",
   "id": "5c6a607f-1a4b-4efb-9bbc-4354a7d00c73",
   "metadata": {},
   "source": [
    "Bien que de nombreux informaticiens et programmeurs considèrent la POO comme un paradigme de programmation moderne, ses racines remontent aux années 1960. Le premier langage de programmation à utiliser des objets était __Simula 67__. Comme son nom l'indique, Simula 67 a été introduit en 1967. La programmation orientée objet a connu une percée majeure avec le langage de programmation __Smalltalk__ dans les années 1970.\n",
    "\n",
    "Vous apprendrez à connaître les quatre grands principes de l'orientation objet et la façon dont Python les traite dans la section suivante de ce tutoriel sur la programmation orientée objet :\n",
    "- Encapsulation\n",
    "- Abstraction de données\n",
    "- Polymorphisme\n",
    "- Héritage\n",
    "\n",
    "\n",
    "Avant de commencer la section sur la façon dont la POO est utilisée en Python, nous voulons vous donner une idée générale de la programmation orientée objet. Pour ce faire, imaginez une bibliothèque publique. Elle contient une collection organisée de livres, de périodiques, de journaux, de livres audio, de films, etc.\n",
    "\n",
    "En général, il y a deux façons opposées de conserver le stock d'une bibliothèque. Vous pouvez utiliser une méthode d'accès fermé, c'est-à-dire que le stock n'est pas exposé sur des étagères ouvertes. Dans ce système, un personnel qualifié apporte les livres et autres publications aux utilisateurs sur demande. Une autre façon de gérer une bibliothèque est le rayonnage à accès ouvert, également appelé \"étagères ouvertes\". \"Ouvert\" signifie ouvert à tous les utilisateurs de la bibliothèque et pas seulement au personnel spécialement formé. Dans ce cas, les livres sont exposés en libre accès. \n",
    "\n",
    "Les langages impératifs comme le C peuvent être considérés comme des bibliothèques à rayonnages ouverts. L'utilisateur peut tout faire. C'est à l'utilisateur de trouver les livres et de les remettre sur la bonne étagère. Même si c'est génial pour l'utilisateur, cela peut entraîner de sérieux problèmes à long terme. Par exemple, certains livres seront mal rangés et il sera difficile de les retrouver. \n",
    "\n",
    "Comme vous l'avez peut-être déjà deviné, l'accès fermé peut être comparé à la programmation orientée objet. L'analogie peut être vue comme suit : Les livres et autres publications qu'une bibliothèque propose sont comme les données d'un programme orienté objet. L'accès aux livres est limité comme l'accès aux données est limité dans la programmation orientée objet. Obtenir ou rendre un livre n'est possible que par l'intermédiaire du personnel. Le personnel fonctionne comme les méthodes de la POO, qui contrôlent l'accès aux données. Ainsi, les données, souvent appelées attributs, dans un tel programme peuvent être considérées comme étant cachées et protégées par un shell, et on ne peut y accéder que par des fonctions spéciales, généralement appelées méthodes dans le contexte de la POO. Le fait de placer les données derrière un \"shell\" est appelé encapsulation. Ainsi, une bibliothèque peut être considérée comme une classe et un livre est une instance ou un objet de cette classe. D'une manière générale, un objet est défini par une classe. Une classe est une description formelle de la manière dont un objet est conçu, c'est-à-dire des attributs et des méthodes qu'il possède. Ces objets sont également appelés instances. Dans la plupart des cas, ces expressions sont utilisées comme synonymes. Une classe ne doit pas être confondue avec un objet.\n",
    "\n",
    "## La POO en Python\n",
    "\n",
    "Même si nous n'avons pas parlé de classes et d'orientation objet dans les chapitres précédents, nous avons travaillé avec des classes tout le temps. En fait, tout est une classe en Python. _Guido van Rossum_ a conçu le langage selon le principe \"first-class everything\". Il écrit : \n",
    "\n",
    "_L'un de mes objectifs pour Python était de faire en sorte que tous les objets soient de \"première classe\". J'entends par là que je voulais que tous les objets pouvant être nommés dans le langage (par exemple, les entiers, les chaînes de caractères, les fonctions, les classes, les modules, les méthodes, etc.) aient le même statut. C'est-à-dire qu'ils peuvent être assignés à des variables, placés dans des listes, stockés dans des dictionnaires, passés en tant qu'arguments, et ainsi de suite.\" (Blog, The History of Python, 27 février 2009) En d'autres termes, \" tout \" est traité de la même manière, tout est une classe : les fonctions et les méthodes sont des valeurs tout comme les listes, les entiers ou les flottants. Chacune de ces valeurs est une instance de la classe correspondante._"
   ]
  },
  {
   "cell_type": "code",
   "execution_count": 1,
   "id": "e9c9cbbd-19d3-49c5-9d82-aabed5152fd0",
   "metadata": {},
   "outputs": [
    {
     "data": {
      "text/plain": [
       "int"
      ]
     },
     "execution_count": 1,
     "metadata": {},
     "output_type": "execute_result"
    }
   ],
   "source": [
    "x = 42\n",
    "type(x)"
   ]
  },
  {
   "cell_type": "code",
   "execution_count": 2,
   "id": "36d5701f-aaf2-4af5-b061-03b4c35c66f1",
   "metadata": {},
   "outputs": [
    {
     "data": {
      "text/plain": [
       "float"
      ]
     },
     "execution_count": 2,
     "metadata": {},
     "output_type": "execute_result"
    }
   ],
   "source": [
    "y = 4.34\n",
    "type(y)"
   ]
  },
  {
   "cell_type": "code",
   "execution_count": 3,
   "id": "c406517c-d18a-4bd7-a206-6c848b8fb5c1",
   "metadata": {},
   "outputs": [
    {
     "data": {
      "text/plain": [
       "function"
      ]
     },
     "execution_count": 3,
     "metadata": {},
     "output_type": "execute_result"
    }
   ],
   "source": [
    "def f(x):\n",
    "    return x + 1\n",
    "type(f)"
   ]
  },
  {
   "cell_type": "code",
   "execution_count": 4,
   "id": "699bef1c-d6a7-4eaa-b79f-daca1ffa5608",
   "metadata": {},
   "outputs": [
    {
     "data": {
      "text/plain": [
       "module"
      ]
     },
     "execution_count": 4,
     "metadata": {},
     "output_type": "execute_result"
    }
   ],
   "source": [
    "import math\n",
    "type(math)"
   ]
  },
  {
   "cell_type": "markdown",
   "id": "9c140c33-8285-4cc6-90bf-73b6d4f7200a",
   "metadata": {},
   "source": [
    "L'une des nombreuses classes intégrées dans Python est la classe ```list```, que nous avons assez souvent utilisée dans nos exercices et exemples. La classe ```list``` fournit une multitude de méthodes pour construire des listes, pour accéder aux éléments et les modifier, ou pour supprimer des éléments :"
   ]
  },
  {
   "cell_type": "code",
   "execution_count": 5,
   "id": "489c7bc1-9bff-4cf1-b7c8-09fa958ffa8f",
   "metadata": {},
   "outputs": [
    {
     "name": "stdout",
     "output_type": "stream",
     "text": [
      "6\n"
     ]
    }
   ],
   "source": [
    "x = [3,6,9]\n",
    "y = [45, \"abc\"]\n",
    "print(x[1])"
   ]
  },
  {
   "cell_type": "code",
   "execution_count": 6,
   "id": "ff4f4c22-28ff-479e-9acc-62369c0c626e",
   "metadata": {},
   "outputs": [
    {
     "name": "stdout",
     "output_type": "stream",
     "text": [
      "abc\n"
     ]
    }
   ],
   "source": [
    "x[1] = 99\n",
    "x.append(42)\n",
    "last = y.pop()\n",
    "print(last)"
   ]
  },
  {
   "cell_type": "markdown",
   "id": "24786d6c-26e4-42a1-80a1-7b31cae6e7db",
   "metadata": {},
   "source": [
    "Les variables ```x``` et ```y``` de l'exemple précédent désignent deux instances de la classe ```list```. En termes simplifiés, nous avons dit jusqu'à présent que ```x``` et ```y``` sont des ```list```. Nous utiliserons les termes \"objet\" et \"instance\" de manière synonyme dans les chapitres suivants, comme cela est souvent le cas.\n",
    "\n",
    "```pop``` et ```append``` de l'exemple précédent sont des méthodes de la classe ```list```. ```pop``` renvoie l'élément le plus haut (ou on pourrait le considérer comme l'élément le plus à droite) de la liste et supprime cet élément de la liste. Nous n'allons pas expliquer comment Python a implémenté les listes en interne. Nous n'avons pas besoin de cette information, car la classe de liste nous fournit toutes les méthodes nécessaires pour accéder indirectement aux données. C'est-à-dire que les détails de l'encapsulation sont encapsulés. Nous apprendrons l'encapsulation plus tard."
   ]
  },
  {
   "cell_type": "markdown",
   "id": "8b224efe-6d1c-428d-b358-761d6dcba4b0",
   "metadata": {},
   "source": [
    "## Une classe minimale en Python\n",
    "\n",
    "<center><img src=\"img/robot.png\" width= 60%></center>\n",
    "\n",
    "Nous allons concevoir et utiliser une classe de robot en Python comme exemple pour démontrer les termes et les idées les plus importants de l'orientation objet. Nous allons commencer par la classe la plus simple de Python.\n",
    "\n",
    "```python\n",
    "class Robot :\n",
    "    pass\n",
    "```\n",
    "\n",
    "Nous pouvons nous rendre compte de la structure syntaxique fondamentale d'une classe en Python : \n",
    "\n",
    "Une classe se compose de deux parties : l'en-tête et le corps. \n",
    "- L'en-tête est généralement constitué d'une seule ligne de code. Il commence par le mot-clé ```class``` suivi d'un blanc et d'un nom arbitraire pour la classe. Dans notre cas, le nom de la classe est __Robot__. \n",
    "Le nom de la classe est suivi d'une liste d'autres noms de classes, qui sont des classes dont la classe définie hérite. Ces classes sont appelées superclasses, classes de base ou parfois classes mères. Si vous regardez notre exemple, vous verrez que cette liste de superclasses n'est pas obligatoire. Vous n'avez pas à vous soucier de l'héritage et des superclasses pour l'instant. Nous les introduirons plus tard.\n",
    "- Le corps d'une classe consiste en un bloc indenté de déclarations. Dans notre cas, une seule instruction, l'instruction ```pass```.\n",
    "\n",
    "Un objet de classe est créé, lorsque la définition est quittée normalement, c'est-à-dire par la fin. Il s'agit en fait d'une enveloppe autour du contenu de l'espace de nom créé par la définition de la classe.\n",
    "\n",
    "C'est difficile à croire, surtout pour les programmeurs C++ ou Java, mais nous avons déjà défini une classe complète avec seulement trois mots et deux lignes de code. Nous sommes également capables d'utiliser cette classe :"
   ]
  },
  {
   "cell_type": "code",
   "execution_count": 7,
   "id": "b881168a-69f2-44e9-9e2f-3c23367825c6",
   "metadata": {},
   "outputs": [
    {
     "name": "stdout",
     "output_type": "stream",
     "text": [
      "True\n",
      "False\n"
     ]
    }
   ],
   "source": [
    "class Robot:\n",
    "    pass\n",
    "\n",
    "if __name__ == \"__main__\":\n",
    "    x = Robot()\n",
    "    y = Robot()\n",
    "    y2 = y\n",
    "    print(y == y2)\n",
    "    print(y == x)"
   ]
  },
  {
   "cell_type": "markdown",
   "id": "8d12920f-e59f-4036-9ad4-692572103ea9",
   "metadata": {},
   "source": [
    "Nous avons créé deux robots différents, ```x``` et ```y```, dans notre exemple. En outre, nous avons créé une référence ```y2``` à ```y```, c'est-à-dire que ```y2``` est un nom d'emprunt pour ```y```.\n",
    "\n",
    "## Attributs\n",
    "\n",
    "Ceux qui ont déjà appris un autre langage orienté objet, doivent avoir réalisé que les termes attributs et propriétés sont généralement utilisés comme synonymes. Ils peuvent même être utilisés dans la définition d'un attribut, comme le fait Wikipedia : \n",
    "<div class=\"box box-def\">\n",
    "    <div class=\"box-title\">Attribut</div>\n",
    "En informatique, un attribut est une spécification qui définit une propriété d'un objet, d'un élément ou d'un fichier. Il peut également faire référence à ou définir la valeur spécifique d'une instance donnée d'un tel.\n",
    "</div>\n",
    "Habituellement, un \"attribut\" est utilisé pour désigner une capacité ou une caractéristique spécifique de quelque chose ou de quelqu'un, comme les cheveux noirs, l'absence de cheveux, une perception rapide ou \"sa rapidité à saisir de nouvelles tâches\".\n",
    "\n",
    "Revenons à Python : Nous apprendrons plus tard que les propriétés et les attributs sont essentiellement des choses différentes en Python. Cette sous-section de notre tutoriel porte sur les attributs en Python. Jusqu'à présent, nos robots n'ont pas d'attributs. Pas même un nom, comme il est d'usage pour les robots ordinaires, n'est-ce pas ? Nous allons donc implémenter un attribut de nom. \"La désignation du type, l'année de construction, etc. sont également des attributs facilement concevables***.\n",
    "\n",
    "Les attributs sont créés dans une définition de classe, comme nous allons bientôt l'apprendre. Nous pouvons créer dynamiquement de nouveaux attributs arbitraires pour les instances existantes d'une classe. Pour ce faire, nous joignons un nom arbitraire au nom de l'instance, séparé par un point \".\". Dans l'exemple suivant, nous le démontrons en créant un attribut pour le nom et l'année de construction :"
   ]
  },
  {
   "cell_type": "code",
   "execution_count": 4,
   "id": "009b6f69-00b2-45a3-a15a-36930fcbbbe1",
   "metadata": {},
   "outputs": [
    {
     "name": "stdout",
     "output_type": "stream",
     "text": [
      "Marvin\n"
     ]
    }
   ],
   "source": [
    "class Robot:\n",
    "    pass\n",
    "x = Robot()\n",
    "y = Robot()\n",
    "x.name = \"Marvin\"\n",
    "x.build_year = \"1979\"\n",
    "y.name = \"Caliban\"\n",
    "y.build_year = \"1993\"\n",
    "print(x.name)"
   ]
  },
  {
   "cell_type": "code",
   "execution_count": 5,
   "id": "c9359fe7-43b7-40eb-9e39-d7cf6ae17a33",
   "metadata": {},
   "outputs": [
    {
     "name": "stdout",
     "output_type": "stream",
     "text": [
      "1993\n"
     ]
    }
   ],
   "source": [
    "print(y.build_year)"
   ]
  },
  {
   "cell_type": "markdown",
   "id": "3e26f1e8-8ec0-4b2f-b744-de31c2563b43",
   "metadata": {},
   "source": [
    "Comme nous l'avons déjà dit : Ce n'est pas la façon de créer correctement des attributs d'instance. Nous avons introduit cet exemple, car nous pensons qu'il peut aider à rendre les explications suivantes plus faciles à comprendre.\n",
    "\n",
    "Si vous voulez savoir, ce qui se passe en interne : Les instances possèdent des dictionnaires ```__dict__```, qu'elles utilisent pour stocker leurs attributs et leurs valeurs correspondantes :"
   ]
  },
  {
   "cell_type": "code",
   "execution_count": 6,
   "id": "d35863f8-28fa-4eea-86d3-9709c2569310",
   "metadata": {},
   "outputs": [
    {
     "data": {
      "text/plain": [
       "{'name': 'Marvin', 'build_year': '1979'}"
      ]
     },
     "execution_count": 6,
     "metadata": {},
     "output_type": "execute_result"
    }
   ],
   "source": [
    "x.__dict__"
   ]
  },
  {
   "cell_type": "code",
   "execution_count": 11,
   "id": "dcde245a-7397-4689-a18f-302c4a9d6f83",
   "metadata": {},
   "outputs": [
    {
     "data": {
      "text/plain": [
       "{'name': 'Caliban', 'build_year': '1993'}"
      ]
     },
     "execution_count": 11,
     "metadata": {},
     "output_type": "execute_result"
    }
   ],
   "source": [
    "y.__dict__"
   ]
  },
  {
   "cell_type": "markdown",
   "id": "ca90d713-c3f0-4cf0-8dc7-e1437f336ba4",
   "metadata": {},
   "source": [
    "Les attributs peuvent également être liés à des noms de classe. Dans ce cas, chaque instance possédera également ce nom. Attention à ce qui se passe si vous attribuez le même nom à une instance :"
   ]
  },
  {
   "cell_type": "code",
   "execution_count": 7,
   "id": "ff50ff72-4129-4fe9-808e-f72ec84e6beb",
   "metadata": {},
   "outputs": [
    {
     "data": {
      "text/plain": [
       "'Kuka'"
      ]
     },
     "execution_count": 7,
     "metadata": {},
     "output_type": "execute_result"
    }
   ],
   "source": [
    "class Robot(object):\n",
    "    pass\n",
    "\n",
    "x = Robot()\n",
    "Robot.brand = \"Kuka\"\n",
    "x.brand"
   ]
  },
  {
   "cell_type": "code",
   "execution_count": 8,
   "id": "9efbf934-08b5-4ddd-8dd2-66a6dbca82f9",
   "metadata": {},
   "outputs": [
    {
     "data": {
      "text/plain": [
       "'Kuka'"
      ]
     },
     "execution_count": 8,
     "metadata": {},
     "output_type": "execute_result"
    }
   ],
   "source": [
    "x.brand = \"Thales\"\n",
    "Robot.brand"
   ]
  },
  {
   "cell_type": "code",
   "execution_count": 15,
   "id": "3b82a54f-a136-4990-872c-2b355960767a",
   "metadata": {},
   "outputs": [
    {
     "data": {
      "text/plain": [
       "'Kuka'"
      ]
     },
     "execution_count": 15,
     "metadata": {},
     "output_type": "execute_result"
    }
   ],
   "source": [
    "y = Robot()\n",
    "y.brand"
   ]
  },
  {
   "cell_type": "code",
   "execution_count": 16,
   "id": "45a474b2-e863-4d77-8d05-74af8f3d2b32",
   "metadata": {},
   "outputs": [
    {
     "data": {
      "text/plain": [
       "'Thales'"
      ]
     },
     "execution_count": 16,
     "metadata": {},
     "output_type": "execute_result"
    }
   ],
   "source": [
    "Robot.brand = \"Thales\"\n",
    "y.brand"
   ]
  },
  {
   "cell_type": "code",
   "execution_count": 17,
   "id": "b592e7eb-ec4f-487f-8d55-560f727f9f3d",
   "metadata": {},
   "outputs": [
    {
     "data": {
      "text/plain": [
       "'Thales'"
      ]
     },
     "execution_count": 17,
     "metadata": {},
     "output_type": "execute_result"
    }
   ],
   "source": [
    "x.brand"
   ]
  },
  {
   "cell_type": "markdown",
   "id": "e7030a30-ebf4-41e9-8cd3-8cc632caf65c",
   "metadata": {},
   "source": [
    "Si vous regardez les dictionnaires ```__dict__```, vous pouvez voir ce qui se passe."
   ]
  },
  {
   "cell_type": "code",
   "execution_count": 18,
   "id": "66d2924e-47de-4184-a11e-52c55390e04e",
   "metadata": {},
   "outputs": [
    {
     "data": {
      "text/plain": [
       "{'brand': 'Thales'}"
      ]
     },
     "execution_count": 18,
     "metadata": {},
     "output_type": "execute_result"
    }
   ],
   "source": [
    "x.__dict__"
   ]
  },
  {
   "cell_type": "code",
   "execution_count": 19,
   "id": "a7489da7-cb7f-4a74-b3ae-ca67bb1e4edf",
   "metadata": {},
   "outputs": [
    {
     "data": {
      "text/plain": [
       "{}"
      ]
     },
     "execution_count": 19,
     "metadata": {},
     "output_type": "execute_result"
    }
   ],
   "source": [
    "y.__dict__"
   ]
  },
  {
   "cell_type": "code",
   "execution_count": 20,
   "id": "e3ac9fca-ce38-4be8-a8c1-02ad6c214540",
   "metadata": {},
   "outputs": [
    {
     "data": {
      "text/plain": [
       "mappingproxy({'__module__': '__main__',\n",
       "              '__dict__': <attribute '__dict__' of 'Robot' objects>,\n",
       "              '__weakref__': <attribute '__weakref__' of 'Robot' objects>,\n",
       "              '__doc__': None,\n",
       "              'brand': 'Thales'})"
      ]
     },
     "execution_count": 20,
     "metadata": {},
     "output_type": "execute_result"
    }
   ],
   "source": [
    "Robot.__dict__"
   ]
  },
  {
   "cell_type": "markdown",
   "id": "f5ea2693-306d-463c-982b-54b3ad303312",
   "metadata": {},
   "source": [
    "Si vous essayez d'accéder à ```y.brand```, Python vérifie d'abord si ```brand``` est une clé du dictionnaire ```y. __dict__```. Si ce n'est pas le cas, Python vérifie si ```brand``` est une clé du dictionnaire ```Robot. __dict__```. Si c'est le cas, la valeur peut être récupérée.\n",
    "\n",
    "Si un nom d'attribut n'est pas inclus dans l'un ou l'autre des dictionnaires, le nom d'attribut n'est pas défini. Si vous essayez d'accéder à un attribut inexistant, vous obtiendrez une ```AttributeError``` :"
   ]
  },
  {
   "cell_type": "code",
   "execution_count": 21,
   "id": "df00d71d-9f19-4b2a-b939-953f0699b032",
   "metadata": {},
   "outputs": [
    {
     "ename": "AttributeError",
     "evalue": "'Robot' object has no attribute 'energy'",
     "output_type": "error",
     "traceback": [
      "\u001b[0;31m---------------------------------------------------------------------------\u001b[0m",
      "\u001b[0;31mAttributeError\u001b[0m                            Traceback (most recent call last)",
      "Cell \u001b[0;32mIn[21], line 1\u001b[0m\n\u001b[0;32m----> 1\u001b[0m \u001b[43mx\u001b[49m\u001b[38;5;241;43m.\u001b[39;49m\u001b[43menergy\u001b[49m\n",
      "\u001b[0;31mAttributeError\u001b[0m: 'Robot' object has no attribute 'energy'"
     ]
    }
   ],
   "source": [
    "x.energy"
   ]
  },
  {
   "cell_type": "markdown",
   "id": "bd2ddcda-8ecf-456c-ba9b-3f6cc6f0d491",
   "metadata": {},
   "source": [
    "En utilisant la fonction ```getattr```, vous pouvez éviter cette exception, si vous fournissez une valeur par défaut comme troisième argument :"
   ]
  },
  {
   "cell_type": "code",
   "execution_count": 22,
   "id": "badc41b4-b092-43b7-8d41-6296b6955834",
   "metadata": {},
   "outputs": [
    {
     "data": {
      "text/plain": [
       "100"
      ]
     },
     "execution_count": 22,
     "metadata": {},
     "output_type": "execute_result"
    }
   ],
   "source": [
    "getattr(x, 'energy', 100)"
   ]
  },
  {
   "cell_type": "markdown",
   "id": "1517cfbe-77ca-4ae5-94fa-14e3f3e1bdb1",
   "metadata": {},
   "source": [
    "Lier des attributs aux objets est un concept général en Python. Même les noms de fonctions peuvent être attribués. Vous pouvez lier un attribut à un nom de fonction de la même manière que nous l'avons fait jusqu'à présent pour d'autres instances de classes :"
   ]
  },
  {
   "cell_type": "code",
   "execution_count": 10,
   "id": "d1254d85-78e6-4e5a-8c56-8e2dd09458d0",
   "metadata": {},
   "outputs": [
    {
     "name": "stdout",
     "output_type": "stream",
     "text": [
      "42\n"
     ]
    }
   ],
   "source": [
    "def f(x):\n",
    "    return 42\n",
    "f.x = 10\n",
    "print(f(2))"
   ]
  },
  {
   "cell_type": "markdown",
   "id": "465b4467-1420-4d57-bb25-037fc7a50fec",
   "metadata": {},
   "source": [
    "Cela peut être utilisé pour remplacer les variables de fonction statiques de C et C++, qui ne sont pas possibles en Python. Nous utilisons un attribut de compteur dans l'exemple suivant :"
   ]
  },
  {
   "cell_type": "code",
   "execution_count": 11,
   "id": "78b94e97-8e27-4aff-97ac-61c838dd4ef5",
   "metadata": {},
   "outputs": [
    {
     "name": "stdout",
     "output_type": "stream",
     "text": [
      "10\n"
     ]
    }
   ],
   "source": [
    "def f(x):\n",
    "    f.counter = getattr(f, \"counter\", 0) + 1 \n",
    "    return \"Monty Python\"\n",
    "\n",
    "for i in range(10):\n",
    "    f(i)\n",
    "print(f.counter)"
   ]
  },
  {
   "cell_type": "markdown",
   "id": "409f2474-0dfd-4444-8ed7-4e883d01e87d",
   "metadata": {},
   "source": [
    "Une certaine incertitude peut surgir à ce stade. Il est possible d'attribuer des attributs à la plupart des instances de classe, mais cela n'a rien à voir avec la définition des classes. Nous verrons bientôt comment attribuer des attributs lorsque nous définissons une classe.\n",
    "\n",
    "Pour créer correctement des instances de classes, nous avons également besoin de méthodes. Vous apprendrez dans la sous-section suivante de notre tutoriel Python, comment vous pouvez définir des méthodes.\n",
    "\n",
    "## Methodes\n",
    "\n",
    "<center><img src=\"img/robot2.png\" width=\"40%\"></center>\n",
    "\n",
    "Les méthodes en Python sont essentiellement des fonctions, conformément à l'adage de Guido \"first-class everything\".\n",
    "\n",
    "Définissons une fonction ```hi```, qui prend un objet ```obj``` comme argument et suppose que cet objet possède un attribut ```name```. Nous allons également redéfinir notre classe de base Robot :"
   ]
  },
  {
   "cell_type": "code",
   "execution_count": 12,
   "id": "f0261d8d-02ef-4f05-9fa1-7bd532b4dae8",
   "metadata": {},
   "outputs": [
    {
     "name": "stdout",
     "output_type": "stream",
     "text": [
      "Hi, I am Marvin!\n"
     ]
    }
   ],
   "source": [
    "def hi(obj):\n",
    "    print(\"Hi, I am \" + obj.name + \"!\")\n",
    "    \n",
    "    \n",
    "class Robot:\n",
    "    pass\n",
    "\n",
    "\n",
    "x = Robot()\n",
    "x.name = \"Marvin\"\n",
    "hi(x)"
   ]
  },
  {
   "cell_type": "markdown",
   "id": "5832865e-4965-4345-948f-a1890a2f34d7",
   "metadata": {},
   "source": [
    "Nous allons maintenant lier la fonction ```hi``` à un attribut de classe ```say_hi``` !"
   ]
  },
  {
   "cell_type": "code",
   "execution_count": 26,
   "id": "2d4b26cc-e772-4d21-9790-89d095950db0",
   "metadata": {},
   "outputs": [
    {
     "name": "stdout",
     "output_type": "stream",
     "text": [
      "Hi, I am Marvin\n"
     ]
    }
   ],
   "source": [
    "def hi(obj):\n",
    "        print(\"Hi, I am \" + obj.name)\n",
    "        \n",
    "class Robot:\n",
    "    say_hi = hi\n",
    "    \n",
    "x = Robot()\n",
    "x.name = \"Marvin\"\n",
    "Robot.say_hi(x)"
   ]
  },
  {
   "cell_type": "markdown",
   "id": "1331c6c4-90bc-4cb6-bd92-bb985a7115e9",
   "metadata": {},
   "source": [
    "```say_hi``` est appelé une méthode. Habituellement, elle sera appelée comme ceci :\n",
    "\n",
    "```python\n",
    "x.say_hi()\n",
    "```\n",
    "\n",
    "Il est possible de définir des méthodes de cette manière, mais vous ne devriez pas le faire.\n",
    "\n",
    "La façon correcte de le faire :\n",
    "\n",
    "- Au lieu de définir une fonction en dehors d'une définition de classe et de la lier à un attribut de classe, nous définissons une méthode directement à l'intérieur (en retrait) d'une définition de classe.\n",
    "- Une méthode est \"juste\" une fonction qui est définie à l'intérieur d'une classe.\n",
    "- Le premier paramètre est utilisé comme une référence à l'instance appelante.\n",
    "- Ce paramètre est généralement appelé ```self```.\n",
    "- ```self``` correspond à l'objet Robot x.\n",
    "\n",
    "\n",
    "Nous avons vu qu'une méthode ne diffère d'une fonction que sur deux points :\n",
    "\n",
    "- Elle appartient à une classe, et elle est définie au sein d'une classe.\n",
    "- Le premier paramètre de la définition d'une méthode doit être une référence à l'instance qui a appelé la méthode. Ce paramètre est généralement appelé \"self\".\n",
    "\n",
    "\n",
    "En fait, ```self``` n'est pas un mot-clé Python. Il s'agit simplement d'une convention de dénomination ! Les programmeurs C++ ou Java sont donc libres de l'appeler ```this```, mais ils risquent ainsi que d'autres personnes aient plus de difficultés à comprendre leur code !\n",
    "\n",
    "La plupart des autres langages de programmation orientés objet transmettent la référence à l'objet ```self``` comme un paramètre caché aux méthodes.\n",
    "\n",
    "Vous avez vu précédemment que les appels ```Robot.say_hi(x)``` et ```x.say_hi()``` sont équivalents. ```x.say_hi()``` peut être considéré comme une forme __abrégée__, c'est-à-dire que Python le lie automatiquement au nom de l'instance. En outre, ```x.say_hi()``` est la manière habituelle d'appeler des méthodes en Python et dans d'autres langages orientés objet.\n",
    "\n",
    "Pour une classe C, une instance x de C et une méthode m de C, les trois appels de méthode suivants sont équivalents :\n",
    "\n",
    "```\n",
    "type(x).m(x, ...)\n",
    "C.m(x, ...)\n",
    "x.m(...)\n",
    "```\n",
    "Avant de poursuivre avec le texte suivant, vous pouvez réfléchir à l'exemple précédent pendant un moment. Pouvez-vous trouver ce qui ne va pas dans la conception ?\n",
    "\n",
    "Il y a plus d'une chose dans ce code, qui peut vous déranger, mais le problème essentiel pour le moment est le fait que nous créons un robot et qu'après la création, nous ne devons pas oublier de le nommer ! Si nous l'oublions, ```say_hi``` lèvera une erreur.\n",
    "\n",
    "Nous avons besoin d'un mécanisme pour initialiser une instance juste après sa création. Il s'agit de la méthode ```__init__```, que nous aborderons dans la section suivante.\n",
    "\n",
    "## La méthode ```__init__```\n",
    "\n",
    "Nous voulons définir les attributs d'une instance juste après sa création. ```__init__``` est une méthode qui est appelée immédiatement et automatiquement après la création d'une instance. Ce nom est fixe et il n'est pas possible de choisir un autre nom. ```__init__``` est l'une des méthodes dites magiques, nous la connaîtrons plus tard avec plus de détails. La méthode ```__init__``` est utilisée pour initialiser une instance. Il n'y a pas de méthode explicite de constructeur ou de destructeur en Python, comme on les connaît en C++ et en Java. La méthode ```__init__``` peut se trouver n'importe où dans la définition d'une classe, mais c'est généralement la première méthode d'une classe, c'est-à-dire qu'elle suit immédiatement l'en-tête de la classe."
   ]
  },
  {
   "cell_type": "code",
   "execution_count": 14,
   "id": "a9892780-2db1-4497-af16-11f173d2e655",
   "metadata": {},
   "outputs": [
    {
     "name": "stdout",
     "output_type": "stream",
     "text": [
      "__init__ has been executed!\n"
     ]
    }
   ],
   "source": [
    "class A:\n",
    "    def __init__(self):\n",
    "        print(\"__init__ has been executed!\")\n",
    "        \n",
    "x = A()"
   ]
  },
  {
   "cell_type": "markdown",
   "id": "be6c975e-f5c2-4825-92a7-ee224e228568",
   "metadata": {},
   "source": [
    "Nous ajoutons une méthode ```__init__``` à notre classe de robot :"
   ]
  },
  {
   "cell_type": "code",
   "execution_count": 28,
   "id": "6e5c9fda-7620-47c4-9333-2eef9f0acede",
   "metadata": {},
   "outputs": [
    {
     "name": "stdout",
     "output_type": "stream",
     "text": [
      "Hi, I am a robot without a name\n",
      "Hi, I am Marvin\n"
     ]
    }
   ],
   "source": [
    "class Robot:\n",
    "    def __init__(self, name=None):\n",
    "        self.name = name   \n",
    "        \n",
    "    def say_hi(self):\n",
    "        if self.name:\n",
    "            print(\"Hi, I am \" + self.name)\n",
    "        else:\n",
    "            print(\"Hi, I am a robot without a name\")\n",
    "            \n",
    "x = Robot()\n",
    "x.say_hi()\n",
    "y = Robot(\"Marvin\")\n",
    "y.say_hi()"
   ]
  },
  {
   "cell_type": "markdown",
   "id": "a0b5d27c-9c3a-4789-96b6-2274309c5de6",
   "metadata": {},
   "source": [
    "## Abstraction de données, encapsulation de données et dissimulation d'informations\n",
    "\n",
    "Définitions des termes\n",
    "\n",
    "<center><img src=\"img/definitions.png\" width=\"50%\"></center>\n",
    "\n",
    "L'abstraction de données, l'encapsulation de données et le masquage d'informations sont souvent utilisés comme synonymes dans les livres et les didacticiels sur la POO. Cependant, il existe une différence. L'encapsulation est considérée comme le regroupement des données avec les méthodes qui opèrent sur ces données. Le masquage d'informations, quant à lui, est le principe selon lequel certaines informations ou données internes sont \"cachées\", afin qu'elles ne puissent pas être modifiées accidentellement. L'encapsulation des données par des méthodes ne signifie pas nécessairement que les données sont cachées. Vous pourriez être capable d'accéder aux données et de les voir de toute façon, mais il est recommandé d'utiliser les méthodes. Enfin, l'abstraction des données est présente si le masquage et l'encapsulation des données sont tous deux utilisés. En d'autres termes, l'abstraction des données est le terme le plus large :\n",
    "\n",
    "__Abstraction des données = Encapsulation des données + Cachage des données.__\n",
    "\n",
    "L'encapsulation est souvent réalisée en fournissant deux types de méthodes pour les attributs : Les méthodes permettant de récupérer ou d'accéder aux valeurs des attributs sont appelées méthodes getter. Les méthodes getter ne modifient pas les valeurs des attributs, elles ne font que renvoyer les valeurs. Les méthodes utilisées pour modifier les valeurs des attributs sont appelées méthodes setter.\n",
    "\n",
    "Nous allons maintenant définir une classe Robot avec un __Getter__ et un __Setter__ pour l'attribut name. Nous les appellerons ```get_name``` et ```set_name``` en conséquence."
   ]
  },
  {
   "cell_type": "code",
   "execution_count": 2,
   "id": "d3fa661d-48fb-43fa-858e-f81400ea61cd",
   "metadata": {},
   "outputs": [
    {
     "name": "stdout",
     "output_type": "stream",
     "text": [
      "Hi, I am Henry\n",
      "Henry\n"
     ]
    }
   ],
   "source": [
    "class Robot:\n",
    "    def __init__(self, name=None):\n",
    "        self.name = name \n",
    "        \n",
    "    def say_hi(self):\n",
    "        if self.name:\n",
    "            print(\"Hi, I am \" + self.name)\n",
    "        else:\n",
    "            print(\"Hi, I am a robot without a name\")\n",
    "            \n",
    "    def set_name(self, name):\n",
    "        self.name = name\n",
    "        \n",
    "    def get_name(self):\n",
    "        return self.name\n",
    "    \n",
    "    \n",
    "x = Robot()\n",
    "x.set_name(\"Henry\")\n",
    "x.say_hi()\n",
    "y = Robot()\n",
    "y.set_name(x.get_name())\n",
    "print(y.get_name())"
   ]
  },
  {
   "cell_type": "markdown",
   "id": "d793c700-7c6c-41f3-bc21-3b3ee94261c0",
   "metadata": {},
   "source": [
    "Avant de continuer, vous pouvez faire un petit exercice. Vous pouvez ajouter un attribut supplémentaire ```build_year``` avec Getters et Setters à la classe Robot."
   ]
  },
  {
   "cell_type": "code",
   "execution_count": 30,
   "id": "8224b8db-6328-4f87-a9be-6f6e70ffcc38",
   "metadata": {},
   "outputs": [
    {
     "name": "stdout",
     "output_type": "stream",
     "text": [
      "Hi, I am Henry\n",
      "I was built in 2008\n",
      "Hi, I am Marvin\n",
      "It's not known, when I was created!\n"
     ]
    }
   ],
   "source": [
    "class Robot:\n",
    "    def __init__(self, \n",
    "                 name=None,\n",
    "                 build_year=None):\n",
    "        self.name = name   \n",
    "        self.build_year = build_year\n",
    "        \n",
    "    def say_hi(self):\n",
    "        if self.name:\n",
    "            print(\"Hi, I am \" + self.name)\n",
    "        else:\n",
    "            print(\"Hi, I am a robot without a name\")\n",
    "        if self.build_year:\n",
    "            print(\"I was built in \" + str(self.build_year))\n",
    "        else:\n",
    "            print(\"It's not known, when I was created!\")\n",
    "            \n",
    "    def set_name(self, name):\n",
    "        self.name = name\n",
    "        \n",
    "    def get_name(self):\n",
    "        return self.name    \n",
    "    \n",
    "    def set_build_year(self, by):\n",
    "        self.build_year = by\n",
    "        \n",
    "    def get_build_year(self):\n",
    "        return self.build_year  \n",
    "    \n",
    "    \n",
    "x = Robot(\"Henry\", 2008)\n",
    "y = Robot()\n",
    "y.set_name(\"Marvin\")\n",
    "x.say_hi()\n",
    "y.say_hi()"
   ]
  },
  {
   "cell_type": "markdown",
   "id": "7bd1bc19-edba-4226-849c-d8e26054bba8",
   "metadata": {},
   "source": [
    "Il y a encore quelque chose qui cloche avec notre classe Robot. Le Zen de Python dit : \"Il devrait y avoir une - et de préférence une seule - manière évidente de le faire\". Notre classe Robot nous fournit deux façons d'accéder ou de modifier l'attribut ```name``` ou ```build_year```. On peut éviter cela en utilisant des attributs privés, que nous expliquerons plus tard.\n",
    "\n",
    "## Les méthodes ```__str__``` et ```__repr__```\n",
    "\n",
    "Nous allons faire une courte pause dans notre traité sur l'abstraction des données pour une petite excursion. Nous voulons présenter deux méthodes magiques importantes ```__str__``` et ```__repr__```, dont nous aurons besoin dans les exemples à venir. Au cours de ce tutoriel, nous avons déjà rencontré la méthode ```__str__```. Nous avions vu que nous pouvions représenter diverses données sous forme de chaîne en utilisant la fonction str, qui utilise \"magiquement\" la méthode interne ```__str__``` du type de données correspondant. La méthode ```__repr__``` est similaire. Elle produit également une représentation sous forme de chaîne de caractères."
   ]
  },
  {
   "cell_type": "code",
   "execution_count": 31,
   "id": "7b4e6d10-c167-46ff-9bc8-d76255efb79a",
   "metadata": {},
   "outputs": [
    {
     "name": "stdout",
     "output_type": "stream",
     "text": [
      "['Python', 'Java', 'C++', 'Perl']\n"
     ]
    }
   ],
   "source": [
    "l = [\"Python\", \"Java\", \"C++\", \"Perl\"]\n",
    "print(l)"
   ]
  },
  {
   "cell_type": "code",
   "execution_count": 32,
   "id": "96fa1f44-e1e3-454e-9f2f-66e02bc8e969",
   "metadata": {},
   "outputs": [
    {
     "data": {
      "text/plain": [
       "\"['Python', 'Java', 'C++', 'Perl']\""
      ]
     },
     "execution_count": 32,
     "metadata": {},
     "output_type": "execute_result"
    }
   ],
   "source": [
    "str(l)"
   ]
  },
  {
   "cell_type": "code",
   "execution_count": 33,
   "id": "59dc99e1-f702-480b-9fa4-7ad9954acb6f",
   "metadata": {},
   "outputs": [
    {
     "data": {
      "text/plain": [
       "\"['Python', 'Java', 'C++', 'Perl']\""
      ]
     },
     "execution_count": 33,
     "metadata": {},
     "output_type": "execute_result"
    }
   ],
   "source": [
    "repr(l)"
   ]
  },
  {
   "cell_type": "code",
   "execution_count": 34,
   "id": "0ab01387-4fde-4ecf-8380-e63d85100e73",
   "metadata": {},
   "outputs": [
    {
     "name": "stdout",
     "output_type": "stream",
     "text": [
      "{'a': 3497, 'b': 8011, 'c': 8300}\n"
     ]
    }
   ],
   "source": [
    "d = {\"a\":3497, \"b\":8011, \"c\":8300}\n",
    "print(d)"
   ]
  },
  {
   "cell_type": "code",
   "execution_count": 35,
   "id": "cbb8db8d-4d48-4a77-86d0-f2e218caf4ec",
   "metadata": {},
   "outputs": [
    {
     "data": {
      "text/plain": [
       "\"{'a': 3497, 'b': 8011, 'c': 8300}\""
      ]
     },
     "execution_count": 35,
     "metadata": {},
     "output_type": "execute_result"
    }
   ],
   "source": [
    "str(d)"
   ]
  },
  {
   "cell_type": "code",
   "execution_count": 36,
   "id": "56815058-44e0-481b-a35e-b8847bc5f9dd",
   "metadata": {},
   "outputs": [
    {
     "data": {
      "text/plain": [
       "\"{'a': 3497, 'b': 8011, 'c': 8300}\""
      ]
     },
     "execution_count": 36,
     "metadata": {},
     "output_type": "execute_result"
    }
   ],
   "source": [
    "repr(d)"
   ]
  },
  {
   "cell_type": "code",
   "execution_count": 37,
   "id": "4b4f595b-edc1-4dd1-a114-e40c22d3dbc1",
   "metadata": {},
   "outputs": [
    {
     "data": {
      "text/plain": [
       "'587.78'"
      ]
     },
     "execution_count": 37,
     "metadata": {},
     "output_type": "execute_result"
    }
   ],
   "source": [
    "x = 587.78\n",
    "str(x)"
   ]
  },
  {
   "cell_type": "code",
   "execution_count": 38,
   "id": "05c43ea9-ea55-48e2-9c75-b1f42b91a54f",
   "metadata": {},
   "outputs": [
    {
     "data": {
      "text/plain": [
       "'587.78'"
      ]
     },
     "execution_count": 38,
     "metadata": {},
     "output_type": "execute_result"
    }
   ],
   "source": [
    "repr(x)"
   ]
  },
  {
   "cell_type": "markdown",
   "id": "378e97ed-4d2b-4274-b1f0-b61061ba0f06",
   "metadata": {},
   "source": [
    "Si vous appliquez __str__ ou __repr__ à un objet, Python recherche une méthode correspondante ```__str__``` ou ```__repr__``` dans la définition de la classe de l'objet. Si la méthode existe, elle sera appelée. Dans l'exemple suivant, nous définissons une classe A, n'ayant ni méthode ```__str__``` ni ```__repr__```. Nous voulons voir, ce qui se passe, si nous utilisons print directement sur une instance de cette classe, ou si nous appliquons str ou repr à cette instance :"
   ]
  },
  {
   "cell_type": "code",
   "execution_count": 39,
   "id": "36fafb6d-aae0-461d-8f7b-51106a2db06b",
   "metadata": {},
   "outputs": [
    {
     "name": "stdout",
     "output_type": "stream",
     "text": [
      "<__main__.A object at 0x10f7eedd0>\n"
     ]
    }
   ],
   "source": [
    "class A:\n",
    "    pass\n",
    "\n",
    "a = A()\n",
    "print(a)"
   ]
  },
  {
   "cell_type": "code",
   "execution_count": 40,
   "id": "610da809-77b4-4bdb-81b3-54c74db88f13",
   "metadata": {},
   "outputs": [
    {
     "name": "stdout",
     "output_type": "stream",
     "text": [
      "<__main__.A object at 0x10f7eedd0>\n"
     ]
    }
   ],
   "source": [
    "print(repr(a))"
   ]
  },
  {
   "cell_type": "code",
   "execution_count": 41,
   "id": "e4b95401-1c93-4bcd-873b-0cb702f280b6",
   "metadata": {},
   "outputs": [
    {
     "name": "stdout",
     "output_type": "stream",
     "text": [
      "<__main__.A object at 0x10f7eedd0>\n"
     ]
    }
   ],
   "source": [
    "print(str(a))"
   ]
  },
  {
   "cell_type": "code",
   "execution_count": 42,
   "id": "6cbb2a22-83c3-4144-af02-46147b15d4e7",
   "metadata": {},
   "outputs": [
    {
     "data": {
      "text/plain": [
       "<__main__.A at 0x10f7eedd0>"
      ]
     },
     "execution_count": 42,
     "metadata": {},
     "output_type": "execute_result"
    }
   ],
   "source": [
    "a "
   ]
  },
  {
   "cell_type": "markdown",
   "id": "e4065c63-96e6-4d8d-a8d8-f11e005a8ebe",
   "metadata": {},
   "source": [
    "Comme les deux méthodes ne sont pas disponibles, Python utilise la sortie par défaut pour notre objet \"a\".\n",
    "\n",
    "Si une classe possède une méthode ```__str__```, cette méthode sera utilisée pour une instance x de cette classe, si la fonction ```str``` lui est appliquée ou si elle est utilisée dans une fonction print. ```__str__``` ne sera pas utilisée, si ```repr``` est appelée, ou si nous essayons de sortir la valeur directement dans un shell Python interactif :"
   ]
  },
  {
   "cell_type": "code",
   "execution_count": 43,
   "id": "2eee3493-e0a6-48c7-8aee-c62a1b17932a",
   "metadata": {},
   "outputs": [
    {
     "name": "stdout",
     "output_type": "stream",
     "text": [
      "<__main__.A object at 0x10f7b7350>\n"
     ]
    }
   ],
   "source": [
    "class A:\n",
    "    def __str__(self):\n",
    "        return \"42\"\n",
    "    \n",
    "a = A()\n",
    "print(repr(a))"
   ]
  },
  {
   "cell_type": "code",
   "execution_count": 44,
   "id": "a325a00e-6c26-44be-b85f-5df6fe9cdc91",
   "metadata": {},
   "outputs": [
    {
     "name": "stdout",
     "output_type": "stream",
     "text": [
      "42\n"
     ]
    }
   ],
   "source": [
    "print(str(a))"
   ]
  },
  {
   "cell_type": "markdown",
   "id": "dd3a2141-93a2-452d-bf1a-3b238c820c65",
   "metadata": {},
   "source": [
    "Sinon, si une classe ne possède que la méthode ```__repr__``` et aucune méthode ```__str__```, ```__repr__``` sera appliquée dans les situations où ```__str__``` serait appliquée, si elle était disponible :"
   ]
  },
  {
   "cell_type": "code",
   "execution_count": 45,
   "id": "1c3c75eb-d7ba-4743-ad63-f210aa58b684",
   "metadata": {},
   "outputs": [
    {
     "name": "stdout",
     "output_type": "stream",
     "text": [
      "42\n",
      "42\n"
     ]
    },
    {
     "data": {
      "text/plain": [
       "42"
      ]
     },
     "execution_count": 45,
     "metadata": {},
     "output_type": "execute_result"
    }
   ],
   "source": [
    "class A:\n",
    "    def __repr__(self):\n",
    "        return \"42\"\n",
    "a = A()\n",
    "print(repr(a))\n",
    "print(str(a))\n",
    "a"
   ]
  },
  {
   "cell_type": "markdown",
   "id": "387427bb-3100-44c8-9cc5-f3a1a87a0ca1",
   "metadata": {},
   "source": [
    "Une question fréquemment posée est de savoir quand utiliser ```__repr__``` et quand ```__str__```. ```__str__``` est toujours le bon choix, si la sortie doit être destinée à l'utilisateur final ou, en d'autres termes, si elle doit être joliment imprimée. ```__repr__```, quant à elle, est utilisée pour la représentation interne d'un objet. La sortie de ```__repr__``` doit être - si possible - une chaîne de caractères qui peut être analysée par l'interpréteur python. Le résultat de cette analyse syntaxique est un objet égal. C'est-à-dire que ce qui suit devrait être vrai pour un objet \"o\" :\n",
    "```python\n",
    " o == eval(repr(o)) \n",
    "```\n",
    " \n",
    "Ceci est illustré dans la session Python interactive suivante :"
   ]
  },
  {
   "cell_type": "code",
   "execution_count": 46,
   "id": "4c5208df-93fd-411f-8e18-d83fec1333b1",
   "metadata": {},
   "outputs": [
    {
     "data": {
      "text/plain": [
       "'[3, 8, 9]'"
      ]
     },
     "execution_count": 46,
     "metadata": {},
     "output_type": "execute_result"
    }
   ],
   "source": [
    "l = [3,8,9]\n",
    "s = repr(l)\n",
    "s"
   ]
  },
  {
   "cell_type": "code",
   "execution_count": 47,
   "id": "2ab30058-8ded-4cf3-8573-ea98970a1251",
   "metadata": {},
   "outputs": [
    {
     "data": {
      "text/plain": [
       "True"
      ]
     },
     "execution_count": 47,
     "metadata": {},
     "output_type": "execute_result"
    }
   ],
   "source": [
    "l == eval(s)"
   ]
  },
  {
   "cell_type": "code",
   "execution_count": 48,
   "id": "9ab27b22-5dea-4803-ac52-a59fd674022f",
   "metadata": {},
   "outputs": [
    {
     "data": {
      "text/plain": [
       "True"
      ]
     },
     "execution_count": 48,
     "metadata": {},
     "output_type": "execute_result"
    }
   ],
   "source": [
    "l == eval(str(l))"
   ]
  },
  {
   "cell_type": "markdown",
   "id": "5dfc9977-26f8-49f8-b62b-1fc6fe1d6512",
   "metadata": {},
   "source": [
    "Nous montrons dans l'exemple suivant avec le module ```datetime``` que eval ne peut être appliqué que sur les chaînes de caractères créées par ```repr``` :"
   ]
  },
  {
   "cell_type": "code",
   "execution_count": 49,
   "id": "5519e397-5de5-4397-8951-d77487401a58",
   "metadata": {},
   "outputs": [
    {
     "ename": "SyntaxError",
     "evalue": "leading zeros in decimal integer literals are not permitted; use an 0o prefix for octal integers (<string>, line 1)",
     "output_type": "error",
     "traceback": [
      "Traceback \u001b[0;36m(most recent call last)\u001b[0m:\n",
      "\u001b[0m  File \u001b[1;32m~/.local/lib/python3.11/site-packages/IPython/core/interactiveshell.py:3442\u001b[0m in \u001b[1;35mrun_code\u001b[0m\n    exec(code_obj, self.user_global_ns, self.user_ns)\u001b[0m\n",
      "\u001b[0;36m  Cell \u001b[0;32mIn[49], line 4\u001b[0;36m\n\u001b[0;31m    eval(str_s)\u001b[0;36m\n",
      "\u001b[0;36m  File \u001b[0;32m<string>:1\u001b[0;36m\u001b[0m\n\u001b[0;31m    2023-02-05 07:06:12.580360\u001b[0m\n\u001b[0m         ^\u001b[0m\n\u001b[0;31mSyntaxError\u001b[0m\u001b[0;31m:\u001b[0m leading zeros in decimal integer literals are not permitted; use an 0o prefix for octal integers\n"
     ]
    }
   ],
   "source": [
    "import datetime\n",
    "\n",
    "today = datetime.datetime.now()\n",
    "str_s = str(today)\n",
    "eval(str_s)"
   ]
  },
  {
   "cell_type": "code",
   "execution_count": 50,
   "id": "c71cafb2-3baa-4c32-9429-c975a1730849",
   "metadata": {},
   "outputs": [
    {
     "data": {
      "text/plain": [
       "datetime.datetime"
      ]
     },
     "execution_count": 50,
     "metadata": {},
     "output_type": "execute_result"
    }
   ],
   "source": [
    "repr_s = repr(today)\n",
    "t = eval(repr_s)\n",
    "type(t)"
   ]
  },
  {
   "cell_type": "markdown",
   "id": "8013a757-2aab-41e3-be4b-ee56ec44784b",
   "metadata": {},
   "source": [
    "Nous pouvons voir que ```eval(repr_s)``` renvoie à nouveau un objet ```datetime.datetime```. La chaîne créée par ```str``` ne peut pas être transformée en un objet ```datetime.datetime``` en l'analysant.\n",
    "\n",
    "Nous allons étendre notre classe de robot avec une méthode ```repr```. Nous avons laissé tomber les autres méthodes pour garder cet exemple simple :"
   ]
  },
  {
   "cell_type": "code",
   "execution_count": 51,
   "id": "fa292bed-8ad6-4d07-b73a-697ca80dea72",
   "metadata": {},
   "outputs": [
    {
     "name": "stdout",
     "output_type": "stream",
     "text": [
      "Robot('Marvin', 1979)\n",
      "Type of x_str:  <class 'str'>\n",
      "Robot('Marvin', 1979)\n",
      "Type of new: <class '__main__.Robot'>\n"
     ]
    }
   ],
   "source": [
    "class Robot:\n",
    "    \n",
    "    def __init__(self, name, build_year):\n",
    "        self.name = name\n",
    "        self.build_year = build_year\n",
    "        \n",
    "    def __repr__(self):\n",
    "        return \"Robot('\" + self.name + \"', \" +  str(self.build_year) +  \")\"\n",
    "    \n",
    "if __name__ == \"__main__\":\n",
    "    x = Robot(\"Marvin\", 1979)\n",
    "    x_str = str(x)\n",
    "    print(x_str)\n",
    "    print(\"Type of x_str: \", type(x_str))\n",
    "    new = eval(x_str) \n",
    "    print(new)\n",
    "    print(\"Type of new:\", type(new))"
   ]
  },
  {
   "cell_type": "markdown",
   "id": "4cf62b70-9ba5-475d-a2cc-a782482b8646",
   "metadata": {},
   "source": [
    "```x_str``` a la valeur ```Robot('Marvin', 1979```. ```eval(x_str)``` le convertit à nouveau en une instance de```Robot```.\n",
    "\n",
    "Il est maintenant temps d'étendre notre classe avec une méthode ```__str__``` conviviale :"
   ]
  },
  {
   "cell_type": "code",
   "execution_count": 1,
   "id": "c9ce5042-b599-40ac-a4ca-3f8aff924a97",
   "metadata": {},
   "outputs": [
    {
     "name": "stdout",
     "output_type": "stream",
     "text": [
      "Name: Marvin, Build Year: 1979\n",
      "Type of x_str:  <class 'str'>\n"
     ]
    },
    {
     "ename": "SyntaxError",
     "evalue": "invalid syntax (<string>, line 1)",
     "output_type": "error",
     "traceback": [
      "Traceback \u001b[0;36m(most recent call last)\u001b[0m:\n",
      "\u001b[0m  File \u001b[1;32m~/.local/lib/python3.11/site-packages/IPython/core/interactiveshell.py:3442\u001b[0m in \u001b[1;35mrun_code\u001b[0m\n    exec(code_obj, self.user_global_ns, self.user_ns)\u001b[0m\n",
      "\u001b[0;36m  Cell \u001b[0;32mIn[1], line 17\u001b[0;36m\n\u001b[0;31m    new = eval(x_str)\u001b[0;36m\n",
      "\u001b[0;36m  File \u001b[0;32m<string>:1\u001b[0;36m\u001b[0m\n\u001b[0;31m    Name: Marvin, Build Year: 1979\u001b[0m\n\u001b[0m        ^\u001b[0m\n\u001b[0;31mSyntaxError\u001b[0m\u001b[0;31m:\u001b[0m invalid syntax\n"
     ]
    }
   ],
   "source": [
    "class Robot:\n",
    "    def __init__(self, name, build_year):\n",
    "        self.name = name\n",
    "        self.build_year = build_year\n",
    "        \n",
    "    def __repr__(self):\n",
    "        return \"Robot('\" + self.name + \"', \" +  str(self.build_year) +  \")\"\n",
    "    \n",
    "    def __str__(self):\n",
    "        return \"Name: \" + self.name + \", Build Year: \" +  str(self.build_year)\n",
    "    \n",
    "if __name__ == \"__main__\":\n",
    "    x = Robot(\"Marvin\", 1979)\n",
    "    x_str = str(x)\n",
    "    print(x_str)\n",
    "    print(\"Type of x_str: \", type(x_str))\n",
    "    new = eval(x_str)\n",
    "    print(new)\n",
    "    print(\"Type of new:\", type(new))"
   ]
  },
  {
   "cell_type": "markdown",
   "id": "967708b1-7fe6-4491-b0b7-29cedc027600",
   "metadata": {},
   "source": [
    "Lorsque nous lançons ce programme, nous pouvons constater qu'il n'est plus possible de convertir notre ```chaîne x_str```, créée via ```str(x)```, en un objet Robot.\n",
    "\n",
    "Nous montrons dans le programme suivant que ```x_repr``` peut toujours être transformé en un objet Robot :"
   ]
  },
  {
   "cell_type": "code",
   "execution_count": 54,
   "id": "ed892272-71a8-480e-87d6-ce13b882ab52",
   "metadata": {},
   "outputs": [
    {
     "name": "stdout",
     "output_type": "stream",
     "text": [
      "Robot(\"Marvin\",1979) <class 'str'>\n",
      "Name: Marvin, Build Year: 1979\n",
      "Type of new: <class '__main__.Robot'>\n"
     ]
    }
   ],
   "source": [
    "class Robot:\n",
    "    \n",
    "    def __init__(self, name, build_year):\n",
    "        self.name = name\n",
    "        self.build_year = build_year\n",
    "        \n",
    "    def __repr__(self):\n",
    "        return \"Robot(\\\"\" + self.name + \"\\\",\" +  str(self.build_year) +  \")\"\n",
    "    \n",
    "    def __str__(self):\n",
    "        return \"Name: \" + self.name + \", Build Year: \" +  str(self.build_year)\n",
    "    \n",
    "    \n",
    "if __name__ == \"__main__\":\n",
    "    x = Robot(\"Marvin\", 1979)\n",
    "    x_repr = repr(x)\n",
    "    print(x_repr, type(x_repr))\n",
    "    new = eval(x_repr)\n",
    "    print(new)\n",
    "    print(\"Type of new:\", type(new))"
   ]
  },
  {
   "cell_type": "markdown",
   "id": "bb5200eb-31dc-4e90-8e1b-3ac41707eff0",
   "metadata": {},
   "source": [
    "## Attributs publics, - protégés - et privés\n",
    "\n",
    "<center><img src=\"img/attributs.png\" width=\"20%\"></center>\n",
    "\n",
    "Qui ne connaît pas ces fermiers à la gâchette facile dans les films. Tirant dès que quelqu'un entre dans leur propriété. Ce \"quelqu'un\" a bien sûr négligé le panneau \"no trespassing\", indiquant que le terrain est une propriété privée. Peut-être n'a-t-il pas vu le panneau, peut-être le panneau est-il difficile à voir ? Imaginez un joggeur qui court le même parcours cinq fois par semaine pendant plus d'un an, mais qui reçoit une amende de 50 dollars pour intrusion dans les Winchester Fells. L'intrusion est une infraction pénale dans le Massachusetts. Il était de toute façon innocent, car la signalisation était inadéquate dans la région.\n",
    "\n",
    "Même si les panneaux d'interdiction d'accès et les lois strictes protègent les propriétés privées, certains entourent leur propriété de clôtures pour éloigner les \"visiteurs\" indésirables. La clôture doit-elle retenir le chien dans la cour ou le cambrioleur dans la rue ? Choisissez votre clôture : Clôture en panneaux de bois, clôture à poteaux et grilles, clôture en mailles de chaîne avec ou sans fil barbelé, etc.\n",
    "\n",
    "Une situation similaire se présente lors de la conception de langages de programmation orientés objet. La première décision à prendre est de savoir comment protéger les données qui doivent être privées. La deuxième décision est de savoir ce qu'il faut faire en cas d'intrusion, c'est-à-dire d'accès ou de modification de données privées. Bien sûr, les données privées peuvent être protégées de manière à ce qu'il soit impossible d'y accéder en toutes circonstances. Cela n'est guère possible dans la pratique, comme le veut le vieil adage \"Quand on veut, on peut\" !\n",
    "\n",
    "<center><img src=\"img/danger.png\" width=\"20%\"></center>\n",
    "\n",
    "Certains propriétaires autorisent un accès restreint à leur propriété. Les joggeurs ou les randonneurs peuvent trouver des panneaux comme \"Entrez à vos risques et périls\". Un troisième type de propriété peut être la propriété publique, comme les rues ou les parcs, où il est parfaitement légal de se trouver.\n",
    "\n",
    "Nous retrouvons la même classification dans la programmation orientée objet :\n",
    "\n",
    "- Les attributs privés ne doivent être utilisés que par leur propriétaire, c'est-à-dire à l'intérieur de la définition de la classe elle-même.\n",
    "- Les attributs protégés (restreints) peuvent être utilisés, mais à vos risques et périls. Essentiellement, ils ne doivent être utilisés que dans certaines conditions.\n",
    "- Les attributs publics peuvent et doivent être utilisés librement.\n",
    "\n",
    "\n",
    "Python utilise un schéma de dénomination spécial pour les attributs afin de contrôler l'accessibilité de ces derniers. Jusqu'à présent, nous avons utilisé des noms d'attributs, qui peuvent être utilisés librement à l'intérieur ou à l'extérieur d'une définition de classe, comme nous l'avons vu. Cela correspond bien sûr aux attributs publics. Il existe deux façons de restreindre l'accès aux attributs de classe :\n",
    "\n",
    "- Premièrement, nous pouvons préfixer le nom d'un attribut par un trait de soulignement \"_\". Cela indique que l'attribut est protégé. Cela indique aux utilisateurs de la classe de ne pas utiliser cet attribut, sauf s'ils écrivent une sous-classe. Nous apprendrons à connaître l'héritage et la sous-classe dans le prochain chapitre de notre tutoriel.\n",
    "- Deuxièmement, nous pouvons préfixer le nom d'un attribut avec deux traits de soulignement en tête \"\\_\\_\". L'attribut est alors inaccessible et invisible de l'extérieur. Il n'est pas possible de lire ou d'écrire sur ces attributs, sauf à l'intérieur de la définition de la classe elle-même*.\n",
    "\n",
    "\n",
    "Pour résumer les types d'attributs :\n",
    "\n",
    "|Nom | Type | Signification |\n",
    "|:-:|:-:|:--|\n",
    "name|Public|Ces attributs peuvent être utilisés librement à l'intérieur ou à l'extérieur d'une définition de classe.|\n",
    "|\\_name|Protected|Protected attributes should not be used outside the class definition, unless inside a subclass definition.|\n",
    "|\\_\\_name|Private|Ce type d'attribut est inaccessible et invisible. Il n'est pas possible de lire ou d'écrire sur ces attributs, sauf à l'intérieur de la définition de la classe elle-même.|\n"
   ]
  },
  {
   "cell_type": "code",
   "execution_count": 4,
   "id": "6cf0a93d-9056-4bfd-a807-d0c05dee75ee",
   "metadata": {},
   "outputs": [],
   "source": [
    "class A():\n",
    "    def __init__(self):\n",
    "        self.__priv = \"I am private\"\n",
    "        self._prot = \"I am protected\"\n",
    "        self.pub = \"I am public\""
   ]
  },
  {
   "cell_type": "markdown",
   "id": "c0bff91a-be20-48dd-945a-2007661f7e3b",
   "metadata": {},
   "source": [
    "Nous enregistrons cette classe ```attribute_tests.py``` et testons son comportement dans le shell Python interactif suivant :"
   ]
  },
  {
   "cell_type": "code",
   "execution_count": 5,
   "id": "a1c16e2d-1e14-4a71-8c11-11c284a5726b",
   "metadata": {},
   "outputs": [
    {
     "data": {
      "text/plain": [
       "'I am public'"
      ]
     },
     "execution_count": 5,
     "metadata": {},
     "output_type": "execute_result"
    }
   ],
   "source": [
    "x = A()\n",
    "x.pub"
   ]
  },
  {
   "cell_type": "code",
   "execution_count": 6,
   "id": "51506c1a-0784-4dd8-82a9-e5dedfa8f26b",
   "metadata": {},
   "outputs": [
    {
     "data": {
      "text/plain": [
       "'I am public and my value can be changed'"
      ]
     },
     "execution_count": 6,
     "metadata": {},
     "output_type": "execute_result"
    }
   ],
   "source": [
    "x.pub = x.pub + \" and my value can be changed\"\n",
    "x.pub"
   ]
  },
  {
   "cell_type": "code",
   "execution_count": 7,
   "id": "b08be112-e3d8-4b42-bad4-5e86bfaadf0b",
   "metadata": {},
   "outputs": [
    {
     "data": {
      "text/plain": [
       "'I am protected'"
      ]
     },
     "execution_count": 7,
     "metadata": {},
     "output_type": "execute_result"
    }
   ],
   "source": [
    "x._prot"
   ]
  },
  {
   "cell_type": "code",
   "execution_count": 15,
   "id": "b0a8aa49-6b36-48d6-86cc-b5bb92727f41",
   "metadata": {},
   "outputs": [
    {
     "ename": "AttributeError",
     "evalue": "'A' object has no attribute '__priv'",
     "output_type": "error",
     "traceback": [
      "\u001b[0;31m---------------------------------------------------------------------------\u001b[0m",
      "\u001b[0;31mAttributeError\u001b[0m                            Traceback (most recent call last)",
      "Cell \u001b[0;32mIn[15], line 1\u001b[0m\n\u001b[0;32m----> 1\u001b[0m \u001b[43mx\u001b[49m\u001b[38;5;241;43m.\u001b[39;49m\u001b[43m__priv\u001b[49m\n",
      "\u001b[0;31mAttributeError\u001b[0m: 'A' object has no attribute '__priv'"
     ]
    }
   ],
   "source": [
    "x.__priv"
   ]
  },
  {
   "cell_type": "markdown",
   "id": "2f250e7a-7259-4c08-b45d-7129c0d01626",
   "metadata": {},
   "source": [
    "Le message d'erreur est très intéressant. On aurait pu s'attendre à un message du type ```__priv is private```. Nous obtenons le message ```AttributeError : 'A' object has no attribute __pri```, qui ressemble à un \"mensonge\". Cet attribut existe, mais on nous dit qu'il n'existe pas. Il s'agit d'une dissimulation parfaite de l'information. Dire à un utilisateur que le nom d'un attribut est privé, signifie que nous rendons certaines informations visibles, c'est-à-dire l'existence ou la non-existence d'une variable privée.\n",
    "\n",
    "Notre prochaine tâche consiste à réécrire notre classe ```Robot```. Bien que nous ayons des méthodes __Getter__ et __Setter__ pour le nom et l'année de construction, nous pouvons également accéder directement aux attributs, car nous les avons définis comme des attributs publics. L'encapsulation des données signifie que nous ne devrions pouvoir accéder aux attributs privés que par le biais de __getters__ et __setters__.\n",
    "\n",
    "Nous devons remplacer chaque occurrence de ```self.name``` et ```self.build_year``` par```self.__name``` et ```self.__build_year```.\n",
    "\n",
    "Le listing de notre classe révisée `\n"
   ]
  },
  {
   "cell_type": "code",
   "execution_count": 61,
   "id": "728d4e25-6847-4c41-b32a-75d8266b8d6b",
   "metadata": {},
   "outputs": [
    {
     "name": "stdout",
     "output_type": "stream",
     "text": [
      "Hi, I am Marvin\n",
      "I was built in the year 1979!\n",
      "Hi, I am Caliban\n",
      "I was built in the year 1993!\n"
     ]
    }
   ],
   "source": [
    "class Robot:\n",
    "    \n",
    "    def __init__(self, name=None, build_year=2000):\n",
    "        self.__name = name\n",
    "        self.__build_year = build_year\n",
    "        \n",
    "    def say_hi(self):\n",
    "        if self.__name:\n",
    "            print(\"Hi, I am \" + self.__name)\n",
    "        else:\n",
    "            print(\"Hi, I am a robot without a name\")\n",
    "            \n",
    "    def set_name(self, name):\n",
    "        self.__name = name\n",
    "        \n",
    "    def get_name(self):\n",
    "        return self.__name  \n",
    "    \n",
    "    def set_build_year(self, by):\n",
    "        self.__build_year = by\n",
    "        \n",
    "    def get_build_year(self):\n",
    "        return self.__build_year  \n",
    "    \n",
    "    def __repr__(self):\n",
    "        return \"Robot('\" + self.__name + \"', \" +  str(self.__build_year) +  \")\"\n",
    "    \n",
    "    def __str__(self):\n",
    "        return \"Name: \" + self.__name + \", Build Year: \" +  str(self.__build_year)\n",
    "    \n",
    "if __name__ == \"__main__\":\n",
    "    x = Robot(\"Marvin\", 1979)\n",
    "    y = Robot(\"Caliban\", 1943)\n",
    "    for rob in [x, y]:\n",
    "        rob.say_hi()\n",
    "        if rob.get_name() == \"Caliban\":\n",
    "            rob.set_build_year(1993)\n",
    "        print(\"I was built in the year \" + str(rob.get_build_year()) + \"!\")"
   ]
  },
  {
   "cell_type": "markdown",
   "id": "c8c53187-f7ac-45dc-87aa-6da0b5a9e545",
   "metadata": {},
   "source": [
    "Chaque attribut privé de notre classe a un __getter__ et un __setter__. Il existe des IDE pour les langages de programmation orientés objet, qui fournissent automatiquement des getters et des setters pour chaque attribut privé dès qu'un attribut est créé.\n",
    "\n",
    "Cela peut ressembler à la classe suivante :\n",
    "\n",
    "```python\n",
    "class A():\n",
    "    def __init__(self, x, y):\n",
    "        self.__x = x\n",
    "        self.__y = y\n",
    "    def GetX(self):\n",
    "        return self.__x\n",
    "    def GetY(self):\n",
    "        return self.__y\n",
    "    def SetX(self, x):\n",
    "        self.__x = x\n",
    "    def SetY(self, y):\n",
    "        self.__y = y\n",
    "```\n",
    "\n",
    "Il existe au moins deux bonnes raisons de ne pas adopter une telle approche. Tout d'abord, tous les attributs privés n'ont pas besoin d'être accessibles de l'extérieur. Deuxièmement, nous allons créer du code non pythonique de cette façon, comme vous l'apprendrez bientôt.\n",
    "\n",
    "## Destructeur\n",
    "\n",
    "Ce que nous avons dit à propos des constructeurs est également vrai pour les destructeurs. Il n'existe pas de \"vrai\" destructeur, mais quelque chose de similaire, à savoir la méthode ```__del__```. Elle est appelée lorsque l'instance est sur le point d'être détruite et s'il n'existe aucune autre référence à cette instance. Si une classe de base possède une méthode ```__del__()```, la méthode```__del__()``` de la classe dérivée, s'il y en a une, doit explicitement l'appeler pour assurer la suppression correcte de la partie de la classe de base de l'instance.\n",
    "\n",
    "Le script suivant est un exemple avec```__init__``` et ```__del__``` :"
   ]
  },
  {
   "cell_type": "code",
   "execution_count": 62,
   "id": "abcfa1ee-5d45-4ee9-b367-151cf99f3062",
   "metadata": {},
   "outputs": [
    {
     "name": "stdout",
     "output_type": "stream",
     "text": [
      "Tik-Tok has been created!\n",
      "Jenkins has been created!\n",
      "Deleting x\n",
      "Deleting z\n",
      "Robot has been destroyed\n",
      "Robot has been destroyed\n"
     ]
    }
   ],
   "source": [
    "class Robot():\n",
    "    \n",
    "    def __init__(self, name):\n",
    "        print(name + \" has been created!\")\n",
    "        \n",
    "    def __del__(self):\n",
    "        print (\"Robot has been destroyed\")\n",
    "        \n",
    "if __name__ == \"__main__\":\n",
    "    x = Robot(\"Tik-Tok\")\n",
    "    y = Robot(\"Jenkins\")\n",
    "    z = x\n",
    "    print(\"Deleting x\")\n",
    "    del x\n",
    "    print(\"Deleting z\")\n",
    "    del z\n",
    "    del y"
   ]
  },
  {
   "cell_type": "markdown",
   "id": "47cb51fd-8214-4f99-bb7a-a5e3c1057c85",
   "metadata": {},
   "source": [
    "L'utilisation de la méthode ```__del__``` est très problématique. Si nous modifions le code précédent pour personnaliser la suppression d'un robot, nous créons une erreur :"
   ]
  },
  {
   "cell_type": "code",
   "execution_count": 63,
   "id": "0f453698-53e3-4fdd-8759-f64e301dc30f",
   "metadata": {},
   "outputs": [
    {
     "name": "stderr",
     "output_type": "stream",
     "text": [
      "Exception ignored in: <function Robot.__del__ at 0x10f3a7b00>\n",
      "Traceback (most recent call last):\n",
      "  File \"/var/folders/gp/hcjxzfyd3yj3yq_dyvblymph0000gn/T/ipykernel_8562/431906670.py\", line 7, in __del__\n",
      "AttributeError: 'Robot' object has no attribute 'name'\n",
      "Exception ignored in: <function Robot.__del__ at 0x10f3a7b00>\n",
      "Traceback (most recent call last):\n",
      "  File \"/var/folders/gp/hcjxzfyd3yj3yq_dyvblymph0000gn/T/ipykernel_8562/431906670.py\", line 7, in __del__\n",
      "AttributeError: 'Robot' object has no attribute 'name'\n"
     ]
    },
    {
     "name": "stdout",
     "output_type": "stream",
     "text": [
      "Tik-Tok has been created!\n",
      "Jenkins has been created!\n",
      "Deleting x\n",
      "Deleting z\n"
     ]
    }
   ],
   "source": [
    "class Robot():\n",
    "    \n",
    "    def __init__(self, name):\n",
    "        print(name + \" has been created!\")\n",
    "        \n",
    "    def __del__(self):\n",
    "        print (self.name + \" says bye-bye!\")\n",
    "        \n",
    "if __name__ == \"__main__\":\n",
    "    x = Robot(\"Tik-Tok\")\n",
    "    y = Robot(\"Jenkins\")\n",
    "    z = x\n",
    "    print(\"Deleting x\")\n",
    "    del x\n",
    "    print(\"Deleting z\")\n",
    "    del z\n",
    "    del y"
   ]
  },
  {
   "cell_type": "markdown",
   "id": "bcf8070f-9273-47eb-808d-21573466b6eb",
   "metadata": {},
   "source": [
    "Nous accédons à un attribut qui n'existe plus. Nous apprendrons plus tard pourquoi c'est le cas."
   ]
  },
  {
   "cell_type": "code",
   "execution_count": null,
   "id": "0d8238ad-a06d-4b29-83a3-052860ba8edc",
   "metadata": {},
   "outputs": [],
   "source": []
  }
 ],
 "metadata": {
  "kernelspec": {
   "display_name": "py11",
   "language": "python",
   "name": "py11"
  },
  "language_info": {
   "codemirror_mode": {
    "name": "ipython",
    "version": 3
   },
   "file_extension": ".py",
   "mimetype": "text/x-python",
   "name": "python",
   "nbconvert_exporter": "python",
   "pygments_lexer": "ipython3",
   "version": "3.11.0"
  }
 },
 "nbformat": 4,
 "nbformat_minor": 5
}
