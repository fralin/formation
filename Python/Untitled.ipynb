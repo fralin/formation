{
 "cells": [
  {
   "cell_type": "code",
   "execution_count": null,
   "id": "b16a67d9",
   "metadata": {},
   "outputs": [],
   "source": []
  },
  {
   "cell_type": "markdown",
   "id": "1c647642",
   "metadata": {},
   "source": [
    "<p>Lorem ipsum dolor sit amet. Hic maxime veniam quo perspiciatis nisi sit autem quidem qui molestiae ipsum. Rem facere nostrum aut sint harum ea laboriosam doloribus rem voluptatem voluptatibus? Ut quasi aliquid qui ratione voluptatem ea quod ipsum et nihil quia vel architecto iure eum delectus dolores ea enim porro.<p>\n",
    "\n",
    "Qui fugit harum in voluptatem natus ut ullam fuga ut odit laborum in distinctio obcaecati At suscipit excepturi ut quod tempora. Ut temporibus numquam sed dicta deserunt est iste numquam. Qui placeat fuga eum dolorem aperiam est cumque quasi et necessitatibus sint? Aut numquam unde et maiores illo et atque ducimus sed vero libero.\n",
    "\n",
    "Ut dolores nisi 33 itaque temporibus et veritatis quia aut assumenda facere est omnis mollitia. Ut autem amet eos asperiores debitis qui quasi ducimus? Et omnis temporibus vel alias beatae At similique omnis et rerum velit ut maiores necessitatibus?"
   ]
  },
  {
   "cell_type": "markdown",
   "id": "c32640fb",
   "metadata": {},
   "source": [
    "<iframe src=\"https://www.youtube.com/watch?v=H-Ns3q6LUxo\"></iframe\n",
    "    \n",
    "<iframe width=”560\" height=”315\" src=”https://youtube.com/embed/d1NK83vve6c\"></iframe>"
   ]
  },
  {
   "cell_type": "code",
   "execution_count": null,
   "id": "ee263d8d",
   "metadata": {},
   "outputs": [],
   "source": []
  }
 ],
 "metadata": {
  "kernelspec": {
   "display_name": "Python 3 (ipykernel)",
   "language": "python",
   "name": "python3"
  },
  "language_info": {
   "codemirror_mode": {
    "name": "ipython",
    "version": 3
   },
   "file_extension": ".py",
   "mimetype": "text/x-python",
   "name": "python",
   "nbconvert_exporter": "python",
   "pygments_lexer": "ipython3",
   "version": "3.9.13"
  }
 },
 "nbformat": 4,
 "nbformat_minor": 5
}
