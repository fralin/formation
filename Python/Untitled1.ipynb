{
 "cells": [
  {
   "cell_type": "code",
   "execution_count": null,
   "id": "d21b754c-a1f0-4011-b211-af18df327d79",
   "metadata": {},
   "outputs": [],
   "source": []
  },
  {
   "cell_type": "markdown",
   "id": "f97d02d0-aa32-4a54-982d-37ad3240ad3f",
   "metadata": {},
   "source": [
    "# Emulation d'un type numérique"
   ]
  },
  {
   "cell_type": "code",
   "execution_count": 73,
   "id": "2e177c6d-39b0-4b5c-8405-216985ef19ae",
   "metadata": {},
   "outputs": [],
   "source": [
    "from array import array\n",
    "import math\n",
    "\n",
    "class Vector2D:\n",
    "    typecode = 'd'\n",
    "    \n",
    "    def __init__(self, x, y):\n",
    "        self.x = x\n",
    "        self.y = y\n",
    "        \n",
    "    @property\n",
    "    def x(self):\n",
    "        return self.__x\n",
    "    \n",
    "    @x.setter\n",
    "    def x(self, val):\n",
    "        self.__x = float(val)\n",
    "        \n",
    "    @property\n",
    "    def y(self):\n",
    "        return self.__y\n",
    "    \n",
    "    @y.setter\n",
    "    def y(self, value):\n",
    "        self.__y = float(y)\n",
    "        \n",
    "    def __iter__(self):\n",
    "        return (i for i in (self.__x, self.__y))\n",
    "    \n",
    "    def __repr__(self):\n",
    "        class_name = type(self).__name__\n",
    "        return f\"{class_name}({self.__x}, {self.__y})\"\n",
    "    \n",
    "    def __str__(self):\n",
    "        return str(tuple(self))\n",
    "    \n",
    "    def __bytes__(self):\n",
    "        return bytes([ord(self.typecode)]) + bytes(array(self.typecode, self))\n",
    "    \n",
    "    def __add__(self, other):\n",
    "        return Vector2D(self.__x + other.x, self.__y + other.y)\n",
    "    \n",
    "    def __iadd__(self, other):\n",
    "        self.__x += other.x\n",
    "        self.__y += other.y\n",
    "    \n",
    "    def __mul__ (self, val):\n",
    "        return Vector2D(val*self.__x, val * self.__y) \n",
    "    \n",
    "    def __rmul__(self, val):\n",
    "        return self.__mul__(val)\n",
    "    \n",
    "                \n",
    "    def __eq__(self, other):\n",
    "        return tuple(self)==tuple(other)\n",
    "    \n",
    "    def __abs__(self):\n",
    "        return math.hypot(self.__x, self.__y)\n",
    "                \n",
    "    def __bool__(self):\n",
    "        return bool(abs(self))"
   ]
  },
  {
   "cell_type": "code",
   "execution_count": 74,
   "id": "8cc422ef-695c-4800-9bb1-a36ff0ae7e8c",
   "metadata": {},
   "outputs": [
    {
     "name": "stdout",
     "output_type": "stream",
     "text": [
      "(2.0, 2.0)\n"
     ]
    }
   ],
   "source": [
    "v1 = Vector2D(2,2)\n",
    "print(v1)"
   ]
  },
  {
   "cell_type": "code",
   "execution_count": 62,
   "id": "2a3605d3-4795-4624-80bb-d6aca29de206",
   "metadata": {},
   "outputs": [
    {
     "data": {
      "text/plain": [
       "2.8284271247461903"
      ]
     },
     "execution_count": 62,
     "metadata": {},
     "output_type": "execute_result"
    }
   ],
   "source": [
    "abs(v1)"
   ]
  },
  {
   "cell_type": "code",
   "execution_count": 63,
   "id": "768642ad-e147-4540-bf6d-999f8f402a46",
   "metadata": {},
   "outputs": [
    {
     "name": "stdout",
     "output_type": "stream",
     "text": [
      "(2.0, 2.0)\n"
     ]
    }
   ],
   "source": [
    "print(v1)"
   ]
  },
  {
   "cell_type": "code",
   "execution_count": 64,
   "id": "130776c6-cf53-4d83-a27f-df99d99a600f",
   "metadata": {},
   "outputs": [
    {
     "name": "stdout",
     "output_type": "stream",
     "text": [
      "<bound method Vector2D.__repr__ of Vector2D(2.0, 2.0)>\n"
     ]
    }
   ],
   "source": [
    "print(v1.__repr__)"
   ]
  },
  {
   "cell_type": "code",
   "execution_count": 65,
   "id": "84e83884-a46c-414f-af71-c85b9f5894e2",
   "metadata": {},
   "outputs": [
    {
     "data": {
      "text/plain": [
       "b'd\\x00\\x00\\x00\\x00\\x00\\x00\\x00@\\x00\\x00\\x00\\x00\\x00\\x00\\x00@'"
      ]
     },
     "execution_count": 65,
     "metadata": {},
     "output_type": "execute_result"
    }
   ],
   "source": [
    "bytes(v1)"
   ]
  },
  {
   "cell_type": "code",
   "execution_count": 66,
   "id": "30d92f7e-235f-46a1-b1e9-435074c5afb0",
   "metadata": {},
   "outputs": [
    {
     "name": "stdout",
     "output_type": "stream",
     "text": [
      "2\n"
     ]
    }
   ],
   "source": [
    "x = 1\n",
    "x += 1\n",
    "print(x)"
   ]
  },
  {
   "cell_type": "code",
   "execution_count": 67,
   "id": "6ee12892-a55f-46f7-8177-6997c2a428de",
   "metadata": {},
   "outputs": [
    {
     "name": "stdout",
     "output_type": "stream",
     "text": [
      "(4.0, 4.0)\n"
     ]
    }
   ],
   "source": [
    "print(v1*2)"
   ]
  },
  {
   "cell_type": "code",
   "execution_count": 68,
   "id": "fb716915-7ae0-4db2-a34c-5596ecbc39ec",
   "metadata": {},
   "outputs": [
    {
     "name": "stdout",
     "output_type": "stream",
     "text": [
      "(4.0, 4.0)\n"
     ]
    }
   ],
   "source": [
    "print(2*v1)"
   ]
  },
  {
   "cell_type": "code",
   "execution_count": 69,
   "id": "f8c11d61-c1af-4029-81d3-f03e11230432",
   "metadata": {},
   "outputs": [
    {
     "data": {
      "text/plain": [
       "2.0"
      ]
     },
     "execution_count": 69,
     "metadata": {},
     "output_type": "execute_result"
    }
   ],
   "source": [
    "v1.x"
   ]
  },
  {
   "cell_type": "code",
   "execution_count": 70,
   "id": "93592e12-5d3e-4d39-8101-a3564d8b1fdd",
   "metadata": {},
   "outputs": [],
   "source": [
    "v1.x = 3"
   ]
  },
  {
   "cell_type": "code",
   "execution_count": 71,
   "id": "202efb76-7a9c-45b8-bf46-42a82f917fa8",
   "metadata": {},
   "outputs": [
    {
     "data": {
      "text/plain": [
       "Vector2D(3.0, 2.0)"
      ]
     },
     "execution_count": 71,
     "metadata": {},
     "output_type": "execute_result"
    }
   ],
   "source": [
    "v1"
   ]
  },
  {
   "cell_type": "code",
   "execution_count": null,
   "id": "315b14e1-ca16-41a6-98da-1e953dde7656",
   "metadata": {},
   "outputs": [],
   "source": []
  }
 ],
 "metadata": {
  "kernelspec": {
   "display_name": "py11",
   "language": "python",
   "name": "py11"
  },
  "language_info": {
   "codemirror_mode": {
    "name": "ipython",
    "version": 3
   },
   "file_extension": ".py",
   "mimetype": "text/x-python",
   "name": "python",
   "nbconvert_exporter": "python",
   "pygments_lexer": "ipython3",
   "version": "3.11.0"
  }
 },
 "nbformat": 4,
 "nbformat_minor": 5
}
