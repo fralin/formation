{
 "cells": [
  {
   "cell_type": "markdown",
   "id": "73a283c0-5b6c-4d62-bcf3-3d8d4b0a744d",
   "metadata": {},
   "source": [
    "# Attributs de classe et attributs d'instance\n",
    "\n",
    "## Attributs de classe\n",
    "\n",
    "Les attributs d'instance appartiennent aux instances spécifiques d'une classe. C'est-à-dire que pour deux instances différentes, les attributs d'instance sont généralement différents. Vous devriez maintenant être familier avec ce concept que nous avons introduit dans notre chapitre précédent.\n",
    "\n",
    "Nous pouvons également définir des attributs au niveau de la classe. Les attributs de classe sont des attributs qui appartiennent à la classe elle-même. Ils seront partagés par toutes les instances de la classe. Ils ont donc la même valeur pour chaque instance. Nous définissons les attributs de classe en dehors de toutes les méthodes, généralement ils sont placés en haut, juste en dessous de l'en-tête de la classe.\n",
    "\n",
    "<center><img src=\"img/sphinx.png\" width=\"50%\"></center>\n",
    "\n",
    "Dans la session Python interactive suivante, nous pouvons voir que l'attribut de classe \"a\" est le même pour toutes les instances, dans nos exemples \"x\" et \"y\". De plus, nous voyons que nous pouvons accéder à un attribut de classe via une instance ou via le nom de la classe :"
   ]
  },
  {
   "cell_type": "code",
   "execution_count": 1,
   "id": "c67e25a7-37e0-4c92-a156-62303aa321af",
   "metadata": {},
   "outputs": [
    {
     "data": {
      "text/plain": [
       "'I am a class attribute!'"
      ]
     },
     "execution_count": 1,
     "metadata": {},
     "output_type": "execute_result"
    }
   ],
   "source": [
    "class A:\n",
    "    a = \"I am a class attribute!\"\n",
    "    \n",
    "x = A()\n",
    "y = A()\n",
    "x.a"
   ]
  },
  {
   "cell_type": "code",
   "execution_count": 2,
   "id": "c8ad69e7-28e2-4804-b26c-df0960e6a6b0",
   "metadata": {},
   "outputs": [
    {
     "data": {
      "text/plain": [
       "'I am a class attribute!'"
      ]
     },
     "execution_count": 2,
     "metadata": {},
     "output_type": "execute_result"
    }
   ],
   "source": [
    "y.a"
   ]
  },
  {
   "cell_type": "code",
   "execution_count": 3,
   "id": "07b59174-1ce5-49ea-8859-97c29193b5b8",
   "metadata": {},
   "outputs": [
    {
     "data": {
      "text/plain": [
       "'I am a class attribute!'"
      ]
     },
     "execution_count": 3,
     "metadata": {},
     "output_type": "execute_result"
    }
   ],
   "source": [
    "A.a"
   ]
  },
  {
   "cell_type": "markdown",
   "id": "2839a498-ee91-4642-b849-34fe2a0647ac",
   "metadata": {},
   "source": [
    "Mais attention, si vous voulez changer un attribut de classe, vous devez le faire avec la notation ```ClassName.AttributeName```. Sinon, vous allez créer une nouvelle variable d'instance. Nous le démontrons dans l'exemple suivant :"
   ]
  },
  {
   "cell_type": "code",
   "execution_count": 5,
   "id": "21ed3448-c913-44a8-8c23-a5f830403c9c",
   "metadata": {},
   "outputs": [
    {
     "data": {
      "text/plain": [
       "'I am a class attribute!'"
      ]
     },
     "execution_count": 5,
     "metadata": {},
     "output_type": "execute_result"
    }
   ],
   "source": [
    "class A:\n",
    "    a = \"I am a class attribute!\"\n",
    "    \n",
    "x = A()\n",
    "y = A()\n",
    "x.a = \"This creates a new instance attribute for x!\"\n",
    "\n",
    "y.a"
   ]
  },
  {
   "cell_type": "code",
   "execution_count": 6,
   "id": "8fb11d95-bae9-4afe-94fd-2f91d755e0ed",
   "metadata": {},
   "outputs": [
    {
     "data": {
      "text/plain": [
       "'I am a class attribute!'"
      ]
     },
     "execution_count": 6,
     "metadata": {},
     "output_type": "execute_result"
    }
   ],
   "source": [
    "A.a"
   ]
  },
  {
   "cell_type": "code",
   "execution_count": 7,
   "id": "0b1d995f-5902-44a3-9c61-5e6b0e8b5775",
   "metadata": {},
   "outputs": [
    {
     "data": {
      "text/plain": [
       "\"This is changing the class attribute 'a'!\""
      ]
     },
     "execution_count": 7,
     "metadata": {},
     "output_type": "execute_result"
    }
   ],
   "source": [
    "A.a = \"This is changing the class attribute 'a'!\"\n",
    "A.a"
   ]
  },
  {
   "cell_type": "code",
   "execution_count": 8,
   "id": "fb219868-4faa-4940-94c1-b28ee1d6f106",
   "metadata": {},
   "outputs": [
    {
     "data": {
      "text/plain": [
       "\"This is changing the class attribute 'a'!\""
      ]
     },
     "execution_count": 8,
     "metadata": {},
     "output_type": "execute_result"
    }
   ],
   "source": [
    "y.a"
   ]
  },
  {
   "cell_type": "code",
   "execution_count": 9,
   "id": "8dd8e064-b47a-42bd-bcbf-35c1a641d97f",
   "metadata": {},
   "outputs": [
    {
     "data": {
      "text/plain": [
       "'This creates a new instance attribute for x!'"
      ]
     },
     "execution_count": 9,
     "metadata": {},
     "output_type": "execute_result"
    }
   ],
   "source": [
    "x.a\n",
    "# but x.a is still the previously created instance variable"
   ]
  },
  {
   "cell_type": "markdown",
   "id": "378e348e-9796-4ba4-8ad0-8a56b18889a3",
   "metadata": {},
   "source": [
    "Les attributs de classe et les attributs d'objet de Python sont stockés dans des dictionnaires séparés, comme nous pouvons le voir ici :"
   ]
  },
  {
   "cell_type": "code",
   "execution_count": 10,
   "id": "43b20da3-3b33-4a56-9ce8-966550fc0466",
   "metadata": {},
   "outputs": [
    {
     "data": {
      "text/plain": [
       "{'a': 'This creates a new instance attribute for x!'}"
      ]
     },
     "execution_count": 10,
     "metadata": {},
     "output_type": "execute_result"
    }
   ],
   "source": [
    "x.__dict__"
   ]
  },
  {
   "cell_type": "code",
   "execution_count": 11,
   "id": "e65f76ae-2f44-4631-adde-ec9bf772bf6f",
   "metadata": {},
   "outputs": [
    {
     "data": {
      "text/plain": [
       "{}"
      ]
     },
     "execution_count": 11,
     "metadata": {},
     "output_type": "execute_result"
    }
   ],
   "source": [
    "y.__dict__"
   ]
  },
  {
   "cell_type": "code",
   "execution_count": 12,
   "id": "16f20700-a4dd-46d4-b914-ec8f5142ceef",
   "metadata": {},
   "outputs": [
    {
     "data": {
      "text/plain": [
       "mappingproxy({'__module__': '__main__',\n",
       "              'a': \"This is changing the class attribute 'a'!\",\n",
       "              '__dict__': <attribute '__dict__' of 'A' objects>,\n",
       "              '__weakref__': <attribute '__weakref__' of 'A' objects>,\n",
       "              '__doc__': None})"
      ]
     },
     "execution_count": 12,
     "metadata": {},
     "output_type": "execute_result"
    }
   ],
   "source": [
    "A.__dict__"
   ]
  },
  {
   "cell_type": "code",
   "execution_count": 13,
   "id": "dce26615-80e0-47c2-96f3-b6e0ed367997",
   "metadata": {},
   "outputs": [
    {
     "data": {
      "text/plain": [
       "mappingproxy({'__module__': '__main__',\n",
       "              'a': \"This is changing the class attribute 'a'!\",\n",
       "              '__dict__': <attribute '__dict__' of 'A' objects>,\n",
       "              '__weakref__': <attribute '__weakref__' of 'A' objects>,\n",
       "              '__doc__': None})"
      ]
     },
     "execution_count": 13,
     "metadata": {},
     "output_type": "execute_result"
    }
   ],
   "source": [
    "x.__class__.__dict__"
   ]
  },
  {
   "cell_type": "markdown",
   "id": "1654f673-597f-4885-88e2-caeb26caf3ce",
   "metadata": {},
   "source": [
    "## Exemple avec les attributs de classe\n",
    "\n",
    "Isaac Asimov a conçu et présenté les \"trois lois de la robotique\" en 1942. Elles sont apparues dans son histoire \"Runaround\". Ses trois lois ont été reprises par de nombreux auteurs de science-fiction. Comme nous avons commencé à fabriquer des robots en Python, il est grand temps de s'assurer qu'ils obéissent aux trois lois d'Asimov. Comme elles sont les mêmes pour chaque instance, c'est-à-dire le robot, nous allons créer un attribut de classe Three_Laws. Cet attribut est un tuple contenant les trois lois."
   ]
  },
  {
   "cell_type": "code",
   "execution_count": 14,
   "id": "0b61ddfd-cfc5-4607-b1d2-52ce844e1556",
   "metadata": {},
   "outputs": [],
   "source": [
    "class Robot:\n",
    "    Three_Laws = (\n",
    "\"\"\"A robot may not injure a human being or, through inaction, allow a human being to come to harm.\"\"\",\n",
    "\"\"\"A robot must obey the orders given to it by human beings, except where such orders would conflict with the First Law.,\"\"\",\n",
    "\"\"\"A robot must protect its own existence as long as such protection does not conflict with the First or Second Law.\"\"\"\n",
    ")\n",
    "    def __init__(self, name, build_year):\n",
    "        self.name = name\n",
    "        self.build_year = build_year\n",
    "    # other methods as usual"
   ]
  },
  {
   "cell_type": "markdown",
   "id": "9012a47d-a870-4ea6-9df8-2010433c9d5c",
   "metadata": {},
   "source": [
    "Comme nous l'avons mentionné précédemment, nous pouvons accéder à un attribut de classe via une instance ou via le nom de la classe. Vous pouvez voir dans l'exemple suivant que nous n'avons pas besoin d'une instance :"
   ]
  },
  {
   "cell_type": "code",
   "execution_count": 17,
   "id": "af9879c8-f333-4474-a818-59b348c75e5e",
   "metadata": {},
   "outputs": [
    {
     "name": "stdout",
     "output_type": "stream",
     "text": [
      "1:\n",
      "A robot may not injure a human being or, through inaction, allow a human being to come to harm.\n",
      "2:\n",
      "A robot must obey the orders given to it by human beings, except where such orders would conflict with the First Law.,\n",
      "3:\n",
      "A robot must protect its own existence as long as such protection does not conflict with the First or Second Law.\n"
     ]
    }
   ],
   "source": [
    "for number, text in enumerate(Robot.Three_Laws):\n",
    "    print(str(number+1) + \":\\n\" + text) "
   ]
  },
  {
   "cell_type": "markdown",
   "id": "7fb35204-ea99-4ba0-999d-3738403a4ca9",
   "metadata": {},
   "source": [
    "Dans l'exemple suivant, nous démontrons comment vous pouvez compter les instances avec des attributs de classe. Tout ce que nous avons à faire est :\n",
    "\n",
    "- de créer un attribut de classe, que nous appelons \"counter\" dans notre exemple\n",
    "- d'incrémenter cet attribut de 1 à chaque fois qu'une nouvelle instance est créée\n",
    "- décrémenter l'attribut de 1 à chaque fois qu'une instance est détruite."
   ]
  },
  {
   "cell_type": "code",
   "execution_count": 18,
   "id": "bd707fbf-f83f-4d4d-8d46-fe0b0b9f3ecd",
   "metadata": {},
   "outputs": [
    {
     "name": "stdout",
     "output_type": "stream",
     "text": [
      "Number of instances: : 1\n",
      "Number of instances: : 2\n",
      "Number of instances: : 1\n",
      "Number of instances: : 0\n"
     ]
    }
   ],
   "source": [
    "class C: \n",
    "    counter = 0\n",
    "    def __init__(self): \n",
    "        type(self).counter += 1\n",
    "    def __del__(self):\n",
    "        type(self).counter -= 1\n",
    "        \n",
    "if __name__ == \"__main__\":\n",
    "    x = C()\n",
    "    print(\"Number of instances: : \" + str(C.counter))\n",
    "    y = C()\n",
    "    print(\"Number of instances: : \" + str(C.counter))\n",
    "    del x\n",
    "    print(\"Number of instances: : \" + str(C.counter))\n",
    "    del y\n",
    "    print(\"Number of instances: : \" + str(C.counter))"
   ]
  },
  {
   "cell_type": "markdown",
   "id": "e56381dc-be55-4e77-bcfc-ed8982d9ae7a",
   "metadata": {},
   "source": [
    "En principe, nous aurions pu écrire ```C.counter``` au lieu de ```type(self).counter```, car```type(self)``` sera de toute façon évalué à \"C\". Cependant, nous comprendrons plus tard que ```type(self)``` a un sens, si nous utilisons une telle classe comme superclasse.\n",
    "\n",
    "## Méthodes statiques\n",
    "\n",
    "Nous avons utilisé des attributs de classe comme attributs publics dans la section précédente. Bien sûr, nous pouvons également rendre les attributs publics privés. Nous pouvons le faire en ajoutant à nouveau le double soulignement. Si nous le faisons, nous avons besoin d'une possibilité d'accéder et de modifier ces attributs de classe privés. Nous pouvons utiliser des méthodes d'instance à cette fin :"
   ]
  },
  {
   "cell_type": "code",
   "execution_count": 19,
   "id": "751f3ce4-b5e2-427d-bbdd-a02890982fdb",
   "metadata": {},
   "outputs": [
    {
     "name": "stdout",
     "output_type": "stream",
     "text": [
      "1\n",
      "2\n"
     ]
    }
   ],
   "source": [
    "class Robot:\n",
    "    __counter = 0\n",
    "    def __init__(self):\n",
    "        type(self).__counter += 1\n",
    "    def RobotInstances(self):\n",
    "        return Robot.__counter\n",
    "    \n",
    "if __name__ == \"__main__\":\n",
    "    x = Robot()\n",
    "    print(x.RobotInstances())\n",
    "    y = Robot()\n",
    "    print(x.RobotInstances())"
   ]
  },
  {
   "cell_type": "markdown",
   "id": "a55219c4-c453-4f70-bd8a-560a912c0d7a",
   "metadata": {},
   "source": [
    "Ce n'est pas une bonne idée pour deux raisons : Tout d'abord, parce que le nombre de robots n'a rien à voir avec une seule instance de robot et ensuite parce que nous ne pouvons pas demander le nombre de robots avant de créer une instance. Si nous essayons d'invoquer la méthode portant le nom de classe ```Robot.RobotInstances()```, nous obtenons un message d'erreur, car elle a besoin d'une instance comme argument :"
   ]
  },
  {
   "cell_type": "code",
   "execution_count": 20,
   "id": "215c5cf4-6dac-4e2b-8759-dc3fbe746a38",
   "metadata": {},
   "outputs": [
    {
     "ename": "TypeError",
     "evalue": "Robot.RobotInstances() missing 1 required positional argument: 'self'",
     "output_type": "error",
     "traceback": [
      "\u001b[0;31m---------------------------------------------------------------------------\u001b[0m",
      "\u001b[0;31mTypeError\u001b[0m                                 Traceback (most recent call last)",
      "Cell \u001b[0;32mIn[20], line 1\u001b[0m\n\u001b[0;32m----> 1\u001b[0m \u001b[43mRobot\u001b[49m\u001b[38;5;241;43m.\u001b[39;49m\u001b[43mRobotInstances\u001b[49m\u001b[43m(\u001b[49m\u001b[43m)\u001b[49m\n",
      "\u001b[0;31mTypeError\u001b[0m: Robot.RobotInstances() missing 1 required positional argument: 'self'"
     ]
    }
   ],
   "source": [
    "Robot.RobotInstances()"
   ]
  },
  {
   "cell_type": "markdown",
   "id": "b477f6bf-6079-4522-a914-1a34038286ee",
   "metadata": {},
   "source": [
    "L'idée suivante, qui ne résout toujours pas notre problème, consiste à omettre le paramètre ```self``` :"
   ]
  },
  {
   "cell_type": "code",
   "execution_count": 21,
   "id": "a906481f-b4bb-4745-8035-997efb7f9ce9",
   "metadata": {},
   "outputs": [],
   "source": [
    "class Robot:\n",
    "    __counter = 0\n",
    "    def __init__(self):\n",
    "        type(self).__counter += 1\n",
    "    def RobotInstances():\n",
    "        return Robot.__counter"
   ]
  },
  {
   "cell_type": "markdown",
   "id": "3500ed3d-d50f-4360-a4d4-1f9ee7d25ab6",
   "metadata": {},
   "source": [
    "Il est maintenant possible d'accéder à la méthode via le nom de la classe, mais nous ne pouvons pas l'appeler via une instance :"
   ]
  },
  {
   "cell_type": "code",
   "execution_count": 24,
   "id": "68a4a1e4-7ca0-46dd-b14d-2289169866d7",
   "metadata": {},
   "outputs": [
    {
     "data": {
      "text/plain": [
       "1"
      ]
     },
     "execution_count": 24,
     "metadata": {},
     "output_type": "execute_result"
    }
   ],
   "source": [
    "##from static_methods2 import Robot\n",
    "Robot.RobotInstances()"
   ]
  },
  {
   "cell_type": "code",
   "execution_count": 25,
   "id": "19fe9038-ff69-429d-8a45-3b74493814be",
   "metadata": {},
   "outputs": [
    {
     "ename": "TypeError",
     "evalue": "Robot.RobotInstances() takes 0 positional arguments but 1 was given",
     "output_type": "error",
     "traceback": [
      "\u001b[0;31m---------------------------------------------------------------------------\u001b[0m",
      "\u001b[0;31mTypeError\u001b[0m                                 Traceback (most recent call last)",
      "Cell \u001b[0;32mIn[25], line 2\u001b[0m\n\u001b[1;32m      1\u001b[0m x \u001b[38;5;241m=\u001b[39m Robot()\n\u001b[0;32m----> 2\u001b[0m \u001b[43mx\u001b[49m\u001b[38;5;241;43m.\u001b[39;49m\u001b[43mRobotInstances\u001b[49m\u001b[43m(\u001b[49m\u001b[43m)\u001b[49m\n",
      "\u001b[0;31mTypeError\u001b[0m: Robot.RobotInstances() takes 0 positional arguments but 1 was given"
     ]
    }
   ],
   "source": [
    "x = Robot()\n",
    "x.RobotInstances()"
   ]
  },
  {
   "cell_type": "markdown",
   "id": "f6a223ba-ccea-408e-adac-c092aaf3a879",
   "metadata": {},
   "source": [
    "L'appel ```x.RobotInstances()``` est traité comme un appel de méthode d'instance et une méthode d'instance a besoin d'une référence à l'instance comme premier paramètre.\n",
    "\n",
    "Alors, que voulons-nous ? Nous voulons une méthode que nous pouvons appeler via le nom de la classe ou via le nom de l'instance sans avoir à lui passer une référence à une instance.\n",
    "\n",
    "La solution réside dans les méthodes statiques, qui n'ont pas besoin d'une référence à une instance. Il est facile de transformer une méthode en méthode statique. Il suffit d'ajouter une ligne avec ```@staticmethod``` directement devant l'en-tête de la méthode. C'est la syntaxe du décorateur.\n",
    "\n",
    "Vous pouvez voir dans l'exemple suivant que nous pouvons maintenant utiliser notre méthode RobotInstances comme nous le souhaitons :"
   ]
  },
  {
   "cell_type": "code",
   "execution_count": 26,
   "id": "8c9ba835-fe95-4b88-a7a8-08c8ef3ddcd0",
   "metadata": {},
   "outputs": [
    {
     "name": "stdout",
     "output_type": "stream",
     "text": [
      "0\n",
      "1\n",
      "2\n",
      "2\n"
     ]
    }
   ],
   "source": [
    "class Robot:\n",
    "    \n",
    "    __counter = 0\n",
    "    \n",
    "    def __init__(self):\n",
    "        type(self).__counter += 1\n",
    "        \n",
    "    @staticmethod\n",
    "    def RobotInstances():\n",
    "        return Robot.__counter\n",
    "    \n",
    "    \n",
    "if __name__ == \"__main__\":\n",
    "    print(Robot.RobotInstances())\n",
    "    x = Robot()\n",
    "    print(x.RobotInstances())\n",
    "    y = Robot()\n",
    "    print(x.RobotInstances())\n",
    "    print(Robot.RobotInstances())"
   ]
  },
  {
   "cell_type": "markdown",
   "id": "60cc475c-a706-40d6-9816-496d0f5e87fc",
   "metadata": {},
   "source": [
    "## Méthodes de classe\n",
    "\n",
    "Les méthodes statiques ne doivent pas être confondues avec les méthodes de classe. Comme les méthodes statiques, les méthodes de classe ne sont pas liées aux instances, mais contrairement aux méthodes statiques, les méthodes de classe sont liées à une classe. Le premier paramètre d'une méthode de classe est une référence à une classe, c'est-à-dire un objet de classe. Elles peuvent être appelées via une instance ou le nom de la classe."
   ]
  },
  {
   "cell_type": "code",
   "execution_count": 27,
   "id": "600121df-8275-44f7-afa5-3f270d769de1",
   "metadata": {},
   "outputs": [
    {
     "name": "stdout",
     "output_type": "stream",
     "text": [
      "(<class '__main__.Robot'>, 0)\n",
      "(<class '__main__.Robot'>, 1)\n",
      "(<class '__main__.Robot'>, 2)\n",
      "(<class '__main__.Robot'>, 2)\n"
     ]
    }
   ],
   "source": [
    "class Robot:\n",
    "    \n",
    "    __counter = 0\n",
    "    \n",
    "    def __init__(self):\n",
    "        type(self).__counter += 1\n",
    "        \n",
    "    @classmethod\n",
    "    def RobotInstances(cls):\n",
    "        return cls, Robot.__counter\n",
    "    \n",
    "    \n",
    "if __name__ == \"__main__\":\n",
    "    print(Robot.RobotInstances())\n",
    "    x = Robot()\n",
    "    print(x.RobotInstances())\n",
    "    y = Robot()\n",
    "    print(x.RobotInstances())\n",
    "    print(Robot.RobotInstances())"
   ]
  },
  {
   "cell_type": "markdown",
   "id": "b35491fd-4640-4d78-bdd4-5479f6251e09",
   "metadata": {},
   "source": [
    "Les cas d'utilisation des méthodes de classe :\n",
    "\n",
    "- Elles sont utilisées dans la définition des méthodes dites factory, que nous ne couvrirons pas ici.\n",
    "- Elles sont souvent utilisées, lorsque nous avons des méthodes statiques, qui doivent appeler d'autres méthodes statiques. Pour ce faire, nous devrions coder en dur le nom de la classe, si nous devions utiliser des méthodes statiques. Ceci est un problème, si nous sommes dans un cas d'utilisation, où nous avons des classes héritées.\n",
    "\n",
    "\n",
    "Le programme suivant contient une classe de fraction, qui n'est pas encore complète. Si vous travaillez avec des fractions, vous devez être capable de les réduire, par exemple, la fraction 8/24 peut être réduite à 1/3. Nous pouvons réduire une fraction aux termes les plus bas en divisant le numérateur et le dénominateur par le plus grand diviseur commun (PGCD).\n",
    "\n",
    "Nous avons défini une fonction gcd statique pour calculer le plus grand diviseur commun de deux nombres. Le plus grand diviseur commun (gcd) de deux ou plusieurs nombres entiers (dont au moins un n'est pas zéro) est le plus grand nombre entier positif qui divise les nombres sans reste. \n",
    "\n",
    "Par exemple, le PGCD de 8 et 24 est 8. La méthode statique ```gcd``` est appelée par la méthode de notre classe ```reduce``` avec ```cls.gcd(n1, n2)```. ```CLS``` est une référence à ```fraction```."
   ]
  },
  {
   "cell_type": "code",
   "execution_count": 28,
   "id": "71515606-4005-43af-ba06-0ccb027c3651",
   "metadata": {},
   "outputs": [],
   "source": [
    "class fraction(object):\n",
    "    def __init__(self, n, d):\n",
    "        self.numerator, self.denominator = fraction.reduce(n, d)\n",
    "    @staticmethod\n",
    "    def gcd(a,b):\n",
    "        while b != 0:\n",
    "            a, b = b, a%b\n",
    "        return a\n",
    "    @classmethod\n",
    "    def reduce(cls, n1, n2):\n",
    "        g = cls.gcd(n1, n2)\n",
    "        return (n1 // g, n2 // g)\n",
    "    def __str__(self):\n",
    "        return str(self.numerator)+'/'+str(self.denominator)"
   ]
  },
  {
   "cell_type": "markdown",
   "id": "44a72bee-1685-480e-959c-87826707384c",
   "metadata": {},
   "source": [
    "En utilisant cette classe :"
   ]
  },
  {
   "cell_type": "code",
   "execution_count": 29,
   "id": "e4e3d79f-33b3-4ec0-928a-e923655a3591",
   "metadata": {},
   "outputs": [
    {
     "name": "stdout",
     "output_type": "stream",
     "text": [
      "1/3\n"
     ]
    }
   ],
   "source": [
    "x = fraction(8,24)\n",
    "print(x)"
   ]
  },
  {
   "cell_type": "markdown",
   "id": "8a01d454-4063-4b98-bc9b-8679ee6d1917",
   "metadata": {},
   "source": [
    "## Méthodes de classe vs. méthodes statiques et méthodes d'instance\n",
    "\n",
    "Notre dernier exemple va démontrer l'utilité des méthodes de classe dans l'héritage. Nous définissons une classe ```Pet``` avec une méthode about. Cette méthode doit donner des informations générales sur la classe. La classe ```Cat``` sera héritée à la fois dans les sous-classes ```Dog``` et ```Cat```. La méthode about sera également héritée. Nous allons démontrer que nous rencontrerons des problèmes si nous définissons la méthode ```about``` comme une méthode d'instance normale ou comme une méthode statique. Nous allons commencer par définir about comme une méthode d'instance :"
   ]
  },
  {
   "cell_type": "code",
   "execution_count": 30,
   "id": "722e4122-6d75-44d3-a4a0-72f3b8ece247",
   "metadata": {},
   "outputs": [
    {
     "name": "stdout",
     "output_type": "stream",
     "text": [
      "This class is about pet animals!\n",
      "This class is about man's best friends!\n",
      "This class is about all kinds of cats!\n"
     ]
    }
   ],
   "source": [
    "class Pet:\n",
    "    \n",
    "    _class_info = \"pet animals\"\n",
    "    \n",
    "    def about(self):\n",
    "        print(\"This class is about \" + self._class_info + \"!\")   \n",
    "        \n",
    "class Dog(Pet):\n",
    "    _class_info = \"man's best friends\"\n",
    "    \n",
    "class Cat(Pet):\n",
    "    _class_info = \"all kinds of cats\"\n",
    "    \n",
    "p = Pet()\n",
    "p.about()\n",
    "d = Dog()\n",
    "d.about()\n",
    "c = Cat()\n",
    "c.about()"
   ]
  },
  {
   "cell_type": "markdown",
   "id": "3e1fb0db-f707-40cc-b1a3-c3f1a2343241",
   "metadata": {},
   "source": [
    "Cela peut sembler correct au premier coup d'œil. En y réfléchissant, nous reconnaissons l'affreuse conception. Nous avons dû créer des instances des classes ```Pet```, ```Dog``` et ```Cat``` pour pouvoir demander ce dont il s'agit. Ce serait beaucoup mieux si nous pouvions simplement écrire ```Pet.about()```, ```Dog.about()``` et ```Cat.about()``` pour obtenir le résultat précédent. Nous ne pouvons pas faire cela. Nous devrons écrire ```Pet.about(p)```, ```Dog.about(d)``` et ```Cat.about(c)``` à la place.\n",
    "\n",
    "Maintenant, nous allons définir la méthode about comme une ```staticmethod``` pour montrer l'inconvénient de cette approche. Comme nous l'avons appris précédemment dans notre tutoriel, une méthode staticmethod n'a pas de premier paramètre avec une référence à un objet. Ainsi, environ n'aura pas de paramètres du tout. De ce fait, nous sommes maintenant capables d'appeler ```about``` sans avoir à passer une instance en paramètre, c'est-à-dire ```Pet.about()```,```Dog.about()``` et ```Cat.about()```. Cependant, un problème se cache dans la définition de about. La seule façon d'accéder à l'info de classe ```_class_info``` est de mettre un nom de classe devant. Nous avons arbitrairement mis ```Pet```. Nous aurions pu mettre aussi bien ```Cat``` ou ```Dog```. Quoi que nous fassions, la solution ne sera pas celle que nous voulons :"
   ]
  },
  {
   "cell_type": "code",
   "execution_count": 31,
   "id": "01030ecc-04a0-4cc3-898b-1bd90433c002",
   "metadata": {},
   "outputs": [
    {
     "name": "stdout",
     "output_type": "stream",
     "text": [
      "This class is about pet animals!\n",
      "This class is about pet animals!\n",
      "This class is about pet animals!\n"
     ]
    }
   ],
   "source": [
    "class Pet:\n",
    "    \n",
    "    _class_info = \"pet animals\"\n",
    "    \n",
    "    @staticmethod\n",
    "    def about():\n",
    "        print(\"This class is about \" + Pet._class_info + \"!\")   \n",
    "        \n",
    "        \n",
    "class Dog(Pet):\n",
    "    _class_info = \"man's best friends\"\n",
    "    \n",
    "    \n",
    "class Cat(Pet):\n",
    "    _class_info = \"all kinds of cats\"\n",
    "    \n",
    "    \n",
    "Pet.about()\n",
    "Dog.about()\n",
    "Cat.about()"
   ]
  },
  {
   "cell_type": "markdown",
   "id": "7abf3588-37d0-4a98-a62c-213d504be966",
   "metadata": {},
   "source": [
    "En d'autres termes, nous n'avons aucun moyen de faire la différence entre la classe ```Pet``` et ses sous-classes ```Dog``` et ```Cat```. Le problème est que la méthode about ne sait pas si elle a été appelée via la classe ```Pet```, ```Dog``` ou ```Cat```.\n",
    "\n",
    "Une __methode de classe__ est la solution à tous nos problèmes. Nous allons décorer about avec un décorateur ```classmethod``` au lieu d'un décorateur ```staticmethod``` :"
   ]
  },
  {
   "cell_type": "code",
   "execution_count": 32,
   "id": "5c9431ee-e7a8-4163-bdd6-f955384d386a",
   "metadata": {},
   "outputs": [
    {
     "name": "stdout",
     "output_type": "stream",
     "text": [
      "This class is about pet animals!\n",
      "This class is about man's best friends!\n",
      "This class is about all kinds of cats!\n"
     ]
    }
   ],
   "source": [
    "class Pet:\n",
    "    \n",
    "    \n",
    "    _class_info = \"pet animals\"\n",
    "    \n",
    "    @classmethod\n",
    "    def about(cls):\n",
    "        print(\"This class is about \" + cls._class_info + \"!\")   \n",
    "        \n",
    "        \n",
    "class Dog(Pet):\n",
    "    _class_info = \"man's best friends\"\n",
    "    \n",
    "    \n",
    "class Cat(Pet):\n",
    "    _class_info = \"all kinds of cats\"\n",
    "    \n",
    "    \n",
    "Pet.about()\n",
    "Dog.about()\n",
    "Cat.about()"
   ]
  },
  {
   "cell_type": "code",
   "execution_count": null,
   "id": "0a473c2e-d22c-4aa8-b721-6c75cc526310",
   "metadata": {},
   "outputs": [],
   "source": []
  }
 ],
 "metadata": {
  "kernelspec": {
   "display_name": "py11",
   "language": "python",
   "name": "py11"
  },
  "language_info": {
   "codemirror_mode": {
    "name": "ipython",
    "version": 3
   },
   "file_extension": ".py",
   "mimetype": "text/x-python",
   "name": "python",
   "nbconvert_exporter": "python",
   "pygments_lexer": "ipython3",
   "version": "3.11.0"
  }
 },
 "nbformat": 4,
 "nbformat_minor": 5
}
