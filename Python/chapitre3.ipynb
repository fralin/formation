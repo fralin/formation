{
 "cells": [
  {
   "cell_type": "markdown",
   "id": "082583d2-f45d-4d1e-981e-65bfd5596abc",
   "metadata": {},
   "source": [
    "# Introduction informelle à Python\n",
    "Dans les exemples qui suivent, les entrées et sorties se distinguent par la présence ou l'absence d'invite (>>> et ...) : pour reproduire les exemples, vous devez taper tout ce qui est après l'invite, au moment où celle-ci apparaît ; les lignes qui n'affichent pas d'invite sont les sorties de l'interpréteur. Notez qu'une invite secondaire affichée seule sur une ligne dans un exemple indique que vous devez entrer une ligne vide ; ceci est utilisé pour terminer une commande multi-lignes.\n",
    "\n",
    "Vous pouvez basculer l'affichage des invites et des sorties en cliquant sur >>> dans le coin haut-droit d'une boite d'exemple. En masquant les invites et les sorties d'un exemple, vous pouvez facilement copier et coller les lignes d'entrée dans votre interpréteur.\n",
    "\n",
    "Beaucoup d'exemples de ce manuel, même ceux saisis à l'invite de l'interpréteur, incluent des commentaires. Les commentaires en Python commencent avec un caractère croisillon, #, et s'étendent jusqu'à la fin de la ligne. Un commentaire peut apparaître au début d'une ligne ou à la suite d'un espace ou de code, mais pas à l'intérieur d'une chaîne de caractères littérale. Un caractère croisillon à l'intérieur d'une chaîne de caractères est juste un caractère croisillon. Comme les commentaires ne servent qu'à expliquer le code et ne sont pas interprétés par Python, ils peuvent être ignorés lorsque vous tapez les exemples.\n",
    "\n",
    "## Quelques exemples :"
   ]
  },
  {
   "cell_type": "code",
   "execution_count": 1,
   "id": "b07ee571-ecd0-42cd-832e-6874f72de2e0",
   "metadata": {},
   "outputs": [],
   "source": [
    "# this is the first comment\n",
    "spam = 1  # and this is the second comment\n",
    "          # ... and now a third!\n",
    "text = \"# This is not a comment because it's inside quotes.\""
   ]
  },
  {
   "cell_type": "markdown",
   "id": "986a7e14-2129-4d53-8d16-b07accdbfd98",
   "metadata": {},
   "source": [
    "## 1. Utilisation de Python comme une calculatrice\n",
    "Essayons quelques commandes Python simples. Démarrez l'interpréteur et attendez l'invite primaire, >>>. Ça ne devrait pas être long.\n",
    "\n",
    "### 1.1. Les nombres\n",
    "L'interpréteur agit comme une simple calculatrice : vous pouvez lui entrer une expression et il vous affiche la valeur. La syntaxe des expressions est simple : les opérateurs +, -, * et / fonctionnent comme dans la plupart des langages (par exemple, Pascal ou C) ; les parenthèses peuvent être utilisées pour faire des regroupements. \n",
    "\n",
    "Par exemple :"
   ]
  },
  {
   "cell_type": "code",
   "execution_count": 4,
   "id": "2c864f83-4732-4cd9-a3e7-dc9d55cebfec",
   "metadata": {},
   "outputs": [
    {
     "name": "stdout",
     "output_type": "stream",
     "text": [
      "4\n",
      "20\n",
      "5.0\n",
      "1.6\n"
     ]
    }
   ],
   "source": [
    "print(2 + 2)\n",
    "\n",
    "print(50 - 5*6)\n",
    "\n",
    "print((50 - 5*6) / 4)\n",
    "\n",
    "print(8 / 5)  # division always returns a floating point number"
   ]
  },
  {
   "cell_type": "markdown",
   "id": "6f75b8f2-9d72-4e56-be09-9ed5f8ad2066",
   "metadata": {},
   "source": [
    "Les nombres entiers (comme 2, 4, 20) sont de type int, alors que les décimaux (comme 5.0, 1.6) sont de type float. Vous trouvez plus de détails sur les types numériques plus loin dans ce tutoriel."
   ]
  },
  {
   "cell_type": "code",
   "execution_count": null,
   "id": "81be61b2-380c-4833-911c-274f386761cd",
   "metadata": {},
   "outputs": [],
   "source": [
    "17 / 3  # classic division returns a float\n",
    "\n",
    "\n",
    "17 // 3  # floor division discards the fractional part\n",
    "\n",
    "17 % 3  # the % operator returns the remainder of the division\n",
    "\n",
    "5 * 3 + 2  # floored quotient * divisor + remainder"
   ]
  },
  {
   "cell_type": "markdown",
   "id": "d53dcc2a-644f-4bbf-b9ad-b746b15fdf88",
   "metadata": {},
   "source": [
    "En Python, il est possible de calculer des puissances avec l'opérateur ** 1 :"
   ]
  },
  {
   "cell_type": "code",
   "execution_count": null,
   "id": "1d5c5cd2-cafc-4d9b-aa02-46d6283d0178",
   "metadata": {},
   "outputs": [],
   "source": [
    "5 ** 2  # 5 squared\n",
    "\n",
    "2 ** 7  # 2 to the power of 7"
   ]
  },
  {
   "cell_type": "markdown",
   "id": "8a37ca05-e119-4437-9b6f-e98441cb4541",
   "metadata": {},
   "source": [
    "Le signe égal (=) est utilisé pour affecter une valeur à une variable. Dans ce cas, aucun résultat n'est affiché avant l'invite suivante :"
   ]
  },
  {
   "cell_type": "code",
   "execution_count": 16,
   "id": "87b4a7b0-7da3-47ed-bd9c-59653334fca7",
   "metadata": {},
   "outputs": [
    {
     "data": {
      "text/plain": [
       "9.0"
      ]
     },
     "execution_count": 16,
     "metadata": {},
     "output_type": "execute_result"
    }
   ],
   "source": [
    "## width = 20\n",
    "height = 5 * 9\n",
    "width * height"
   ]
  },
  {
   "cell_type": "markdown",
   "id": "41ad75f2-2dcc-4c40-ba0f-a8615a0f883e",
   "metadata": {},
   "source": [
    "Si une variable n'est pas « définie » (si aucune valeur ne lui a été affectée), son utilisation produit une erreur :"
   ]
  },
  {
   "cell_type": "code",
   "execution_count": null,
   "id": "e7107c50-b34f-4db1-85ca-51375d9d0444",
   "metadata": {},
   "outputs": [],
   "source": [
    "n  # try to access an undefined variable"
   ]
  },
  {
   "cell_type": "markdown",
   "id": "4a4efa2c-242c-4ac6-9bbb-133811ed5b8e",
   "metadata": {},
   "source": [
    "Les nombres à virgule flottante sont tout à fait admis (NdT : Python utilise le point . comme séparateur entre la partie entière et la partie décimale des nombres, c'est la convention anglo-saxonne) ; les opérateurs avec des opérandes de types différents convertissent l'opérande de type entier en type virgule flottante :"
   ]
  },
  {
   "cell_type": "code",
   "execution_count": null,
   "id": "b7abc655-dedd-4916-b7af-e43c1de080c4",
   "metadata": {},
   "outputs": [],
   "source": [
    "4 * 3.75 - 1"
   ]
  },
  {
   "cell_type": "markdown",
   "id": "8fdb4236-fc62-4f50-81ac-827301e69e04",
   "metadata": {},
   "source": [
    "En mode interactif, la dernière expression affichée est affectée à la variable _. Ainsi, lorsque vous utilisez Python comme calculatrice, cela vous permet de continuer des calculs facilement, par exemple :"
   ]
  },
  {
   "cell_type": "code",
   "execution_count": null,
   "id": "b7f7166d-8177-47c9-ba56-18ccdf1c43d2",
   "metadata": {},
   "outputs": [],
   "source": [
    "tax = 12.5 / 100\n",
    "price = 100.50\n",
    "price * tax\n",
    "\n",
    "price + _\n",
    "\n",
    "round(_, 2)"
   ]
  },
  {
   "cell_type": "markdown",
   "id": "73fd6954-7aa5-4a65-a7da-824a5b21b45e",
   "metadata": {},
   "source": [
    "Cette variable doit être considérée comme une variable en lecture seule par l'utilisateur. Ne lui affectez pas de valeur explicitement — vous créeriez ainsi une variable locale indépendante, avec le même nom, qui masquerait la variable native et son fonctionnement magique.\n",
    "\n",
    "En plus des int et des float, il existe les Decimal et les Fraction. Python gère aussi les nombres complexes, en utilisant le suffixe j ou J pour indiquer la partie imaginaire (tel que 3+5j).\n",
    "\n",
    "## 1.2. Chaînes de caractères\n",
    "En plus des nombres, Python sait aussi manipuler des chaînes de caractères, qui peuvent être exprimées de différentes manières. Elles peuvent être écrites entre guillemets simples ('...') ou entre guillemets (\"...\") sans distinction 2. \\ peut être utilisé pour protéger un guillemet :"
   ]
  },
  {
   "cell_type": "code",
   "execution_count": null,
   "id": "f569c247-be56-4972-a23e-dd465b7de768",
   "metadata": {},
   "outputs": [],
   "source": [
    "'spam eggs'  # single quotes\n",
    "\n",
    "'doesn\\'t'  # use \\' to escape the single quote...\n",
    "\n",
    "\"doesn't\"  # ...or use double quotes instead\n",
    "\n",
    "'\"Yes,\" they said.'\n",
    "\n",
    "\"\\\"Yes,\\\" they said.\"\n",
    "\n",
    "'\"Isn\\'t,\" they said.'"
   ]
  },
  {
   "cell_type": "markdown",
   "id": "8b6fcca7-7315-4563-bd78-17f7e4b7be69",
   "metadata": {},
   "source": [
    "En mode interactif, l'interpréteur affiche les chaînes de caractères entre guillemets. Les guillemets et autres caractères spéciaux sont protégés avec des barres obliques inverses (backslash en anglais). Bien que cela puisse être affiché différemment de ce qui a été entré (les guillemets peuvent changer), les deux formats sont équivalents. La chaîne est affichée entre guillemets si elle contient un guillemet simple et aucun guillemet, sinon elle est affichée entre guillemets simples. La fonction print() affiche les chaînes de manière plus lisible, en retirant les guillemets et en affichant les caractères spéciaux qui étaient protégés par une barre oblique inverse :"
   ]
  },
  {
   "cell_type": "code",
   "execution_count": 18,
   "id": "0e1cfc9d-a7f4-45cf-84fb-1fb8014d23ca",
   "metadata": {},
   "outputs": [
    {
     "name": "stdout",
     "output_type": "stream",
     "text": [
      "\"Isn't,\" they said.\n",
      "First line.\n",
      "Second line.\n"
     ]
    }
   ],
   "source": [
    "'\"Isn\\'t,\" they said.'\n",
    "\n",
    "print('\"Isn\\'t,\" they said.')\n",
    "\n",
    "s = 'First line.\\nSecond line.'  # \\n means newline\n",
    "s  # without print(), \\n is included in the output\n",
    "\n",
    "print(s)  # with print(), \\n produces a new line"
   ]
  },
  {
   "cell_type": "markdown",
   "id": "36e0150a-22f0-43e5-a0f2-1a642712cffa",
   "metadata": {
    "jp-MarkdownHeadingCollapsed": true,
    "tags": []
   },
   "source": [
    "Si vous ne voulez pas que les caractères précédés d'un \\ soient interprétés comme étant spéciaux, utilisez les chaînes brutes (raw strings en anglais) en préfixant la chaîne d'un r :"
   ]
  },
  {
   "cell_type": "code",
   "execution_count": 33,
   "id": "6efd0073-c8a4-4a55-9ff2-c17154770e58",
   "metadata": {},
   "outputs": [
    {
     "name": "stdout",
     "output_type": "stream",
     "text": [
      "C:\\some\n",
      "ame\n",
      "C:\\some\\name\n"
     ]
    }
   ],
   "source": [
    "print('C:\\some\\name')  # here \\n means newline!\n",
    "print(r'C:\\some\\name')  # note the r before the quote"
   ]
  },
  {
   "cell_type": "markdown",
   "id": "bf0ada44-7cca-4653-a75c-501f1fdb361b",
   "metadata": {},
   "source": [
    "There is one subtle aspect to raw strings: a raw string may not end in an odd number of \\ characters; see the FAQ entry for more information and workarounds.\n",
    "\n",
    "Les chaînes de caractères peuvent s'étendre sur plusieurs lignes. Utilisez alors des triples guillemets, simples ou doubles : '''...''' ou \"\"\"...\"\"\". Les retours à la ligne sont automatiquement inclus, mais on peut l'empêcher en ajoutant \\ à la fin de la ligne. L'exemple suivant :"
   ]
  },
  {
   "cell_type": "code",
   "execution_count": 34,
   "id": "e87ff157-037a-421f-b301-b903f214f4d9",
   "metadata": {},
   "outputs": [
    {
     "name": "stdout",
     "output_type": "stream",
     "text": [
      "Usage: thingy [OPTIONS]\n",
      "     -h                        Display this usage message\n",
      "     -H hostname               Hostname to connect to\n",
      "\n"
     ]
    }
   ],
   "source": [
    "print(\"\"\"\\\n",
    "Usage: thingy [OPTIONS]\n",
    "     -h                        Display this usage message\n",
    "     -H hostname               Hostname to connect to\n",
    "\"\"\")"
   ]
  },
  {
   "cell_type": "markdown",
   "id": "4b09ae5b-ad34-42ac-afe3-4f2ff920f3a2",
   "metadata": {},
   "source": [
    "produit l'affichage suivant (notez que le premier retour à la ligne n'est pas inclus) :\n",
    "\n",
    "Usage: thingy [OPTIONS]\n",
    "     -h                        Display this usage message\n",
    "     -H hostname               Hostname to connect to\n",
    "Les chaînes peuvent être concaténées (collées ensemble) avec l'opérateur + et répétées avec l'opérateur * :"
   ]
  },
  {
   "cell_type": "code",
   "execution_count": 35,
   "id": "86fc35ac-9139-4fcb-828a-8ad3a73eb40a",
   "metadata": {},
   "outputs": [
    {
     "data": {
      "text/plain": [
       "'unununium'"
      ]
     },
     "execution_count": 35,
     "metadata": {},
     "output_type": "execute_result"
    }
   ],
   "source": [
    "# 3 times 'un', followed by 'ium'\n",
    "3 * 'un' + 'ium'"
   ]
  },
  {
   "cell_type": "markdown",
   "id": "e2de3079-b8f6-4484-b2e8-65f840395083",
   "metadata": {},
   "source": [
    "Plusieurs chaînes de caractères, écrites littéralement (c'est-à-dire entre guillemets), côte à côte, sont automatiquement concaténées."
   ]
  },
  {
   "cell_type": "code",
   "execution_count": 36,
   "id": "d3a8d7b5-f63d-43cb-82f1-2e78629a7c15",
   "metadata": {},
   "outputs": [
    {
     "data": {
      "text/plain": [
       "'Python'"
      ]
     },
     "execution_count": 36,
     "metadata": {},
     "output_type": "execute_result"
    }
   ],
   "source": [
    "'Py' 'thon'"
   ]
  },
  {
   "cell_type": "markdown",
   "id": "cd1cd0c7-5284-4fb1-a99c-bcd75ee3a03f",
   "metadata": {},
   "source": [
    "Cette fonctionnalité est surtout intéressante pour couper des chaînes trop longues :"
   ]
  },
  {
   "cell_type": "code",
   "execution_count": 37,
   "id": "12d98472-8452-485a-acfe-a324f1340b63",
   "metadata": {},
   "outputs": [
    {
     "data": {
      "text/plain": [
       "'Put several strings within parentheses to have them joined together.'"
      ]
     },
     "execution_count": 37,
     "metadata": {},
     "output_type": "execute_result"
    }
   ],
   "source": [
    "text = ('Put several strings within parentheses '\n",
    "        'to have them joined together.')\n",
    "text"
   ]
  },
  {
   "cell_type": "markdown",
   "id": "d4602326-286b-4b83-9b15-ea62951efffd",
   "metadata": {},
   "source": [
    "Cela ne fonctionne cependant qu'avec les chaînes littérales, pas avec les variables ni les expressions :"
   ]
  },
  {
   "cell_type": "code",
   "execution_count": 40,
   "id": "302dbae5-7c86-4b61-bbf0-aca3e36407a5",
   "metadata": {},
   "outputs": [
    {
     "ename": "SyntaxError",
     "evalue": "invalid syntax (369527832.py, line 2)",
     "output_type": "error",
     "traceback": [
      "\u001b[0;36m  Cell \u001b[0;32mIn[40], line 2\u001b[0;36m\u001b[0m\n\u001b[0;31m    prefix 'thon'  # can't concatenate a variable and a string literal\u001b[0m\n\u001b[0m           ^\u001b[0m\n\u001b[0;31mSyntaxError\u001b[0m\u001b[0;31m:\u001b[0m invalid syntax\n"
     ]
    }
   ],
   "source": [
    "prefix = 'Py'\n",
    "prefix 'thon'  # can't concatenate a variable and a string literal"
   ]
  },
  {
   "cell_type": "code",
   "execution_count": null,
   "id": "90109851-efc5-4f66-a19d-593cd53da5c2",
   "metadata": {},
   "outputs": [],
   "source": [
    "('un' * 3) 'ium'"
   ]
  },
  {
   "cell_type": "markdown",
   "id": "484e7fb0-1e29-4a4b-9ba8-84969b2b40b3",
   "metadata": {},
   "source": [
    "Pour concaténer des variables, ou des variables avec des chaînes littérales, utilisez l'opérateur + :"
   ]
  },
  {
   "cell_type": "code",
   "execution_count": 39,
   "id": "5bdb913a-95ea-4248-be3b-a330f148af12",
   "metadata": {},
   "outputs": [
    {
     "data": {
      "text/plain": [
       "'Python'"
      ]
     },
     "execution_count": 39,
     "metadata": {},
     "output_type": "execute_result"
    }
   ],
   "source": [
    "prefix = 'Py'\n",
    "prefix + 'thon'"
   ]
  },
  {
   "cell_type": "markdown",
   "id": "c6c956d3-bc1d-4907-8707-bb9819881557",
   "metadata": {},
   "source": [
    "\n",
    "Les chaînes de caractères peuvent être indexées (ou indicées, c'est-à-dire que l'on peut accéder aux caractères par leur position), le premier caractère d'une chaîne étant à la position 0. Il n'existe pas de type distinct pour les caractères, un caractère est simplement une chaîne de longueur 1 :"
   ]
  },
  {
   "cell_type": "code",
   "execution_count": 47,
   "id": "a09dded8-282d-4361-96b2-bb2b962dd691",
   "metadata": {},
   "outputs": [
    {
     "data": {
      "text/plain": [
       "'n'"
      ]
     },
     "execution_count": 47,
     "metadata": {},
     "output_type": "execute_result"
    }
   ],
   "source": [
    "word = 'Python'\n",
    "word[0]  # character in position 0\n",
    "\n",
    "word[5]  # character in position 5"
   ]
  },
  {
   "cell_type": "markdown",
   "id": "f06ce2c5-5dab-43ac-b4bf-91ef965879c9",
   "metadata": {},
   "source": [
    "Les indices peuvent également être négatifs, on compte alors en partant de la droite. Par exemple :"
   ]
  },
  {
   "cell_type": "code",
   "execution_count": 48,
   "id": "08a878a2-afee-41dd-9e8e-1dd0b9583a3c",
   "metadata": {},
   "outputs": [
    {
     "data": {
      "text/plain": [
       "'P'"
      ]
     },
     "execution_count": 48,
     "metadata": {},
     "output_type": "execute_result"
    }
   ],
   "source": [
    "word[-1]  # last character\n",
    "\n",
    "word[-2]  # second-last character\n",
    "\n",
    "word[-6]"
   ]
  },
  {
   "cell_type": "markdown",
   "id": "38dae292-8ba7-4069-9689-06bf34249ecc",
   "metadata": {},
   "source": [
    "Notez que, comme -0 égale 0, les indices négatifs commencent par -1.\n",
    "\n",
    "En plus d'accéder à un élément par son indice, il est aussi possible de « trancher » (slice en anglais) une chaîne. Accéder à une chaîne par un indice permet d'obtenir un caractère, trancher permet d'obtenir une sous-chaîne :"
   ]
  },
  {
   "cell_type": "code",
   "execution_count": 49,
   "id": "ac1092be-8b41-424d-83bb-2e7241d178a8",
   "metadata": {},
   "outputs": [
    {
     "data": {
      "text/plain": [
       "'tho'"
      ]
     },
     "execution_count": 49,
     "metadata": {},
     "output_type": "execute_result"
    }
   ],
   "source": [
    "word[0:2]  # characters from position 0 (included) to 2 (excluded)\n",
    "\n",
    "word[2:5]  # characters from position 2 (included) to 5 (excluded)"
   ]
  },
  {
   "cell_type": "markdown",
   "id": "3bdfbd8f-fcbe-4c89-8293-8eeb757c9b8d",
   "metadata": {},
   "source": [
    "\n",
    "Les valeurs par défaut des indices de tranches ont une utilité ; le premier indice vaut zéro par défaut (c.-à-d. lorsqu'il est omis), le deuxième correspond par défaut à la taille de la chaîne de caractères"
   ]
  },
  {
   "cell_type": "code",
   "execution_count": 50,
   "id": "dc48c238-5458-484a-a629-bafa2bd73340",
   "metadata": {},
   "outputs": [
    {
     "data": {
      "text/plain": [
       "'on'"
      ]
     },
     "execution_count": 50,
     "metadata": {},
     "output_type": "execute_result"
    }
   ],
   "source": [
    "word[:2]   # character from the beginning to position 2 (excluded)\n",
    "\n",
    "word[4:]   # characters from position 4 (included) to the end\n",
    "\n",
    "word[-2:]  # characters from the second-last (included) to the end"
   ]
  },
  {
   "cell_type": "markdown",
   "id": "3145e293-f31b-4995-87e7-bba2da98d3e5",
   "metadata": {},
   "source": [
    "Notez que le début est toujours inclus et la fin toujours exclue. Cela assure que s[:i] + s[i:] est toujours égal à s :"
   ]
  },
  {
   "cell_type": "code",
   "execution_count": 52,
   "id": "aafc0b1d-c95c-47d1-ba6d-f0ef1cb85928",
   "metadata": {},
   "outputs": [
    {
     "data": {
      "text/plain": [
       "'Pyth on'"
      ]
     },
     "execution_count": 52,
     "metadata": {},
     "output_type": "execute_result"
    }
   ],
   "source": [
    "word[:2] + word[2:]\n",
    "\n",
    "word[:4] +\" \"+ word[4:]"
   ]
  },
  {
   "cell_type": "markdown",
   "id": "175afce8-14c7-446a-8ae2-a3bd77a36be2",
   "metadata": {},
   "source": [
    "Pour mémoriser la façon dont les tranches fonctionnent, vous pouvez imaginer que les indices pointent entre les caractères, le côté gauche du premier caractère ayant la position 0. Le côté droit du dernier caractère d'une chaîne de n caractères a alors pour indice n. Par exemple :\n",
    "```shell\n",
    " +---+---+---+---+---+---+\n",
    " | P | y | t | h | o | n |\n",
    " +---+---+---+---+---+---+\n",
    "   0   1   2   3   4   5   \n",
    "   -6  -5  -4  -3  -2  -1\n",
    "```\n",
    "La première ligne de nombres donne la position des indices 0…6 dans la chaîne ; la deuxième ligne donne l'indice négatif correspondant. La tranche de i à j est constituée de tous les caractères situés entre les bords libellés i et j, respectivement.\n",
    "\n",
    "Pour des indices non négatifs, la longueur d'une tranche est la différence entre ces indices, si les deux sont entre les bornes. Par exemple, la longueur de```word[1:3]``` est 2.\n",
    "\n",
    "Utiliser un indice trop grand produit une erreur :"
   ]
  },
  {
   "cell_type": "code",
   "execution_count": 53,
   "id": "e065b4a9-1725-4848-b256-c5d2676845b4",
   "metadata": {},
   "outputs": [
    {
     "ename": "IndexError",
     "evalue": "string index out of range",
     "output_type": "error",
     "traceback": [
      "\u001b[0;31m---------------------------------------------------------------------------\u001b[0m",
      "\u001b[0;31mIndexError\u001b[0m                                Traceback (most recent call last)",
      "Cell \u001b[0;32mIn[53], line 1\u001b[0m\n\u001b[0;32m----> 1\u001b[0m \u001b[43mword\u001b[49m\u001b[43m[\u001b[49m\u001b[38;5;241;43m42\u001b[39;49m\u001b[43m]\u001b[49m  \u001b[38;5;66;03m# the word only has 6 characters\u001b[39;00m\n",
      "\u001b[0;31mIndexError\u001b[0m: string index out of range"
     ]
    }
   ],
   "source": [
    "word[42]  # the word only has 6 characters"
   ]
  },
  {
   "cell_type": "markdown",
   "id": "e6fbced6-70f8-4f0b-9ec9-9ac793b563ea",
   "metadata": {},
   "source": [
    "Cependant, les indices hors bornes sont gérés silencieusement lorsqu'ils sont utilisés dans des tranches :"
   ]
  },
  {
   "cell_type": "code",
   "execution_count": 54,
   "id": "b359b7b9-dc8c-47ea-9dea-bfc08b0fd2b2",
   "metadata": {},
   "outputs": [
    {
     "data": {
      "text/plain": [
       "''"
      ]
     },
     "execution_count": 54,
     "metadata": {},
     "output_type": "execute_result"
    }
   ],
   "source": [
    "word[4:42]\n",
    "\n",
    "word[42:]"
   ]
  },
  {
   "cell_type": "markdown",
   "id": "0f01b7ac-5f16-4f18-9e17-2f4c7da72fa4",
   "metadata": {},
   "source": [
    "Les chaînes de caractères, en Python, ne peuvent pas être modifiées. On dit qu'elles sont immuables. Affecter une nouvelle valeur à un indice dans une chaîne produit une erreur :"
   ]
  },
  {
   "cell_type": "code",
   "execution_count": null,
   "id": "b4cb64c7-4716-4556-9765-f97a1f9c18bd",
   "metadata": {},
   "outputs": [],
   "source": [
    "word[0] = 'J'\n",
    "\n",
    "word[2:] = 'py'"
   ]
  },
  {
   "cell_type": "markdown",
   "id": "aa43b688-f112-43d6-9b12-e8849ee1437e",
   "metadata": {},
   "source": [
    "Si vous avez besoin d'une chaîne différente, vous devez en créer une nouvelle :"
   ]
  },
  {
   "cell_type": "code",
   "execution_count": 55,
   "id": "7c6b4171-ada0-4a6d-b9be-b677040107e5",
   "metadata": {},
   "outputs": [
    {
     "data": {
      "text/plain": [
       "'Pypy'"
      ]
     },
     "execution_count": 55,
     "metadata": {},
     "output_type": "execute_result"
    }
   ],
   "source": [
    "'J' + word[1:]\n",
    "\n",
    "word[:2] + 'py'"
   ]
  },
  {
   "cell_type": "markdown",
   "id": "88e04c32-831c-490e-9d90-67d91ba42b50",
   "metadata": {},
   "source": [
    "La fonction native ```len()``` renvoie la longueur d'une chaîne :"
   ]
  },
  {
   "cell_type": "code",
   "execution_count": 56,
   "id": "85759d76-a06b-4fa9-b5a2-1c047b588511",
   "metadata": {},
   "outputs": [
    {
     "data": {
      "text/plain": [
       "34"
      ]
     },
     "execution_count": 56,
     "metadata": {},
     "output_type": "execute_result"
    }
   ],
   "source": [
    "s = 'supercalifragilisticexpialidocious'\n",
    "len(s)"
   ]
  },
  {
   "cell_type": "markdown",
   "id": "ad8d1848-ad57-4770-8739-7c004a7d39b0",
   "metadata": {},
   "source": [
    "Voir aussi\n",
    "Type Séquence de Texte — str\n",
    "Les chaînes de caractères sont des exemples de types séquences ; elles acceptent donc les opérations classiques prises en charge par ces types.\n",
    "Méthodes de chaînes de caractères\n",
    "Les chaînes de caractères gèrent un large éventail de méthodes de transformations basiques et de recherche.\n",
    "Chaînes de caractères littérales formatées\n",
    "Des chaînes littérales qui contiennent des expressions.\n",
    "Syntaxe de formatage de chaîne\n",
    "Informations sur le formatage des chaînes avec la méthode str.format().\n",
    "Formatage de chaines à la printf\n",
    "Description détaillée des anciennes méthodes de mise en forme, appelées lorsque les chaînes de caractères sont à gauche de l'opérateur %.\n",
    "\n",
    "## 1.3. Listes\n",
    "Python connaît différents types de données combinés, utilisés pour regrouper plusieurs valeurs. Le plus souple est la liste, qui peut être écrit comme une suite, placée entre crochets, de valeurs (éléments) séparées par des virgules. Les éléments d'une liste ne sont pas obligatoirement tous du même type, bien qu'à l'usage ce soit souvent le cas."
   ]
  },
  {
   "cell_type": "code",
   "execution_count": 57,
   "id": "acefd6b9-1aca-4935-8bf4-eb4e9c01dd48",
   "metadata": {},
   "outputs": [
    {
     "data": {
      "text/plain": [
       "[1, 4, 9, 16, 25]"
      ]
     },
     "execution_count": 57,
     "metadata": {},
     "output_type": "execute_result"
    }
   ],
   "source": [
    "squares = [1, 4, 9, 16, 25]\n",
    "squares"
   ]
  },
  {
   "cell_type": "markdown",
   "id": "cb622e5f-7f43-41c3-bd04-37293831b843",
   "metadata": {},
   "source": [
    "Comme les chaînes de caractères (et toute autre type de sequence), les listes peuvent être indicées et découpées :"
   ]
  },
  {
   "cell_type": "code",
   "execution_count": 58,
   "id": "139f81c7-f140-4dd6-905d-7226f9a550e5",
   "metadata": {},
   "outputs": [
    {
     "data": {
      "text/plain": [
       "[9, 16, 25]"
      ]
     },
     "execution_count": 58,
     "metadata": {},
     "output_type": "execute_result"
    }
   ],
   "source": [
    "\n",
    "squares[0]  # indexing returns the item\n",
    "\n",
    "squares[-1]\n",
    "\n",
    "squares[-3:]  # slicing returns a new list"
   ]
  },
  {
   "cell_type": "markdown",
   "id": "1f5d040c-f80d-4fb6-97c9-a7bafe936889",
   "metadata": {},
   "source": [
    "Toutes les opérations par tranches renvoient une nouvelle liste contenant les éléments demandés. Cela signifie que l'opération suivante renvoie une copie (superficielle) de la liste :"
   ]
  },
  {
   "cell_type": "code",
   "execution_count": 61,
   "id": "76c43b97-a036-4da8-b35d-bbf69107a6ec",
   "metadata": {},
   "outputs": [
    {
     "data": {
      "text/plain": [
       "[1, 4, 9, 16, 25]"
      ]
     },
     "execution_count": 61,
     "metadata": {},
     "output_type": "execute_result"
    }
   ],
   "source": [
    "squares[:]"
   ]
  },
  {
   "cell_type": "markdown",
   "id": "2775100c-07e5-46f4-b2cf-b97ff9e5c11f",
   "metadata": {},
   "source": [
    "Les listes gèrent aussi les opérations comme les concaténations :"
   ]
  },
  {
   "cell_type": "code",
   "execution_count": 62,
   "id": "b9193575-472c-444a-bc1e-d50e56919e90",
   "metadata": {},
   "outputs": [
    {
     "data": {
      "text/plain": [
       "[1, 4, 9, 16, 25, 36, 49, 64, 81, 100]"
      ]
     },
     "execution_count": 62,
     "metadata": {},
     "output_type": "execute_result"
    }
   ],
   "source": [
    "squares + [36, 49, 64, 81, 100]"
   ]
  },
  {
   "cell_type": "markdown",
   "id": "7c950598-4e67-437e-b158-e55d34205e48",
   "metadata": {},
   "source": [
    "Mais à la différence des chaînes qui sont immuables, les listes sont muables : il est possible de modifier leur contenu :"
   ]
  },
  {
   "cell_type": "code",
   "execution_count": 63,
   "id": "ab75e6be-b350-493d-8ae8-fcdc960b0dbc",
   "metadata": {},
   "outputs": [
    {
     "data": {
      "text/plain": [
       "[1, 8, 27, 64, 125]"
      ]
     },
     "execution_count": 63,
     "metadata": {},
     "output_type": "execute_result"
    }
   ],
   "source": [
    "cubes = [1, 8, 27, 65, 125]  # something's wrong here\n",
    "4 ** 3  # the cube of 4 is 64, not 65!\n",
    "\n",
    "cubes[3] = 64  # replace the wrong value\n",
    "cubes"
   ]
  },
  {
   "cell_type": "markdown",
   "id": "08be060a-463e-4b42-8686-1be98e810b74",
   "metadata": {},
   "source": [
    "Il est aussi possible d'ajouter de nouveaux éléments à la fin d'une liste avec la méthode append() (les méthodes sont abordées plus tard) :"
   ]
  },
  {
   "cell_type": "code",
   "execution_count": null,
   "id": "ab305adf-ba42-4cdc-b36b-52d37758f5c5",
   "metadata": {},
   "outputs": [],
   "source": [
    "cubes.append(216)  # add the cube of 6\n",
    "cubes.append(7 ** 3)  # and the cube of 7\n",
    "cubes"
   ]
  },
  {
   "cell_type": "markdown",
   "id": "cee4377e-1498-47ad-ab05-54c6eb3f17c8",
   "metadata": {
    "jp-MarkdownHeadingCollapsed": true,
    "tags": []
   },
   "source": [
    "Des affectations de tranches sont également possibles, ce qui peut même modifier la taille de la liste ou la vider complètement :"
   ]
  },
  {
   "cell_type": "code",
   "execution_count": null,
   "id": "c61afe69-7c09-4e1f-9d1c-a7cd026666c7",
   "metadata": {},
   "outputs": [],
   "source": [
    "letters = ['a', 'b', 'c', 'd', 'e', 'f', 'g']\n",
    "letters\n",
    "\n",
    "# replace some values\n",
    "letters[2:5] = ['C', 'D', 'E']\n",
    "letters\n",
    "\n",
    "# now remove them\n",
    "letters[2:5] = []\n",
    "letters\n",
    "\n",
    "# clear the list by replacing all the elements with an empty list\n",
    "letters[:] = []\n",
    "letters"
   ]
  },
  {
   "cell_type": "markdown",
   "id": "d720b518-9e94-4d73-b453-f07efab78758",
   "metadata": {},
   "source": [
    "La primitive len() s'applique aussi aux listes :"
   ]
  },
  {
   "cell_type": "code",
   "execution_count": null,
   "id": "47d3bf23-7e74-4837-b0b0-eaea47f889ba",
   "metadata": {},
   "outputs": [],
   "source": [
    "letters = ['a', 'b', 'c', 'd']\n",
    "len(letters)"
   ]
  },
  {
   "cell_type": "markdown",
   "id": "70f34417-28ef-49e7-8f6d-ec62064cfda3",
   "metadata": {},
   "source": [
    "Il est possible d'imbriquer des listes (c.-à-d. créer des listes contenant d'autres listes). Par exemple :"
   ]
  },
  {
   "cell_type": "code",
   "execution_count": null,
   "id": "75b54a92-36c5-41de-8ba3-d1c37890c76d",
   "metadata": {},
   "outputs": [],
   "source": [
    "a = ['a', 'b', 'c']\n",
    "n = [1, 2, 3]\n",
    "x = [a, n]\n",
    "x\n",
    "\n",
    "x[0]\n",
    "\n",
    "x[0][1]"
   ]
  },
  {
   "cell_type": "markdown",
   "id": "66e5cfb7-b5df-47ee-b60f-ce4780a6f2bf",
   "metadata": {},
   "source": [
    "\n",
    "# 2. Premiers pas vers la programmation\n",
    "Bien entendu, on peut utiliser Python pour des tâches plus compliquées que d'additionner deux et deux. Par exemple, on peut écrire le début de la suite de Fibonacci comme ceci :"
   ]
  },
  {
   "cell_type": "code",
   "execution_count": null,
   "id": "10b19afd-7b84-4724-97cb-80141f703413",
   "metadata": {},
   "outputs": [],
   "source": [
    "# Fibonacci series:\n",
    "# the sum of two elements defines the next\n",
    "a, b = 0, 1\n",
    "while a < 10:\n",
    "    print(a)\n",
    "    a, b = b, a+b"
   ]
  },
  {
   "cell_type": "markdown",
   "id": "690892d6-4987-4e95-8c28-acdc088d76b0",
   "metadata": {},
   "source": [
    "Cet exemple introduit plusieurs nouvelles fonctionnalités.\n",
    "\n",
    "La première ligne contient une affectation multiple : les variables a et b se voient affecter simultanément leurs nouvelles valeurs 0 et 1. Cette méthode est encore utilisée à la dernière ligne, pour démontrer que les expressions sur la partie droite de l'affectation sont toutes évaluées avant que les affectations ne soient effectuées. Ces expressions en partie droite sont toujours évaluées de la gauche vers la droite.\n",
    "\n",
    "La boucle while s'exécute tant que la condition (ici : a < 10) reste vraie. En Python, comme en C, tout entier différent de zéro est vrai et zéro est faux. La condition peut aussi être une chaîne de caractères, une liste, ou en fait toute séquence ; une séquence avec une valeur non nulle est vraie, une séquence vide est fausse. Le test utilisé dans l'exemple est une simple comparaison. Les opérateurs de comparaison standards sont écrits comme en C : < (inférieur), > (supérieur), == (égal), <= (inférieur ou égal), >= (supérieur ou égal) et != (non égal).\n",
    "\n",
    "Le corps de la boucle est indenté : l'indentation est la méthode utilisée par Python pour regrouper des instructions. En mode interactif, vous devez saisir une tabulation ou des espaces pour chaque ligne indentée. En pratique, vous aurez intérêt à utiliser un éditeur de texte pour les saisies plus compliquées ; tous les éditeurs de texte dignes de ce nom disposent d'une fonction d'auto-indentation. Lorsqu'une expression composée est saisie en mode interactif, elle doit être suivie d'une ligne vide pour indiquer qu'elle est terminée (car l'analyseur ne peut pas deviner que vous venez de saisir la dernière ligne). Notez bien que toutes les lignes à l'intérieur d'un bloc doivent être indentées au même niveau.\n",
    "\n",
    "La fonction print() écrit les valeurs des paramètres qui lui sont fournis. Ce n'est pas la même chose que d'écrire l'expression que vous voulez afficher (comme nous l'avons fait dans l'exemple de la calculatrice), en raison de la manière qu'a print de gérer les paramètres multiples, les nombres décimaux et les chaînes. Les chaînes sont affichées sans apostrophe et une espace est insérée entre les éléments de telle sorte que vous pouvez facilement formater les choses, comme ceci :"
   ]
  },
  {
   "cell_type": "code",
   "execution_count": null,
   "id": "1ac0547c-b178-4b6b-9b7b-0a79e0b96e51",
   "metadata": {},
   "outputs": [],
   "source": [
    "i = 256*256\n",
    "print('The value of i is', i)"
   ]
  },
  {
   "cell_type": "markdown",
   "id": "4df77d35-0e57-43c5-b534-03e678d85012",
   "metadata": {},
   "source": [
    "Le paramètre nommé end peut servir pour enlever le retour à la ligne ou pour terminer la ligne par une autre chaîne :"
   ]
  },
  {
   "cell_type": "code",
   "execution_count": null,
   "id": "e9e2136a-fee2-4589-831b-c059dd357031",
   "metadata": {},
   "outputs": [],
   "source": [
    "a, b = 0, 1\n",
    "while a < 1000:\n",
    "    print(a, end=',')\n",
    "    a, b = b, a+b"
   ]
  },
  {
   "cell_type": "code",
   "execution_count": 81,
   "id": "998f3653",
   "metadata": {},
   "outputs": [
    {
     "name": "stdin",
     "output_type": "stream",
     "text": [
      "Entrer une valeur 4\n"
     ]
    }
   ],
   "source": [
    "val = int(input(\"Entrer une valeur\"))"
   ]
  },
  {
   "cell_type": "code",
   "execution_count": 82,
   "id": "683d5e6a-2345-42e5-9ef3-ad237adc336d",
   "metadata": {},
   "outputs": [
    {
     "name": "stdout",
     "output_type": "stream",
     "text": [
      "La valeur est 4.00\n",
      "4\n"
     ]
    }
   ],
   "source": [
    "print (f\"La valeur est {val:.2f}\")\n",
    "print(val)"
   ]
  },
  {
   "cell_type": "code",
   "execution_count": null,
   "id": "5d24fcde-55c0-47dd-84eb-c71c89897824",
   "metadata": {},
   "outputs": [],
   "source": []
  }
 ],
 "metadata": {
  "kernelspec": {
   "display_name": "py11",
   "language": "python",
   "name": "py11"
  },
  "language_info": {
   "codemirror_mode": {
    "name": "ipython",
    "version": 3
   },
   "file_extension": ".py",
   "mimetype": "text/x-python",
   "name": "python",
   "nbconvert_exporter": "python",
   "pygments_lexer": "ipython3",
   "version": "3.11.0"
  }
 },
 "nbformat": 4,
 "nbformat_minor": 5
}
