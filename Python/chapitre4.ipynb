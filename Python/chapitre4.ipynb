{
 "cells": [
  {
   "cell_type": "markdown",
   "id": "9c0caa83",
   "metadata": {},
   "source": [
    "# Outils de contrôle de flux\n",
    "En plus de l’instruction while qui vient d’être présentée, Python dispose des instructions de contrôle de flux classiques que l’on trouve dans d’autres langages, mais toujours avec ses propres tournures.\n",
    "\n",
    "## L’instruction if\n",
    "L’instruction if est sans doute la plus connue. Par exemple :"
   ]
  },
  {
   "cell_type": "code",
   "execution_count": null,
   "id": "bf7e1c16",
   "metadata": {},
   "outputs": [],
   "source": [
    "x = int(input(\"Please enter an integer: \"))"
   ]
  },
  {
   "cell_type": "code",
   "execution_count": null,
   "id": "427df252",
   "metadata": {},
   "outputs": [],
   "source": [
    "if x < 0:\n",
    "    x=0\n",
    "    print('Negative changed to zero')\n",
    "elif x == 0:\n",
    "    print('Zero')\n",
    "elif x == 1:\n",
    "    print('Single')\n",
    "else:\n",
    "    print('More')"
   ]
  },
  {
   "cell_type": "markdown",
   "id": "5a9f9f80",
   "metadata": {},
   "source": [
    "Il peut y avoir un nombre quelconque de parties ```elif``` et la partie else est facultative. Le mot clé elif est un raccourci pour else if, et permet de gagner un niveau d’indentation. Une séquence ```if ... elif ... elif ...``` est par ailleurs équivalente aux instructions switch ou case disponibles dans d’autres langages.\n",
    "Pour les comparaisons avec beaucoup de constantes, ainsi que les tests d’appartenance à un type ou de forme d’un attribut, l’instruction match décrite plus bas peut se révéler utile (voir L’instruction match).\n",
    "\n",
    "## L’instruction for\n",
    "L’instruction for que propose Python est un peu différente de celle que l’on peut trouver en C ou en Pascal. Au lieu de toujours itérer sur une suite arithmétique de nombres (comme en Pascal), ou de donner à l’utilisateur la possibilité de définir le pas d’itération et la condition de fin (comme en C), l’instruction for en Python itère sur les éléments d’une séquence (qui peut être une liste, une chaîne de caractères. . .), dans l’ordre dans lequel ils apparaissent dans la séquence. Par exemple :"
   ]
  },
  {
   "cell_type": "code",
   "execution_count": 6,
   "id": "7aca14cc",
   "metadata": {},
   "outputs": [
    {
     "name": "stdout",
     "output_type": "stream",
     "text": [
      "cat 3\n",
      "c\n",
      "a\n",
      "t\n",
      "window 6\n",
      "w\n",
      "i\n",
      "n\n",
      "d\n",
      "o\n",
      "w\n",
      "defenestrate 12\n",
      "d\n",
      "e\n",
      "f\n",
      "e\n",
      "n\n",
      "e\n",
      "s\n",
      "t\n",
      "r\n",
      "a\n",
      "t\n",
      "e\n"
     ]
    }
   ],
   "source": [
    "# Measure some strings:\n",
    "words = ['cat', 'window', 'defenestrate']\n",
    "for word in words:\n",
    "    print(word, len(word))\n",
    "    for letter in word:\n",
    "        print(letter)"
   ]
  },
  {
   "cell_type": "markdown",
   "id": "a86891a0",
   "metadata": {},
   "source": [
    "Écrire du code qui modifie une collection tout en itérant dessus peut s’avérer délicat. Il est généralement plus simple de boucler sur une copie de la collection ou de créer une nouvelle collection :"
   ]
  },
  {
   "cell_type": "code",
   "execution_count": 14,
   "id": "96f9e864",
   "metadata": {},
   "outputs": [],
   "source": [
    "users = {'Hans': 'active', 'Éléonore': 'inactive', '': 'active'}\n",
    "# Strategy:  Iterate over a copy\n",
    "          \n",
    "for user, status in users.copy().items():\n",
    "    if status == 'inactive':\n",
    "        del users[user]\n",
    "\n",
    "# Strategy:  Create a new collection\n",
    "active_users = {} \n",
    "for user, status in users.items():\n",
    "    if status == 'active':\n",
    "        active_users[user] = status"
   ]
  },
  {
   "cell_type": "markdown",
   "id": "b6d3abe3",
   "metadata": {},
   "source": [
    "## La fonction ```range()```\n",
    "Si vous devez itérer sur une suite de nombres, la fonction native range() est faite pour cela. Elle\n",
    "génère des suites arithmétiques :"
   ]
  },
  {
   "cell_type": "code",
   "execution_count": 16,
   "id": "067c2983",
   "metadata": {},
   "outputs": [
    {
     "name": "stdout",
     "output_type": "stream",
     "text": [
      "0\n",
      "1\n",
      "2\n",
      "3\n",
      "4\n",
      "range(0, 5)\n"
     ]
    }
   ],
   "source": [
    "for i in range(5):\n",
    "    print(i)\n",
    "print(range(5))"
   ]
  },
  {
   "cell_type": "markdown",
   "id": "4519a199",
   "metadata": {},
   "source": [
    "Le dernier élément fourni en paramètre ne fait jamais partie de la liste générée; range(10) génère une liste de 10 valeurs, dont les valeurs vont de 0 à 9. Il est possible de spécifier une valeur de début et une valeur d’incrément différentes (y compris négative pour cette dernière, que l’on appelle également parfois le « pas ») :"
   ]
  },
  {
   "cell_type": "code",
   "execution_count": 17,
   "id": "5cb8d43b",
   "metadata": {},
   "outputs": [
    {
     "data": {
      "text/plain": [
       "[5, 6, 7, 8, 9]"
      ]
     },
     "execution_count": 17,
     "metadata": {},
     "output_type": "execute_result"
    }
   ],
   "source": [
    "list(range(5, 10))"
   ]
  },
  {
   "cell_type": "code",
   "execution_count": null,
   "id": "85a3eab7",
   "metadata": {},
   "outputs": [],
   "source": [
    "list(range(0, 10, 3))"
   ]
  },
  {
   "cell_type": "code",
   "execution_count": 18,
   "id": "ecb5f36d",
   "metadata": {},
   "outputs": [
    {
     "data": {
      "text/plain": [
       "[-10, -40, -70]"
      ]
     },
     "execution_count": 18,
     "metadata": {},
     "output_type": "execute_result"
    }
   ],
   "source": [
    "list(range(-10, -100, -30))"
   ]
  },
  {
   "cell_type": "markdown",
   "id": "cf8356fa",
   "metadata": {},
   "source": [
    "Pour itérer sur les indices d’une séquence, on peut combiner les fonctions ```range()``` et ```len()``` :"
   ]
  },
  {
   "cell_type": "code",
   "execution_count": null,
   "id": "a3e4a32c",
   "metadata": {},
   "outputs": [],
   "source": [
    "a = ['Mary', 'had', 'a', 'little', 'lamb']\n",
    "for i in range(len(a)):\n",
    "    print(i, a[i])"
   ]
  },
  {
   "cell_type": "markdown",
   "id": "526fe8c1",
   "metadata": {},
   "source": [
    "Cependant, dans la plupart des cas, il est plus pratique d’utiliser la fonction ```enumerate()```. Voyez pour cela Techniques de boucles.\n",
    "Une chose étrange se produit lorsqu’on affiche un ```range``` :"
   ]
  },
  {
   "cell_type": "code",
   "execution_count": null,
   "id": "f278f1f5",
   "metadata": {},
   "outputs": [],
   "source": [
    "range(10)"
   ]
  },
  {
   "cell_type": "markdown",
   "id": "32c76d6f",
   "metadata": {},
   "source": [
    "L’objet renvoyé par ```range()``` se comporte presque comme une liste, mais ce n’en est pas une. Cet objet génère les éléments de la séquence au fur et à mesure de l’itération, sans réellement produire la liste en tant que telle, économisant ainsi de l’espace.\n",
    "\n",
    "On appelle de tels objets des itérables, c’est-à-dire des objets qui conviennent à des fonctions ou constructions qui s’attendent à quelque chose duquel elles peuvent tirer des éléments, successivement, jusqu’à épuisement. Nous avons vu que l’instruction for est une de ces constructions, et un exemple de fonction qui prend un itérable en paramètre est ```sum()``` :"
   ]
  },
  {
   "cell_type": "code",
   "execution_count": null,
   "id": "5757c487",
   "metadata": {},
   "outputs": [],
   "source": [
    "sum(range(4)) #0+1+2+3"
   ]
  },
  {
   "cell_type": "markdown",
   "id": "6ac9c476",
   "metadata": {},
   "source": [
    "Plus loin nous voyons d’autres fonctions qui donnent des itérables ou en prennent en paramètre. De plus amples détails sur list() sont donnés dans Structures de données.\n",
    "\n",
    "## Les instructions break, continue et les clauses else au sein des boucles \n",
    "\n",
    "L’instruction ```break```, comme en C, interrompt la boucle for ou while la plus profonde.\n",
    "Les boucles peuvent également disposer d’une instruction ```else``` ; celle-ci est exécutée lorsqu’une boucle se termine alors que tous ses éléments ont été traités (dans le cas d’un ```for```) ou que la condition devient fausse (dans le cas d’un ```while```), mais pas lorsque la boucle est interrompue par une instruction ```break```. \n",
    "\n",
    "L’exemple suivant, qui effectue une recherche de nombres premiers, en est une démonstration :"
   ]
  },
  {
   "cell_type": "code",
   "execution_count": null,
   "id": "07ba85b2",
   "metadata": {},
   "outputs": [],
   "source": [
    "for n in range(2, 10):\n",
    "    for x in range(2, n):\n",
    "        if n % x == 0:\n",
    "            print(n, 'equals', x, '*', n//x)\n",
    "            break\n",
    "    else:\n",
    "        # loop fell through without finding a factor\n",
    "        print(n, 'is a prime number')"
   ]
  },
  {
   "cell_type": "markdown",
   "id": "68f6e88b",
   "metadata": {},
   "source": [
    "Oui, ce code est correct. Regardez attentivement : l’instruction ```else``` est rattachée à la boucle ```for```, et non à l’instruction ```if```.\n",
    "Lorsqu’elle utilisée dans une boucle, la clause ```else``` est donc plus proche de celle associée à une instruction ```try``` que de celle associée à une instruction```if``` : la clause else d’une instruction```try``` s’exécute lorsqu’aucune exception n’est déclenchée, et celle d’une boucle lorsqu’aucun break n’intervient. Pour plus d’informations sur l’instruction ```try``` et le traitement des exceptions, consultez la section Gestion des exceptions.\n",
    "\n",
    "L’instruction ```continue```, également empruntée au C, fait passer la boucle à son itération suivante :"
   ]
  },
  {
   "cell_type": "code",
   "execution_count": null,
   "id": "2b966325",
   "metadata": {},
   "outputs": [],
   "source": [
    "for num in range(2, 10):\n",
    "    if num % 2 == 0:\n",
    "        print(\"Found an even number\", num)\n",
    "        continue\n",
    "    print(\"Found an odd number\", num)"
   ]
  },
  {
   "cell_type": "markdown",
   "id": "d4be2171",
   "metadata": {},
   "source": [
    "## L’instruction pass\n",
    "L’instruction pass ne fait rien. Elle peut être utilisée lorsqu’une instruction est nécessaire pour fournir une syntaxe correcte, mais qu’aucune action ne doit être effectuée. \n",
    "\n",
    "Par exemple :"
   ]
  },
  {
   "cell_type": "code",
   "execution_count": null,
   "id": "78f49720",
   "metadata": {},
   "outputs": [],
   "source": [
    "while True:\n",
    "    pass  # Busy-wait for keyboard interrupt (Ctrl+C)"
   ]
  },
  {
   "cell_type": "markdown",
   "id": "af79fb2a",
   "metadata": {},
   "source": [
    "Un autre cas d’utilisation du ```pass``` est de réserver un espace en phase de développement pour une fonction ou un traitement conditionnel, vous permettant ainsi de construire votre code à un niveau plus abstrait. \n",
    "\n",
    "L’instruction pass est alors ignorée silencieusement :"
   ]
  },
  {
   "cell_type": "code",
   "execution_count": null,
   "id": "baed4a5d",
   "metadata": {},
   "outputs": [],
   "source": [
    "def initlog(*args):\n",
    "    pass   # Remember to implement this!"
   ]
  },
  {
   "cell_type": "markdown",
   "id": "f8d0380d-a3ca-4f69-9900-8ad1bcb60b82",
   "metadata": {},
   "source": [
    "## 6. L'instruction match\n",
    "A match statement takes an expression and compares its value to successive patterns given as one or more case blocks. This is superficially similar to a switch statement in C, Java or JavaScript (and many other languages), but it's more similar to pattern matching in languages like Rust or Haskell. Only the first pattern that matches gets executed and it can also extract components (sequence elements or object attributes) from the value into variables.\n",
    "\n",
    "Dans sa plus simple expression, une instruction match compare une valeur à des littéraux :"
   ]
  },
  {
   "cell_type": "code",
   "execution_count": null,
   "id": "a69e1f54-3a2b-4b49-b531-09b1bbc0b3e3",
   "metadata": {},
   "outputs": [],
   "source": [
    "def http_error(status):\n",
    "    match status:\n",
    "        case 400:\n",
    "            return \"Bad request\"\n",
    "        case 404:\n",
    "            return \"Not found\"\n",
    "        case 418:\n",
    "            return \"I'm a teapot\"\n",
    "        case _:\n",
    "            return \"Something's wrong with the internet\""
   ]
  },
  {
   "cell_type": "markdown",
   "id": "9ef7c0fe-2366-4e26-9b1d-bcb59023fc2f",
   "metadata": {},
   "source": [
    "Remarquez l'emploi du signe souligné _ dans le dernier bloc, qui est normalement un nom de variable spécial. Ici, c'est un filtre attrape-tout, c'est-à-dire qu'il accepte toutes les valeurs. Si aucun des filtres dans les case ne fonctionne, aucune des branches indentées sous les case n'est exécutée.\n",
    "\n",
    "On peut combiner plusieurs littéraux en un seul filtre avec le signe |, qui se lit OU :"
   ]
  },
  {
   "cell_type": "code",
   "execution_count": null,
   "id": "c0d10b11-6aa8-47e3-91df-6073d05d5e8a",
   "metadata": {},
   "outputs": [],
   "source": [
    "case 401 | 403 | 404:\n",
    "    return \"Not allowed\""
   ]
  },
  {
   "cell_type": "markdown",
   "id": "60d23249-8a72-4309-b8b3-d618e5e100a6",
   "metadata": {},
   "source": [
    "Les filtres peuvent prendre une forme similaire aux affectations multiples, et provoquer la liaison de variables :"
   ]
  },
  {
   "cell_type": "code",
   "execution_count": null,
   "id": "3ebd8c7f-2c0a-4f5c-9d6c-8c7a2a3ba424",
   "metadata": {},
   "outputs": [],
   "source": [
    "# point is an (x, y) tuple\n",
    "match point:\n",
    "    case (0, 0):\n",
    "        print(\"Origin\")\n",
    "    case (0, y):\n",
    "        print(f\"Y={y}\")\n",
    "    case (x, 0):\n",
    "        print(f\"X={x}\")\n",
    "    case (x, y):\n",
    "        print(f\"X={x}, Y={y}\")\n",
    "    case _:\n",
    "        raise ValueError(\"Not a point\")"
   ]
  },
  {
   "cell_type": "markdown",
   "id": "c27b9756-80d2-4359-b9ba-d783c4895b57",
   "metadata": {},
   "source": [
    "Observez bien cet exemple ! Le premier filtre contient simplement deux littéraux. C'est une sorte d'extension des filtres littéraux. Mais les deux filtres suivants mélangent un littéral et un nom de variable. Si un tel filtre réussit, il provoque l'affectation à la variable. Le quatrième filtre est constitué de deux variables, ce qui le fait beaucoup ressembler à l'affectation multiple (x, y) = point.\n",
    "\n",
    "Si vous structurez vos données par l'utilisation de classes, vous pouvez former des filtres avec le nom de la classe suivi d'une liste d'arguments. Ces filtres sont semblables à l'appel d'un constructeur, et permettent de capturer des attributs :"
   ]
  },
  {
   "cell_type": "code",
   "execution_count": null,
   "id": "17bbd4c7-dba3-44da-a4a2-be3ce98c8fd0",
   "metadata": {},
   "outputs": [],
   "source": [
    "class Point:\n",
    "    x: int\n",
    "    y: int\n",
    "\n",
    "def where_is(point):\n",
    "    match point:\n",
    "        case Point(x=0, y=0):\n",
    "            print(\"Origin\")\n",
    "        case Point(x=0, y=y):\n",
    "            print(f\"Y={y}\")\n",
    "        case Point(x=x, y=0):\n",
    "            print(f\"X={x}\")\n",
    "        case Point():\n",
    "            print(\"Somewhere else\")\n",
    "        case _:\n",
    "            print(\"Not a point\")"
   ]
  },
  {
   "cell_type": "markdown",
   "id": "bb97b1f4-e931-4c07-ad3f-1bb7c79aa592",
   "metadata": {},
   "source": [
    "Un certain nombre de classes natives, notamment les classes de données, prennent en charge le filtrage par arguments positionnels en définissant un ordre des attributs. Vous pouvez ajouter cette possibilité à vos propres classes en y définissant l'attribut spécial __match_args__. Par exemple, le mettre à (\"x\", \"y\") rend tous les filtres ci-dessous équivalents (en particulier, tous provoquent la liaison de l'attribut y à la variable var) :"
   ]
  },
  {
   "cell_type": "code",
   "execution_count": null,
   "id": "09e5e538-79a7-4790-804c-2817be326b48",
   "metadata": {},
   "outputs": [],
   "source": [
    "Point(1, var)\n",
    "Point(1, y=var)\n",
    "Point(x=1, y=var)\n",
    "Point(y=var, x=1)"
   ]
  },
  {
   "cell_type": "markdown",
   "id": "739f45e3-32c0-4c45-b5ba-1f171ea45c8c",
   "metadata": {},
   "source": [
    "Une méthode préconisée pour lire les filtres est de les voir comme une extension de ce que l'on peut placer à gauche du signe = dans une affectation. Cela permet de visualiser quelles variables sont liées à quoi. Seuls les noms simples, comme var ci-dessus, sont des variables susceptibles d'être liées à une valeur. Il n'y a jamais de liaison pour les noms qualifiés (avec un point, comme dans truc.machin), les noms d'attributs (tels que x= et y= dans l'exemple précédent) et les noms de classes (identifiés par les parenthèses à leur droite, comme Point).\n",
    "\n",
    "On peut imbriquer les filtres autant que de besoin. Ainsi, on peut lire une courte liste de points comme ceci :"
   ]
  },
  {
   "cell_type": "code",
   "execution_count": null,
   "id": "4d4d3b7d-5b7f-467e-9f42-78ff31cd9967",
   "metadata": {},
   "outputs": [],
   "source": [
    "match points:\n",
    "    case []:\n",
    "        print(\"No points\")\n",
    "    case [Point(0, 0)]:\n",
    "        print(\"The origin\")\n",
    "    case [Point(x, y)]:\n",
    "        print(f\"Single point {x}, {y}\")\n",
    "    case [Point(0, y1), Point(0, y2)]:\n",
    "        print(f\"Two on the Y axis at {y1}, {y2}\")\n",
    "    case _:\n",
    "        print(\"Something else\")"
   ]
  },
  {
   "cell_type": "markdown",
   "id": "c28a4738-50d2-4283-a7e9-b75861dd36b6",
   "metadata": {},
   "source": [
    "Un filtre peut comporter un if, qui introduit ce que l'on appelle une garde. Si le filtre réussit, la garde est alors testée et, si elle s'évalue à une valeur fausse, l'exécution continue au bloc case suivant. Les variables sont liées avant l'évaluation de la garde, et peuvent être utilisées à l'intérieur :"
   ]
  },
  {
   "cell_type": "code",
   "execution_count": null,
   "id": "01866862-0299-4a91-b054-30136e353117",
   "metadata": {},
   "outputs": [],
   "source": [
    "match point:\n",
    "    case Point(x, y) if x == y:\n",
    "        print(f\"Y=X at {x}\")\n",
    "    case Point(x, y):\n",
    "        print(f\"Not on the diagonal\")"
   ]
  },
  {
   "cell_type": "markdown",
   "id": "b7a4e137-7c96-4224-8eba-9176abd3092b",
   "metadata": {},
   "source": [
    "Voici d’autres caractéristiques importantes de cette instruction :\n",
    "\n",
    "comme dans les affectations multiples, les filtres de n-uplet et de liste sont totalement équivalents et autorisent tous les types de séquences. Exception importante, ils n'autorisent pas les itérateurs ni les chaînes de caractères ;\n",
    "\n",
    "les filtres de séquence peuvent faire intervenir l'affectation étoilée : [x, y, *reste] ou (x, y, *reste) ont le même sens que dans une affectation avec =. Le nom de variable après l'étoile peut aussi être l'attrape-tout _. Ainsi, (x, y, *_) est un filtre qui reconnaît les séquences à deux éléments ou plus, en capturant les deux premiers et en ignorant le reste ;\n",
    "\n",
    "Il existe des filtres d'association. Par exemple, le filtre {\"bande_passante\": b, \"latence\": l} extrait les valeurs des clés \"bande_passante\" et \"latence\" dans un dictionnaire. Contrairement aux filtres de séquence, les clés absentes du filtre sont ignorées. L'affectation double-étoilée (```**reste```) fonctionne aussi (cependant, ```**_``` serait redondant et n'est donc pas permis) ;\n",
    "\n",
    "on peut capturer la valeur d'une partie d'un filtre avec le mot-clé as, par exemple :\n",
    "\n",
    "```case (Point(x1, y1), Point(x2, y2) as p2): ...```\n",
    "Ce filtre, lorsqu'il est comparé à une séquence de deux points, réussit et capture le second dans la variable p2 ;\n",
    "\n",
    "la plupart des littéraux sont comparés par égalité. Néanmoins, les singletons True, False et None sont comparés par identité ;\n",
    "\n",
    "les filtres peuvent contenir des noms qui se réfèrent à des constantes. Ces noms doivent impérativement être qualifiés (contenir un point) pour ne pas être interprétés comme des variables de capture :"
   ]
  },
  {
   "cell_type": "code",
   "execution_count": null,
   "id": "b7a2e4b9-c778-477d-926d-29dd1cb83e2b",
   "metadata": {},
   "outputs": [],
   "source": [
    "from enum import Enum\n",
    "class Color(Enum):\n",
    "    RED = 'red'\n",
    "    GREEN = 'green'\n",
    "    BLUE = 'blue'\n",
    "\n",
    "color = Color(input(\"Enter your choice of 'red', 'blue' or 'green': \"))\n",
    "\n",
    "match color:\n",
    "    case Color.RED:\n",
    "        print(\"I see red!\")\n",
    "    case Color.GREEN:\n",
    "        print(\"Grass is green\")\n",
    "    case Color.BLUE:\n",
    "        print(\"I'm feeling the blues :(\")"
   ]
  },
  {
   "cell_type": "markdown",
   "id": "9c2e8de9-cc75-400c-b71d-586c9b2a246b",
   "metadata": {},
   "source": [
    "Pour plus d'explications et d'exemples, lire la PEP 636 (en anglais), qui est écrite sous forme de tutoriel.\n",
    "\n",
    "## 7. Définir des fonctions\n",
    "On peut créer une fonction qui écrit la suite de Fibonacci jusqu'à une limite imposée :"
   ]
  },
  {
   "cell_type": "code",
   "execution_count": null,
   "id": "f6af46d9-6083-4798-9b9e-a28327a91d9c",
   "metadata": {},
   "outputs": [],
   "source": [
    "def fib(n):    # write Fibonacci series up to n\n",
    "    \"\"\"Print a Fibonacci series up to n.\"\"\"\n",
    "    a, b = 0, 1\n",
    "    while a < n:\n",
    "        print(a, end=' ')\n",
    "        a, b = b, a+b\n",
    "    print()\n",
    "\n",
    "# Now call the function we just defined:\n",
    "fib(2000)"
   ]
  },
  {
   "cell_type": "markdown",
   "id": "8b0e25b3-399f-462e-890e-ab68910fb7b6",
   "metadata": {},
   "source": [
    "Le mot-clé def introduit une définition de fonction. Il doit être suivi du nom de la fonction et d'une liste, entre parenthèses, de ses paramètres. L'instruction qui constitue le corps de la fonction débute à la ligne suivante et doit être indentée.\n",
    "\n",
    "La première instruction d'une fonction peut, de façon facultative, être une chaîne de caractères littérale ; cette chaîne de caractères sera alors la chaîne de documentation de la fonction, appelée docstring (consultez la section Chaînes de documentation pour en savoir plus). Il existe des outils qui utilisent ces chaînes de documentation pour générer automatiquement une documentation en ligne ou imprimée, ou pour permettre à l'utilisateur de naviguer de façon interactive dans le code ; prenez-en l'habitude, c'est une bonne pratique que de documenter le code que vous écrivez.\n",
    "\n",
    "L'exécution d'une fonction introduit une nouvelle table de symboles utilisée par les variables locales de la fonction. Plus précisément, toutes les affectations de variables effectuées au sein d'une fonction stockent les valeurs dans la table des symboles locaux ; en revanche, les références de variables sont recherchées dans la table des symboles locaux, puis dans les tables des symboles locaux des fonctions englobantes, puis dans la table des symboles globaux et finalement dans la table des noms des primitives. Par conséquent, bien qu'elles puissent être référencées, il est impossible d'affecter une valeur à une variable globale ou à une variable d'une fonction englobante (sauf pour les variables globales désignées dans une instruction global et, pour les variables des fonctions englobantes, désignées dans une instruction nonlocal).\n",
    "\n",
    "Les paramètres effectifs (arguments) d'une fonction sont introduits dans la table des symboles locaux de la fonction appelée, au moment où elle est appelée ; par conséquent, les passages de paramètres se font par valeur, la valeur étant toujours une référence à un objet et non la valeur de l'objet lui-même 1. Lorsqu'une fonction appelle une autre fonction, ou s'appelle elle-même par récursion, une nouvelle table de symboles locaux est créée pour cet appel.\n",
    "\n",
    "Une définition de fonction associe un nom de fonction à un objet fonction dans l'espace de noms actuel. Pour l'interpréteur, l'objet référencé par ce nom est une fonction définie par l'utilisateur. Plusieurs noms peuvent faire référence à une même fonction, ils peuvent alors tous être utilisés pour appeler la fonction :"
   ]
  },
  {
   "cell_type": "code",
   "execution_count": null,
   "id": "032dfb5f-3c2d-40a3-9244-623b93042623",
   "metadata": {},
   "outputs": [],
   "source": [
    "fib\n",
    "\n",
    "f = fib\n",
    "f(100)"
   ]
  },
  {
   "cell_type": "markdown",
   "id": "aae3c89c-40be-444f-81b3-ce391f2f5b54",
   "metadata": {},
   "source": [
    "Si vous venez d'autres langages, vous pouvez penser que fib n'est pas une fonction mais une procédure, puisqu'elle ne renvoie pas de résultat. En fait, même les fonctions sans instruction return renvoient une valeur, quoique ennuyeuse. Cette valeur est appelée None (c'est le nom d'une primitive). Écrire la valeur None est normalement supprimé par l'interpréteur lorsqu'il s'agit de la seule valeur qui doit être écrite. Vous pouvez le constater, si vous y tenez vraiment, en utilisant print() :"
   ]
  },
  {
   "cell_type": "code",
   "execution_count": null,
   "id": "04ba9523-3a8f-42a5-84fc-27d087beb8c0",
   "metadata": {},
   "outputs": [],
   "source": [
    "fib(0)\n",
    "print(fib(0))"
   ]
  },
  {
   "cell_type": "markdown",
   "id": "63c529fb-b56d-443a-acbb-7bf75af25e96",
   "metadata": {},
   "source": [
    "Il est facile d'écrire une fonction qui renvoie une liste de la série de Fibonacci au lieu de l'afficher :"
   ]
  },
  {
   "cell_type": "code",
   "execution_count": null,
   "id": "f04e9919-b934-4205-8c0a-1624c347e4fc",
   "metadata": {},
   "outputs": [],
   "source": [
    "def fib2(n):  # return Fibonacci series up to n\n",
    "    \"\"\"Return a list containing the Fibonacci series up to n.\"\"\"\n",
    "    result = []\n",
    "    a, b = 0, 1\n",
    "    while a < n:\n",
    "        result.append(a)    # see below\n",
    "        a, b = b, a+b\n",
    "    return result\n",
    "\n",
    "f100 = fib2(100)    # call it\n",
    "f100                # write the result"
   ]
  },
  {
   "cell_type": "markdown",
   "id": "bd5b86e0-fa20-4089-8ad3-190b7b1513da",
   "metadata": {},
   "source": [
    "Cet exemple, comme d'habitude, illustre de nouvelles fonctionnalités de Python :\n",
    "\n",
    "l'instruction return provoque la sortie de la fonction en renvoyant une valeur. return sans expression en paramètre renvoie None. Arriver à la fin d'une fonction renvoie également None ;\n",
    "l'instruction result.append(a) appelle une méthode de l'objet result qui est une liste. Une méthode est une fonction qui « appartient » à un objet et qui est nommée obj.methodname, où obj est un objet (il peut également s'agir d'une expression) et methodname est le nom d'une méthode que le type de l'objet définit. Différents types définissent différentes méthodes. Des méthodes de différents types peuvent porter le même nom sans qu'il n'y ait d'ambigüité (vous pouvez définir vos propres types d'objets et leurs méthodes en utilisant des classes, voir Classes). La méthode append() utilisée dans cet exemple est définie pour les listes ; elle ajoute un nouvel élément à la fin de la liste. Dans cet exemple, elle est l'équivalent de result = result + [a], en plus efficace.\n",
    "4.8. Davantage sur la définition des fonctions\n",
    "Il est également possible de définir des fonctions avec un nombre variable d'arguments. Trois syntaxes peuvent être utilisées, éventuellement combinées.\n",
    "\n",
    "### 8.1. Valeur par défaut des arguments\n",
    "La forme la plus utile consiste à indiquer une valeur par défaut pour certains arguments. Ceci crée une fonction qui peut être appelée avec moins d'arguments que ceux présents dans sa définition. Par exemple :"
   ]
  },
  {
   "cell_type": "code",
   "execution_count": null,
   "id": "0a8c323e-52f3-419c-ab8a-b4703d1b2713",
   "metadata": {},
   "outputs": [],
   "source": [
    "def ask_ok(prompt, retries=4, reminder='Please try again!'):\n",
    "    while True:\n",
    "        ok = input(prompt)\n",
    "        if ok in ('y', 'ye', 'yes'):\n",
    "            return True\n",
    "        if ok in ('n', 'no', 'nop', 'nope'):\n",
    "            return False\n",
    "        retries = retries - 1\n",
    "        if retries < 0:\n",
    "            raise ValueError('invalid user response')\n",
    "        print(reminder)"
   ]
  },
  {
   "cell_type": "markdown",
   "id": "71681637-aec4-4d70-a278-d34b9f7ad749",
   "metadata": {},
   "source": [
    "Cette fonction peut être appelée de plusieurs façons :\n",
    "\n",
    "en ne fournissant que les arguments obligatoires : ask_ok('Do you really want to quit?') ;\n",
    "en fournissant une partie des arguments facultatifs : ask_ok('OK to overwrite the file?', 2) ;\n",
    "en fournissant tous les arguments : ask_ok('OK to overwrite the file?', 2, 'Come on, only yes or no!').\n",
    "Cet exemple présente également le mot-clé in. Celui-ci permet de tester si une séquence contient une certaine valeur.\n",
    "\n",
    "Les valeurs par défaut sont évaluées lors de la définition de la fonction dans la portée de la définition, de telle sorte que :"
   ]
  },
  {
   "cell_type": "code",
   "execution_count": null,
   "id": "e61dfb6b-ee13-404e-abfe-cefa8b7bddf2",
   "metadata": {},
   "outputs": [],
   "source": [
    "i = 5\n",
    "\n",
    "def f(arg=i):\n",
    "    print(arg)\n",
    "\n",
    "i = 6\n",
    "f()"
   ]
  },
  {
   "cell_type": "markdown",
   "id": "d02b4692-a358-45a3-824a-4e951633cbfa",
   "metadata": {},
   "source": [
    "Avertissement important : la valeur par défaut n'est évaluée qu'une seule fois. Ceci fait une différence lorsque cette valeur par défaut est un objet muable tel qu'une liste, un dictionnaire ou des instances de la plupart des classes. Par exemple, la fonction suivante accumule les arguments qui lui sont passés au fil des appels successifs :"
   ]
  },
  {
   "cell_type": "code",
   "execution_count": null,
   "id": "f8cb3ab3-ef4a-415f-b010-9aebb9187d34",
   "metadata": {},
   "outputs": [],
   "source": [
    "def f(a, L=[]):\n",
    "    L.append(a)\n",
    "    return L\n",
    "\n",
    "print(f(1))\n",
    "print(f(2))\n",
    "print(f(3))"
   ]
  },
  {
   "cell_type": "markdown",
   "id": "e1e4f3d1-62ce-4ab3-9ad7-ede64b6f4c64",
   "metadata": {},
   "source": [
    "Si vous ne voulez pas que cette valeur par défaut soit partagée entre des appels successifs, vous pouvez écrire la fonction de cette façon :"
   ]
  },
  {
   "cell_type": "code",
   "execution_count": null,
   "id": "8b9f5cbe-4c71-430a-8c57-e05ea5f81da6",
   "metadata": {},
   "outputs": [],
   "source": [
    "def f(a, L=None):\n",
    "    if L is None:\n",
    "        L = []\n",
    "    L.append(a)\n",
    "    return L"
   ]
  },
  {
   "cell_type": "markdown",
   "id": "c107a33c-706d-437e-86e0-29cd48be1c4a",
   "metadata": {},
   "source": [
    "### 8.2. Les arguments nommés\n",
    "Les fonctions peuvent également être appelées en utilisant des arguments nommés sous la forme kwarg=value. Par exemple, la fonction suivante :"
   ]
  },
  {
   "cell_type": "code",
   "execution_count": null,
   "id": "fc68a977-55b0-45a3-82fd-33f1773efa67",
   "metadata": {},
   "outputs": [],
   "source": [
    "def parrot(voltage, state='a stiff', action='voom', type='Norwegian Blue'):\n",
    "    print(\"-- This parrot wouldn't\", action, end=' ')\n",
    "    print(\"if you put\", voltage, \"volts through it.\")\n",
    "    print(\"-- Lovely plumage, the\", type)\n",
    "    print(\"-- It's\", state, \"!\")"
   ]
  },
  {
   "cell_type": "markdown",
   "id": "c7a23b4a-4101-4324-92ae-4d781297a7a2",
   "metadata": {},
   "source": [
    "accepte un argument obligatoire (voltage) et trois arguments facultatifs (state, action et type). Cette fonction peut être appelée de n'importe laquelle des façons suivantes :"
   ]
  },
  {
   "cell_type": "code",
   "execution_count": null,
   "id": "6b6777cd-85fa-4e4a-8f89-32003ad378e8",
   "metadata": {},
   "outputs": [],
   "source": [
    "parrot(1000)                                          # 1 positional argument\n",
    "parrot(voltage=1000)                                  # 1 keyword argument\n",
    "parrot(voltage=1000000, action='VOOOOOM')             # 2 keyword arguments\n",
    "parrot(action='VOOOOOM', voltage=1000000)             # 2 keyword arguments\n",
    "parrot('a million', 'bereft of life', 'jump')         # 3 positional arguments\n",
    "parrot('a thousand', state='pushing up the daisies')  # 1 positional, 1 keyword"
   ]
  },
  {
   "cell_type": "markdown",
   "id": "7a4afe43-4621-4f59-b4c6-88472317d38d",
   "metadata": {},
   "source": [
    "mais tous les appels qui suivent sont incorrects :"
   ]
  },
  {
   "cell_type": "code",
   "execution_count": null,
   "id": "ae179d25-cbf0-4cf7-8448-edbc11e5a73c",
   "metadata": {},
   "outputs": [],
   "source": [
    "parrot()                     # required argument missing\n",
    "parrot(voltage=5.0, 'dead')  # non-keyword argument after a keyword argument\n",
    "parrot(110, voltage=220)     # duplicate value for the same argument\n",
    "parrot(actor='John Cleese')  # unknown keyword argument"
   ]
  },
  {
   "cell_type": "markdown",
   "id": "9c819048-a70f-4246-a6cb-7257ab9518a3",
   "metadata": {},
   "source": [
    "Dans un appel de fonction, les arguments nommés doivent suivre les arguments positionnés. Tous les arguments nommés doivent correspondre à l'un des arguments acceptés par la fonction (par exemple, actor n'est pas un argument accepté par la fonction parrot), mais leur ordre n'est pas important. Ceci inclut également les arguments obligatoires (parrot(voltage=1000) est également correct). Aucun argument ne peut recevoir une valeur plus d'une fois, comme l'illustre cet exemple incorrect du fait de cette restriction :"
   ]
  },
  {
   "cell_type": "code",
   "execution_count": null,
   "id": "432d27dc-9684-463d-a5e8-7eb7f07d0e41",
   "metadata": {},
   "outputs": [],
   "source": [
    "def function(a):\n",
    "    pass\n",
    "\n",
    "function(0, a=0)"
   ]
  },
  {
   "cell_type": "markdown",
   "id": "bae305d6-fd1e-4809-a781-1e3d6bed579e",
   "metadata": {},
   "source": [
    "Quand un dernier paramètre formel est présent sous la forme ```**name```, il reçoit un dictionnaire (voir Les types de correspondances — dict) contenant tous les arguments nommés à l'exception de ceux correspondant à un paramètre formel. Ceci peut être combiné à un paramètre formel sous la forme *name (décrit dans la section suivante) qui lui reçoit un n-uplet contenant les arguments positionnés au-delà de la liste des paramètres formels (*name doit être présent avant ```**name```). \n",
    "Par exemple, si vous définissez une fonction comme ceci :"
   ]
  },
  {
   "cell_type": "code",
   "execution_count": null,
   "id": "afa51142-7b2d-41c3-adc7-f5d50fb2f838",
   "metadata": {},
   "outputs": [],
   "source": [
    "def cheeseshop(kind, *arguments, **keywords):\n",
    "    print(\"-- Do you have any\", kind, \"?\")\n",
    "    print(\"-- I'm sorry, we're all out of\", kind)\n",
    "    for arg in arguments:\n",
    "        print(arg)\n",
    "    print(\"-\" * 40)\n",
    "    for kw in keywords:\n",
    "        print(kw, \":\", keywords[kw])"
   ]
  },
  {
   "cell_type": "markdown",
   "id": "e7fcd8a5-d6db-4962-87bd-ed98c8173b24",
   "metadata": {},
   "source": [
    "Elle pourrait être appelée comme ceci :"
   ]
  },
  {
   "cell_type": "code",
   "execution_count": null,
   "id": "a3047c5c-b567-44e3-8393-52a7d75b8091",
   "metadata": {},
   "outputs": [],
   "source": [
    "cheeseshop(\"Limburger\", \"It's very runny, sir.\",\n",
    "           \"It's really very, VERY runny, sir.\",\n",
    "           shopkeeper=\"Michael Palin\",\n",
    "           client=\"John Cleese\",\n",
    "           sketch=\"Cheese Shop Sketch\")"
   ]
  },
  {
   "cell_type": "markdown",
   "id": "0afcb62d-4608-4744-8708-0639e2b6179e",
   "metadata": {},
   "source": [
    "Notez que Python garantit que l'ordre d'affichage des arguments est le même que l'ordre dans lesquels ils sont fournis lors de l'appel à la fonction.\n",
    "\n",
    "## 8.3. Paramètres spéciaux\n",
    "Par défaut, les arguments peuvent être passés à une fonction Python par position, ou explicitement en les nommant. Pour la lisibilité et la performance, il est logique de restreindre la façon dont les arguments peuvent être transmis afin qu'un développeur n'ait qu'à regarder la définition de la fonction pour déterminer si les éléments sont transmis par position seule, par position ou nommé, ou seulement nommé.\n",
    "\n",
    "Voici à quoi ressemble une définition de fonction :\n",
    "```shell\n",
    "def f(pos1, pos2, /, pos_or_kwd, *, kwd1, kwd2):\n",
    "      -----------    ----------     ----------\n",
    "        |             |                  |\n",
    "        |        Positional or keyword   |\n",
    "        |                                - Keyword only\n",
    "         -- Positional only\n",
    "```\n",
    "où / et * sont facultatifs. S'ils sont utilisés, ces symboles indiquent par quel type de paramètre un argument peut être transmis à la fonction : position seule, position ou nommé, et seulement nommé. Les paramètres par mot-clé sont aussi appelés paramètres nommés.\n",
    "\n",
    "#### 8.3.1. Les arguments positionnels-ou-nommés\n",
    "Si / et * ne sont pas présents dans la définition de fonction, les arguments peuvent être passés à une fonction par position ou par nommés.\n",
    "\n",
    "#### 8.3.2. Paramètres positionnels uniquement\n",
    "En y regardant de plus près, il est possible de marquer certains paramètres comme positionnels uniquement. S'ils sont marqués comme positionnels uniquement, l'ordre des paramètres est important, et les paramètres ne peuvent pas être transmis en tant que « arguments nommés ». Les paramètres « positionnels uniquement » sont placés avant un /. Le / est utilisé pour séparer logiquement les paramètres « positionnels uniquement » du reste des paramètres. S'il n'y a pas de / dans la définition de fonction, il n'y a pas de paramètres « positionnels uniquement ».\n",
    "\n",
    "Les paramètres qui suivent le / peuvent être positionnels-ou-nommés ou nommés-uniquement.\n",
    "\n",
    "#### 8.3.3. Arguments nommés uniquement\n",
    "Pour marquer les paramètres comme uniquement nommés, indiquant que les paramètres doivent être passés avec l'argument comme mot-clé, placez un * dans la liste des arguments juste avant le premier paramètre uniquement nommé.\n",
    "\n",
    "#### 8.3.4. Exemples de fonctions\n",
    "Considérons l'exemple suivant de définitions de fonctions en portant une attention particulière aux marqueurs / et * :"
   ]
  },
  {
   "cell_type": "code",
   "execution_count": null,
   "id": "f18a8f52-8bc9-4d75-803f-2d4f451f4970",
   "metadata": {},
   "outputs": [],
   "source": [
    "def standard_arg(arg):\n",
    "    print(arg)\n",
    "\n",
    "def pos_only_arg(arg, /):\n",
    "    print(arg)\n",
    "\n",
    "def kwd_only_arg(*, arg):\n",
    "    print(arg)\n",
    "\n",
    "def combined_example(pos_only, /, standard, *, kwd_only):\n",
    "    print(pos_only, standard, kwd_only)"
   ]
  },
  {
   "cell_type": "markdown",
   "id": "511c85ec-e96a-4318-9747-3ccb2266ca39",
   "metadata": {},
   "source": [
    "La première définition de fonction, standard_arg, la forme la plus familière, n'impose aucune restriction sur la convention d'appel et les arguments peuvent être passés par position ou nommés :"
   ]
  },
  {
   "cell_type": "code",
   "execution_count": null,
   "id": "0336df46-26cb-4068-b3f1-c6d7bbc483d9",
   "metadata": {},
   "outputs": [],
   "source": [
    "standard_arg(2)\n",
    "\n",
    "standard_arg(arg=2)"
   ]
  },
  {
   "cell_type": "markdown",
   "id": "0037492d-1b8e-4671-aed1-0cbb5825d537",
   "metadata": {},
   "source": [
    "La deuxième fonction pos_only_arg restreint le passage aux seuls arguments par position car il y a un / dans la définition de fonction :"
   ]
  },
  {
   "cell_type": "code",
   "execution_count": null,
   "id": "2598ff12-a118-4674-a8ca-bdb02fd03ca0",
   "metadata": {},
   "outputs": [],
   "source": [
    "pos_only_arg(1)\n",
    "\n",
    "pos_only_arg(arg=1)"
   ]
  },
  {
   "cell_type": "markdown",
   "id": "179ce6de-3673-407c-bbb7-b22a61fd20b4",
   "metadata": {},
   "source": [
    "La troisième fonction kwd_only_args n'autorise que les arguments nommés comme l'indique le * dans la définition de fonction :"
   ]
  },
  {
   "cell_type": "code",
   "execution_count": null,
   "id": "8948b58d-e3b0-4afa-9940-34f1d4361857",
   "metadata": {},
   "outputs": [],
   "source": [
    "kwd_only_arg(3)\n",
    "\n",
    "kwd_only_arg(arg=3)"
   ]
  },
  {
   "cell_type": "markdown",
   "id": "de2810ee-adc8-4f58-a645-e1e296697cd0",
   "metadata": {},
   "source": [
    "Et la dernière utilise les trois conventions d'appel dans la même définition de fonction :"
   ]
  },
  {
   "cell_type": "code",
   "execution_count": null,
   "id": "56be90d1-d15e-47a7-9f44-714dbb5e8bf0",
   "metadata": {},
   "outputs": [],
   "source": [
    "combined_example(1, 2, 3)\n",
    "\n",
    "combined_example(1, 2, kwd_only=3)\n",
    "\n",
    "combined_example(1, standard=2, kwd_only=3)\n",
    "\n",
    "combined_example(pos_only=1, standard=2, kwd_only=3)"
   ]
  },
  {
   "cell_type": "markdown",
   "id": "2a498281-b2e8-48c4-873f-1f00786c512f",
   "metadata": {},
   "source": [
    "Enfin, considérons cette définition de fonction qui a une collision potentielle entre l'argument positionnel name et ```**kwds``` qui a name comme mot-clé :"
   ]
  },
  {
   "cell_type": "code",
   "execution_count": null,
   "id": "5d480517-9c85-44ca-a8b0-2527e264236f",
   "metadata": {},
   "outputs": [],
   "source": [
    "def foo(name, **kwds):\n",
    "    return 'name' in kwds"
   ]
  },
  {
   "cell_type": "markdown",
   "id": "9fa6c693-0825-4fe7-b351-f467f3987b95",
   "metadata": {},
   "source": [
    "Il n'y a pas d'appel possible qui renvoie True car le mot-clé 'name' est toujours lié au premier paramètre. Par exemple :"
   ]
  },
  {
   "cell_type": "code",
   "execution_count": null,
   "id": "6448ef1b-c472-41a5-8b31-394101ed0a24",
   "metadata": {},
   "outputs": [],
   "source": [
    "foo(1, **{'name': 2})"
   ]
  },
  {
   "cell_type": "markdown",
   "id": "b1da1306-502f-432e-84a4-33a47c3af17e",
   "metadata": {},
   "source": [
    "Mais en utilisant / (arguments positionnels seulement), c'est possible puisqu'il permet d'utiliser name comme argument positionnel et 'name' comme mot-clé dans les arguments nommés :"
   ]
  },
  {
   "cell_type": "code",
   "execution_count": null,
   "id": "46091c24-9883-42a8-b797-45b8d7838478",
   "metadata": {},
   "outputs": [],
   "source": [
    "def foo(name, /, **kwds):\n",
    "    return 'name' in kwds\n",
    "\n",
    "foo(1, **{'name': 2})"
   ]
  },
  {
   "cell_type": "markdown",
   "id": "5175072d-ce27-480d-9d59-8a5867a54d6b",
   "metadata": {},
   "source": [
    "En d'autres termes, les noms des paramètres seulement positionnels peuvent être utilisés sans ambiguïté dans **kwds.\n",
    "\n",
    "### 8.3.5. Récapitulatif\n",
    "Le cas d'utilisation détermine les paramètres à utiliser dans la définition de fonction :\n",
    "\n",
    "```python\n",
    "def f(pos1, pos2, /, pos_or_kwd, *, kwd1, kwd2):\n",
    "```\n",
    "\n",
    "Quelques conseils :\n",
    "\n",
    "utilisez les paramètres positionnels si vous voulez que le nom des paramètres soit masqué à l'utilisateur. Ceci est utile lorsque les noms de paramètres n'ont pas de signification réelle, si vous voulez faire respecter l'ordre des arguments lorsque la fonction est appelée ou si vous avez besoin de prendre certains paramètres positionnels et mots-clés arbitraires ;\n",
    "utilisez les paramètres nommés lorsque les noms ont un sens et que la définition de la fonction est plus compréhensible avec des noms explicites ou si vous voulez empêcher les utilisateurs de se fier à la position de l'argument qui est passé ;\n",
    "dans le cas d'une API, utilisez les paramètres seulement positionnels pour éviter de casser l'API si le nom du paramètre est modifié dans l'avenir.\n",
    "\n",
    "### 8.4. Listes d'arguments arbitraires\n",
    "\n",
    "Pour terminer, l'option la moins fréquente consiste à indiquer qu'une fonction peut être appelée avec un nombre arbitraire d'arguments. Ces arguments sont intégrés dans un n-uplet (voir n-uplets et séquences). Avant le nombre variable d'arguments, zéro ou plus arguments normaux peuvent apparaître :\n",
    "\n",
    "```python\n",
    "def write_multiple_items(file, separator, *args):\n",
    "    file.write(separator.join(args))\n",
    "```\n",
    "Normalement, ces arguments variadiques sont les derniers paramètres, parce qu'ils agrègent toutes les valeurs suivantes. Tout paramètre placé après le paramètre *arg ne pourra être utilisé que comme argument nommé, pas comme argument positionnel :"
   ]
  },
  {
   "cell_type": "code",
   "execution_count": null,
   "id": "621806be-20de-4439-a036-74046f710a92",
   "metadata": {},
   "outputs": [],
   "source": [
    "def concat(*args, sep=\"/\"):\n",
    "    return sep.join(args)\n",
    "\n",
    "concat(\"earth\", \"mars\", \"venus\")\n",
    "\n",
    "concat(\"earth\", \"mars\", \"venus\", sep=\".\")"
   ]
  },
  {
   "cell_type": "markdown",
   "id": "340ed99a-4332-4575-a23a-4722dc3cb878",
   "metadata": {},
   "source": [
    "### 8.5. Séparation des listes d'arguments\n",
    "La situation inverse intervient lorsque les arguments sont déjà dans une liste ou un n-uplet mais doivent être séparés pour un appel de fonction nécessitant des arguments positionnés séparés. Par exemple, la primitive range() attend des arguments start et stop distincts. S'ils ne sont pas disponibles séparément, écrivez l'appel de fonction en utilisant l'opérateur * pour séparer les arguments présents dans une liste ou un n-uplet :"
   ]
  },
  {
   "cell_type": "code",
   "execution_count": null,
   "id": "468c40e7-efb3-4faf-8541-b6d0cd99d213",
   "metadata": {},
   "outputs": [],
   "source": [
    "list(range(3, 6))            # normal call with separate arguments\n",
    "\n",
    "args = [3, 6]\n",
    "list(range(*args))            # call with arguments unpacked from a list"
   ]
  },
  {
   "cell_type": "markdown",
   "id": "be5484ae-ea09-44f2-8019-66542bf800b8",
   "metadata": {},
   "source": [
    "De la même façon, les dictionnaires peuvent fournir des arguments nommés en utilisant l'opérateur ```**``` :"
   ]
  },
  {
   "cell_type": "code",
   "execution_count": null,
   "id": "91f7ef39-78f1-486f-9976-5a5bc9b784b9",
   "metadata": {},
   "outputs": [],
   "source": [
    "def parrot(voltage, state='a stiff', action='voom'):\n",
    "    print(\"-- This parrot wouldn't\", action, end=' ')\n",
    "    print(\"if you put\", voltage, \"volts through it.\", end=' ')\n",
    "    print(\"E's\", state, \"!\")\n",
    "\n",
    "d = {\"voltage\": \"four million\", \"state\": \"bleedin' demised\", \"action\": \"VOOM\"}\n",
    "parrot(**d)"
   ]
  },
  {
   "cell_type": "markdown",
   "id": "6ddc8ad9-de8c-468a-9e45-130fea4e002a",
   "metadata": {},
   "source": [
    "### 8.6. Fonctions anonymes\n",
    "Avec le mot-clé lambda, vous pouvez créer de petites fonctions anonymes. En voici une qui renvoie la somme de ses deux arguments : lambda a, b: a+b. Les fonctions lambda peuvent être utilisées partout où un objet fonction est attendu. Elles sont syntaxiquement restreintes à une seule expression. Sémantiquement, elles ne sont que du sucre syntaxique pour une définition de fonction normale. Comme les fonctions imbriquées, les fonctions lambda peuvent référencer des variables de la portée englobante :"
   ]
  },
  {
   "cell_type": "code",
   "execution_count": null,
   "id": "9637261e-2260-4f29-8404-ffbfd01d6615",
   "metadata": {},
   "outputs": [],
   "source": [
    "def make_incrementor(n):\n",
    "    return lambda x: x + n\n",
    "\n",
    "f = make_incrementor(42)\n",
    "f(0)\n",
    "\n",
    "f(1)"
   ]
  },
  {
   "cell_type": "markdown",
   "id": "0d91f60c-8976-4846-a940-141fb5cbd0bd",
   "metadata": {},
   "source": [
    "L'exemple précédent utilise une fonction anonyme pour renvoyer une fonction. Une autre utilisation classique est de donner une fonction minimaliste directement en tant que paramètre :"
   ]
  },
  {
   "cell_type": "code",
   "execution_count": null,
   "id": "c505aa21-93fe-47e6-a179-71e4a5688708",
   "metadata": {},
   "outputs": [],
   "source": [
    "pairs = [(1, 'one'), (2, 'two'), (3, 'three'), (4, 'four')]\n",
    "pairs.sort(key=lambda pair: pair[1])\n",
    "pairs"
   ]
  },
  {
   "cell_type": "markdown",
   "id": "9edfd002-a7f0-487c-88a8-9aa13d65af23",
   "metadata": {},
   "source": [
    "### 8.7. Chaînes de documentation\n",
    "Voici quelques conventions concernant le contenu et le format des chaînes de documentation.\n",
    "\n",
    "Il convient que la première ligne soit toujours courte et résume de manière concise l'utilité de l'objet. Afin d'être bref, nul besoin de rappeler le nom de l'objet ou son type, qui sont accessibles par d'autres moyens (sauf si le nom est un verbe qui décrit une opération). La convention veut que la ligne commence par une majuscule et se termine par un point.\n",
    "\n",
    "S'il y a d'autres lignes dans la chaîne de documentation, la deuxième ligne devrait être vide, pour la séparer visuellement du reste de la description. Les autres lignes peuvent alors constituer un ou plusieurs paragraphes décrivant le mode d'utilisation de l'objet, ses effets de bord, etc.\n",
    "\n",
    "L'analyseur de code Python ne supprime pas l'indentation des chaînes de caractères littérales multi-lignes, donc les outils qui utilisent la documentation doivent si besoin faire cette opération eux-mêmes. La convention suivante s'applique : la première ligne non vide après la première détermine la profondeur d'indentation de l'ensemble de la chaîne de documentation (on ne peut pas utiliser la première ligne qui est généralement accolée aux guillemets d'ouverture de la chaîne de caractères et dont l'indentation n'est donc pas visible). Les espaces « correspondant » à cette profondeur d'indentation sont alors supprimées du début de chacune des lignes de la chaîne. Aucune ligne ne devrait présenter un niveau d'indentation inférieur mais, si cela arrive, toutes les espaces situées en début de ligne doivent être supprimées. L'équivalent des espaces doit être testé après expansion des tabulations (normalement remplacées par 8 espaces).\n",
    "\n",
    "Voici un exemple de chaîne de documentation multi-lignes :"
   ]
  },
  {
   "cell_type": "code",
   "execution_count": null,
   "id": "b41d1f4f-b3a3-4278-8dc1-042774066385",
   "metadata": {},
   "outputs": [],
   "source": [
    "def my_function():\n",
    "    \"\"\"Do nothing, but document it.\n",
    "\n",
    "    No, really, it doesn't do anything.\n",
    "    \"\"\"\n",
    "    pass\n",
    "\n",
    "print(my_function.__doc__)"
   ]
  },
  {
   "cell_type": "markdown",
   "id": "6f5fe55e-6b47-439a-b793-be0bb90ecd46",
   "metadata": {},
   "source": [
    "### 8.8. Annotations de fonctions\n",
    "Les annotations de fonction sont des métadonnées optionnelles décrivant les types utilisés par une fonction définie par l'utilisateur (voir les PEP 3107 et PEP 484 pour plus d'informations).\n",
    "\n",
    "Les annotations sont stockées dans l'attribut ```__annotations__``` de la fonction, sous la forme d'un dictionnaire, et n'ont aucun autre effet. Les annotations sur les paramètres sont définies par deux points (:) après le nom du paramètre suivi d'une expression donnant la valeur de l'annotation. Les annotations de retour sont définies par -> suivi d'une expression, entre la liste des paramètres et les deux points de fin de l'instruction def. L'exemple suivant a un paramètre requis, un paramètre optionnel et la valeur de retour annotés :"
   ]
  },
  {
   "cell_type": "code",
   "execution_count": null,
   "id": "0700a722-dae1-4719-84de-21bb6a58b87c",
   "metadata": {},
   "outputs": [],
   "source": [
    "def f(ham: str, eggs: str = 'eggs') -> str:\n",
    "    print(\"Annotations:\", f.__annotations__)\n",
    "    print(\"Arguments:\", ham, eggs)\n",
    "    return ham + ' and ' + eggs\n",
    "\n",
    "f('spam')"
   ]
  },
  {
   "cell_type": "markdown",
   "id": "a076201e-9a10-4300-a0a6-827e859cbf84",
   "metadata": {},
   "source": [
    "## 9. Aparté : le style de codage\n",
    "Maintenant que vous êtes prêt à écrire des programmes plus longs et plus complexes, il est temps de parler du style de codage. La plupart des langages peuvent être écrits (ou plutôt formatés) selon différents styles ; certains sont plus lisibles que d'autres. Rendre la lecture de votre code plus facile aux autres est toujours une bonne idée et adopter un bon style de codage peut énormément vous y aider.\n",
    "\n",
    "En Python, la plupart des projets adhèrent au style défini dans la PEP 8 ; elle met en avant un style de codage très lisible et agréable à l’œil. Chaque développeur Python se doit donc de la lire et de s'en inspirer autant que possible ; voici ses principaux points notables :\n",
    "\n",
    "utilisez des indentations de 4 espaces et pas de tabulation.\n",
    "\n",
    "4 espaces constituent un bon compromis entre une indentation courte (qui permet une profondeur d'imbrication plus importante) et une longue (qui rend le code plus facile à lire). Les tabulations introduisent de la confusion et doivent être proscrites autant que possible ;\n",
    "\n",
    "faites en sorte que les lignes ne dépassent pas 79 caractères, au besoin en insérant des retours à la ligne.\n",
    "\n",
    "Vous facilitez ainsi la lecture pour les utilisateurs qui n'ont qu'un petit écran et, pour les autres, cela leur permet de visualiser plusieurs fichiers côte à côte ;\n",
    "\n",
    "utilisez des lignes vides pour séparer les fonctions et les classes, ou pour scinder de gros blocs de code à l'intérieur de fonctions ;\n",
    "\n",
    "lorsque c'est possible, placez les commentaires sur leurs propres lignes ;\n",
    "\n",
    "utilisez les chaînes de documentation ;\n",
    "\n",
    "utilisez des espaces autour des opérateurs et après les virgules, mais pas juste à l'intérieur des parenthèses : a = f(1, 2) + g(3, 4) ;\n",
    "\n",
    "nommez toujours vos classes et fonctions de la même manière ; la convention est d'utiliser une notation UpperCamelCase pour les classes, et minuscules_avec_trait_bas pour les fonctions et méthodes. Utilisez toujours self comme nom du premier argument des méthodes (voyez Une première approche des classes pour en savoir plus sur les classes et les méthodes) ;\n",
    "\n",
    "n’utilisez pas d'encodage exotique dès lors que votre code est censé être utilisé dans des environnements internationaux. Par défaut, Python travaille en UTF-8. Pour couvrir tous les cas, préférez le simple ASCII ;\n",
    "\n",
    "de la même manière, n'utilisez que des caractères ASCII pour vos noms de variables s'il est envisageable qu'une personne parlant une autre langue lise ou doive modifier votre code."
   ]
  },
  {
   "cell_type": "code",
   "execution_count": null,
   "id": "f1776aab-0dd4-4bbb-912a-a52fe80f99b2",
   "metadata": {},
   "outputs": [],
   "source": []
  }
 ],
 "metadata": {
  "kernelspec": {
   "display_name": "py11",
   "language": "python",
   "name": "py11"
  },
  "language_info": {
   "codemirror_mode": {
    "name": "ipython",
    "version": 3
   },
   "file_extension": ".py",
   "mimetype": "text/x-python",
   "name": "python",
   "nbconvert_exporter": "python",
   "pygments_lexer": "ipython3",
   "version": "3.11.0"
  }
 },
 "nbformat": 4,
 "nbformat_minor": 5
}
