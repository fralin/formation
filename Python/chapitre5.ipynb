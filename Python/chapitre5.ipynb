{
 "cells": [
  {
   "cell_type": "markdown",
   "id": "5d2d0bfb-1c45-4eed-8556-bbf2609f2c07",
   "metadata": {},
   "source": [
    "# Structures de données\n",
    "Ce chapitre reprend plus en détail quelques points déjà décrits précédemment et introduit également de nouvelles notions.\n",
    "\n",
    "## 1. Compléments sur les listes\n",
    "Le type liste dispose de méthodes supplémentaires. Voici toutes les méthodes des objets liste :\n",
    "\n",
    "### ```list.append(x)```\n",
    "Ajoute un élément à la fin de la liste. Équivalent à ```a[len(a):] = [x]```.\n",
    "\n",
    "### ```list.extend(iterable)```\n",
    "Étend la liste en y ajoutant tous les éléments de l'itérable. Équivalent à ```a[len(a):] = iterable```.\n",
    "\n",
    "### ```list.insert(i, x)```\n",
    "Insère un élément à la position indiquée. Le premier argument est la position de l'élément avant lequel l'insertion doit s'effectuer, donc ```a.insert(0, x)``` insère l'élément en tête de la liste et ```a.insert(len(a), x)``` est équivalent à ```a.append(x)```.\n",
    "\n",
    "### ```list.remove(x)```\n",
    "Supprime de la liste le premier élément dont la valeur est égale à x. Une exception ```ValueError``` est levée s'il n'existe aucun élément avec cette valeur.\n",
    "```list.pop([i])```\n",
    "Enlève de la liste l'élément situé à la position indiquée et le renvoie en valeur de retour. Si aucune position n'est spécifiée, a.pop() enlève et renvoie le dernier élément de la liste (les crochets autour du i dans la signature de la méthode indiquent que ce paramètre est facultatif et non que vous devez placer des crochets dans votre code ! Vous retrouverez cette notation fréquemment dans le Guide de Référence de la Bibliothèque Python).\n",
    "\n",
    "### ```list.clear()```\n",
    "Supprime tous les éléments de la liste. Équivalent à ```del a[:]```.\n",
    "\n",
    "### ```list.index(x[, start[, end]]``` \n",
    "Renvoie la position du premier élément de la liste dont la valeur égale x (en commençant à compter les positions à partir de zéro). Une exception ValueError est levée si aucun élément n'est trouvé.\n",
    "Les arguments optionnels start et end sont interprétés de la même manière que dans la notation des tranches et sont utilisés pour limiter la recherche à une sous-séquence particulière. L'indice renvoyé est calculé relativement au début de la séquence complète et non relativement à start.\n",
    "\n",
    "### ```list.count(x)```\n",
    "Renvoie le nombre d'éléments ayant la valeur x dans la liste.\n",
    "\n",
    "### ```list.sort(*, key=None, reverse=False)```\n",
    "Ordonne les éléments dans la liste (les arguments peuvent personnaliser l'ordonnancement, voir ```sorted()``` pour leur explication).\n",
    "\n",
    "### ```list.reverse()```\n",
    "Inverse l'ordre des éléments dans la liste.\n",
    "\n",
    "### ```list.copy()```\n",
    "Renvoie une copie superficielle de la liste. Équivalent à ```a[:]```.\n",
    "\n",
    "L'exemple suivant utilise la plupart des méthodes des listes :"
   ]
  },
  {
   "cell_type": "code",
   "execution_count": 1,
   "id": "96ff7dcf-70cb-478d-a282-15341e87f44f",
   "metadata": {},
   "outputs": [
    {
     "data": {
      "text/plain": [
       "'pear'"
      ]
     },
     "execution_count": 1,
     "metadata": {},
     "output_type": "execute_result"
    }
   ],
   "source": [
    "fruits = ['orange', 'apple', 'pear', 'banana', 'kiwi', 'apple', 'banana']\n",
    "fruits.count('apple')\n",
    "\n",
    "fruits.count('tangerine')\n",
    "\n",
    "fruits.index('banana')\n",
    "\n",
    "fruits.index('banana', 4)  # Find next banana starting at position 4\n",
    "\n",
    "fruits.reverse()\n",
    "fruits\n",
    "\n",
    "fruits.append('grape')\n",
    "fruits\n",
    "\n",
    "fruits.sort()\n",
    "fruits\n",
    "\n",
    "fruits.pop()"
   ]
  },
  {
   "cell_type": "markdown",
   "id": "f0ad1dd1-5d8d-4bd4-b88d-62e84b646eeb",
   "metadata": {},
   "source": [
    "You might have noticed that methods like insert, remove or sort that only modify the list have no return value printed -- they return the default None. 1 This is a design principle for all mutable data structures in Python.\n",
    "\n",
    "Vous avez peut-être remarqué aussi que certaines données ne peuvent pas être ordonnées ni comparées. Par exemple, la liste [None, 'hello', 10] ne peut pas être ordonnée parce que les entiers ne peuvent pas être comparés aux chaînes de caractères et None ne peut pas être comparé à d'autres types. En outre, il existe certains types qui n'ont pas de relation d'ordre définie. Par exemple, 3+4j < 5+7j n'est pas une comparaison valide.\n",
    "\n",
    "### 1.1. Utilisation des listes comme des piles\n",
    "Les méthodes des listes rendent très facile leur utilisation comme des piles, où le dernier élément ajouté est le premier récupéré (« dernier entré, premier sorti » ou LIFO pour last-in, first-out en anglais). Pour ajouter un élément sur la pile, utilisez la méthode ```append()```. Pour récupérer l'objet au sommet de la pile, utilisez la méthode pop() sans indicateur de position. \n",
    "Par exemple :"
   ]
  },
  {
   "cell_type": "code",
   "execution_count": 2,
   "id": "496f3829-a55c-4b26-a947-dbfbe3b68c9f",
   "metadata": {},
   "outputs": [
    {
     "data": {
      "text/plain": [
       "[3, 4]"
      ]
     },
     "execution_count": 2,
     "metadata": {},
     "output_type": "execute_result"
    }
   ],
   "source": [
    "stack = [3, 4, 5]\n",
    "stack.append(6)\n",
    "stack.append(7)\n",
    "stack\n",
    "\n",
    "stack.pop()\n",
    "\n",
    "stack\n",
    "\n",
    "stack.pop()\n",
    "\n",
    "stack.pop()\n",
    "\n",
    "stack"
   ]
  },
  {
   "cell_type": "markdown",
   "id": "86f6481f-42f4-47b8-9d5d-93f1f2d1f944",
   "metadata": {},
   "source": [
    "### 1.2. Utilisation des listes comme des files\n",
    "Il est également possible d'utiliser une liste comme une file, où le premier élément ajouté est le premier récupéré (« premier entré, premier sorti » ou FIFO pour first-in, first-out) ; toutefois, les listes ne sont pas très efficaces pour réaliser ce type de traitement. Alors que les ajouts et suppressions en fin de liste sont rapides, les insertions ou les retraits en début de liste sont lents (car tous les autres éléments doivent être décalés d'une position).\n",
    "\n",
    "Pour implémenter une file, utilisez plutôt la classe collections.deque qui a été conçue spécialement pour réaliser rapidement les opérations d'ajout et de retrait aux deux extrémités. \n",
    "Par exemple :"
   ]
  },
  {
   "cell_type": "code",
   "execution_count": 3,
   "id": "b8c74622-231a-4642-b447-1b2d206d4caa",
   "metadata": {},
   "outputs": [
    {
     "data": {
      "text/plain": [
       "deque(['Michael', 'Terry', 'Graham'])"
      ]
     },
     "execution_count": 3,
     "metadata": {},
     "output_type": "execute_result"
    }
   ],
   "source": [
    "from collections import deque\n",
    "queue = deque([\"Eric\", \"John\", \"Michael\"])\n",
    "queue.append(\"Terry\")           # Terry arrives\n",
    "queue.append(\"Graham\")          # Graham arrives\n",
    "queue.popleft()                 # The first to arrive now leaves\n",
    "\n",
    "queue.popleft()                 # The second to arrive now leaves\n",
    "\n",
    "queue                           # Remaining queue in order of arrival"
   ]
  },
  {
   "cell_type": "markdown",
   "id": "4c04aced-5617-46c8-bad5-31796dc4a8d9",
   "metadata": {},
   "source": [
    "### 1.3. Listes en compréhension\n",
    "Les listes en compréhension fournissent un moyen de construire des listes de manière très concise. Une application classique consiste à construire une liste dont les éléments sont les résultats d'une opération appliquée à chaque élément d'une autre séquence ; une autre consiste à créer une sous-séquence des éléments respectant une condition donnée.\n",
    "\n",
    "Par exemple, supposons que l'on veuille créer une liste de carrés, comme :"
   ]
  },
  {
   "cell_type": "code",
   "execution_count": 4,
   "id": "702b3332-77d2-4e9e-94fd-5f5cd1a5d4e8",
   "metadata": {},
   "outputs": [
    {
     "data": {
      "text/plain": [
       "[0, 1, 4, 9, 16, 25, 36, 49, 64, 81]"
      ]
     },
     "execution_count": 4,
     "metadata": {},
     "output_type": "execute_result"
    }
   ],
   "source": [
    "squares = []\n",
    "for x in range(10):\n",
    "    squares.append(x**2)\n",
    "\n",
    "squares"
   ]
  },
  {
   "cell_type": "markdown",
   "id": "2d5bd952-e681-4549-b2f3-b8af7b91b532",
   "metadata": {},
   "source": [
    "Notez que cela crée (ou remplace) une variable nommée x qui existe toujours après l'exécution de la boucle. On peut calculer une liste de carrés sans effet de bord avec :"
   ]
  },
  {
   "cell_type": "code",
   "execution_count": null,
   "id": "9ba1c01b-6232-4e48-929a-00ab8863ba63",
   "metadata": {},
   "outputs": [],
   "source": [
    "squares = list(map(lambda x: x**2, range(10)))"
   ]
  },
  {
   "cell_type": "markdown",
   "id": "f04d14ea-eaae-4751-8bd0-3fa729c8a17d",
   "metadata": {},
   "source": [
    "ou, de manière équivalente :"
   ]
  },
  {
   "cell_type": "code",
   "execution_count": null,
   "id": "17579859-da3c-4daa-b923-1750c158e230",
   "metadata": {},
   "outputs": [],
   "source": [
    "squares = [x**2 for x in range(10)]"
   ]
  },
  {
   "cell_type": "markdown",
   "id": "03b749e8-fea1-4085-9ae0-ebc123040257",
   "metadata": {},
   "source": [
    "ce qui est plus court et lisible.\n",
    "\n",
    "Une liste en compréhension consiste à placer entre crochets une expression suivie par une clause for puis par zéro ou plus clauses for ou if. Le résultat est une nouvelle liste résultat de l'évaluation de l'expression dans le contexte des clauses for et if qui la suivent. Par exemple, cette compréhension de liste combine les éléments de deux listes s'ils ne sont pas égaux :"
   ]
  },
  {
   "cell_type": "code",
   "execution_count": null,
   "id": "86411ee6-64d5-4ac0-b71f-a943b4ba3b35",
   "metadata": {},
   "outputs": [],
   "source": [
    "[(x, y) for x in [1,2,3] for y in [3,1,4] if x != y]"
   ]
  },
  {
   "cell_type": "markdown",
   "id": "03f4a7fd-330b-4996-a252-730e987a0f84",
   "metadata": {},
   "source": [
    "et c'est équivalent à :"
   ]
  },
  {
   "cell_type": "code",
   "execution_count": 5,
   "id": "8a13089c-706d-4427-8d20-700b286c4aa2",
   "metadata": {},
   "outputs": [
    {
     "data": {
      "text/plain": [
       "[(1, 3), (1, 4), (2, 3), (2, 1), (2, 4), (3, 1), (3, 4)]"
      ]
     },
     "execution_count": 5,
     "metadata": {},
     "output_type": "execute_result"
    }
   ],
   "source": [
    "combs = []\n",
    "for x in [1,2,3]:\n",
    "    for y in [3,1,4]:\n",
    "        if x != y:\n",
    "            combs.append((x, y))\n",
    "\n",
    "combs"
   ]
  },
  {
   "cell_type": "markdown",
   "id": "1355907e-c2c2-4f02-a5ff-2541e928447a",
   "metadata": {},
   "source": [
    "Notez que l'ordre des instructions for et if est le même dans ces différents extraits de code.\n",
    "\n",
    "Si l'expression est un n-uplet (c'est-à-dire (x, y) dans cet exemple), elle doit être mise entre parenthèses :"
   ]
  },
  {
   "cell_type": "code",
   "execution_count": null,
   "id": "0e6e9367-2124-4415-bbfd-67b05d3a5100",
   "metadata": {},
   "outputs": [],
   "source": [
    "vec = [-4, -2, 0, 2, 4]\n",
    "# create a new list with the values doubled\n",
    "[x*2 for x in vec]\n",
    "\n",
    "# filter the list to exclude negative numbers\n",
    "[x for x in vec if x >= 0]\n",
    "\n",
    "# apply a function to all the elements\n",
    "[abs(x) for x in vec]\n",
    "\n",
    "# call a method on each element\n",
    "freshfruit = ['  banana', '  loganberry ', 'passion fruit  ']\n",
    "[weapon.strip() for weapon in freshfruit]\n",
    "\n",
    "# create a list of 2-tuples like (number, square)\n",
    "[(x, x**2) for x in range(6)]\n",
    "\n",
    "# the tuple must be parenthesized, otherwise an error is raised\n",
    "[x, x**2 for x in range(6)]\n",
    "  File \"<stdin>\", line 1\n",
    "    [x, x**2 for x in range(6)]\n",
    "     ^^^^^^^\n",
    "SyntaxError: did you forget parentheses around the comprehension target?\n",
    "# flatten a list using a listcomp with two 'for'\n",
    "vec = [[1,2,3], [4,5,6], [7,8,9]]\n",
    "[num for elem in vec for num in elem]"
   ]
  },
  {
   "cell_type": "markdown",
   "id": "99af93ad-0236-4035-9aa2-d310050651bd",
   "metadata": {},
   "source": [
    "Les listes en compréhension peuvent contenir des expressions complexes et des fonctions imbriquées :"
   ]
  },
  {
   "cell_type": "code",
   "execution_count": null,
   "id": "057a8d0f-ed10-426d-a139-045c82696274",
   "metadata": {},
   "outputs": [],
   "source": [
    "from math import pi\n",
    "[str(round(pi, i)) for i in range(1, 6)]"
   ]
  },
  {
   "cell_type": "markdown",
   "id": "c120c116-b057-45f9-a18e-269bca6c1ae7",
   "metadata": {},
   "source": [
    "### 1.4. Listes en compréhensions imbriquées\n",
    "La première expression dans une liste en compréhension peut être n'importe quelle expression, y compris une autre liste en compréhension.\n",
    "\n",
    "Voyez l'exemple suivant d'une matrice de 3 par 4, implémentée sous la forme de 3 listes de 4 éléments :"
   ]
  },
  {
   "cell_type": "code",
   "execution_count": 6,
   "id": "bc897bb9-ce43-4f43-b903-e7daefde08af",
   "metadata": {},
   "outputs": [],
   "source": [
    "matrix = [\n",
    "    [1, 2, 3, 4],\n",
    "    [5, 6, 7, 8],\n",
    "    [9, 10, 11, 12],\n",
    "]"
   ]
  },
  {
   "cell_type": "markdown",
   "id": "b12e81c1-c4f1-4792-9936-5c26f4906116",
   "metadata": {},
   "source": [
    "Cette compréhension de liste transpose les lignes et les colonnes :"
   ]
  },
  {
   "cell_type": "code",
   "execution_count": null,
   "id": "f1b3f5cc-0888-4fbb-8f4d-05a9d8eead79",
   "metadata": {},
   "outputs": [],
   "source": [
    "[[row[i] for row in matrix] for i in range(4)]"
   ]
  },
  {
   "cell_type": "markdown",
   "id": "b5f9265d-9261-40b3-91e6-3e9f36a67c30",
   "metadata": {},
   "source": [
    "Comme nous l'avons vu dans la section précédente, la liste en compréhension à l'intérieur est évaluée dans le contexte de l'instruction for qui la suit, donc cet exemple est équivalent à :"
   ]
  },
  {
   "cell_type": "code",
   "execution_count": null,
   "id": "ccd343cc-fabf-495e-a268-8514b5846565",
   "metadata": {},
   "outputs": [],
   "source": [
    "transposed = []\n",
    "for i in range(4):\n",
    "    transposed.append([row[i] for row in matrix])\n",
    "\n",
    "transposed"
   ]
  },
  {
   "cell_type": "markdown",
   "id": "56ca60a6-d226-4812-b4ff-b8d3709472ed",
   "metadata": {},
   "source": [
    "lequel est lui-même équivalent à :"
   ]
  },
  {
   "cell_type": "code",
   "execution_count": null,
   "id": "881d198a-b5a9-4b9f-9672-de83b1dbaa0e",
   "metadata": {},
   "outputs": [],
   "source": [
    "transposed = []\n",
    "for i in range(4):\n",
    "    # the following 3 lines implement the nested listcomp\n",
    "    transposed_row = []\n",
    "    for row in matrix:\n",
    "        transposed_row.append(row[i])\n",
    "    transposed.append(transposed_row)\n",
    "\n",
    "transposed"
   ]
  },
  {
   "cell_type": "markdown",
   "id": "07b7d06e-e577-4865-8dfc-43fe63b1323d",
   "metadata": {},
   "source": [
    "Dans des cas concrets, il est toujours préférable d'utiliser des fonctions natives plutôt que des instructions de contrôle de flux complexes. La fonction zip() fait dans ce cas un excellent travail :"
   ]
  },
  {
   "cell_type": "code",
   "execution_count": null,
   "id": "ce3f0513-8680-4962-8e0b-dd38f96459c0",
   "metadata": {},
   "outputs": [],
   "source": [
    "list(zip(*matrix))"
   ]
  },
  {
   "cell_type": "markdown",
   "id": "0a784ac5-732c-4e1d-ac9d-1a746191e748",
   "metadata": {},
   "source": [
    "Voir Séparation des listes d'arguments pour plus de détails sur l'astérisque de cette ligne.\n",
    "\n",
    "## 2. L'instruction ```del```\n",
    "Il existe un moyen de retirer un élément d'une liste à partir de sa position au lieu de sa valeur : l'instruction del. Elle diffère de la méthode pop() qui, elle, renvoie une valeur. L'instruction del peut également être utilisée pour supprimer des tranches d'une liste ou la vider complètement (ce que nous avions fait auparavant en affectant une liste vide à la tranche). \n",
    "Par exemple :"
   ]
  },
  {
   "cell_type": "code",
   "execution_count": null,
   "id": "3b3eac8f-eda6-4a5f-a83a-ceef56da99cb",
   "metadata": {},
   "outputs": [],
   "source": [
    "a = [-1, 1, 66.25, 333, 333, 1234.5]\n",
    "del a[0]\n",
    "a\n",
    "\n",
    "del a[2:4]\n",
    "a\n",
    "\n",
    "del a[:]\n",
    "a"
   ]
  },
  {
   "cell_type": "markdown",
   "id": "67d29c00-7c11-4750-940e-f76b956a5818",
   "metadata": {},
   "source": [
    "```del``` peut aussi être utilisée pour supprimer des variables :"
   ]
  },
  {
   "cell_type": "code",
   "execution_count": null,
   "id": "6437fcf5-8618-43c7-9d30-6e7fe3531d83",
   "metadata": {},
   "outputs": [],
   "source": [
    "del a"
   ]
  },
  {
   "cell_type": "markdown",
   "id": "1814e25b-c684-40bf-9d04-c72ae28a53f6",
   "metadata": {},
   "source": [
    "À partir de là, référencer le nom a est une erreur (au moins jusqu'à ce qu'une autre valeur lui soit affectée). Vous trouverez d'autres utilisations de la fonction del dans la suite de ce tutoriel.\n",
    "\n",
    "## 3. n-uplets et séquences\n",
    "Nous avons vu que les listes et les chaînes de caractères ont beaucoup de propriétés en commun, comme l'indiçage et les opérations sur des tranches. Ce sont deux exemples de séquences (voir Types séquentiels — list, tuple, range). Comme Python est un langage en constante évolution, d'autres types de séquences y seront peut-être ajoutés. Il existe également un autre type standard de séquence : le n-uplet (tuple en anglais).\n",
    "\n",
    "Un n-uplet consiste en différentes valeurs séparées par des virgules, par exemple :"
   ]
  },
  {
   "cell_type": "markdown",
   "id": "8493f3e9-e952-418f-81fb-0a883c745a9d",
   "metadata": {},
   "source": [
    "t = 12345, 54321, 'hello!'\n",
    "t[0]\n",
    "\n",
    "t\n",
    "\n",
    "# Tuples may be nested:\n",
    "u = t, (1, 2, 3, 4, 5)\n",
    "u\n",
    "\n",
    "# Tuples are immutable:\n",
    "t[0] = 88888\n",
    "\n",
    "\n",
    "# but they can contain mutable objects:\n",
    "v = ([1, 2, 3], [3, 2, 1])\n",
    "v"
   ]
  },
  {
   "cell_type": "markdown",
   "id": "2ca09185-5472-4e4e-9c50-d156d390999c",
   "metadata": {},
   "source": [
    "Comme vous pouvez le voir, les n-uplets sont toujours affichés entre parenthèses, de façon à ce que des n-uplets imbriqués soient interprétés correctement ; ils peuvent être saisis avec ou sans parenthèses, même si celles-ci sont souvent nécessaires (notamment lorsqu'un n-uplet fait partie d'une expression plus longue). Il n'est pas possible d'affecter de valeur à un élément d'un n-uplet ; par contre, il est en revanche possible de créer des n-uplets contenant des objets muables, comme des listes.\n",
    "\n",
    "Si les n-uplets peuvent sembler similaires aux listes, ils sont souvent utilisés dans des cas différents et pour des raisons différentes. Les n-uplets sont immuables et contiennent souvent des séquences hétérogènes d'éléments auxquelles on accède par « dissociation » (unpacking en anglais, voir plus loin) ou par indice (ou même par attribut dans le cas des namedtuples). Les listes sont souvent muables et contiennent des éléments généralement homogènes auxquels on accède en itérant sur la liste.\n",
    "\n",
    "La construction de n-uplets ne contenant aucun ou un seul élément est un cas particulier : la syntaxe a quelques tournures spécifiques pour le gérer. Un n-uplet vide se construit avec une paire de parenthèses vides ; un n-uplet avec un seul élément se construit en faisant suivre la valeur par une virgule (placer cette valeur entre parenthèses ne suffit pas). Pas très joli, mais efficace. Par exemple :"
   ]
  },
  {
   "cell_type": "code",
   "execution_count": null,
   "id": "124f03a4-f00e-4757-a7ec-2a8a4ac04af8",
   "metadata": {},
   "outputs": [],
   "source": [
    "empty = ()\n",
    "singleton = 'hello',    # <-- note trailing comma\n",
    "len(empty)\n",
    "\n",
    "len(singleton)\n",
    "\n",
    "singleton"
   ]
  },
  {
   "cell_type": "markdown",
   "id": "e75635a8-3108-422e-9705-648d864039a4",
   "metadata": {},
   "source": [
    "L'instruction t = 12345, 54321, 'hello!' est un exemple d'agrégation de *n-uplet* (tuple packing en anglais) : les valeurs 12345, 54321 et hello! sont agrégées ensemble dans un n-uplet. L'opération inverse est aussi possible :"
   ]
  },
  {
   "cell_type": "code",
   "execution_count": null,
   "id": "51ff10ac-899e-4f05-96ee-2b9512def990",
   "metadata": {},
   "outputs": [],
   "source": [
    "x, y, z = t"
   ]
  },
  {
   "cell_type": "markdown",
   "id": "a9e6f42c-43a0-44a2-990d-fc04f9fd7a9d",
   "metadata": {},
   "source": [
    "Ceci est appelé, de façon plus ou moins appropriée, une dissociation de séquence (sequence unpacking en anglais) et fonctionne pour toute séquence placée à droite de l'expression. Cette dissociation requiert autant de variables dans la partie gauche qu'il y a d'éléments dans la séquence. Notez également que cette affectation multiple est juste une combinaison entre une agrégation de n-uplet et une dissociation de séquence.\n",
    "\n",
    "## 4. Ensembles\n",
    "Python fournit également un type de donnée pour les ensembles. Un ensemble est une collection non ordonnée sans éléments en double. Un ensemble permet de réaliser des tests d'appartenance ou des suppressions de doublons de manière simple. Les ensembles savent également effectuer les opérations mathématiques telles que les unions, intersections, différences et différences symétriques.\n",
    "\n",
    "On crée des ensembles en appelant avec des accolades ou avec la fonction set(). Notez que {} ne crée pas un ensemble vide, mais un dictionnaire (une structure de données dont nous allons parler dans la séquence suivante) vide ; utilisez set() pour ce cas.\n",
    "\n",
    "Voici une brève démonstration :"
   ]
  },
  {
   "cell_type": "code",
   "execution_count": null,
   "id": "5e193379-cdbc-403f-b0d5-12bcedfb73ab",
   "metadata": {},
   "outputs": [],
   "source": [
    "basket = {'apple', 'orange', 'apple', 'pear', 'orange', 'banana'}\n",
    "print(basket)                      # show that duplicates have been removed\n",
    "\n",
    "'orange' in basket                 # fast membership testing\n",
    "\n",
    "'crabgrass' in basket\n",
    "\n",
    "\n",
    "# Demonstrate set operations on unique letters from two words\n",
    "\n",
    "a = set('abracadabra')\n",
    "b = set('alacazam')\n",
    "a                                  # unique letters in a\n",
    "\n",
    "a - b                              # letters in a but not in b\n",
    "\n",
    "a | b                              # letters in a or b or both\n",
    "\n",
    "a & b                              # letters in both a and b\n",
    "\n",
    "a ^ b                              # letters in a or b but not both"
   ]
  },
  {
   "cell_type": "markdown",
   "id": "20f5b58f-b315-4efe-a516-80f24c4bc456",
   "metadata": {},
   "source": [
    "Tout comme pour les listes en compréhension, il est possible d'écrire des ensembles en compréhension :"
   ]
  },
  {
   "cell_type": "code",
   "execution_count": null,
   "id": "b1cfb3fd-4e8c-4eef-89a8-336958b52366",
   "metadata": {},
   "outputs": [],
   "source": [
    "a = {x for x in 'abracadabra' if x not in 'abc'}\n",
    "a"
   ]
  },
  {
   "cell_type": "markdown",
   "id": "2dad31f2-6457-41be-97e1-bc34c84ee7b9",
   "metadata": {},
   "source": [
    "## 5. Dictionnaires\n",
    "Un autre type de donnée très utile, natif dans Python, est le dictionnaire (voir Les types de correspondances — dict). Ces dictionnaires sont parfois présents dans d'autres langages sous le nom de « mémoires associatives » ou de « tableaux associatifs ». À la différence des séquences, qui sont indexées par des nombres, les dictionnaires sont indexés par des clés, qui peuvent être de n'importe quel type immuable ; les chaînes de caractères et les nombres peuvent toujours être des clés. Des n-uplets peuvent être utilisés comme clés s'ils ne contiennent que des chaînes, des nombres ou des n-uplets ; si un n-uplet contient un objet muable, de façon directe ou indirecte, il ne peut pas être utilisé comme une clé. Vous ne pouvez pas utiliser des listes comme clés, car les listes peuvent être modifiées en place en utilisant des affectations par position, par tranches ou via des méthodes comme append() ou extend().\n",
    "\n",
    "Le plus simple est de voir un dictionnaire comme un ensemble de paires clé-valeur au sein duquel les clés doivent être uniques. Une paire d'accolades crée un dictionnaire vide : {}. Placer une liste de paires clé-valeur séparées par des virgules à l'intérieur des accolades ajoute les valeurs correspondantes au dictionnaire ; c'est également de cette façon que les dictionnaires sont affichés.\n",
    "\n",
    "Les opérations classiques sur un dictionnaire consistent à stocker une valeur pour une clé et à extraire la valeur correspondant à une clé. Il est également possible de supprimer une paire clé-valeur avec del. Si vous stockez une valeur pour une clé qui est déjà utilisée, l'ancienne valeur associée à cette clé est perdue. Si vous tentez d'extraire une valeur associée à une clé qui n'existe pas, une exception est levée.\n",
    "\n",
    "Exécuter list(d) sur un dictionnaire d renvoie une liste de toutes les clés utilisées dans le dictionnaire, dans l'ordre d'insertion (si vous voulez qu'elles soient ordonnées, utilisez sorted(d)). Pour tester si une clé est dans le dictionnaire, utilisez le mot-clé in.\n",
    "\n",
    "Voici un petit exemple utilisant un dictionnaire :"
   ]
  },
  {
   "cell_type": "code",
   "execution_count": null,
   "id": "2b53ce2c-d3c4-4c14-afe2-0a483bc92f9b",
   "metadata": {},
   "outputs": [],
   "source": [
    "tel = {'jack': 4098, 'sape': 4139}\n",
    "tel['guido'] = 4127\n",
    "tel\n",
    "\n",
    "tel['jack']\n",
    "\n",
    "del tel['sape']\n",
    "tel['irv'] = 4127\n",
    "tel\n",
    "\n",
    "list(tel)\n",
    "\n",
    "sorted(tel)\n",
    "\n",
    "'guido' in tel\n",
    "\n",
    "'jack' not in tel"
   ]
  },
  {
   "cell_type": "markdown",
   "id": "02fedc06-8f3e-49ae-b3a5-3a7c7cacb5d6",
   "metadata": {},
   "source": [
    "Le constructeur ```dict()``` fabrique un dictionnaire directement à partir d'une liste de paires clé-valeur stockées sous la forme de n-uplets :"
   ]
  },
  {
   "cell_type": "code",
   "execution_count": null,
   "id": "d6777550-312a-4f48-83dc-8b4864dbddcc",
   "metadata": {},
   "outputs": [],
   "source": [
    "dict([('sape', 4139), ('guido', 4127), ('jack', 4098)])"
   ]
  },
  {
   "cell_type": "markdown",
   "id": "f1bc2835-4d3f-475b-a675-e83558f535d0",
   "metadata": {},
   "source": [
    "De plus, il est possible de créer des dictionnaires en compréhension depuis un jeu de clés et valeurs :"
   ]
  },
  {
   "cell_type": "code",
   "execution_count": null,
   "id": "a68dfc52-f6a5-4e93-ab64-a6415f221e25",
   "metadata": {},
   "outputs": [],
   "source": [
    "{x: x**2 for x in (2, 4, 6)}"
   ]
  },
  {
   "cell_type": "markdown",
   "id": "b55bed67-0164-4e39-9c6d-e0b05589a05a",
   "metadata": {},
   "source": [
    "Lorsque les clés sont de simples chaînes de caractères, il est parfois plus facile de définir les paires en utilisant des paramètres nommés :"
   ]
  },
  {
   "cell_type": "code",
   "execution_count": null,
   "id": "4e7dc8f9-7dcd-408f-89bc-4fad14fe6c59",
   "metadata": {},
   "outputs": [],
   "source": [
    "dict(sape=4139, guido=4127, jack=4098)"
   ]
  },
  {
   "cell_type": "markdown",
   "id": "b0c5d222-38b8-4790-a3b8-91c01223a307",
   "metadata": {},
   "source": [
    "## 6. Techniques de boucles\n",
    "Lorsque vous faites une boucle sur un dictionnaire, la clé et la valeur associée peuvent être récupérées en même temps en utilisant la méthode items() :"
   ]
  },
  {
   "cell_type": "code",
   "execution_count": null,
   "id": "299717c8-5ca8-43cd-953a-8ae515b33740",
   "metadata": {},
   "outputs": [],
   "source": [
    "knights = {'gallahad': 'the pure', 'robin': 'the brave'}\n",
    "for k, v in knights.items():\n",
    "    print(k, v)"
   ]
  },
  {
   "cell_type": "markdown",
   "id": "112f2c4f-7be5-44d2-970f-a7f26087d253",
   "metadata": {},
   "source": [
    "Lorsque vous faites une boucle sur une séquence, la position et la valeur associée peuvent être récupérées en même temps en utilisant la fonction enumerate()."
   ]
  },
  {
   "cell_type": "code",
   "execution_count": null,
   "id": "a575e9df-5596-4cc5-96d0-5309f4d8ee33",
   "metadata": {},
   "outputs": [],
   "source": [
    "for i, v in enumerate(['tic', 'tac', 'toe']):\n",
    "    print(i, v)"
   ]
  },
  {
   "cell_type": "markdown",
   "id": "3452f6d1-7a6f-4e5a-979d-75e4f81befa3",
   "metadata": {},
   "source": [
    "Pour faire une boucle sur deux séquences ou plus en même temps, les éléments peuvent être associés en utilisant la fonction zip() :"
   ]
  },
  {
   "cell_type": "code",
   "execution_count": null,
   "id": "3ede280e-fda1-4fa8-8c95-cf9d8e809181",
   "metadata": {},
   "outputs": [],
   "source": [
    "questions = ['name', 'quest', 'favorite color']\n",
    "answers = ['lancelot', 'the holy grail', 'blue']\n",
    "for q, a in zip(questions, answers):\n",
    "    print('What is your {0}?  It is {1}.'.format(q, a))"
   ]
  },
  {
   "cell_type": "markdown",
   "id": "e21ab431-f9c7-49e5-b0ad-52cdb38ed085",
   "metadata": {},
   "source": [
    "Pour faire une boucle en sens inverse sur une séquence, commencez par spécifier la séquence dans son ordre normal, puis appliquez la fonction reversed() :"
   ]
  },
  {
   "cell_type": "code",
   "execution_count": null,
   "id": "71ff7f0d-c5ea-4f26-8948-ed870be60d5a",
   "metadata": {},
   "outputs": [],
   "source": [
    "for i in reversed(range(1, 10, 2)):\n",
    "    print(i)"
   ]
  },
  {
   "cell_type": "markdown",
   "id": "d0bafa8a-770f-4c62-98f4-8ba42893e2d6",
   "metadata": {},
   "source": [
    "Pour faire une boucle sur une séquence de manière ordonnée, utilisez la fonction sorted() qui renvoie une nouvelle liste ordonnée sans altérer la source :"
   ]
  },
  {
   "cell_type": "code",
   "execution_count": null,
   "id": "8c5d3227-fa5b-4b56-be93-715ec56f8c7f",
   "metadata": {},
   "outputs": [],
   "source": [
    "basket = ['apple', 'orange', 'apple', 'pear', 'orange', 'banana']\n",
    "for i in sorted(basket):\n",
    "    print(i)"
   ]
  },
  {
   "cell_type": "markdown",
   "id": "0c5d2fe5-d98e-4ccd-8d4b-0f9898f72215",
   "metadata": {},
   "source": [
    "L'utilisation de la fonction set() sur une séquence élimine les doublons. Combiner les fonctions sorted() et set() sur une séquence est la façon « canonique » d'itérer sur les éléments uniques d'une séquence dans l'ordre. :"
   ]
  },
  {
   "cell_type": "code",
   "execution_count": null,
   "id": "134bd61e-682d-483e-a6a9-6b4673f5ba8d",
   "metadata": {},
   "outputs": [],
   "source": [
    "basket = ['apple', 'orange', 'apple', 'pear', 'orange', 'banana']\n",
    "for f in sorted(set(basket)):\n",
    "    print(f)"
   ]
  },
  {
   "cell_type": "markdown",
   "id": "fe102218-2e75-41d5-a48a-d4c42aa748b4",
   "metadata": {},
   "source": [
    "Il est parfois tentant de modifier une liste pendant que l'on itère dessus. Il est souvent plus simple et plus sûr de créer une nouvelle liste à la place. :"
   ]
  },
  {
   "cell_type": "code",
   "execution_count": null,
   "id": "623945ee-b58d-4a43-991c-b554a1e1ffe6",
   "metadata": {},
   "outputs": [],
   "source": [
    "import math\n",
    "raw_data = [56.2, float('NaN'), 51.7, 55.3, 52.5, float('NaN'), 47.8]\n",
    "filtered_data = []\n",
    "for value in raw_data:\n",
    "    if not math.isnan(value):\n",
    "        filtered_data.append(value)\n",
    "\n",
    "filtered_data"
   ]
  },
  {
   "cell_type": "markdown",
   "id": "c6ab1b3e-7254-444b-b165-4fba4ee36295",
   "metadata": {},
   "source": [
    "## 7. Plus d'informations sur les conditions\n",
    "Les conditions utilisées dans une instruction while ou if peuvent contenir n'importe quel opérateur, pas seulement des comparaisons.\n",
    "\n",
    "Les opérateurs de comparaison in et not in testent si une valeur appartient (ou pas) à un conteneur. Les opérateurs is et is not testent si deux objets sont vraiment le même objet. Tous les opérateurs de comparaison ont la même priorité, qui est plus faible que celle des opérateurs numériques.\n",
    "\n",
    "Les comparaisons peuvent être chaînées. Par exemple, a < b == c teste si a est inférieur à b et si, de plus, b égale c.\n",
    "\n",
    "Les comparaisons peuvent être combinées en utilisant les opérateurs booléens and et or, le résultat d'une comparaison (ou de toute expression booléenne) pouvant être inversé avec not. Ces opérateurs ont une priorité inférieure à celle des opérateurs de comparaison ; entre eux, not a la priorité la plus élevée et or la plus faible, de telle sorte que A and not B or C est équivalent à (A and (not B)) or C. Comme d'habitude, les parenthèses permettent d'exprimer l'instruction désirée.\n",
    "\n",
    "Les opérateurs booléens and et or sont appelés opérateurs en circuit court : leurs arguments sont évalués de la gauche vers la droite et l'évaluation s'arrête dès que le résultat est déterminé. Par exemple, si A et C sont vrais et B est faux, A and B and C n'évalue pas l'expression C. Lorsqu'elle est utilisée en tant que valeur et non en tant que booléen, la valeur de retour d'un opérateur en circuit court est celle du dernier argument évalué.\n",
    "\n",
    "Il est possible d'affecter le résultat d'une comparaison ou d'une autre expression booléenne à une variable. Par exemple :"
   ]
  },
  {
   "cell_type": "code",
   "execution_count": null,
   "id": "13eecda0-34e6-4db7-9a8f-1f2cee780c54",
   "metadata": {},
   "outputs": [],
   "source": [
    "string1, string2, string3 = '', 'Trondheim', 'Hammer Dance'\n",
    "non_null = string1 or string2 or string3\n",
    "non_null"
   ]
  },
  {
   "cell_type": "markdown",
   "id": "32ede988-5463-4e8d-ba3d-2030ec9f3d64",
   "metadata": {},
   "source": [
    "\n",
    "Notez qu'en Python, à la différence du C, une affectation à l'intérieur d'une expression doit être faite explicitement avec l'opérateur morse :=. Cela évite des erreurs fréquentes que l'on rencontre en C, lorsque l'on tape = alors que l'on voulait faire un test avec ==.\n",
    "\n",
    "## 8. Comparer des séquences avec d'autres types\n",
    "Des séquences peuvent être comparées avec d'autres séquences du même type. La comparaison utilise un ordre lexicographique : les deux premiers éléments de chaque séquence sont comparés et, s'ils diffèrent, cela détermine le résultat de la comparaison ; s'ils sont égaux, les deux éléments suivants sont comparés à leur tour et ainsi de suite jusqu'à ce que l'une des séquences soit épuisée. Si deux éléments à comparer sont eux-mêmes des séquences du même type, alors la comparaison lexicographique est effectuée récursivement. Si tous les éléments des deux séquences sont égaux, les deux séquences sont alors considérées comme égales. Si une séquence est une sous-séquence de l'autre, la séquence la plus courte est celle dont la valeur est inférieure. La comparaison lexicographique des chaînes de caractères utilise le code Unicode des caractères. Voici quelques exemples de comparaisons entre séquences de même type :\n",
    "\n",
    "```shell\n",
    "(1, 2, 3)              < (1, 2, 4)\n",
    "[1, 2, 3]              < [1, 2, 4]\n",
    "'ABC' < 'C' < 'Pascal' < 'Python'\n",
    "(1, 2, 3, 4)           < (1, 2, 4)\n",
    "(1, 2)                 < (1, 2, -1)\n",
    "(1, 2, 3)             == (1.0, 2.0, 3.0)\n",
    "(1, 2, ('aa', 'ab'))   < (1, 2, ('abc', 'a'), 4)\n",
    "```\n",
    "Comparer des objets de type différents avec < ou > est autorisé si les objets ont des méthodes de comparaison appropriées. Par exemple, les types numériques sont comparés via leur valeur numérique, donc 0 égale 0,0, etc. Dans les autres cas, au lieu de donner un ordre imprévisible, l'interpréteur lève une exception ```TypeError```."
   ]
  },
  {
   "cell_type": "code",
   "execution_count": null,
   "id": "dde5e8f4-4b4a-4e78-88e1-225f1f84130e",
   "metadata": {},
   "outputs": [],
   "source": []
  }
 ],
 "metadata": {
  "kernelspec": {
   "display_name": "py11",
   "language": "python",
   "name": "py11"
  },
  "language_info": {
   "codemirror_mode": {
    "name": "ipython",
    "version": 3
   },
   "file_extension": ".py",
   "mimetype": "text/x-python",
   "name": "python",
   "nbconvert_exporter": "python",
   "pygments_lexer": "ipython3",
   "version": "3.11.0"
  }
 },
 "nbformat": 4,
 "nbformat_minor": 5
}
