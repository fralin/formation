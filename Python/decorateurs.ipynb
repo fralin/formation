{
 "cells": [
  {
   "cell_type": "code",
   "execution_count": null,
   "id": "f04cb3d6-be93-4ead-926a-4b33ec104f55",
   "metadata": {},
   "outputs": [],
   "source": [
    "## Ce code permet d'améliorer la mise en page du notebook\n",
    "\n",
    "from IPython.core.display import HTML\n",
    "def css_styling():\n",
    "    styles = open(\"./styles/custom.css\", \"r\").read()\n",
    "    return HTML(\"<style>\"+styles+\"</style>\")\n",
    "css_styling()"
   ]
  },
  {
   "cell_type": "markdown",
   "id": "6e1d0e6a-4877-4400-9776-a5ebb94dd26a",
   "metadata": {},
   "source": [
    "# Décorateurs et décoration\n",
    "\n",
    "## Introduction\n",
    "\n",
    "Les décorateurs font très probablement partie des possibilités de conception les plus belles et les plus puissantes de Python, mais en même temps le concept est considéré par beaucoup comme compliqué à aborder. Pour être précis, l'utilisation des décorateurs est très facile, mais l'écriture des décorateurs peut être compliquée, surtout si vous n'avez pas d'expérience avec les décorateurs et certains concepts de programmation fonctionnelle.\n",
    "\n",
    "Bien qu'il s'agisse du même concept sous-jacent, il existe deux types différents de décorateurs en Python :\n",
    "\n",
    "- Les décorateurs de fonctions\n",
    "- Les décorateurs de classe\n",
    "\n",
    "Un décorateur en Python est tout objet Python appelable qui est utilisé pour modifier une fonction ou une classe. Une référence à une fonction ```func``` ou une classe ```C``` est passée à un décorateur et le décorateur retourne une fonction ou une classe modifiée. Les fonctions ou classes modifiées contiennent généralement des appels à la fonction originale ```func``` ou à la classe ```C```.\n",
    "\n",
    "## Premiers pas vers les décorateurs\n",
    "\n",
    "Nous allons présenter les décorateurs en reprenant certains aspects importants des fonctions. Tout d'abord, vous devez savoir ou vous souvenir que les noms de fonctions sont des références aux fonctions et que nous pouvons attribuer plusieurs noms à la même fonction :"
   ]
  },
  {
   "cell_type": "code",
   "execution_count": 1,
   "id": "23863d4a-7a50-4641-b981-d98088586f17",
   "metadata": {},
   "outputs": [
    {
     "data": {
      "text/plain": [
       "11"
      ]
     },
     "execution_count": 1,
     "metadata": {},
     "output_type": "execute_result"
    }
   ],
   "source": [
    "def succ(x):\n",
    "    return x + 1\n",
    "successor = succ\n",
    "successor(10)"
   ]
  },
  {
   "cell_type": "markdown",
   "id": "2479cf6f-03ba-4a02-8c39-52293b29ea8e",
   "metadata": {},
   "source": [
    "Cela signifie que nous avons deux noms, à savoir ```succ``` et ```successeur``` pour la même fonction. Le fait important suivant est que nous pouvons supprimer soit ```succ``` soit ```successeur``` sans supprimer la fonction elle-même."
   ]
  },
  {
   "cell_type": "code",
   "execution_count": 2,
   "id": "45137e04-77f7-472f-bdbc-ffd073634676",
   "metadata": {},
   "outputs": [
    {
     "data": {
      "text/plain": [
       "11"
      ]
     },
     "execution_count": 2,
     "metadata": {},
     "output_type": "execute_result"
    }
   ],
   "source": [
    "del succ\n",
    "successor(10)"
   ]
  },
  {
   "cell_type": "markdown",
   "id": "a3795944-f3b0-4e2e-8bd2-297020472523",
   "metadata": {},
   "source": [
    "### Fonctions dans les fonctions\n",
    "Le concept d'avoir ou de définir des fonctions à l'intérieur d'une fonction est complètement nouveau pour les programmeurs C ou C++ :"
   ]
  },
  {
   "cell_type": "code",
   "execution_count": 3,
   "id": "5e0d4876-b004-4ca7-9f3c-17a39a415cc9",
   "metadata": {},
   "outputs": [
    {
     "name": "stdout",
     "output_type": "stream",
     "text": [
      "This is the function 'f'\n",
      "I am calling 'g' now:\n",
      "Hi, it's me 'g'\n",
      "Thanks for calling me\n"
     ]
    }
   ],
   "source": [
    "def f():\n",
    "    \n",
    "    def g():\n",
    "        print(\"Hi, it's me 'g'\")\n",
    "        print(\"Thanks for calling me\")\n",
    "        \n",
    "    print(\"This is the function 'f'\")\n",
    "    print(\"I am calling 'g' now:\")\n",
    "    g()\n",
    "\n",
    "    \n",
    "f()"
   ]
  },
  {
   "cell_type": "markdown",
   "id": "46ca68b1-04d8-48fd-a847-60d8ab737eae",
   "metadata": {},
   "source": [
    "Un autre exemple d'utilisation de déclarations de retour \"appropriées\" dans les fonctions :"
   ]
  },
  {
   "cell_type": "code",
   "execution_count": 4,
   "id": "bd3c8662-d3c1-431b-92da-1f6e9b57e293",
   "metadata": {},
   "outputs": [
    {
     "name": "stdout",
     "output_type": "stream",
     "text": [
      "It's 68.0 degrees!\n"
     ]
    }
   ],
   "source": [
    "def temperature(t):\n",
    "    def celsius2fahrenheit(x):\n",
    "        return 9 * x / 5 + 32\n",
    "\n",
    "    result = \"It's \" + str(celsius2fahrenheit(t)) + \" degrees!\" \n",
    "    return result\n",
    "\n",
    "print(temperature(20))"
   ]
  },
  {
   "cell_type": "markdown",
   "id": "12c50ab1-5254-4f6f-87ab-8f21330d6e18",
   "metadata": {},
   "source": [
    "L'exemple suivant concerne la fonction factorielle, que nous avons précédemment définie comme suit :"
   ]
  },
  {
   "cell_type": "code",
   "execution_count": 5,
   "id": "07995bf6-6a1f-4dea-8ad4-72624260c025",
   "metadata": {},
   "outputs": [],
   "source": [
    "def factorial(n):\n",
    "    \"\"\" calculates the factorial of n, \n",
    "        n should be an integer and n <= 0 \"\"\"\n",
    "    if n == 0:\n",
    "        return 1\n",
    "    else:\n",
    "        return n * factorial(n-1)"
   ]
  },
  {
   "cell_type": "markdown",
   "id": "af790ec6-56cb-47e8-8238-44578d91a489",
   "metadata": {},
   "source": [
    "Que se passe-t-il si quelqu'un passe une valeur négative ou un nombre flottant à cette fonction ? Elle ne se terminera jamais. Vous pourriez avoir l'idée de vérifier cela comme suit :"
   ]
  },
  {
   "cell_type": "code",
   "execution_count": 6,
   "id": "6224fcac-8773-49ea-88cf-76cbca871e26",
   "metadata": {},
   "outputs": [],
   "source": [
    "def factorial(n):\n",
    "    \"\"\" calculates the factorial of n, \n",
    "        n should be an integer and n <= 0 \"\"\"\n",
    "    if type(n) == int and n >=0:\n",
    "        if n == 0:\n",
    "            return 1\n",
    "        else:\n",
    "            return n * factorial(n-1)\n",
    "\n",
    "    else:\n",
    "        raise TypeError(\"n has to be a positive integer or zero\")"
   ]
  },
  {
   "cell_type": "markdown",
   "id": "126db96e-1da6-40d9-a911-f49efa019ae3",
   "metadata": {},
   "source": [
    "Si vous appelez cette fonction avec 4 par exemple, c'est-à-dire factorielle (4), la première chose qui est vérifiée est de savoir si c'est mon entier positif. En principe, cela a du sens. Le \"problème\" apparaît maintenant dans l'étape de récursion. On appelle maintenant la factorielle (3). Cet appel et tous les autres vérifient également s'il s'agit d'un nombre entier positif. Mais cela n'est pas nécessaire : Si vous soustrayez la valeur 1 d'un nombre entier positif, vous obtenez à nouveau un nombre entier positif ou 0. Les deux valeurs d'argument sont donc bien définies pour notre fonction.\n",
    "\n",
    "Avec une fonction imbriquée (fonction locale), on peut résoudre ce problème de manière élégante :"
   ]
  },
  {
   "cell_type": "code",
   "execution_count": 7,
   "id": "727cc4d8-e691-4bd9-bc38-d2ca307326af",
   "metadata": {},
   "outputs": [],
   "source": [
    "def factorial(n):\n",
    "    \"\"\" calculates the factorial of n, \n",
    "        n should be an integer and n <= 0 \"\"\"\n",
    "    def inner_factorial(n):\n",
    "        if n == 0:\n",
    "            return 1\n",
    "        else:\n",
    "            return n * inner_factorial(n-1)\n",
    "        \n",
    "    if type(n) == int and n >=0:\n",
    "        return inner_factorial(n)\n",
    "    else:\n",
    "        raise TypeError(\"n should be a positve int or 0\")"
   ]
  },
  {
   "cell_type": "markdown",
   "id": "9db6f4fe-1a51-44ee-9394-9fceae41e346",
   "metadata": {},
   "source": [
    "Nous pouvons étendre le domaine des valeurs d'entrée possibles pour notre fonction factorielle en autorisant les nombres flottants qui sont équivalents aux nombres entiers, c'est-à-dire qui satisfont la condition ```int(x) == x```. Si nous savons qu'une variable ```x``` fait référence à une valeur flottante, nous pouvons également utiliser le test ```x.is_integer()```.\n",
    "\n",
    "L'implémentation suivante de factorial suit une analyse de cas plus détaillée de l'argument comme discuté précédemment :"
   ]
  },
  {
   "cell_type": "code",
   "execution_count": 8,
   "id": "8b25c884-ae16-4c7f-abab-17ffaff40291",
   "metadata": {},
   "outputs": [],
   "source": [
    "def factorial(n):\n",
    "    \"\"\" calculates the factorial of n, if n is either a non negative\n",
    "    integer or a float number x being equivalent to an integer, like\n",
    "    4.0, 12.0, 8. i.e. no decimals following the decimal point \"\"\"\n",
    "    \n",
    "    def inner_factorial(n):\n",
    "        if n == 0:\n",
    "            return 1\n",
    "        else:\n",
    "            return n * inner_factorial(n-1)\n",
    "        \n",
    "    if not isinstance(n, (int, float)):\n",
    "        raise ValueError(\"Value is neither an integer nor a float equivalent to int\")\n",
    "    if isinstance(n, (int))  and n < 0:\n",
    "        raise ValueError('Should be a positive integer or 0')\n",
    "    elif isinstance(n, (float)) and not n.is_integer():\n",
    "        raise ValueError('value is a float but not equivalent to an int')\n",
    "    else:\n",
    "        return inner_factorial(n)"
   ]
  },
  {
   "cell_type": "markdown",
   "id": "fe6dd5ca-afcf-480b-bebe-721c7cd89e0d",
   "metadata": {},
   "source": [
    "Vérifions la fonction précédente :"
   ]
  },
  {
   "cell_type": "code",
   "execution_count": 9,
   "id": "b7993c87-9f7b-472d-b644-ba09f90ab531",
   "metadata": {},
   "outputs": [
    {
     "name": "stdout",
     "output_type": "stream",
     "text": [
      "0, 1\n",
      "1, 1\n",
      "5, 120\n",
      "7.0, 5040.0\n",
      "-4, Should be a positive integer or 0\n",
      "7.3, value is a float but not equivalent to an int\n",
      "7, Value is neither an integer nor a float equivalent to int\n"
     ]
    }
   ],
   "source": [
    "values = [0, 1, 5, 7.0, -4, 7.3, \"7\"]\n",
    "\n",
    "for value in values:\n",
    "    try: \n",
    "        print(value, end=\", \")\n",
    "        print(factorial(value))\n",
    "    except ValueError as e:\n",
    "        print(e)"
   ]
  },
  {
   "cell_type": "markdown",
   "id": "ee91d2ea-eab7-4fe6-88ea-e15e64fd4ba1",
   "metadata": {},
   "source": [
    "### Fonctions en tant que paramètres\n",
    "Si vous regardez uniquement les exemples précédents, cela ne semble pas très utile. Cela devient utile en combinaison avec deux autres possibilités puissantes des fonctions Python. Étant donné que chaque paramètre d'une fonction est une référence à un objet et que les fonctions sont également des objets, nous pouvons passer des fonctions - ou mieux des \"références à des fonctions\" - comme paramètres à une fonction. Nous allons le démontrer dans le prochain exemple simple :"
   ]
  },
  {
   "cell_type": "code",
   "execution_count": 10,
   "id": "917bd370-751f-4641-a2b5-9b5e489cdfa4",
   "metadata": {},
   "outputs": [
    {
     "name": "stdout",
     "output_type": "stream",
     "text": [
      "Hi, it's me 'f'\n",
      "I will call 'func' now\n",
      "Hi, it's me 'g'\n",
      "Thanks for calling me\n"
     ]
    }
   ],
   "source": [
    "def g():\n",
    "    print(\"Hi, it's me 'g'\")\n",
    "    print(\"Thanks for calling me\")\n",
    "    \n",
    "def f(func):\n",
    "    print(\"Hi, it's me 'f'\")\n",
    "    print(\"I will call 'func' now\")\n",
    "    func()\n",
    "          \n",
    "f(g)"
   ]
  },
  {
   "cell_type": "markdown",
   "id": "1c2add0c-b7dc-46b1-8190-bafc89635595",
   "metadata": {},
   "source": [
    "Vous pouvez ne pas être satisfait du résultat. ```f``` devrait écrire qu'il appelle ```g``` et non ```func```. Bien sûr, nous devons savoir quel est le \"vrai\" nom de ```func```. Pour cela, nous pouvons utiliser l'attribut ```__name__```, car il contient ce nom :"
   ]
  },
  {
   "cell_type": "code",
   "execution_count": 11,
   "id": "d2e28653-d5ab-458d-a938-83209f333e01",
   "metadata": {},
   "outputs": [
    {
     "name": "stdout",
     "output_type": "stream",
     "text": [
      "Hi, it's me 'f'\n",
      "I will call 'func' now\n",
      "Hi, it's me 'g'\n",
      "Thanks for calling me\n",
      "func's real name is g\n"
     ]
    }
   ],
   "source": [
    "def g():\n",
    "    print(\"Hi, it's me 'g'\")\n",
    "    print(\"Thanks for calling me\")\n",
    "    \n",
    "def f(func):\n",
    "    print(\"Hi, it's me 'f'\")\n",
    "    print(\"I will call 'func' now\")\n",
    "    func()\n",
    "    print(\"func's real name is \" + func.__name__) \n",
    "\n",
    "          \n",
    "f(g)"
   ]
  },
  {
   "cell_type": "markdown",
   "id": "4b192b52-5901-4646-89ea-c71730a1c7e1",
   "metadata": {},
   "source": [
    "La sortie explique à nouveau ce qui se passe. Un autre exemple :"
   ]
  },
  {
   "cell_type": "code",
   "execution_count": 12,
   "id": "14c7caf1-3d2d-4734-97b3-163616389867",
   "metadata": {},
   "outputs": [
    {
     "name": "stdout",
     "output_type": "stream",
     "text": [
      "The function sin was passed to foo\n",
      "2.3492405557375347\n",
      "The function cos was passed to foo\n",
      "-0.6769881462259364\n"
     ]
    }
   ],
   "source": [
    "import math\n",
    "\n",
    "def foo(func):\n",
    "    print(\"The function \" + func.__name__ + \" was passed to foo\")\n",
    "    res = 0\n",
    "    for x in [1, 2, 2.5]:\n",
    "        res += func(x)\n",
    "    return res\n",
    "\n",
    "print(foo(math.sin))\n",
    "print(foo(math.cos))"
   ]
  },
  {
   "cell_type": "markdown",
   "id": "ab63407b-3e07-4cc9-80cc-a7a0da602f86",
   "metadata": {},
   "source": [
    "### Fonctions renvoyant des fonctions\n",
    "La sortie d'une fonction est également une référence à un objet. Les fonctions peuvent donc renvoyer des références à des objets fonctionnels."
   ]
  },
  {
   "cell_type": "code",
   "execution_count": 13,
   "id": "98686644-edc5-432e-8c01-75431e8a510a",
   "metadata": {},
   "outputs": [
    {
     "name": "stdout",
     "output_type": "stream",
     "text": [
      "5\n",
      "7\n"
     ]
    }
   ],
   "source": [
    "def f(x):\n",
    "    def g(y):\n",
    "        return y + x + 3 \n",
    "    return g\n",
    "\n",
    "nf1 = f(1)\n",
    "nf2 = f(3)\n",
    "\n",
    "print(nf1(1))\n",
    "print(nf2(1))"
   ]
  },
  {
   "cell_type": "markdown",
   "id": "f318ead3-0ba8-46c3-846f-fbffbf12f364",
   "metadata": {},
   "source": [
    "L'exemple précédent semble très artificiel et absolument inutile. Nous allons maintenant présenter un autre exemple orienté langage, qui montre une touche plus pratique. Bon, toujours pas une fonction qui soit utile telle quelle. Nous écrivons une fonction avec le nom presque explicite ```greeting_func_gen```. Cette fonction renvoie (ou génère) des fonctions qui peuvent être utilisées pour créer des personnes dans différentes langues, à savoir l'allemand, le français, l'italien, le turc et le grec :"
   ]
  },
  {
   "cell_type": "code",
   "execution_count": 14,
   "id": "a024ad32-559a-4ba1-b820-ba68c023d72c",
   "metadata": {},
   "outputs": [
    {
     "name": "stdout",
     "output_type": "stream",
     "text": [
      "Günaydın Gülay!\n"
     ]
    }
   ],
   "source": [
    "def greeting_func_gen(lang):\n",
    "    \n",
    "    def customized_greeting(name):\n",
    "        if lang == \"de\":   # German\n",
    "            phrase = \"Guten Morgen \"\n",
    "        elif lang == \"fr\": # French\n",
    "            phrase = \"Bonjour \"\n",
    "        elif lang == \"it\": # Italian\n",
    "            phrase = \"Buongiorno \"\n",
    "        elif lang == \"tr\": # Turkish\n",
    "            phrase = \"Günaydın \"\n",
    "        elif lang == \"gr\": # Greek\n",
    "            phrase = \"Καλημερα \"\n",
    "        else:\n",
    "            phrase = \"Hi \"\n",
    "        return phrase + name + \"!\"\n",
    "    \n",
    "    return customized_greeting\n",
    "\n",
    "\n",
    "say_hi = greeting_func_gen(\"tr\")\n",
    "print(say_hi(\"Gülay\"))    # this Turkish name means \"rose moon\" by the way"
   ]
  },
  {
   "cell_type": "markdown",
   "id": "7742d78b-0920-4da6-8519-6ffe6e33dff2",
   "metadata": {},
   "source": [
    "## Un exemple plus utile\n",
    "\n",
    "L'exemple suivant est plus utile et en même temps plus orienté vers les mathématiques. Supposons que nous devions définir plusieurs polynômes de degré 2. Cela peut ressembler à ceci :"
   ]
  },
  {
   "cell_type": "code",
   "execution_count": 15,
   "id": "6c5ef507-fc3d-4232-b39c-b4772603245f",
   "metadata": {},
   "outputs": [],
   "source": [
    "def p1(x):\n",
    "    return 2*x**2 - 3*x + 0.5\n",
    "\n",
    "def p2(x):\n",
    "    return 2.3*x**2 + 2.9*x - 20\n",
    "\n",
    "def p3(x):\n",
    "    return -2.3*x**2 + 4.9*x - 9"
   ]
  },
  {
   "cell_type": "markdown",
   "id": "c6b92b77-6d10-4290-92cb-3fba66484d64",
   "metadata": {},
   "source": [
    "Cela peut être simplifié en implémentant dès maintenant une fonction de \"fabrique\" de polynômes. Nous allons commencer par écrire une version qui peut créer des polynômes de degré 2.\n",
    "<center>$p(x) = ax^2+bx+c$</center>\n",
    "\n",
    "\n",
    "L'implémentation Python en tant que fonction de fabrique polynomiale peut être écrite comme suit :"
   ]
  },
  {
   "cell_type": "code",
   "execution_count": 16,
   "id": "f0200e8b-7c0b-4448-bbf5-801371571c6f",
   "metadata": {},
   "outputs": [
    {
     "name": "stdout",
     "output_type": "stream",
     "text": [
      "-2 14.5 -16.6\n",
      "-1 5.5 -20.6\n",
      "0 0.5 -20.0\n",
      "1 -0.5 -14.8\n"
     ]
    }
   ],
   "source": [
    "def polynomial_creator(a, b, c):\n",
    "    def polynomial(x):\n",
    "        return a * x**2 + b * x + c\n",
    "    return polynomial\n",
    "    \n",
    "p1 = polynomial_creator(2, -3, 0.5)\n",
    "p2 = polynomial_creator(2.3, 2.9, -20)\n",
    "p3 = polynomial_creator(-2.3, 4.9, -9)\n",
    "\n",
    "for x in range(-2, 2, 1):\n",
    "    print(x, p1(x), p2(x))"
   ]
  },
  {
   "cell_type": "markdown",
   "id": "c9be22e6-dd85-4690-bb24-886a319cb32d",
   "metadata": {},
   "source": [
    "Nous pouvons généraliser notre fonction de fabrique afin qu'elle puisse fonctionner pour des polynômes de degré arbitraire :\n",
    "\n",
    "<center>$\\sum_{k=0}^n a_kx^k=a_kx^k+a_{k-1}x^{k+1}+\\cdots + a_1x^1+a_0$</center>"
   ]
  },
  {
   "cell_type": "code",
   "execution_count": 17,
   "id": "ca003b99-8a65-4cb0-bfc0-9ebdee2dcda8",
   "metadata": {},
   "outputs": [
    {
     "name": "stdout",
     "output_type": "stream",
     "text": [
      "-2 4 0 100 -7 591\n",
      "-1 4 2 7 -2 -35\n",
      "0 4 4 2 1 9\n",
      "1 4 6 13 2 99\n"
     ]
    }
   ],
   "source": [
    "def polynomial_creator(*coefficients):\n",
    "    \"\"\" coefficients are in the form a_n, ... a_1, a_0 \n",
    "    \"\"\"\n",
    "    def polynomial(x):\n",
    "        res = 0\n",
    "        for index, coeff in enumerate(coefficients[::-1]):\n",
    "            res += coeff * x** index\n",
    "        return res\n",
    "    return polynomial\n",
    "  \n",
    "p1 = polynomial_creator(4)\n",
    "p2 = polynomial_creator(2, 4)\n",
    "p3 = polynomial_creator(1, 8, -1, 0, 3, 2)\n",
    "p4 = polynomial_creator(-1, 2, 1)\n",
    "p5 = polynomial_creator(4, 5, 7, 7, 9, 12, 3, 43, 9)\n",
    "\n",
    "\n",
    "for x in range(-2, 2, 1):\n",
    "    print(x, p1(x), p2(x), p3(x), p4(x), p5(x))"
   ]
  },
  {
   "cell_type": "markdown",
   "id": "d8b3c161-524c-4e82-b905-81dfc1874912",
   "metadata": {},
   "source": [
    "La fonction $p_3$ met en œuvre, par exemple, le polynôme suivant :\n",
    "$p_3(x)=x^5+8x^4-x^3+3x+2$\n",
    "\n",
    "La fonction polynomiale à l'intérieur de notre décorateur polynomial_creator peut être implémentée plus efficacement. Nous pouvons la factoriser de manière à ce qu'elle ne nécessite aucune exponentiation.\n",
    "\n",
    "Version factorisée d'un polynôme général sans exponentiation :\n",
    "\n",
    "<center>$res=((a_nx +a_{n-1}x + \\cdots +a_1)x +a_0 $</center>\n",
    "\n",
    "Implémentation de notre décorateur de créateur polynomial évitant l'exponentiation :"
   ]
  },
  {
   "cell_type": "code",
   "execution_count": 18,
   "id": "c12fe094-3174-42a9-bd90-bc228f8d8673",
   "metadata": {},
   "outputs": [
    {
     "name": "stdout",
     "output_type": "stream",
     "text": [
      "-2 4 0 100 -7 591\n",
      "-1 4 2 7 -2 -35\n",
      "0 4 4 2 1 9\n",
      "1 4 6 13 2 99\n"
     ]
    }
   ],
   "source": [
    "def polynomial_creator(*coeffs):\n",
    "    \"\"\" coefficients are in the form a_n, a_n_1, ... a_1, a_0 \n",
    "    \"\"\"\n",
    "    def polynomial(x):\n",
    "        res = coeffs[0]\n",
    "        for i in range(1, len(coeffs)):\n",
    "            res = res * x + coeffs[i]\n",
    "        return res\n",
    "                 \n",
    "    return polynomial\n",
    "\n",
    "p1 = polynomial_creator(4)\n",
    "p2 = polynomial_creator(2, 4)\n",
    "p3 = polynomial_creator(1, 8, -1, 0, 3, 2)\n",
    "p4 = polynomial_creator(-1, 2, 1)\n",
    "p5 = polynomial_creator(4, 5, 7, 7, 9, 12, 3, 43, 9)\n",
    "\n",
    "\n",
    "for x in range(-2, 2, 1):\n",
    "    print(x, p1(x), p2(x), p3(x), p4(x), p5(x))"
   ]
  },
  {
   "cell_type": "markdown",
   "id": "6dcb015b-9739-4f72-b785-7446cb4cd6e0",
   "metadata": {},
   "source": [
    "## Un décorateur simple\n",
    "\n",
    "Nous avons maintenant tout préparé pour définir notre premier décorateur simple :"
   ]
  },
  {
   "cell_type": "code",
   "execution_count": 19,
   "id": "0ec16173-2bf3-43d4-ba92-e7ef11c1176d",
   "metadata": {},
   "outputs": [
    {
     "name": "stdout",
     "output_type": "stream",
     "text": [
      "We call foo before decoration:\n",
      "Hi, foo has been called with Hi\n",
      "We now decorate foo with f:\n",
      "We call foo after decoration:\n",
      "Before calling foo\n",
      "Hi, foo has been called with 42\n",
      "After calling foo\n"
     ]
    }
   ],
   "source": [
    "def our_decorator(func):\n",
    "    def function_wrapper(x):\n",
    "        print(\"Before calling \" + func.__name__)\n",
    "        func(x)\n",
    "        print(\"After calling \" + func.__name__)\n",
    "    return function_wrapper\n",
    "\n",
    "def foo(x):\n",
    "    print(\"Hi, foo has been called with \" + str(x))\n",
    "\n",
    "print(\"We call foo before decoration:\")\n",
    "foo(\"Hi\")\n",
    "    \n",
    "print(\"We now decorate foo with f:\")\n",
    "foo = our_decorator(foo)\n",
    "\n",
    "print(\"We call foo after decoration:\")\n",
    "foo(42)"
   ]
  },
  {
   "cell_type": "markdown",
   "id": "cf22d60b-d94e-47a7-b8f0-53d60195ef93",
   "metadata": {},
   "source": [
    "Si vous regardez la sortie du programme précédent, vous pouvez voir ce qui se passe. Après la décoration \"foo = our_decorator(foo)\", foo est une référence à la 'function_wrapper'. foo' sera appelé à l'intérieur de 'function_wrapper', mais avant et après l'appel, du code supplémentaire sera exécuté, c'est-à-dire, dans notre cas, deux fonctions print.\n",
    "\n",
    "## La syntaxe habituelle des décorateurs en Python\n",
    "\n",
    "La décoration en Python n'est généralement pas effectuée de la manière dont nous l'avons fait dans l'exemple précédent, même si la notation ```foo = our_decorator(foo)``` est accrocheuse et facile à comprendre. C'est la raison pour laquelle nous l'avons utilisée ! Vous pouvez également constater un problème de conception dans notre approche précédente. ```foo``` existait dans le même programme en deux versions, avant la décoration et après la décoration.\n",
    "\n",
    "Nous allons faire une décoration correcte maintenant. La décoration se produit dans la ligne précédant l'en-tête de la fonction. Le __@__ est suivi du nom de la fonction décoratrice.\n",
    "\n",
    "Nous allons maintenant réécrire notre exemple initial. Au lieu d'écrire l'instruction\n",
    "```python\n",
    " foo = notre_décorateur(foo)\n",
    "```\n",
    "\n",
    "nous pouvons écrire\n",
    "```python\n",
    " @notre_décorateur \n",
    "```\n",
    "Mais cette ligne doit être placée directement devant la fonction décorée. L'exemple complet ressemble maintenant à ceci :"
   ]
  },
  {
   "cell_type": "code",
   "execution_count": 20,
   "id": "1e6ade86-c67f-4132-b8eb-3c66770ada8c",
   "metadata": {},
   "outputs": [
    {
     "name": "stdout",
     "output_type": "stream",
     "text": [
      "Before calling foo\n",
      "Hi, foo has been called with Hi\n",
      "After calling foo\n"
     ]
    }
   ],
   "source": [
    "def our_decorator(func):\n",
    "    def function_wrapper(x):\n",
    "        print(\"Before calling \" + func.__name__)\n",
    "        func(x)\n",
    "        print(\"After calling \" + func.__name__)\n",
    "    return function_wrapper\n",
    "\n",
    "@our_decorator\n",
    "def foo(x):\n",
    "    print(\"Hi, foo has been called with \" + str(x))\n",
    "\n",
    "foo(\"Hi\")"
   ]
  },
  {
   "cell_type": "markdown",
   "id": "9d3596df-feb6-4e05-996e-187fddcbb113",
   "metadata": {},
   "source": [
    "Nous pouvons décorer toutes les autres fonctions qui prennent un paramètre avec notre décorateur ```our_decorator```. Nous en faisons la démonstration dans l'exemple suivant. Nous avons légèrement modifié notre enveloppe de fonction, afin de pouvoir voir le résultat des appels de fonction :"
   ]
  },
  {
   "cell_type": "code",
   "execution_count": 21,
   "id": "5f3cd9d5-74b9-4c86-af32-1b6dbe615b5b",
   "metadata": {},
   "outputs": [
    {
     "name": "stdout",
     "output_type": "stream",
     "text": [
      "Before calling succ\n",
      "11\n",
      "After calling succ\n"
     ]
    }
   ],
   "source": [
    "def our_decorator(func):\n",
    "    def function_wrapper(x):\n",
    "        print(\"Before calling \" + func.__name__)\n",
    "        res = func(x)\n",
    "        print(res)\n",
    "        print(\"After calling \" + func.__name__)\n",
    "    return function_wrapper\n",
    "\n",
    "@our_decorator\n",
    "def succ(n):\n",
    "    return n + 1\n",
    "\n",
    "succ(10)"
   ]
  },
  {
   "cell_type": "markdown",
   "id": "3bfb7281-b9c3-4d5d-88f7-ed683c8b1f23",
   "metadata": {},
   "source": [
    "Il est également possible de décorer des fonctions tierces, par exemple des fonctions que nous importons d'un module. Dans ce cas, nous ne pouvons pas utiliser la syntaxe Python avec le signe ```@``` :"
   ]
  },
  {
   "cell_type": "code",
   "execution_count": 22,
   "id": "d630de6c-1898-418b-a994-42cc670b7cef",
   "metadata": {},
   "outputs": [
    {
     "name": "stdout",
     "output_type": "stream",
     "text": [
      "Before calling sin\n",
      "9.265358966049024e-05\n",
      "After calling sin\n",
      "Before calling cos\n",
      "-0.9999999957076562\n",
      "After calling cos\n"
     ]
    }
   ],
   "source": [
    "from math import sin, cos\n",
    "\n",
    "def our_decorator(func):\n",
    "    def function_wrapper(x):\n",
    "        print(\"Before calling \" + func.__name__)\n",
    "        res = func(x)\n",
    "        print(res)\n",
    "        print(\"After calling \" + func.__name__)\n",
    "    return function_wrapper\n",
    "\n",
    "sin = our_decorator(sin)\n",
    "cos = our_decorator(cos)\n",
    "\n",
    "for f in [sin, cos]:\n",
    "    f(3.1415)"
   ]
  },
  {
   "cell_type": "markdown",
   "id": "4d22527d-2f30-4e70-adb1-875c1a66dba3",
   "metadata": {},
   "source": [
    "## Extension des fonctions trigonométriques de maths\n",
    "\n",
    "Créons un décorateur plus utile pour les fonctions trigonométriques. Si vous regardez l'aide de ```sin```, ```cos``` ou les autres fonctions trigonométriques du module ```math```, vous verrez que les arguments doivent être des valeurs radiales. Et si vous souhaitez utiliser des degrés ? Dans ce cas, vous devrez transformer les valeurs en radians."
   ]
  },
  {
   "cell_type": "code",
   "execution_count": 23,
   "id": "1509af84-fae1-4364-892b-8564c44c3791",
   "metadata": {},
   "outputs": [
    {
     "name": "stdout",
     "output_type": "stream",
     "text": [
      "Help on built-in function sin in module math:\n",
      "\n",
      "sin(x, /)\n",
      "    Return the sine of x (measured in radians).\n",
      "\n"
     ]
    }
   ],
   "source": [
    "from math import sin, cos, pi\n",
    "help(sin)"
   ]
  },
  {
   "cell_type": "code",
   "execution_count": 24,
   "id": "4c3d8ff2-41b3-450b-bcb6-fa50327850ce",
   "metadata": {},
   "outputs": [
    {
     "data": {
      "text/plain": [
       "0.7853981633974483"
      ]
     },
     "execution_count": 24,
     "metadata": {},
     "output_type": "execute_result"
    }
   ],
   "source": [
    "angle = 45   # degrees\n",
    "x = angle * pi / 180   # degrees into radians\n",
    "x"
   ]
  },
  {
   "cell_type": "markdown",
   "id": "c3c7fef8-9a1e-47e2-b83c-fd3d11668be8",
   "metadata": {},
   "source": [
    "Maintenant, nous pouvons appliquer la valeur à ```sin``` ou à d'autres fonctions trigonométriques :"
   ]
  },
  {
   "cell_type": "code",
   "execution_count": 25,
   "id": "31617ff4-a16e-4877-bee7-89b3c39f8506",
   "metadata": {},
   "outputs": [
    {
     "data": {
      "text/plain": [
       "0.7071067811865475"
      ]
     },
     "execution_count": 25,
     "metadata": {},
     "output_type": "execute_result"
    }
   ],
   "source": [
    "sin(x)"
   ]
  },
  {
   "cell_type": "markdown",
   "id": "a60b0f4e-37ba-4a9f-b19e-70ed240e1554",
   "metadata": {},
   "source": [
    "Nous pourrions également étendre les fonctions trigonométriques avec un décorateur, qui transforme automatiquement les degrés en radians. Nous ajoutons un autre paramètre aux fonctions."
   ]
  },
  {
   "cell_type": "code",
   "execution_count": 26,
   "id": "dade4f7e-00d6-49bc-a8c5-08bce0613ccb",
   "metadata": {},
   "outputs": [],
   "source": [
    "from math import sin, cos, pi\n",
    "def angle_deco(func):\n",
    "    \n",
    "    def helper(x, mode=\"radians\"):\n",
    "        if mode == \"degrees\":\n",
    "            x = x * pi / 180\n",
    "        return func(x)\n",
    "    \n",
    "    return helper\n",
    "\n",
    "sin = angle_deco(sin)\n",
    "cos = angle_deco(cos)"
   ]
  },
  {
   "cell_type": "code",
   "execution_count": 27,
   "id": "1dec95ed-6900-4c23-9738-6984526aec01",
   "metadata": {},
   "outputs": [
    {
     "name": "stdout",
     "output_type": "stream",
     "text": [
      "0.6427876096865393 0.7660444431189781\n",
      "0.7071067811865475 0.7071067811865476\n",
      "0.9396926207859083 0.3420201433256688\n",
      "1.0 6.123233995736766e-17\n"
     ]
    }
   ],
   "source": [
    "degrees = [40, 45, 70, 90]\n",
    "for degree in degrees:\n",
    "    print(sin(degree, mode='degrees'), cos(degree, mode='degrees'))"
   ]
  },
  {
   "cell_type": "markdown",
   "id": "853e17f8-74d7-421d-b83f-42166e6bfe1c",
   "metadata": {},
   "source": [
    "En résumé, on peut dire qu'un décorateur en Python est un objet Python appelable qui est utilisé pour modifier une fonction, une méthode ou une définition de classe. L'objet original, celui qui va être modifié, est passé à un décorateur comme argument. Le décorateur retourne un objet modifié, par exemple une fonction modifiée, qui est liée au nom utilisé dans la définition.\n",
    "\n",
    "Le précédent ```function_wrapper``` ne fonctionne que pour les fonctions ayant exactement un paramètre. Nous fournissons une version généralisée du ```function_wrapper```, qui accepte les fonctions avec des paramètres arbitraires dans l'exemple suivant :"
   ]
  },
  {
   "cell_type": "code",
   "execution_count": 28,
   "id": "84612d67-9f82-4391-b132-40f947dc834e",
   "metadata": {},
   "outputs": [
    {
     "name": "stdout",
     "output_type": "stream",
     "text": [
      "Before calling random\n",
      "0.2841650963613198\n",
      "After calling random\n",
      "Before calling randint\n",
      "5\n",
      "After calling randint\n",
      "Before calling choice\n",
      "6\n",
      "After calling choice\n"
     ]
    }
   ],
   "source": [
    "from random import random, randint, choice\n",
    "\n",
    "def our_decorator(func):\n",
    "    def function_wrapper(*args, **kwargs):\n",
    "        print(\"Before calling \" + func.__name__)\n",
    "        res = func(*args, **kwargs)\n",
    "        print(res)\n",
    "        print(\"After calling \" + func.__name__)\n",
    "    return function_wrapper\n",
    "\n",
    "random = our_decorator(random)\n",
    "randint = our_decorator(randint)\n",
    "choice = our_decorator(choice)\n",
    "\n",
    "random()\n",
    "randint(3, 8)\n",
    "choice([4, 5, 6])"
   ]
  },
  {
   "cell_type": "markdown",
   "id": "7efddd9f-e5c6-404d-8e7b-3ffb7444bf60",
   "metadata": {},
   "source": [
    "## Utilisation de décorateurs multiples\n",
    "\n",
    "Il est possible de décorer des fonctions avec plus d'un décorateur."
   ]
  },
  {
   "cell_type": "code",
   "execution_count": 29,
   "id": "409fdd24-92b0-4366-8335-1d144cb95c9a",
   "metadata": {},
   "outputs": [
    {
     "name": "stdout",
     "output_type": "stream",
     "text": [
      "deco1 has been called\n",
      "deco2 has been called\n",
      "deco3 has been called\n"
     ]
    }
   ],
   "source": [
    "def deco1(func):\n",
    "    \n",
    "    print('deco1 has been called')\n",
    "    def helper(x):\n",
    "        print('helper of deco1 has been called!')\n",
    "        print(x)\n",
    "        return func(x) + 3\n",
    "    return helper\n",
    "    \n",
    "def deco2(func):\n",
    "    \n",
    "    print('deco2 has been called')\n",
    "    def helper(x):\n",
    "        print('helper of deco2 has been called!')\n",
    "        print(x)\n",
    "        return func(x) + 2\n",
    "    return helper\n",
    "    \n",
    "def deco3(func):\n",
    "    \n",
    "    print('deco3 has been called')\n",
    "    def helper(x):\n",
    "        print('helper of deco3 has been called!')\n",
    "        print(x)\n",
    "        return func(x) + 1\n",
    "    return helper\n",
    "    \n",
    "@deco3\n",
    "@deco2\n",
    "@deco1\n",
    "def foobar(x):\n",
    "    return 42"
   ]
  },
  {
   "cell_type": "markdown",
   "id": "9ddbfe06-9a2e-4b46-bc5f-04e253c89114",
   "metadata": {},
   "source": [
    "Le résultat nous montre que la fonction ```foobar``` est d'abord décorée avec ```deco1```, c'est-à-dire le décorateur directement au-dessus de la définition de la fonction. Ensuite, elle est décorée avec le décorateur 2, puis le décorateur 3.\n",
    "\n",
    "Lorsque nous appelons la fonction décorée plusieurs fois, cela fonctionne dans l'autre sens `"
   ]
  },
  {
   "cell_type": "code",
   "execution_count": 30,
   "id": "fe25f121-2d82-4caf-b7e5-b9386eb33231",
   "metadata": {},
   "outputs": [
    {
     "name": "stdout",
     "output_type": "stream",
     "text": [
      "helper of deco3 has been called!\n",
      "42\n",
      "helper of deco2 has been called!\n",
      "42\n",
      "helper of deco1 has been called!\n",
      "42\n"
     ]
    },
    {
     "data": {
      "text/plain": [
       "48"
      ]
     },
     "execution_count": 30,
     "metadata": {},
     "output_type": "execute_result"
    }
   ],
   "source": [
    "foobar(42)"
   ]
  },
  {
   "cell_type": "markdown",
   "id": "267c13c8-d04b-4e7e-b23e-f63a0a0d805c",
   "metadata": {},
   "source": [
    "## Cas d'utilisation des décorateurs\n",
    "\n",
    "### Vérifier les arguments avec un décorateur\n",
    "Reprenons le cas de la fonction factorielle. Nous voulons garder la fonction aussi simple que possible et nous ne voulons pas masquer l'idée sous-jacente, donc nous n'avons pas incorporé de vérification des arguments. Ainsi, si quelqu'un appelle notre fonction avec un argument négatif ou avec un argument flottant, notre fonction entre dans une boucle sans fin.\n",
    "\n",
    "Le programme suivant utilise une fonction décorateur pour s'assurer que l'argument passé à la fonction factorielle est un entier positif :"
   ]
  },
  {
   "cell_type": "code",
   "execution_count": 31,
   "id": "8805e35f-728e-492d-aa28-716735fa1f9e",
   "metadata": {},
   "outputs": [
    {
     "name": "stdout",
     "output_type": "stream",
     "text": [
      "1 True\n",
      "2 True\n",
      "3 True\n",
      "4 False\n",
      "5 True\n",
      "6 False\n",
      "7 True\n",
      "8 False\n",
      "9 False\n",
      "Argument is not a positve integer!\n"
     ]
    }
   ],
   "source": [
    "def argument_test_natural_number(f):\n",
    "    def helper(x):\n",
    "        if type(x) == int and x > 0:\n",
    "            return f(x)\n",
    "        else:\n",
    "            raise ValueError(\"Argument is not an integer\")\n",
    "    return helper\n",
    "\n",
    "@argument_test_natural_number\n",
    "def is_prime(n):\n",
    "    return all(n % i for i in range(2, n))\n",
    "\n",
    "for i in range(1,10):\n",
    "    print(i, is_prime(i))\n",
    "\n",
    "try:\n",
    "    print(is_prime(-1))\n",
    "except ValueError:\n",
    "    print(\"Argument is not a positve integer!\")"
   ]
  },
  {
   "cell_type": "markdown",
   "id": "b8bbf93e-8be8-48e2-b4bd-47a9ba9cc4ef",
   "metadata": {},
   "source": [
    "### Compter les appels de fonction avec les décorateurs\n",
    "L'exemple suivant utilise un décorateur pour compter le nombre de fois qu'une fonction a été appelée. Pour être précis, nous pouvons utiliser ce décorateur uniquement pour les fonctions ayant exactement un paramètre :"
   ]
  },
  {
   "cell_type": "code",
   "execution_count": 32,
   "id": "615f9751-5b98-4ae7-bdd0-7c194251e2ec",
   "metadata": {},
   "outputs": [
    {
     "name": "stdout",
     "output_type": "stream",
     "text": [
      "0\n",
      "10\n"
     ]
    }
   ],
   "source": [
    "def call_counter(func):\n",
    "    def helper(x):\n",
    "        helper.calls += 1\n",
    "        return func(x)\n",
    "    helper.calls = 0\n",
    "\n",
    "    return helper\n",
    "\n",
    "@call_counter\n",
    "def succ(x):\n",
    "    return x + 1\n",
    "\n",
    "print(succ.calls)\n",
    "for i in range(10):\n",
    "    succ(i)\n",
    "    \n",
    "print(succ.calls)"
   ]
  },
  {
   "cell_type": "markdown",
   "id": "122743f8-4b5e-447c-80c5-70d805549207",
   "metadata": {},
   "source": [
    "Nous avons souligné que nous ne pouvons utiliser notre décorateur précédent que pour les fonctions qui prennent exactement un paramètre. Nous utiliserons les notations ```*args``` et ```**kwargs``` pour écrire des décorateurs capables de gérer des fonctions avec un nombre arbitraire de paramètres positionnels et de mots-clés."
   ]
  },
  {
   "cell_type": "code",
   "execution_count": 33,
   "id": "c66a38ca-a039-4ea5-b8f3-c205b17585fe",
   "metadata": {},
   "outputs": [
    {
     "name": "stdout",
     "output_type": "stream",
     "text": [
      "0\n",
      "10\n",
      "3\n"
     ]
    }
   ],
   "source": [
    "def call_counter(func):\n",
    "    def helper(*args, **kwargs):\n",
    "        helper.calls += 1\n",
    "        return func(*args, **kwargs)\n",
    "    helper.calls = 0\n",
    "\n",
    "    return helper\n",
    "\n",
    "@call_counter\n",
    "def succ(x):\n",
    "    return x + 1\n",
    "\n",
    "@call_counter\n",
    "def mul1(x, y=1):\n",
    "    return x*y + 1\n",
    "\n",
    "print(succ.calls)\n",
    "for i in range(10):\n",
    "    succ(i)\n",
    "mul1(3, 4)\n",
    "mul1(4)\n",
    "mul1(y=3, x=2)\n",
    "    \n",
    "print(succ.calls)\n",
    "print(mul1.calls)"
   ]
  },
  {
   "cell_type": "markdown",
   "id": "d2fc0d2a-c952-4064-8c62-7124294f8d1e",
   "metadata": {},
   "source": [
    "## Décorateurs avec paramètres\n",
    "\n",
    "Nous définissons deux décorateurs dans le code suivant :"
   ]
  },
  {
   "cell_type": "code",
   "execution_count": 34,
   "id": "275969f9-9ca5-49f4-a958-0f6708fa104c",
   "metadata": {},
   "outputs": [
    {
     "name": "stdout",
     "output_type": "stream",
     "text": [
      "Good evening, foo returns:\n",
      "42\n"
     ]
    }
   ],
   "source": [
    "def evening_greeting(func):\n",
    "    def function_wrapper(x):\n",
    "        print(\"Good evening, \" + func.__name__ + \" returns:\")\n",
    "        return func(x)\n",
    "    return function_wrapper\n",
    "\n",
    "def morning_greeting(func):\n",
    "    def function_wrapper(x):\n",
    "        print(\"Good morning, \" + func.__name__ + \" returns:\")\n",
    "        return func(x)\n",
    "    return function_wrapper\n",
    "\n",
    "@evening_greeting\n",
    "def foo(x):\n",
    "    print(42)\n",
    "\n",
    "foo(\"Hi\")"
   ]
  },
  {
   "cell_type": "markdown",
   "id": "c77f56b9-af9f-4432-9d29-03a42cc355d9",
   "metadata": {},
   "source": [
    "Ces deux décorateurs sont presque identiques, sauf pour le message d'accueil. Nous voulons ajouter un paramètre au décorateur pour être capable de personnaliser la salutation, lorsque nous faisons la décoration. Nous devons envelopper une autre fonction autour de notre fonction de décorateur précédente pour accomplir ceci. Nous pouvons maintenant facilement dire \"Good Morning\" en grec :"
   ]
  },
  {
   "cell_type": "code",
   "execution_count": 35,
   "id": "d3e52eef-8853-46a8-a2c8-7b78275c111f",
   "metadata": {},
   "outputs": [
    {
     "name": "stdout",
     "output_type": "stream",
     "text": [
      "καλημερα, foo returns:\n",
      "42\n"
     ]
    }
   ],
   "source": [
    "def greeting(expr):\n",
    "    def greeting_decorator(func):\n",
    "        def function_wrapper(x):\n",
    "            print(expr + \", \" + func.__name__ + \" returns:\")\n",
    "            func(x)\n",
    "        return function_wrapper\n",
    "    return greeting_decorator\n",
    "\n",
    "@greeting(\"καλημερα\")\n",
    "def foo(x):\n",
    "    print(42)\n",
    "\n",
    "foo(\"Hi\")"
   ]
  },
  {
   "cell_type": "markdown",
   "id": "759d1efb-d8ce-4ad1-bd76-50b637f0372e",
   "metadata": {},
   "source": [
    "Si nous ne voulons pas ou ne pouvons pas utiliser la syntaxe du décorateur ```@```, nous pouvons le faire avec des appels de fonction :"
   ]
  },
  {
   "cell_type": "code",
   "execution_count": 36,
   "id": "b59022f7-fcef-4fa9-846b-a26cac4e9a13",
   "metadata": {},
   "outputs": [
    {
     "name": "stdout",
     "output_type": "stream",
     "text": [
      "καλημερα, foo returns:\n",
      "42\n"
     ]
    }
   ],
   "source": [
    "def greeting(expr):\n",
    "    def greeting_decorator(func):\n",
    "        def function_wrapper(x):\n",
    "            print(expr + \", \" + func.__name__ + \" returns:\")\n",
    "            return func(x)\n",
    "        return function_wrapper\n",
    "    return greeting_decorator\n",
    "\n",
    "\n",
    "def foo(x):\n",
    "    print(42)\n",
    "\n",
    "greeting2 = greeting(\"καλημερα\")\n",
    "foo = greeting2(foo)\n",
    "foo(\"Hi\")"
   ]
  },
  {
   "cell_type": "markdown",
   "id": "d68f56c1-f25b-4b4b-a8ca-579a023e8143",
   "metadata": {},
   "source": [
    "Bien sûr, nous n'avons pas besoin de la définition supplémentaire de ```greeting2```. Nous pouvons directement appliquer le résultat de l'appel ```greeting(\"καλημερα\")``` sur ```foo``` :\n",
    "```python\n",
    "foo = greeting(\"καλημερα\")(foo)\n",
    "```"
   ]
  },
  {
   "cell_type": "markdown",
   "id": "a4baac0d-4767-49af-9489-253326300d82",
   "metadata": {},
   "source": [
    "## Utilisation des wrappers de functools\n",
    "La façon dont nous avons défini les décorateurs jusqu'à présent n'a pas pris en compte le fait que les attributs\n",
    "\n",
    "- ```__name__``` (le nom de la fonction);\n",
    "- ```__doc__``` (la docstring);\n",
    "- ```__module__``` (Le module dans lequel la fonction est définie)\n",
    "\n",
    "des fonctions originales seront perdues après la décoration."
   ]
  },
  {
   "cell_type": "code",
   "execution_count": 37,
   "id": "51ce0cdc-95e4-4f42-bfd3-f952682190bf",
   "metadata": {},
   "outputs": [],
   "source": [
    "def greeting(func):\n",
    "    def function_wrapper(x):\n",
    "        \"\"\" function_wrapper of greeting \"\"\"\n",
    "        print(\"Hi, \" + func.__name__ + \" returns:\")\n",
    "        return func(x)\n",
    "    return function_wrapper "
   ]
  },
  {
   "cell_type": "markdown",
   "id": "6e56ee2a-3d7c-4ba1-88ae-fb79f2ba48dd",
   "metadata": {},
   "source": [
    "Nous l'appelons dans le programme suivant :"
   ]
  },
  {
   "cell_type": "code",
   "execution_count": 38,
   "id": "0a0f205e-5193-49f5-8669-4b1c97377ea6",
   "metadata": {},
   "outputs": [
    {
     "name": "stdout",
     "output_type": "stream",
     "text": [
      "Hi, f returns:\n",
      "function name: function_wrapper\n",
      "docstring:  function_wrapper of greeting \n",
      "module name: __main__\n"
     ]
    }
   ],
   "source": [
    "@greeting\n",
    "def f(x):\n",
    "    \"\"\" just some silly function \"\"\"\n",
    "    return x + 4\n",
    "\n",
    "f(10)\n",
    "print(\"function name: \" + f.__name__)\n",
    "print(\"docstring: \" + f.__doc__)\n",
    "print(\"module name: \" + f.__module__) "
   ]
  },
  {
   "cell_type": "markdown",
   "id": "7653e0b8-3de0-44db-bedd-e142462672f3",
   "metadata": {},
   "source": [
    "Nous obtenons les résultats __indésirables__ ci-dessus.\n",
    "\n",
    "Nous pouvons sauvegarder les attributs originaux de la fonction ```f```, si nous les assignons à l'intérieur du décorateur. Nous modifions notre décorateur précédent en conséquence :"
   ]
  },
  {
   "cell_type": "code",
   "execution_count": 40,
   "id": "2d9e59c8-8236-429e-bcc5-3dd4f1686fe0",
   "metadata": {},
   "outputs": [],
   "source": [
    "def greeting(func):\n",
    "    def function_wrapper(x):\n",
    "        \"\"\" function_wrapper of greeting \"\"\"\n",
    "        print(\"Hi, \" + func.__name__ + \" returns:\")\n",
    "        return func(x)\n",
    "    function_wrapper.__name__ = func.__name__\n",
    "    function_wrapper.__doc__ = func.__doc__\n",
    "    function_wrapper.__module__ = func.__module__\n",
    "    return function_wrapper"
   ]
  },
  {
   "cell_type": "code",
   "execution_count": 41,
   "id": "f8f61b85-9c49-4c23-84d7-776c7aa27f29",
   "metadata": {},
   "outputs": [
    {
     "name": "stdout",
     "output_type": "stream",
     "text": [
      "Hi, f returns:\n",
      "function name: f\n",
      "docstring:  just some silly function \n",
      "module name: __main__\n"
     ]
    }
   ],
   "source": [
    "@greeting\n",
    "def f(x):\n",
    "    \"\"\" just some silly function \"\"\"\n",
    "    return x + 4\n",
    "\n",
    "f(10)\n",
    "print(\"function name: \" + f.__name__)\n",
    "print(\"docstring: \" + f.__doc__)\n",
    "print(\"module name: \" + f.__module__) "
   ]
  },
  {
   "cell_type": "markdown",
   "id": "a8db7308-bfef-4b64-94cc-483339aac7a4",
   "metadata": {},
   "source": [
    "Heureusement, nous n'avons pas besoin d'ajouter tout ce code à nos décorateurs pour obtenir ces résultats. Nous pouvons importer le décorateur ```wraps``` de ```functools``` à la place et décorer notre fonction dans le décorateur avec celui-ci :"
   ]
  },
  {
   "cell_type": "code",
   "execution_count": 42,
   "id": "af926f3c-d9da-469e-ab5e-d21fc405dd06",
   "metadata": {},
   "outputs": [
    {
     "name": "stdout",
     "output_type": "stream",
     "text": [
      "Hi, f returns:\n",
      "function name: f\n",
      "docstring:  just some silly function \n",
      "module name: __main__\n"
     ]
    }
   ],
   "source": [
    "from functools import wraps\n",
    "\n",
    "def greeting(func):\n",
    "    @wraps(func)\n",
    "    def function_wrapper(x):\n",
    "        \"\"\" function_wrapper of greeting \"\"\"\n",
    "        print(\"Hi, \" + func.__name__ + \" returns:\")\n",
    "        return func(x)\n",
    "    return function_wrapper\n",
    "@greeting\n",
    "def f(x):\n",
    "    \"\"\" just some silly function \"\"\"\n",
    "    return x + 4\n",
    "\n",
    "f(10)\n",
    "print(\"function name: \" + f.__name__)\n",
    "print(\"docstring: \" + f.__doc__)\n",
    "print(\"module name: \" + f.__module__) "
   ]
  },
  {
   "cell_type": "markdown",
   "id": "7cf7e4bd-3e43-4bf9-a84e-0f1769ce9c49",
   "metadata": {},
   "source": [
    "## Des classes au lieu de fonctions\n",
    "\n",
    "### La méthode d'appel\n",
    "Jusqu'à présent, nous avons utilisé des fonctions comme décorateurs. Avant de pouvoir définir un décorateur comme une classe, nous devons introduire la méthode ```__call__``` des classes. Nous avons déjà mentionné qu'un décorateur est simplement un objet appelable qui prend une fonction comme paramètre d'entrée. Une fonction est un objet appelable, mais beaucoup de programmeurs Python ne savent pas qu'il existe d'autres objets appelables. Un objet appelable est un objet qui peut être utilisé et se comporter comme une fonction, mais qui peut ne pas être une fonction. Il est possible de définir des classes de manière à ce que les instances soient des objets appelables. La méthode ```__call__``` est appelée, si l'instance est appelée __comme une fonction__, c'est-à-dire en utilisant des parenthèses."
   ]
  },
  {
   "cell_type": "code",
   "execution_count": 43,
   "id": "13795593-ef8b-4a4d-92e9-9572e3b23190",
   "metadata": {},
   "outputs": [
    {
     "name": "stdout",
     "output_type": "stream",
     "text": [
      "An instance of A was initialized\n",
      "now calling the instance:\n",
      "Arguments are: (3, 4) {'x': 11, 'y': 10}\n",
      "Let's call it again:\n",
      "Arguments are: (3, 4) {'x': 11, 'y': 10}\n"
     ]
    }
   ],
   "source": [
    "class A:\n",
    "    def __init__(self):\n",
    "        print(\"An instance of A was initialized\")\n",
    "    \n",
    "    def __call__(self, *args, **kwargs):\n",
    "        print(\"Arguments are:\", args, kwargs)\n",
    "              \n",
    "x = A()\n",
    "print(\"now calling the instance:\")\n",
    "x(3, 4, x=11, y=10)\n",
    "print(\"Let's call it again:\")\n",
    "x(3, 4, x=11, y=10)"
   ]
  },
  {
   "cell_type": "markdown",
   "id": "3e8636ed-8008-459c-808a-041747a12258",
   "metadata": {},
   "source": [
    "Nous pouvons écrire une classe pour la fonction fibonacci en utilisant la méthode ```__call__``` :"
   ]
  },
  {
   "cell_type": "code",
   "execution_count": 44,
   "id": "27adc200-d6fa-460d-bb7a-24fc2a34b707",
   "metadata": {},
   "outputs": [
    {
     "name": "stdout",
     "output_type": "stream",
     "text": [
      "0, 1, 1, 2, 3, 5, 8, 13, 21, 34, 55, 89, 144, 233, 377, "
     ]
    }
   ],
   "source": [
    "class Fibonacci:\n",
    "\n",
    "    def __init__(self):\n",
    "        self.cache = {}\n",
    "\n",
    "    def __call__(self, n):\n",
    "        if n not in self.cache:\n",
    "            if n == 0:\n",
    "                self.cache[0] = 0\n",
    "            elif n == 1:\n",
    "                self.cache[1] = 1\n",
    "            else:\n",
    "                self.cache[n] = self.__call__(n-1) + self.__call__(n-2)\n",
    "        return self.cache[n]\n",
    "\n",
    "fib = Fibonacci()\n",
    "\n",
    "for i in range(15):\n",
    "    print(fib(i), end=\", \")"
   ]
  },
  {
   "cell_type": "markdown",
   "id": "2bcb7ece-3688-42e0-aa84-78680531c9c3",
   "metadata": {},
   "source": [
    "### Utilisation d'une classe comme décorateur\n",
    "Nous allons réécrire le décorateur suivant comme une classe :"
   ]
  },
  {
   "cell_type": "code",
   "execution_count": 45,
   "id": "db225050-d51a-4de2-9384-ab4e4ccc2163",
   "metadata": {},
   "outputs": [
    {
     "name": "stdout",
     "output_type": "stream",
     "text": [
      "Decorating foo\n",
      "inside foo()\n"
     ]
    }
   ],
   "source": [
    "def decorator1(f):\n",
    "    def helper():\n",
    "        print(\"Decorating\", f.__name__)\n",
    "        f()\n",
    "    return helper\n",
    "\n",
    "@decorator1\n",
    "def foo():\n",
    "    print(\"inside foo()\")\n",
    "\n",
    "foo()"
   ]
  },
  {
   "cell_type": "markdown",
   "id": "8bdc79f8-68f2-4904-a1ef-d0474385a80f",
   "metadata": {},
   "source": [
    "Le décorateur suivant, implémenté en tant que classe, fait le même travail :"
   ]
  },
  {
   "cell_type": "code",
   "execution_count": 46,
   "id": "9db6c530-c569-4dcb-b3d0-e55142becf9c",
   "metadata": {},
   "outputs": [
    {
     "name": "stdout",
     "output_type": "stream",
     "text": [
      "Decorating foo\n",
      "inside foo()\n"
     ]
    }
   ],
   "source": [
    "class decorator2:\n",
    "    \n",
    "    def __init__(self, f):\n",
    "        self.f = f\n",
    "        \n",
    "    def __call__(self):\n",
    "        print(\"Decorating\", self.f.__name__)\n",
    "        self.f()\n",
    "\n",
    "@decorator2\n",
    "def foo():\n",
    "    print(\"inside foo()\")\n",
    "\n",
    "foo() "
   ]
  },
  {
   "cell_type": "markdown",
   "id": "24538834-8f46-4701-a412-4e12e5a0479f",
   "metadata": {},
   "source": [
    "Les deux versions renvoient le même résultat."
   ]
  }
 ],
 "metadata": {
  "kernelspec": {
   "display_name": "py11",
   "language": "python",
   "name": "py11"
  },
  "language_info": {
   "codemirror_mode": {
    "name": "ipython",
    "version": 3
   },
   "file_extension": ".py",
   "mimetype": "text/x-python",
   "name": "python",
   "nbconvert_exporter": "python",
   "pygments_lexer": "ipython3",
   "version": "3.11.0"
  }
 },
 "nbformat": 4,
 "nbformat_minor": 5
}
