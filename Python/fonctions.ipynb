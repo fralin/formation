{
 "cells": [
  {
   "cell_type": "code",
   "execution_count": 3,
   "id": "cbee486e",
   "metadata": {},
   "outputs": [
    {
     "data": {
      "text/html": [
       "<style>@media only screen and (min-width:960px){\n",
       "    .md-content {\n",
       "        margin-right: 10rem;\n",
       "    }\n",
       "    .md-sidebar {\n",
       "        width: 10rem;\n",
       "    }\n",
       "}\n",
       "\n",
       "@media only screen and (max-width:960px){\n",
       "    img {width: 100%}\n",
       "}\n",
       "\n",
       ".box {\n",
       "    box-shadow: 0 2px 2px 0 rgba(0,0,0,.14),0 1px 5px 0 rgba(0,0,0,.12),0 3px 1px -2px rgba(0,0,0,.2);\n",
       "    position: relative;\n",
       "    margin: 1.5625em 0;\n",
       "    padding: 0 .6rem;\n",
       "    border-left: .2rem solid\n",
       "    border-radius: .1rem;\n",
       "\n",
       "    overflow: auto;\n",
       "}\n",
       "\n",
       ".box-title {\n",
       "    margin: 0 -.6rem;\n",
       "    padding: .4rem .6rem .4rem .6rem;\n",
       "    border-bottom: .05rem solid rgba(68,138,255,.1);\n",
       "    font-weight: 700;\n",
       "}\n",
       "\n",
       ".box-rem {\n",
       "    border-left-color: #448aff;\n",
       "}\n",
       ".box-rem .box-title {\n",
       "    background-color: rgba(68,138,255,.1);\n",
       "}\n",
       "\n",
       ".box-def {\n",
       "    border-left-color: #00bfa5;\n",
       "}\n",
       ".box-def .box-title {\n",
       "    background-color: #e5f9f6;\n",
       "}\n",
       "\n",
       ".box-warn {\n",
       "    border-left-color: #ff9100;\n",
       "}\n",
       ".box-warn .box-title {\n",
       "    background-color: #fff4e5;\n",
       "}\n",
       "\n",
       ".box-adv {\n",
       "    border-left-color: #651fff;\n",
       "}\n",
       ".box-adv .box-title {\n",
       "    background-color: #efe8ff;\n",
       "}\n",
       "\n",
       ".box-more {\n",
       "    border-left-color: #f50057;\n",
       "}\n",
       ".box-more .box-title {\n",
       "    background-color: #fee5ee;\n",
       "}\n",
       "\n",
       ".img-legend p {\n",
       "    margin-top: 5px;\n",
       "}\n",
       "</style>"
      ],
      "text/plain": [
       "<IPython.core.display.HTML object>"
      ]
     },
     "execution_count": 3,
     "metadata": {},
     "output_type": "execute_result"
    }
   ],
   "source": [
    "from IPython.core.display import HTML\n",
    "def css_styling():\n",
    "    styles = open(\"./styles/custom.css\", \"r\").read()\n",
    "    return HTML(\"<style>\"+styles+\"</style>\")\n",
    "css_styling()"
   ]
  },
  {
   "cell_type": "markdown",
   "id": "6a11110b",
   "metadata": {},
   "source": [
    "# Fonctions\n",
    "\n",
    "## 1 Principe et généralités\n",
    "\n",
    "En programmation, les fonctions sont très utiles pour réaliser plusieurs fois la même opération au sein d'un programme. Elles rendent également le code plus lisible et plus clair en le fractionnant en blocs logiques.\n",
    "\n",
    "Vous connaissez déjà certaines fonctions Python. Par exemple math.cos(angle) du module math renvoie le cosinus de la variable angle exprimé en radian. Vous connaissez aussi des fonctions internes à Python comme range() ou len(). Pour l'instant, une fonction est à vos yeux une sorte de « boîte noire » (voir figure 1) :\n",
    "\n",
    "1. À laquelle vous passez aucune, une ou plusieurs variable(s) entre parenthèses. Ces variables sont appelées arguments. Il peut s'agir de n'importe quel type d'objet Python.\n",
    "2. Qui effectue une action.\n",
    "3. Et qui renvoie un objet Python ou rien du tout.\n",
    "\n",
    "__Fonctionnement schématique d'une fonction.__\n",
    "\n",
    "<img src=\"img/schema_fonction.png\" width=\"500px\">\n",
    "\n",
    "Figure 1. Fonctionnement schématique d'une fonction.\n",
    "Par exemple, si vous appelez la fonction len() de la manière suivante :\n"
   ]
  },
  {
   "cell_type": "code",
   "execution_count": 2,
   "id": "211abf13",
   "metadata": {},
   "outputs": [
    {
     "data": {
      "text/plain": [
       "3"
      ]
     },
     "execution_count": 2,
     "metadata": {},
     "output_type": "execute_result"
    }
   ],
   "source": [
    "len([0, 1, 2])"
   ]
  },
  {
   "cell_type": "markdown",
   "id": "12c72af6",
   "metadata": {},
   "source": [
    "voici ce qui se passe :\n",
    "\n",
    "1. vous appelez ```len()``` en lui passant une liste en argument (ici la liste [0, 1, 2]) ;\n",
    "2. la fonction calcule la longueur de cette liste ;\n",
    "3. elle vous renvoie un entier égal à cette longueur.\n",
    "\n",
    "Autre exemple, si vous appelez la méthode ```ma_liste.append()``` (n'oubliez pas, une méthode est une fonction qui agit sur l'objet auquel elle est attachée par un point) :"
   ]
  },
  {
   "cell_type": "code",
   "execution_count": 3,
   "id": "9c811b07",
   "metadata": {},
   "outputs": [
    {
     "name": "stdout",
     "output_type": "stream",
     "text": [
      "[1, 2, 3, 4, 5]\n"
     ]
    }
   ],
   "source": [
    "ma_liste = [1,2, 3, 4]\n",
    "ma_liste.append(5)\n",
    "print(ma_liste)"
   ]
  },
  {
   "cell_type": "markdown",
   "id": "58f28454",
   "metadata": {},
   "source": [
    "- Vous passez l'entier ```5``` en argument ;\n",
    "- la méthode ```append()``` ajoute l'entier 5 à l'objet ma_liste ;\n",
    "- et elle ne renvoie rien.\n",
    "\n",
    "Aux yeux du programmeur au contraire, une fonction est une portion de code effectuant une suite d'instructions bien particulière. Mais avant de vous présenter la syntaxe et la manière de construire une fonction, revenons une dernière fois sur cette notion de « boîte noire » :\n",
    "\n",
    "Une fonction effectue une tâche. Pour cela, elle reçoit éventuellement des arguments et renvoie éventuellement quelque chose. L'algorithme utilisé au sein de la fonction n'intéresse pas directement l'utilisateur. \n",
    "\n",
    "Par exemple, il est inutile de savoir comment la fonction ```math.cos()``` calcule un cosinus. On a juste besoin de savoir qu'il faut lui passer en argument un angle en radian et qu'elle renvoie le cosinus de cet angle. Ce qui se passe à l'intérieur de la fonction ne regarde que le programmeur.\n",
    "\n",
    "Chaque fonction effectue en général une tâche unique et précise. Si cela se complique, il est plus judicieux d'écrire plusieurs fonctions (qui peuvent éventuellement s'appeler les unes les autres). Cette modularité améliore la qualité générale et la lisibilité du code. Vous verrez qu'en Python, les fonctions présentent une grande flexibilité.\n",
    "\n",
    "Pour finir sur les généralités, nous avons utilisé dans la Figure 1 le terme programme principal (main en anglais) pour désigner l'endroit depuis lequel on appelle une fonction (on verra plus tard que l'on peut en fait appeler une fonction de n'importe où). Le programme principal désigne le code qui est exécuté lorsqu'on lance le script Python, c'est-à-dire toute la suite d'instructions en dehors des fonctions. En général, dans un script Python, on écrit d'abord les fonctions puis le programme principal.\n",
    "\n",
    "## 2 Définition\n",
    "\n",
    "Pour définir une fonction, Python utilise le mot-clé ```def```. Si on souhaite que la fonction renvoie quelque chose, il faut utiliser le mot-clé ```return```. \n",
    "\n",
    "__Par exemple :__"
   ]
  },
  {
   "cell_type": "code",
   "execution_count": 4,
   "id": "8e7a92cc",
   "metadata": {},
   "outputs": [
    {
     "name": "stdout",
     "output_type": "stream",
     "text": [
      "4\n"
     ]
    }
   ],
   "source": [
    "def carre(x):\n",
    "    return x**2\n",
    "\n",
    "print(carre(2))"
   ]
  },
  {
   "cell_type": "markdown",
   "id": "0d72115a",
   "metadata": {},
   "source": [
    "Notez que la syntaxe de ```def``` utilise les deux-points comme les boucles ```for``` et ```while``` ainsi que les tests ```if```, un bloc d’instructions est donc attendu. De même que pour les boucles et les tests, l'indentation de ce bloc d'instructions (qu'on appelle le corps de la fonction) est obligatoire.\n",
    "Dans l'exemple précédent, nous avons passé un argument à la fonction ```carre()``` qui nous a renvoyé (ou retourné) une valeur que nous avons immédiatement affichée à l'écran avec l'instruction ```print()```. \n",
    "\n",
    "Que veut dire valeur renvoyée ? Et bien cela signifie que cette dernière est récupérable dans une variable :"
   ]
  },
  {
   "cell_type": "code",
   "execution_count": 5,
   "id": "0bdf9e0c",
   "metadata": {},
   "outputs": [
    {
     "name": "stdout",
     "output_type": "stream",
     "text": [
      "4\n"
     ]
    }
   ],
   "source": [
    "res = carre(2)\n",
    "print(res)"
   ]
  },
  {
   "cell_type": "markdown",
   "id": "81d30261",
   "metadata": {},
   "source": [
    "Ici, le résultat renvoyé par la fonction est stocké dans la variable res. Notez qu'une fonction ne prend pas forcément un argument et ne renvoie pas forcément une valeur. \n",
    "\n",
    "__Par exemple :__"
   ]
  },
  {
   "cell_type": "code",
   "execution_count": 11,
   "id": "9515c172",
   "metadata": {},
   "outputs": [
    {
     "name": "stdout",
     "output_type": "stream",
     "text": [
      "bonjour\n"
     ]
    }
   ],
   "source": [
    "def hello():\n",
    "    print(\"bonjour\")\n",
    "\n",
    "hello()"
   ]
  },
  {
   "cell_type": "markdown",
   "id": "6f529099",
   "metadata": {},
   "source": [
    "Dans ce cas la fonction, ```hello()``` se contente d'afficher la chaîne de caractères \"bonjour\" à l'écran. Elle ne prend aucun argument et ne renvoie rien. Par conséquent, cela n'a pas de sens de vouloir récupérer dans une variable le résultat renvoyé par une telle fonction. Si on essaie tout de même, Python affecte la valeur None qui signifie rien en anglais:"
   ]
  },
  {
   "cell_type": "code",
   "execution_count": 7,
   "id": "e3df5e91",
   "metadata": {},
   "outputs": [
    {
     "name": "stdout",
     "output_type": "stream",
     "text": [
      "bonjour\n",
      "None\n"
     ]
    }
   ],
   "source": [
    "print(hello())"
   ]
  },
  {
   "cell_type": "markdown",
   "id": "da6b7094",
   "metadata": {},
   "source": [
    "Ceci n'est pas une faute car Python n'émet pas d'erreur, toutefois cela ne présente, la plupart du temps, guère d'intérêt.\n",
    "\n",
    "## 3 Passage d'arguments\n",
    "\n",
    "Le nombre d'arguments que l'on peut passer à une fonction est variable. Nous avons vu ci-dessus des fonctions auxquelles on passait 0 ou 1 argument. Dans les chapitres précédents, vous avez rencontré des fonctions internes à Python qui prenaient au moins 2 arguments. Souvenez-vous par exemple de range(1, 10) ou encore range(1, 10, 2). Le nombre d'argument est donc laissé libre à l'initiative du programmeur qui développe une nouvelle fonction.\n",
    "\n",
    "Une particularité des fonctions en Python est que vous n'êtes pas obligé de préciser le type des arguments que vous lui passez, dès lors que les opérations que vous effectuez avec ces arguments sont valides. Python est en effet connu comme étant un langage au « typage dynamique », c'est-à-dire qu'il reconnaît pour vous le type des variables au moment de l'exécution. Par exemple :"
   ]
  },
  {
   "cell_type": "code",
   "execution_count": 12,
   "id": "df5c847b",
   "metadata": {},
   "outputs": [
    {
     "name": "stdout",
     "output_type": "stream",
     "text": [
      "6\n",
      "16.430045000000003\n",
      "toto\n",
      "[1, 3, 1, 3]\n"
     ]
    },
    {
     "ename": "TypeError",
     "evalue": "can't multiply sequence by non-int of type 'str'",
     "output_type": "error",
     "traceback": [
      "\u001b[0;31m---------------------------------------------------------------------------\u001b[0m",
      "\u001b[0;31mTypeError\u001b[0m                                 Traceback (most recent call last)",
      "Cell \u001b[0;32mIn[12], line 12\u001b[0m\n\u001b[1;32m      8\u001b[0m \u001b[38;5;28mprint\u001b[39m(fois(\u001b[38;5;124m\"\u001b[39m\u001b[38;5;124mto\u001b[39m\u001b[38;5;124m\"\u001b[39m, \u001b[38;5;241m2\u001b[39m))\n\u001b[1;32m     10\u001b[0m \u001b[38;5;28mprint\u001b[39m(fois([\u001b[38;5;241m1\u001b[39m,\u001b[38;5;241m3\u001b[39m], \u001b[38;5;241m2\u001b[39m))\n\u001b[0;32m---> 12\u001b[0m \u001b[38;5;28mprint\u001b[39m(\u001b[43mfois\u001b[49m\u001b[43m(\u001b[49m\u001b[38;5;124;43m\"\u001b[39;49m\u001b[38;5;124;43mto\u001b[39;49m\u001b[38;5;124;43m\"\u001b[39;49m\u001b[43m,\u001b[49m\u001b[43m \u001b[49m\u001b[38;5;124;43m\"\u001b[39;49m\u001b[38;5;124;43m2\u001b[39;49m\u001b[38;5;124;43m\"\u001b[39;49m\u001b[43m)\u001b[49m)\n",
      "Cell \u001b[0;32mIn[12], line 2\u001b[0m, in \u001b[0;36mfois\u001b[0;34m(x, y)\u001b[0m\n\u001b[1;32m      1\u001b[0m \u001b[38;5;28;01mdef\u001b[39;00m \u001b[38;5;21mfois\u001b[39m(x:\u001b[38;5;28mint\u001b[39m, y:\u001b[38;5;28mint\u001b[39m):\n\u001b[0;32m----> 2\u001b[0m     \u001b[38;5;28;01mreturn\u001b[39;00m \u001b[43mx\u001b[49m\u001b[38;5;241;43m*\u001b[39;49m\u001b[43my\u001b[49m\n",
      "\u001b[0;31mTypeError\u001b[0m: can't multiply sequence by non-int of type 'str'"
     ]
    }
   ],
   "source": [
    "def fois(x, y):\n",
    "    return x*y\n",
    "\n",
    "print(fois(2, 3))\n",
    "\n",
    "print(fois(3.1415, 5.23))\n",
    "\n",
    "print(fois(\"to\", 2))\n",
    "\n",
    "print(fois([1,3], 2))\n",
    "\n",
    "print(fois(\"to\", \"2\"))"
   ]
  },
  {
   "cell_type": "markdown",
   "id": "e2b91fe2",
   "metadata": {},
   "source": [
    "L'opérateur ```*``` reconnaît plusieurs types (entiers, floats, chaînes de caractères, listes). Notre fonction ```fois()``` est donc capable d'effectuer des tâches différentes ! Même si Python autorise cela, méfiez-vous tout de même de cette grande flexibilité qui pourrait conduire à des surprises dans vos futurs programmes. En général, il est plus judicieux que chaque argument ait un type précis (entiers, floats, chaînes de caractères, etc) et pas l'un ou l'autre.\n",
    "\n",
    "## 4. Renvoi de résultats\n",
    "\n",
    "Un énorme avantage en Python est que les fonctions sont capables de renvoyer plusieurs objets à la fois, comme dans cette fraction de code :"
   ]
  },
  {
   "cell_type": "code",
   "execution_count": 24,
   "id": "4353d2d5",
   "metadata": {},
   "outputs": [
    {
     "name": "stdout",
     "output_type": "stream",
     "text": [
      "<class 'tuple'>\n"
     ]
    }
   ],
   "source": [
    "def carre_cube(x):\n",
    "    return x**2, x**3\n",
    "\n",
    "print(type(carre_cube(2)))\n",
    "carre, cube = carre_cube(2)"
   ]
  },
  {
   "cell_type": "markdown",
   "id": "9800569f",
   "metadata": {},
   "source": [
    "En réalité Python ne renvoie qu'un seul objet, mais celui-ci peut être séquentiel, c'est-à-dire contenir lui même d'autres objets. Dans notre exemple Python renvoie un objet de type tuple. Notre fonction pourrait tout autant renvoyer une liste :"
   ]
  },
  {
   "cell_type": "code",
   "execution_count": 22,
   "id": "6cc93746",
   "metadata": {},
   "outputs": [
    {
     "name": "stdout",
     "output_type": "stream",
     "text": [
      "([9, 27], 2, 'force')\n"
     ]
    }
   ],
   "source": [
    "def carre_cube2(x):\n",
    "    return [x**2, x**3], 2, \"force\"\n",
    "\n",
    "carre = carre_cube2(3)\n",
    "print(carre)\n"
   ]
  },
  {
   "cell_type": "markdown",
   "id": "6e35a1a6",
   "metadata": {},
   "source": [
    "Renvoyer un tuple ou une liste de deux éléments (ou plus) est très pratique en conjonction avec l'affectation multiple, par exemple :"
   ]
  },
  {
   "cell_type": "code",
   "execution_count": 11,
   "id": "562cd9a6",
   "metadata": {},
   "outputs": [
    {
     "name": "stdout",
     "output_type": "stream",
     "text": [
      "9\n",
      "27\n"
     ]
    }
   ],
   "source": [
    "z1, z2 = carre_cube2(3)\n",
    "print(z1)\n",
    "print(z2)"
   ]
  },
  {
   "cell_type": "markdown",
   "id": "73d6108a",
   "metadata": {},
   "source": [
    "Cela permet de récupérer plusieurs valeurs renvoyées par une fonction et de les affecter à la volée à des variables différentes.\n",
    "\n",
    "## 5 Arguments positionnels et arguments par mot-clé¶\n",
    "\n",
    "Jusqu'à maintenant, nous avons systématiquement passé le nombre d'arguments que la fonction attendait. Que se passe-t-il si une fonction attend deux arguments et que nous ne lui en passons qu'un seul ?"
   ]
  },
  {
   "cell_type": "code",
   "execution_count": 12,
   "id": "b77d5337",
   "metadata": {},
   "outputs": [
    {
     "name": "stdout",
     "output_type": "stream",
     "text": [
      "6\n"
     ]
    },
    {
     "ename": "TypeError",
     "evalue": "fois() missing 1 required positional argument: 'y'",
     "output_type": "error",
     "traceback": [
      "\u001b[0;31m---------------------------------------------------------------------------\u001b[0m",
      "\u001b[0;31mTypeError\u001b[0m                                 Traceback (most recent call last)",
      "Cell \u001b[0;32mIn[12], line 6\u001b[0m\n\u001b[1;32m      2\u001b[0m     \u001b[38;5;28;01mreturn\u001b[39;00m x\u001b[38;5;241m*\u001b[39my\n\u001b[1;32m      4\u001b[0m \u001b[38;5;28mprint\u001b[39m(fois(\u001b[38;5;241m2\u001b[39m, \u001b[38;5;241m3\u001b[39m))\n\u001b[0;32m----> 6\u001b[0m \u001b[43mfois\u001b[49m\u001b[43m(\u001b[49m\u001b[38;5;241;43m2\u001b[39;49m\u001b[43m)\u001b[49m\n",
      "\u001b[0;31mTypeError\u001b[0m: fois() missing 1 required positional argument: 'y'"
     ]
    }
   ],
   "source": [
    "def fois(x, y):\n",
    "    return x*y\n",
    "\n",
    "print(fois(2, 3))\n",
    "\n",
    "fois(2)"
   ]
  },
  {
   "cell_type": "markdown",
   "id": "5cfddb7f",
   "metadata": {},
   "source": [
    "On constate que passer un seul argument à une fonction qui en attend deux conduit à une erreur.\n",
    "\n",
    "<div class=\"box box-def\">\n",
    "    <div class=\"box-title\">Définition</div>\n",
    "    \n",
    "<p>Lorsqu'on définit une fonction <code>def fct(x, y)</code>: les arguments x et y sont appelés arguments positionnels (en anglais positional arguments). Il est strictement obligatoire de les préciser lors de l'appel de la fonction. De plus, il est nécessaire de respecter le même ordre lors de l'appel que dans la définition de la fonction. Dans l'exemple ci-dessus, 2 correspondra à x et 3 correspondra à y. Finalement, tout dépendra de leur position, d'où leur qualification de positionnel.<p>\n",
    "</div>\n",
    "\n",
    "Mais il est aussi possible de passer un ou plusieurs argument(s) de manière facultative et de leur attribuer une valeur par défaut :"
   ]
  },
  {
   "cell_type": "code",
   "execution_count": 25,
   "id": "f9b6e917",
   "metadata": {},
   "outputs": [
    {
     "name": "stdout",
     "output_type": "stream",
     "text": [
      "1\n",
      "10\n"
     ]
    }
   ],
   "source": [
    "def fct(x=1):\n",
    "    return x\n",
    "\n",
    "print(fct())\n",
    "print(fct(10))"
   ]
  },
  {
   "cell_type": "markdown",
   "id": "6793e773",
   "metadata": {},
   "source": [
    "<div class=\"box box-def\">\n",
    "    <div class=\"box-title\">Définition</div>\n",
    "<p>    \n",
    "Un argument défini avec une syntaxe <code>def fct(arg=val)</code>: est appelé argument par mot-clé (en anglais keyword argument). Le passage d'un tel argument lors de l'appel de la fonction est facultatif. Ce type d'argument ne doit pas être confondu avec les arguments positionnels présentés ci-dessus, dont la syntaxe est def fct(arg):.\n",
    "</p>\n",
    "    </div>\n",
    "\n",
    "Il est bien sûr possible de passer plusieurs arguments par mot-clé :"
   ]
  },
  {
   "cell_type": "code",
   "execution_count": 27,
   "id": "8defdc29",
   "metadata": {},
   "outputs": [
    {
     "name": "stdout",
     "output_type": "stream",
     "text": [
      "(0, 0, 0)\n",
      "(10, 0, 0)\n",
      "(10, 8, 0)\n",
      "(10, 8, 3)\n"
     ]
    }
   ],
   "source": [
    "def fct(x=0, y=0, z=0):\n",
    "    return x, y, z\n",
    "\n",
    "print(fct())\n",
    "\n",
    "print(fct(10))\n",
    "\n",
    "print(fct(10, 8))\n",
    "\n",
    "print(fct(10, 8, 3))"
   ]
  },
  {
   "cell_type": "markdown",
   "id": "ef417e61",
   "metadata": {},
   "source": [
    "On observe que pour l'instant, les arguments par mot-clé sont pris dans l'ordre dans lesquels on les passe lors de l'appel. Comment pourrions-nous faire si on souhaitait préciser l'argument par mot-clé z et garder les valeurs de x et y par défaut ? Simplement en précisant le nom de l'argument lors de l'appel :"
   ]
  },
  {
   "cell_type": "code",
   "execution_count": 28,
   "id": "1218ca84",
   "metadata": {},
   "outputs": [
    {
     "data": {
      "text/plain": [
       "(0, 0, 10)"
      ]
     },
     "execution_count": 28,
     "metadata": {},
     "output_type": "execute_result"
    }
   ],
   "source": [
    "fct(z=10)"
   ]
  },
  {
   "cell_type": "markdown",
   "id": "ef4047f3",
   "metadata": {},
   "source": [
    "Python permet même de rentrer les arguments par mot-clé dans un ordre arbitraire :"
   ]
  },
  {
   "cell_type": "code",
   "execution_count": 29,
   "id": "eaccaf2a",
   "metadata": {},
   "outputs": [
    {
     "data": {
      "text/plain": [
       "(0, 80, 10)"
      ]
     },
     "execution_count": 29,
     "metadata": {},
     "output_type": "execute_result"
    }
   ],
   "source": [
    "fct(z=10, x=3, y=80)\n",
    "\n",
    "fct(z=10, y=80)"
   ]
  },
  {
   "cell_type": "markdown",
   "id": "e093b0ce",
   "metadata": {},
   "source": [
    "Que se passe-t-il lorsque nous avons un mélange d'arguments positionnels et par mot-clé ? Et bien les arguments positionnels doivent toujours être placés avant les arguments par mot-clé :"
   ]
  },
  {
   "cell_type": "code",
   "execution_count": 30,
   "id": "1723de23",
   "metadata": {},
   "outputs": [
    {
     "data": {
      "text/plain": [
       "(1, 1, 0, 32, 5)"
      ]
     },
     "execution_count": 30,
     "metadata": {},
     "output_type": "execute_result"
    }
   ],
   "source": [
    "def fct(a, b, x=0, y=0, z=0):\n",
    "    return a, b, x, y, z\n",
    "\n",
    "fct(1, 1)\n",
    "\n",
    "fct(1, 1, z=5)\n",
    "\n",
    "fct(1, 1, z=5, y=32)"
   ]
  },
  {
   "cell_type": "markdown",
   "id": "5397515a",
   "metadata": {},
   "source": [
    "On peut toujours passer les arguments par mot-clé dans un ordre arbitraire à partir du moment où on précise leur nom. Par contre, si les deux arguments positionnels a et b ne sont pas passés à la fonction, Python renvoie une erreur."
   ]
  },
  {
   "cell_type": "code",
   "execution_count": 31,
   "id": "a3e21536",
   "metadata": {},
   "outputs": [
    {
     "ename": "TypeError",
     "evalue": "fct() missing 2 required positional arguments: 'a' and 'b'",
     "output_type": "error",
     "traceback": [
      "\u001b[0;31m---------------------------------------------------------------------------\u001b[0m",
      "\u001b[0;31mTypeError\u001b[0m                                 Traceback (most recent call last)",
      "Cell \u001b[0;32mIn[31], line 1\u001b[0m\n\u001b[0;32m----> 1\u001b[0m \u001b[43mfct\u001b[49m\u001b[43m(\u001b[49m\u001b[43mz\u001b[49m\u001b[38;5;241;43m=\u001b[39;49m\u001b[38;5;241;43m0\u001b[39;49m\u001b[43m)\u001b[49m\n",
      "\u001b[0;31mTypeError\u001b[0m: fct() missing 2 required positional arguments: 'a' and 'b'"
     ]
    }
   ],
   "source": [
    "fct(z=0)"
   ]
  },
  {
   "cell_type": "markdown",
   "id": "9bfee39b",
   "metadata": {},
   "source": [
    "<div class=\"box box-adv\">\n",
    "    <div class=\"box-title\">Conseils</div>\n",
    "<p>Préciser le nom des arguments par mot-clé lors de l'appel d'une fonction est une pratique que nous vous recommandons. Cela les distingue clairement des arguments positionnels.<p>\n",
    "</div>\n",
    "\n",
    "L'utilisation d'arguments par mot-clé est habituelle en Python. Elle permet de modifier le comportement par défaut de nombreuses fonctions. Par exemple, si on souhaite que la fonction print() n'affiche pas un retour à la ligne, on peut utiliser l'argument end :"
   ]
  },
  {
   "cell_type": "code",
   "execution_count": 38,
   "id": "9aaaabcc",
   "metadata": {},
   "outputs": [
    {
     "name": "stdout",
     "output_type": "stream",
     "text": [
      "Message Help on built-in function print in module builtins:\n",
      "\n",
      "print(*args, sep=' ', end='\\n', file=None, flush=False)\n",
      "    Prints the values to a stream, or to sys.stdout by default.\n",
      "    \n",
      "    sep\n",
      "      string inserted between values, default a space.\n",
      "    end\n",
      "      string appended after the last value, default a newline.\n",
      "    file\n",
      "      a file-like object (stream); defaults to the current sys.stdout.\n",
      "    flush\n",
      "      whether to forcibly flush the stream.\n",
      "\n"
     ]
    }
   ],
   "source": [
    "print(\"Message \", end=\"\")\n",
    "help(print)"
   ]
  },
  {
   "cell_type": "markdown",
   "id": "9cea8659",
   "metadata": {},
   "source": [
    "## 6. Variables locales et variables globales\n",
    "\n",
    "Lorsqu'on manipule des fonctions, il est essentiel de bien comprendre comment se comportent les variables. Une variable est dite locale lorsqu'elle est créée dans une fonction. Elle n'existera et ne sera visible que lors de l'exécution de ladite fonction.\n",
    "\n",
    "Une variable est dite globale lorsqu'elle est créée dans le programme principal. Elle sera visible partout dans le programme.\n",
    "\n",
    "Ceci ne vous paraît pas clair ? Nous allons prendre un exemple simple qui vous aidera à mieux saisir ces concepts. Observez le code suivant :"
   ]
  },
  {
   "cell_type": "code",
   "execution_count": null,
   "id": "01ef2835",
   "metadata": {},
   "outputs": [],
   "source": [
    "# définition d'une fonction carre()\n",
    "def carre(x):\n",
    "    y = x**2\n",
    "    return y\n",
    "\n",
    "# programme principal\n",
    "z = 5\n",
    "resultat = carre(z)\n",
    "print(resultat)"
   ]
  },
  {
   "cell_type": "markdown",
   "id": "04b9527b",
   "metadata": {},
   "source": [
    "Pour la suite des explications, nous allons utiliser le site Python Tutor qui permet de visualiser l'état des variables au fur et à mesure de l'exécution d'un code Python. Avant de poursuivre, nous vous conseillons de prendre 5 minutes pour tester ce site.\n",
    "\n",
    "Regardons maintenant ce qui se passe dans le code ci-dessus, étape par étape :\n",
    "\n",
    "__Étape 1 :__ Python est prêt à lire la première ligne de code.\n",
    "<img src=\"img/fct_step1.png\" width=\"600px\">\n",
    "\n",
    "__Étape 2 :__ Python met en mémoire la fonction carre(). Notez qu'il ne l'exécute pas ! La fonction est mise dans un espace de la mémoire nommé Global frame, il s'agit de l'espace du programme principal. Dans cet espace, seront stockées toutes les variables globales créées dans le programme. Python est maintenant prêt à exécuter le programme principal.\n",
    "<img src=\"img/fct_step2.png\" width=\"600px\">\n",
    "\n",
    "__Étape 3 :__ Python lit et met en mémoire la variable z. Celle-ci étant créée dans le programme principal, il s'agira d'une variable globale. Ainsi, elle sera également stockée dans le Global frame.\n",
    "<img src=\"img/fct_step3.png\" width=\"600px\">\n",
    "\n",
    "\n",
    "__Étape 4 :__ La fonction carre() est appelée et on lui passe en argument l'entier z. La fonction s'exécute et un nouveau cadre est créé dans lequel Python Tutor va indiquer toutes les variables locales à la fonction. Notez bien que la variable passée en argument, qui s'appelle x dans la fonction, est créée en tant que variable locale. On remarquera aussi que les variables globales situées dans le Global frame sont toujours là.\n",
    "\n",
    "<img src=\"img/fct_step4.png\" width=\"600px\">\n",
    "\n",
    "__Étape 5 :__ Python est maintenant prêt à exécuter chaque ligne de code de la fonction.\n",
    "\n",
    "<img src=\"img/fct_step5.png\" width=\"600px\">\n",
    "\n",
    "__Étape 6 :__ La variable y est créée dans la fonction. Celle-ci est donc stockée en tant que variable locale à la fonction.\n",
    "\n",
    "<img src=\"img/fct_step6.png\" width=\"600px\">\n",
    "\n",
    "__Étape 7 :__ Python s'apprête à renvoyer la variable locale y au programme principal. Python Tutor nous indique le contenu de la valeur renvoyée.\n",
    "\n",
    "<img src=\"img/fct_step7.png\" width=\"600px\">\n",
    "\n",
    "__Étape 8 :__ Python quitte la fonction et la valeur renvoyée par celle-ci est affectée à la variable globale resultat. Notez bien que lorsque Python quitte la fonction, l'espace des variables alloué à la fonction est détruit. Ainsi, toutes les variables créées dans la fonction n'existent plus. On comprend pourquoi elles portent le nom de locales puisqu'elles n'existent que lorsque la fonction est exécutée.\n",
    "\n",
    "<img src=\"img/fct_step8.png\" width=\"600px\">\n",
    "\n",
    "__Étape 9 :__ Python affiche le contenu de la variable resultat et l'exécution est terminée.\n",
    "\n",
    "<img src=\"img/fct_step9.png\" width=\"600px\">\n",
    "\n",
    "Nous espérons que cet exemple guidé facilitera la compréhension des concepts de variables locales et globales. Cela viendra aussi avec la pratique. Nous irons un peu plus loin sur les fonctions dans le chapitre 12. D'ici là, essayez de vous entraîner au maximum avec les fonctions. C'est un concept ardu, mais il est impératif de le maîtriser.\n",
    "\n",
    "Enfin, comme vous avez pu le constater, Python Tutor nous a grandement aidé à comprendre ce qui se passait. N'hésitez pas à l'utiliser sur des exemples ponctuels, ce site vous aidera à visualiser ce qui se passe lorsqu'un code ne fait pas ce que vous attendez.\n",
    "\n",
    "## 7 Principe DRY\n",
    "\n",
    "L'acronyme DRY signifie Don't Repeat Yourself. Les fonctions permettent de satisfaire ce principe en évitant la duplication de code. En effet, plus un code est dupliqué plusieurs fois dans un programme, plus il sera source d'erreurs, notamment lorsqu'il faudra le faire évoluer.\n",
    "\n",
    "Considérons par exemple le code suivant qui convertit plusieurs températures des degrés Fahrenheit en degrés Celsius :"
   ]
  },
  {
   "cell_type": "code",
   "execution_count": null,
   "id": "50c3df8d",
   "metadata": {},
   "outputs": [],
   "source": [
    "temp_in_fahrenheit = 60\n",
    "(temp_in_fahrenheit - 32) * (5/8)\n",
    "\n",
    "temp_in_fahrenheit = 80\n",
    "(temp_in_fahrenheit - 32) * (5/8)\n",
    "\n",
    "temp_in_fahrenheit = 100\n",
    "(temp_in_fahrenheit - 32) * (5/8)"
   ]
  },
  {
   "cell_type": "markdown",
   "id": "8bc9150b",
   "metadata": {},
   "source": [
    "Malheureusement il y a une erreur dans la formule de conversion. En effet la formule exacte est :\n",
    "<center>\n",
    " $temp\\_celsuis = (temp\\_farenheit - 32)\\frac{5}{9}$\n",
    "</center>\n",
    "\n",
    "Il faut alors reprendre les lignes 2, 5 et 8 précédentes et les corriger. Cela n'est pas efficace, surtout si le même code est utilisé à différents endroits dans le programme.\n",
    "\n",
    "En écrivant qu'une seule fois la formule de conversion dans une fonction, on applique le principe DRY :"
   ]
  },
  {
   "cell_type": "code",
   "execution_count": null,
   "id": "fd6516fa",
   "metadata": {},
   "outputs": [],
   "source": [
    "def convert_fahrenheit_to_celsius(temperature):\n",
    "    return (temperature - 32) * (5/9)\n",
    "\n",
    "temp_in_fahrenheit = 60\n",
    "convert_fahrenheit_to_celsius(temp_in_fahrenheit)\n",
    "\n",
    "temp_in_fahrenheit = 80\n",
    "convert_fahrenheit_to_celsius(temp_in_fahrenheit)\n",
    "\n",
    "temp_in_fahrenheit = 100\n",
    "convert_fahrenheit_to_celsius(temp_in_fahrenheit)"
   ]
  },
  {
   "cell_type": "markdown",
   "id": "77e9acf9",
   "metadata": {},
   "source": [
    "Et s'il y a une erreur dans la formule, il suffira de le corriger qu'une seule fois, dans la fonction ```convert_fahrenheit_to_celsius()```.\n",
    "\n",
    "## 8. Exercices\n",
    "\n",
    "<div class=\"box box-adv\">\n",
    "    <div class=\"box-title\">Conseils</div>\n",
    "    <p>Pour le premier exercice, utilisez Python Tutor. Pour les exercices suivants, créez des scripts puis exécutez-les dans un shell par exemple.</p>\n",
    "</div>\n",
    "\n",
    "### 8.1 Carré et factorielle\n",
    "\n",
    "Reprenez l'exemple précédent à l'aide du site Python Tutor :"
   ]
  },
  {
   "cell_type": "code",
   "execution_count": null,
   "id": "8ec3c6f1",
   "metadata": {},
   "outputs": [],
   "source": [
    "# définition d'une fonction carre()\n",
    "def carre(x):\n",
    "    y = x**2\n",
    "    return y\n",
    "\n",
    "# programme principal\n",
    "z = 5\n",
    "resultat = carre(z)\n",
    "print(resultat)"
   ]
  },
  {
   "cell_type": "markdown",
   "id": "be9a369a",
   "metadata": {},
   "source": [
    "Analysez ensuite le code suivant et tentez de prédire sa sortie :"
   ]
  },
  {
   "cell_type": "code",
   "execution_count": null,
   "id": "45c860cd",
   "metadata": {},
   "outputs": [],
   "source": [
    "def calc_factorielle(n):\n",
    "    fact = 1\n",
    "    for i in range(2, n+1):\n",
    "        fact = fact * i\n",
    "    return fact\n",
    "\n",
    "# programme principal\n",
    "nb = 4\n",
    "factorielle_nb = calc_factorielle(nb)\n",
    "print(f\"{nb}! = {factorielle_nb}\")\n",
    "nb2 = 10\n",
    "print(f\"{nb2}! = {calc_factorielle(nb2)}\")"
   ]
  },
  {
   "cell_type": "markdown",
   "id": "fab13735",
   "metadata": {},
   "source": [
    "Testez ensuite cette portion de code avec Python Tutor en cherchant à bien comprendre chaque étape. Avez-vous réussi à prédire la sortie correctement ?\n",
    "\n",
    "<div class=\"box box-rem\">\n",
    "    <div class=\"box-title\">Remarque</div>\n",
    "    <p>\n",
    "Une remarque concernant l'utilisation des f-strings que nous avions vues dans le chapitre 3 Affichage. On voit à nouveau une possibilité puissante des f-strings dans l'instruction <code>f\"{nb2}! = {calc_factorielle(nb2)}\"</code> : il est possible de mettre directement au sein des accolades un appel à une fonction (ici <code>{calc_factorielle(nb2)}</code>) ! Ainsi, pas besoin de créer une variable intermédiaire dans laquelle on stocke ce que retourne la fonction.</p>\n",
    "    </div>\n",
    "\n",
    "## 8.2 Puissance\n",
    "\n",
    "Créez une fonction ```calc_puissance(x, y)``` qui renvoie $x^y$ en utilisant l'opérateur ```**```. \n",
    "\n",
    "Pour rappel :"
   ]
  },
  {
   "cell_type": "code",
   "execution_count": null,
   "id": "f1c8c281",
   "metadata": {},
   "outputs": [],
   "source": [
    "print(2**2)\n",
    "print(2**3)\n",
    "print(2**4)"
   ]
  },
  {
   "cell_type": "markdown",
   "id": "c108eda2",
   "metadata": {},
   "source": [
    "Dans le programme principal, calculez et affichez à l'écran $2^i$ avec i variant de 0 à 20 inclus. On souhaite que le résultat soit présenté avec le formatage suivant :\n",
    "\n",
    "```shell\n",
    "2^ 0 =       1\n",
    "2^ 1 =       2\n",
    "2^ 2 =       4\n",
    "[...]\n",
    "2^20 = 1048576\n",
    "```\n",
    "\n",
    "### 8.4 Nombres premiers\n",
    "\n",
    "Créez une fonction ```est_premier()``` qui prend comme argument un nombre entier positif n (supérieur à 2) et qui renvoie le booléen ```True``` si n est premier et ```False``` si n n'est pas premier. Déterminez tous les nombres premiers de 2 à 100. On souhaite avoir une sortie similaire à celle-ci :\n",
    "\n",
    "```shell\n",
    "  2 est premier\n",
    "  3 est premier\n",
    "  4 n'est pas premier\n",
    "[...]\n",
    "100 n'est pas premier\n",
    "```\n",
    "\n",
    "### 8.5 Séquence complémentaire\n",
    "\n",
    "Créez une fonction ```seq_comp()``` qui prend comme argument une liste de bases et qui renvoie la séquence complémentaire d'une séquence d'ADN sous forme de liste.\n",
    "\n",
    "Dans le programme principal, à partir de la séquence d'ADN ```seq = [\"A\", \"T\", \"C\", \"G\", \"A\", \"T\", \"C\", \"G\", \"A\", \"T\", \"C\"]``` affichez ```seq``` et sa séquence complémentaire (en utilisant votre fonction ```seq_comp()```).\n",
    "\n",
    "_Rappel : la séquence complémentaire s'obtient en remplaçant A par T, T par A, C par G et G par C._\n",
    "\n",
    "### 8.6 Distance 3D\n",
    "\n",
    "Créez une fonction ```calc_distance_3D()``` qui calcule la distance euclidienne en trois dimensions entre deux atomes. Testez votre fonction sur les 2 points A(0,0,0) et B(1,1,1). Trouvez-vous bien $\\sqrt{3}$\n",
    " ?\n",
    "\n",
    "On rappelle que la distance euclidienne d entre deux points A et B de coordonnées cartésiennes respectives $(x_A, y_A, z_A)$ et $(X_B, Y_B, Z_B)$ se calcule comme suit :\n",
    "\n",
    "<center>\n",
    "    $d=\\sqrt{(X_B-X_A)^2+(Y_B-Y_A)^2+(Z_B-Z_A)^2}$\n",
    "</center>\n",
    "\n",
    "### 8.7 Distribution et statistiques\n",
    "\n",
    "Créez une fonction ```gen_distrib()``` qui prend comme argument trois entiers : debut, fin et n. La fonction renverra une liste de n ```floats``` aléatoires entre debut et fin. Pour générer un nombre aléatoire dans un intervalle donné, utilisez la fonction ```uniform()``` du module ```random``` dont voici quelques exemple d'utilisation :"
   ]
  },
  {
   "cell_type": "code",
   "execution_count": null,
   "id": "68ea4692",
   "metadata": {},
   "outputs": [],
   "source": [
    "import random\n",
    "random.uniform(1, 10)\n",
    "\n",
    "random.uniform(1, 10)\n",
    "\n",
    "random.uniform(1, 10)"
   ]
  },
  {
   "cell_type": "markdown",
   "id": "52433a15",
   "metadata": {
    "tags": []
   },
   "source": [
    "Avec la fonction ```random.uniform()```, les bornes passées en argument sont incluses, c'est-à-dire qu'ici, le nombre aléatoire renvoyé est dans l'intervalle ```[1, 10]```.\n",
    "\n",
    "Créez une autre fonction ```calc_stat()``` qui prend en argument une liste de ```floats``` et qui renvoie une liste de trois éléments contenant respectivement le minimum, le maximum et la moyenne de la liste.\n",
    "\n",
    "Dans le programme principal, générez 20 listes aléatoires de 100 ```floats``` compris entre 0 et 100 et affichez le minimum (```min()```), le maximum (```max()```) et la moyenne pour chacune d'entre elles. La moyenne pourra être calculée avec les fonctions ```sum()``` et ```len()```.\n",
    "\n",
    "Pour chacune des 20 listes, affichez les statistiques (min, max, et moyenne) avec deux chiffres après la virgule :\n",
    "\n",
    "```shell\n",
    "Liste  1 : min = 0.17 ; max = 99.72 ; moyenne = 57.38\n",
    "Liste  2 : min = 1.25 ; max = 99.99 ; moyenne = 47.41\n",
    "[...]\n",
    "Liste 19 : min = 1.05 ; max = 99.36 ; moyenne = 49.43\n",
    "Liste 20 : min = 1.33 ; max = 97.63 ; moyenne = 46.53\n",
    "```\n",
    "Les écarts sur les statistiques entre les différentes listes sont-ils importants ? Relancez votre script avec des listes de 1000 éléments, puis 10 000 éléments. Les écarts changent-ils quand le nombre d'éléments par liste augmente ?\n",
    "\n",
    "### 8.8 Distance à l'origine (exercice +++)\n",
    "\n",
    "En reprenant votre fonction de calcul de distance euclidienne en 3D ```calc_distance_3D()```, faites-en une version pour deux dimensions que vous appellerez ```calc_distance_2D()```.\n",
    "\n",
    "Créez une autre fonction ```calc_dist2ori()``` à laquelle vous passez en argument deux listes de ```floats``` ```list_x``` et ```list_y``` représentant les coordonnées d'une fonction mathématique (par exemple $x$ et $sin(x)$\n",
    "). Cette fonction renverra une liste de floats représentant la distance entre chaque point de la fonction et l'origine (de coordonnées (0,0)).\n",
    "\n",
    "La figure suivante montre un exemple sur quelques points de la fonction $sin(x)$ (courbe en trait épais). Chaque trait pointillé représente la distance que l'on cherche à calculer entre les points de la courbe et l'origine du repère de coordonnées (0, 0).\n",
    " <img src=\"img/sin2ori.png\" width=\"500px\">\n",
    "\n",
    "Votre programme générera un fichier ```sin2ori.dat``` qui contiendra deux colonnes : \n",
    "- la première représente les x\n",
    "- la seconde la distance entre chaque point de la fonction $sin(x)$ à l'origine.\n",
    "\n",
    "Enfin, pour visualiser votre résultat, ajoutez le code suivant tout à la fin de votre script :"
   ]
  },
  {
   "cell_type": "code",
   "execution_count": null,
   "id": "69d3cac3",
   "metadata": {},
   "outputs": [],
   "source": [
    "# création d'une image pour la visualisation du résultat\n",
    "import matplotlib.pyplot as plt\n",
    "\n",
    "x = []\n",
    "y = []\n",
    "with open(\"sin2ori.dat\", \"r\") as f_in:\n",
    "    for line in f_in:\n",
    "        coords = line.split()\n",
    "        x.append(float(coords[0]))\n",
    "        y.append(float(coords[1]))\n",
    "plt.figure(figsize=(8,8))\n",
    "plt.plot(x, y)\n",
    "plt.xlabel(\"x\")\n",
    "plt.ylabel(\"Distance de sin(x)à l'origine\")\n",
    "plt.savefig(\"sin2ori.png\")"
   ]
  },
  {
   "cell_type": "markdown",
   "id": "f556a939",
   "metadata": {},
   "source": [
    "```Ouvrez l'image sin2ori.png.```"
   ]
  },
  {
   "cell_type": "code",
   "execution_count": 57,
   "id": "3a4bdafe",
   "metadata": {},
   "outputs": [
    {
     "ename": "TypeError",
     "evalue": "can't multiply sequence by non-int of type 'float'",
     "output_type": "error",
     "traceback": [
      "\u001b[0;31m---------------------------------------------------------------------------\u001b[0m",
      "\u001b[0;31mTypeError\u001b[0m                                 Traceback (most recent call last)",
      "Cell \u001b[0;32mIn[57], line 7\u001b[0m\n\u001b[1;32m      4\u001b[0m         total \u001b[38;5;241m*\u001b[39m\u001b[38;5;241m=\u001b[39m val\n\u001b[1;32m      5\u001b[0m     \u001b[38;5;28;01mreturn\u001b[39;00m total\n\u001b[0;32m----> 7\u001b[0m \u001b[43msomme\u001b[49m\u001b[43m \u001b[49m\u001b[43m(\u001b[49m\u001b[38;5;241;43m1\u001b[39;49m\u001b[43m,\u001b[49m\u001b[38;5;241;43m2\u001b[39;49m\u001b[43m,\u001b[49m\u001b[38;5;241;43m3.2\u001b[39;49m\u001b[43m,\u001b[49m\u001b[43m \u001b[49m\u001b[38;5;241;43m4\u001b[39;49m\u001b[43m,\u001b[49m\u001b[43m \u001b[49m\u001b[43m[\u001b[49m\u001b[38;5;241;43m1\u001b[39;49m\u001b[43m,\u001b[49m\u001b[38;5;241;43m2\u001b[39;49m\u001b[43m]\u001b[49m\u001b[43m,\u001b[49m\u001b[43m \u001b[49m\u001b[38;5;241;43m2\u001b[39;49m\u001b[43m)\u001b[49m\n",
      "Cell \u001b[0;32mIn[57], line 4\u001b[0m, in \u001b[0;36msomme\u001b[0;34m(*args)\u001b[0m\n\u001b[1;32m      2\u001b[0m total \u001b[38;5;241m=\u001b[39m \u001b[38;5;241m1\u001b[39m\n\u001b[1;32m      3\u001b[0m \u001b[38;5;28;01mfor\u001b[39;00m val \u001b[38;5;129;01min\u001b[39;00m args:\n\u001b[0;32m----> 4\u001b[0m     \u001b[43mtotal\u001b[49m\u001b[43m \u001b[49m\u001b[38;5;241;43m*\u001b[39;49m\u001b[38;5;241;43m=\u001b[39;49m\u001b[43m \u001b[49m\u001b[43mval\u001b[49m\n\u001b[1;32m      5\u001b[0m \u001b[38;5;28;01mreturn\u001b[39;00m total\n",
      "\u001b[0;31mTypeError\u001b[0m: can't multiply sequence by non-int of type 'float'"
     ]
    }
   ],
   "source": [
    "def somme(*args):\n",
    "    total = 1\n",
    "    for val in args:\n",
    "        total *= val\n",
    "    return total\n",
    "\n",
    "somme (1,2,3.2, 4, [1,2], 2)"
   ]
  },
  {
   "cell_type": "code",
   "execution_count": 58,
   "id": "2bc75aeb-d21c-4cca-a925-c60c9feb5b21",
   "metadata": {},
   "outputs": [
    {
     "name": "stdout",
     "output_type": "stream",
     "text": [
      "{'prenom': 'François'}\n",
      "prenom : François\n"
     ]
    }
   ],
   "source": [
    "def kwords_args(nom, **kwargs):\n",
    "    print(kwargs)\n",
    "    \n",
    "    for key, value in kwargs.items():\n",
    "        print(f\"{key} : {value}\")\n",
    "\n",
    "\n",
    "kwords_args(nom = \"alin\", prenom = \"François\")"
   ]
  },
  {
   "cell_type": "code",
   "execution_count": 59,
   "id": "513b060a-f4d0-4e2d-973f-b1739e1633e4",
   "metadata": {},
   "outputs": [],
   "source": [
    "from fibonacci1 import fib"
   ]
  },
  {
   "cell_type": "code",
   "execution_count": 60,
   "id": "6d80cd5e-f9c8-4b39-b7d8-93069afd03d3",
   "metadata": {},
   "outputs": [
    {
     "data": {
      "text/plain": [
       "1"
      ]
     },
     "execution_count": 60,
     "metadata": {},
     "output_type": "execute_result"
    }
   ],
   "source": [
    "fib(2)"
   ]
  },
  {
   "cell_type": "code",
   "execution_count": 64,
   "id": "3c0ba1c9-2e27-4dc0-bf96-9524e8d5de80",
   "metadata": {},
   "outputs": [
    {
     "name": "stdout",
     "output_type": "stream",
     "text": [
      "**********************************************************************\n",
      "File \"/Users/francoisalin/SynologyDrive/codage/Python/cours python/notebooks/fibonacci_doctest.py\", line 5, in __main__.fib\n",
      "Failed example:\n",
      "    fib(0)\n",
      "Expected:\n",
      "    0\n",
      "Got:\n",
      "    1\n",
      "**********************************************************************\n",
      "File \"/Users/francoisalin/SynologyDrive/codage/Python/cours python/notebooks/fibonacci_doctest.py\", line 9, in __main__.fib\n",
      "Failed example:\n",
      "    fib(10) \n",
      "Expected:\n",
      "    55\n",
      "Got:\n",
      "    89\n",
      "**********************************************************************\n",
      "File \"/Users/francoisalin/SynologyDrive/codage/Python/cours python/notebooks/fibonacci_doctest.py\", line 11, in __main__.fib\n",
      "Failed example:\n",
      "    fib(15)\n",
      "Expected:\n",
      "    610\n",
      "Got:\n",
      "    987\n",
      "**********************************************************************\n",
      "1 items had failures:\n",
      "   3 of   4 in __main__.fib\n",
      "***Test Failed*** 3 failures.\n"
     ]
    }
   ],
   "source": [
    "!python fibonacci_doctest.py"
   ]
  },
  {
   "cell_type": "code",
   "execution_count": null,
   "id": "32d2fd27-ec40-45b6-857d-57e0282bbcb3",
   "metadata": {},
   "outputs": [],
   "source": []
  }
 ],
 "metadata": {
  "kernelspec": {
   "display_name": "py11",
   "language": "python",
   "name": "py11"
  },
  "language_info": {
   "codemirror_mode": {
    "name": "ipython",
    "version": 3
   },
   "file_extension": ".py",
   "mimetype": "text/x-python",
   "name": "python",
   "nbconvert_exporter": "python",
   "pygments_lexer": "ipython3",
   "version": "3.11.0"
  }
 },
 "nbformat": 4,
 "nbformat_minor": 5
}
