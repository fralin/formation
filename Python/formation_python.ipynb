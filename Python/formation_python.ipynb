{
 "cells": [
  {
   "cell_type": "markdown",
   "id": "8724ddcf-9ce9-46b8-990c-57c06e546c7e",
   "metadata": {},
   "source": [
    "# Formation Python\n",
    "\n",
    "## Introduction\n",
    "\n",
    "\n",
    "### Utiliser JupyterLab\n",
    "\n",
    "La video suivante vous montre comment utiliser __JuperLab__"
   ]
  },
  {
   "cell_type": "code",
   "execution_count": 24,
   "id": "9fc02cc2-1f0c-41e6-84ec-8e5e278659ee",
   "metadata": {},
   "outputs": [
    {
     "data": {
      "image/jpeg": "[encoded data removed]",
      "text/html": [
       "\n",
       "        <iframe\n",
       "            width=\"600\"\n",
       "            height=\"300\"\n",
       "            src=\"https://www.youtube.com/embed/H-Ns3q6LUxo\"\n",
       "            frameborder=\"0\"\n",
       "            allowfullscreen\n",
       "            \n",
       "        ></iframe>\n",
       "        "
      ],
      "text/plain": [
       "<IPython.lib.display.YouTubeVideo at 0x7fdd882b9670>"
      ]
     },
     "execution_count": 24,
     "metadata": {},
     "output_type": "execute_result"
    }
   ],
   "source": [
    "from IPython.display import YouTubeVideo\n",
    "YouTubeVideo(\"H-Ns3q6LUxo\", width=600)"
   ]
  },
  {
   "cell_type": "markdown",
   "id": "264cc253-9b67-4cc3-ba3d-e7197ec09789",
   "metadata": {},
   "source": [
    "1. [Installer un environnement virtuel dans JupyterLab ou Jupyter Notebook](venv_notebook.ipynb)\n",
    "2. [Creation d'un environnement virtuel](venv.ipynb)\n",
    "\n",
    "## Premiers pas\n",
    "1. [Introduction Informelle](chapitre3.ipynb)\n",
    "2. [Contrôle de Flux](chapitre4.ipynb)\n",
    "3. [Structures de données](chapitre5.ipynb)\n",
    "4. [Fonctions](fonctions.ipynb)\n",
    "\n",
    "### Exercices \n",
    "1. [Les Variables](1-Variables.ipynb)\n",
    "2. [Affichage](2-Affichage.ipynb)\n",
    "3. [Les listes](3-Lists.ipynb)\n",
    "4. [Les boucles](4-Boucles.ipynb)\n",
    "5. [Les Tests](5-test.ipynb)\n",
    "6. [Les Fichiers](6-fichier.ipynb)\n",
    "\n",
    "## Programmation Objet\n",
    "1. [Introduction](Introduction_objet.ipynb)\n",
    "2. [Attributs de classe et attributs d'instance](attributs.ipynb)\n",
    "3. [Getters et Setters](getters_setters.ipynb)\n",
    "4. [Mise en œuvre d'une classe de propriétés personnalisées](proprietes_personnalisees.ipynb)\n",
    "5. [Introduction aux descripteurs](introduction_aux_descripteurs.ipynb)\n",
    "6. [Heritage](heritage.ipynb)\n",
    "7. [Heritage Multiple](heritage_multiple.ipynb)\n",
    "\n",
    "## Python avancé\n",
    "1. [Les décorateurs](decorateurs.ipynb)\n",
    "2. [Tests Unitaires](unitest.ipynb)"
   ]
  },
  {
   "cell_type": "code",
   "execution_count": null,
   "id": "b2dca99c-6e79-4817-aa1d-56494ce887a4",
   "metadata": {},
   "outputs": [],
   "source": []
  }
 ],
 "metadata": {
  "kernelspec": {
   "display_name": "Python 3 (ipykernel)",
   "language": "python",
   "name": "python3"
  },
  "language_info": {
   "codemirror_mode": {
    "name": "ipython",
    "version": 3
   },
   "file_extension": ".py",
   "mimetype": "text/x-python",
   "name": "python",
   "nbconvert_exporter": "python",
   "pygments_lexer": "ipython3",
   "version": "3.9.13"
  }
 },
 "nbformat": 4,
 "nbformat_minor": 5
}
