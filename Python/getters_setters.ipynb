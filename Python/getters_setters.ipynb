{
 "cells": [
  {
   "cell_type": "markdown",
   "id": "7db89aa6-2c9d-4b39-88f8-9fa5ef9f3dd6",
   "metadata": {},
   "source": [
    "# Propriétés vs Getters et Setters\n",
    "\n",
    "\n",
    "## Propriétés\n",
    "\n",
    "Les Getters (également connus sous le nom d'\"accesseurs\") et les Setters (également connus sous le nom de \"mutateurs\") sont utilisés dans de nombreux langages de programmation orientés objet pour garantir le principe d'encapsulation des données. L'encapsulation des données - comme nous l'avons appris dans l'introduction sur la programmation orientée objet de notre tutoriel - est considérée comme le regroupement des données avec les méthodes qui opèrent sur elles. Ces méthodes sont bien sûr le getter pour récupérer les données et le setter pour les modifier. Selon ce principe, les attributs d'une classe sont rendus privés pour les cacher et les protéger.\n",
    "\n",
    "Malheureusement, il existe une croyance répandue selon laquelle une classe Python correcte devrait encapsuler les attributs privés en utilisant des getters et des setters. Dès qu'un de ces programmeurs introduit un nouvel attribut, il en fait une variable privée et crée \"automatiquement\" un getter et un setter pour cet attribut. Ces programmeurs peuvent même utiliser un éditeur ou un IDE, qui crée automatiquement des getters et des setters pour tous les attributs privés. Ces outils avertissent même le programmeur s'il utilise un attribut public ! Les programmeurs Java vont froncer les sourcils, lever le nez ou même hurler d'horreur en lisant ce qui suit : La manière pythonique d'introduire des attributs est de les rendre publics.\n",
    "\n",
    "<center><img src=\"img/illustration1.png\" width=\"60%\"></center>\n",
    "\n",
    "Nous l'expliquerons plus tard. Tout d'abord, nous démontrons dans l'exemple suivant, comment nous pouvons concevoir une classe d'une manière __Javaesque__ avec des getters et setters pour encapsuler l'attribut privé ```self.__x``` :"
   ]
  },
  {
   "cell_type": "code",
   "execution_count": 1,
   "id": "18b3a6f8-3f8f-42ff-9cd1-aed0d946a408",
   "metadata": {},
   "outputs": [],
   "source": [
    "class P:\n",
    "    def __init__(self, x):\n",
    "        self.__x = x\n",
    "    def get_x(self):\n",
    "        return self.__x\n",
    "    def set_x(self, x):\n",
    "        self.__x = x"
   ]
  },
  {
   "cell_type": "markdown",
   "id": "c3b05a86-7d6b-41bf-87c6-165d64b421b3",
   "metadata": {},
   "source": [
    "Nous pouvons voir dans la session de démonstration suivante comment travailler avec cette classe et ses méthodes :"
   ]
  },
  {
   "cell_type": "code",
   "execution_count": 2,
   "id": "b97652eb-da1b-43a6-b283-6b640cc7104c",
   "metadata": {},
   "outputs": [
    {
     "data": {
      "text/plain": [
       "42"
      ]
     },
     "execution_count": 2,
     "metadata": {},
     "output_type": "execute_result"
    }
   ],
   "source": [
    "p1 = P(42)\n",
    "p2 = P(4711)\n",
    "p1.get_x()"
   ]
  },
  {
   "cell_type": "code",
   "execution_count": 3,
   "id": "ffd6f4bc-fdbf-4713-bfa1-6d2f19ad0f4d",
   "metadata": {},
   "outputs": [
    {
     "data": {
      "text/plain": [
       "4758"
      ]
     },
     "execution_count": 3,
     "metadata": {},
     "output_type": "execute_result"
    }
   ],
   "source": [
    "p1.set_x(47)\n",
    "p1.set_x(p1.get_x()+p2.get_x())\n",
    "p1.get_x()"
   ]
  },
  {
   "cell_type": "markdown",
   "id": "93a9c4b3-6147-4ff0-8522-6a42b50da524",
   "metadata": {},
   "source": [
    "Que pensez-vous de l'expression ```p1.set_x(p1.get_x()+p2.get_x())``` ? C'est moche, n'est-ce pas ? Il est beaucoup plus facile d'écrire une expression comme la suivante, si nous avions un attribut public x :\n",
    "```python\n",
    "p1.x = p1.x + p2.x\n",
    "```\n",
    "\n",
    "Une telle affectation est plus facile à écrire et surtout plus facile à lire que l'expression javaesque.\n",
    "\n",
    "Réécrivons la classe P de manière pythonique. Pas de getter, pas de setter et au lieu de l'attribut privé ```self.__x```, nous utilisons un attribut public :"
   ]
  },
  {
   "cell_type": "code",
   "execution_count": 4,
   "id": "8ead597d-53b2-46a5-93d2-0cccf09601b9",
   "metadata": {},
   "outputs": [],
   "source": [
    "class P:\n",
    "    def __init__(self,x):\n",
    "        self.x = x"
   ]
  },
  {
   "cell_type": "code",
   "execution_count": 5,
   "id": "90e2518d-b690-4ca5-b259-f697305f888c",
   "metadata": {},
   "outputs": [
    {
     "data": {
      "text/plain": [
       "42"
      ]
     },
     "execution_count": 5,
     "metadata": {},
     "output_type": "execute_result"
    }
   ],
   "source": [
    "p1 = P(42)\n",
    "p2 = P(4711)\n",
    "p1.x"
   ]
  },
  {
   "cell_type": "code",
   "execution_count": 6,
   "id": "e9a05cdf-3393-4367-9511-52e3ae81b292",
   "metadata": {},
   "outputs": [
    {
     "data": {
      "text/plain": [
       "4758"
      ]
     },
     "execution_count": 6,
     "metadata": {},
     "output_type": "execute_result"
    }
   ],
   "source": [
    "p1.x = 47\n",
    "p1.x = p1.x + p2.x\n",
    "p1.x"
   ]
  },
  {
   "cell_type": "markdown",
   "id": "1dd02bac-b689-4a3a-89d7-fda894d76dee",
   "metadata": {},
   "source": [
    "\" Mais, mais, mais, mais, mais.... \"Mais il n'y a PAS d'ENCAPSULATION de données !\", on les entend hurler et crier. Oui, dans ce cas, il n'y a pas d'encapsulation des données. Nous n'en avons pas besoin dans ce cas. La seule chose que font ```get_x``` et ```set_x``` dans notre exemple de départ, c'est \"faire passer les données\" sans rien faire de plus.\n",
    "\n",
    "Mais que se passe-t-il si nous voulons modifier l'implémentation à l'avenir ? C'est un argument sérieux. Supposons que nous voulions modifier l'implémentation comme suit : L'attribut x peut avoir des valeurs comprises entre 0 et 1000. Si une valeur supérieure à 1000 est attribuée, x doit être défini à 1000. De même, x doit être défini à 0, si la valeur est inférieure à 0.\n",
    "\n",
    "Il est facile de modifier notre première classe ```P``` pour couvrir ce problème. Nous modifions la méthode ```set_x``` en conséquence :"
   ]
  },
  {
   "cell_type": "code",
   "execution_count": 7,
   "id": "de851609-bc57-4472-b2eb-ae2c6358a5ed",
   "metadata": {},
   "outputs": [],
   "source": [
    "class P:\n",
    "    \n",
    "    def __init__(self, x):\n",
    "        self.set_x(x)\n",
    "        \n",
    "    def get_x(self):\n",
    "        return self.__x\n",
    "    \n",
    "    def set_x(self, x):\n",
    "        if x < 0:\n",
    "            self.__x = 0\n",
    "        elif x > 1000:\n",
    "            self.__x = 1000\n",
    "        else:\n",
    "            self.__x = x"
   ]
  },
  {
   "cell_type": "markdown",
   "id": "1571b4a4-4f7d-4b3b-87bd-2222e86e0141",
   "metadata": {},
   "source": [
    "La session Python suivante montre que cela fonctionne comme nous le souhaitons :"
   ]
  },
  {
   "cell_type": "code",
   "execution_count": 8,
   "id": "d2638b4c-a8be-43b9-809d-d29715cc6403",
   "metadata": {},
   "outputs": [
    {
     "data": {
      "text/plain": [
       "1000"
      ]
     },
     "execution_count": 8,
     "metadata": {},
     "output_type": "execute_result"
    }
   ],
   "source": [
    "p1 = P(1001)\n",
    "p1.get_x()"
   ]
  },
  {
   "cell_type": "code",
   "execution_count": 9,
   "id": "f5bc9a04-8fd2-4cfa-8fd9-d3d302876418",
   "metadata": {},
   "outputs": [
    {
     "data": {
      "text/plain": [
       "15"
      ]
     },
     "execution_count": 9,
     "metadata": {},
     "output_type": "execute_result"
    }
   ],
   "source": [
    "p2 = P(15)\n",
    "p2.get_x()"
   ]
  },
  {
   "cell_type": "code",
   "execution_count": 10,
   "id": "e71b78e4-a74a-4bee-ad5f-d08938d0b9a1",
   "metadata": {},
   "outputs": [
    {
     "data": {
      "text/plain": [
       "0"
      ]
     },
     "execution_count": 10,
     "metadata": {},
     "output_type": "execute_result"
    }
   ],
   "source": [
    "p3 = P(-1)\n",
    "p3.get_x()"
   ]
  },
  {
   "cell_type": "markdown",
   "id": "dc4c18b0-a88b-457d-a7a8-e322a25c6f96",
   "metadata": {},
   "source": [
    "Mais il y a un problème : Supposons que nous ayons conçu notre classe avec l'attribut public et sans méthodes :"
   ]
  },
  {
   "cell_type": "code",
   "execution_count": 11,
   "id": "3da61fe0-4dc7-4249-93f1-e9b77600d930",
   "metadata": {},
   "outputs": [],
   "source": [
    "class P2:\n",
    "    def __init__(self, x):\n",
    "        self.x = x"
   ]
  },
  {
   "cell_type": "markdown",
   "id": "57c0ccaa-a5f2-4f40-aac7-13b6e98ef0c4",
   "metadata": {},
   "source": [
    "Les gens l'ont déjà beaucoup utilisé et ils ont écrit du code comme celui-ci :"
   ]
  },
  {
   "cell_type": "code",
   "execution_count": 12,
   "id": "5a86b74b-4cad-41a3-b5b7-da20707bdd76",
   "metadata": {},
   "outputs": [
    {
     "data": {
      "text/plain": [
       "1001"
      ]
     },
     "execution_count": 12,
     "metadata": {},
     "output_type": "execute_result"
    }
   ],
   "source": [
    "p1 = P2(42)\n",
    "p1.x = 1001\n",
    "p1.x"
   ]
  },
  {
   "cell_type": "markdown",
   "id": "6431626c-8045-4fe3-949c-5db7a7a84acc",
   "metadata": {},
   "source": [
    "Si nous modifions maintenant ```P2``` à la manière de la classe ```P```, notre nouvelle classe romprait l'interface, car l'attribut ```x``` ne serait plus disponible. C'est pourquoi, en Java par exemple, il est recommandé d'utiliser uniquement des attributs privés avec des __getters__ et des __setters__, afin de pouvoir modifier l'implémentation sans avoir à modifier l'interface.\n",
    "\n",
    "Mais Python offre une solution à ce problème. Cette solution s'appelle les propriétés !\n",
    "\n",
    "La classe avec une propriété ressemble à ceci :"
   ]
  },
  {
   "cell_type": "code",
   "execution_count": 13,
   "id": "2f25c0ba-afdb-4b29-90be-75beba32675e",
   "metadata": {},
   "outputs": [],
   "source": [
    "class P:\n",
    "    \n",
    "    def __init__(self, x):\n",
    "        self.x = x\n",
    "        \n",
    "    @property\n",
    "    def x(self):\n",
    "        return self.__x\n",
    "    \n",
    "    @x.setter\n",
    "    def x(self, x):\n",
    "        if x < 0:\n",
    "            self.__x = 0\n",
    "        elif x > 1000:\n",
    "            self.__x = 1000\n",
    "        else:\n",
    "            self.__x = x"
   ]
  },
  {
   "cell_type": "markdown",
   "id": "58fd305c-dca3-49b3-a0a3-991940331247",
   "metadata": {},
   "source": [
    "Une méthode qui est utilisée pour obtenir une valeur est décorée avec ```@property```, c'est-à-dire que nous plaçons cette ligne directement devant l'en-tête. La méthode qui doit fonctionner comme setter est décorée avec ```@x.setter```. Si la fonction avait été appelée ```f```, nous aurions dû la décorer avec ```@f.setter```. Deux choses sont à noter : \n",
    "- Nous venons de mettre la ligne de code ```self.x = x``` dans la méthode ```__init__``` et la méthode de propriété ```x``` est utilisée pour vérifier les limites des valeurs. \n",
    "- La deuxième chose intéressante est que nous avons écrit __deux__ méthodes avec le même nom et un nombre différent de paramètres ```def x(self)``` et ```def x(self,x)```. \n",
    "\n",
    "Nous avons appris dans un chapitre précédent de notre cours que cela n'est pas possible. Ici, cela fonctionne grâce à la décoration :"
   ]
  },
  {
   "cell_type": "code",
   "execution_count": 14,
   "id": "79b3bb82-c3a3-4895-9c5c-33be46e16299",
   "metadata": {},
   "outputs": [
    {
     "data": {
      "text/plain": [
       "1000"
      ]
     },
     "execution_count": 14,
     "metadata": {},
     "output_type": "execute_result"
    }
   ],
   "source": [
    "p1 = P(1001)\n",
    "p1.x"
   ]
  },
  {
   "cell_type": "code",
   "execution_count": 15,
   "id": "89c767b8-19e7-461a-a61b-ce404336495a",
   "metadata": {},
   "outputs": [
    {
     "data": {
      "text/plain": [
       "0"
      ]
     },
     "execution_count": 15,
     "metadata": {},
     "output_type": "execute_result"
    }
   ],
   "source": [
    "p1.x = -12\n",
    "p1.x"
   ]
  },
  {
   "cell_type": "markdown",
   "id": "9b41b858-d2c4-4cf9-8af2-90e2a02e8fed",
   "metadata": {},
   "source": [
    "Nous aurions également pu utiliser une syntaxe différente, sans décorateurs, pour définir la propriété. Comme vous pouvez le constater, le code est nettement moins élégant et nous devons nous assurer que nous utilisons à nouveau la fonction getter dans la méthode ```__init__``` :"
   ]
  },
  {
   "cell_type": "code",
   "execution_count": 16,
   "id": "0d89cc83-09d6-4953-9e16-a81a07607532",
   "metadata": {},
   "outputs": [],
   "source": [
    "class P:\n",
    "    \n",
    "    def __init__(self, x):\n",
    "        self.set_x(x)\n",
    "        \n",
    "    def get_x(self):\n",
    "        return self.__x\n",
    "    \n",
    "    def set_x(self, x):\n",
    "        if x < 0:\n",
    "            self.__x = 0\n",
    "        elif x > 1000:\n",
    "            self.__x = 1000\n",
    "        else:\n",
    "            self.__x = x\n",
    "            \n",
    "    x = property(get_x, set_x)"
   ]
  },
  {
   "cell_type": "markdown",
   "id": "e7177343-be78-43cf-a968-4fb194565a0d",
   "metadata": {},
   "source": [
    "Il y a encore un autre problème dans la version la plus récente. Nous avons maintenant deux façons d'accéder ou de changer la valeur de ```x``` : Soit en utilisant ```p1.x = 42```, soit en utilisant ```p1.set_x(42)```. De cette façon, nous violons l'un des principes fondamentaux de Python : \"Il devrait y avoir une - et de préférence une seule - manière évidente de le faire.\" (voir Zen of Python)\n",
    "\n",
    "Nous pouvons facilement résoudre ce problème en transformant les méthodes getter et setter en méthodes privées, auxquelles les utilisateurs de notre classe ```P``` ne peuvent plus accéder :"
   ]
  },
  {
   "cell_type": "code",
   "execution_count": 17,
   "id": "11d7c5c4-61ec-43ca-a754-8e8d324a8e36",
   "metadata": {},
   "outputs": [],
   "source": [
    "class P:\n",
    "    def __init__(self, x):\n",
    "        self.__set_x(x)\n",
    "        \n",
    "    def __get_x(self):\n",
    "        return self.__x\n",
    "    \n",
    "    def __set_x(self, x):\n",
    "        if x < 0:\n",
    "            self.__x = 0\n",
    "        elif x > 1000:\n",
    "            self.__x = 1000\n",
    "        else:\n",
    "            self.__x = x\n",
    "            \n",
    "    x = property(__get_x, __set_x)"
   ]
  },
  {
   "cell_type": "markdown",
   "id": "8b96984f-d98a-4158-8ca0-c3806e4afd0e",
   "metadata": {},
   "source": [
    "<center><img src=\"img/illustration2.png\" width=\"30%\"></center>\n",
    "\n",
    "Même si nous avons résolu ce problème en utilisant un getter et un setter privés, la version avec le décorateur ```@property``` est la manière Pythonienne de le faire !\n",
    "\n",
    "D'après ce que nous avons écrit jusqu'à présent, et ce que l'on peut voir dans d'autres livres et tutoriels également, nous pourrions facilement avoir l'impression qu'il existe une connexion biunivoque entre les propriétés (ou méthodes de mutateur) et les attributs, c'est-à-dire que chaque attribut a ou devrait avoir sa propre propriété (ou paire getter-setter) et vice-versa. Même dans d'autres langages orientés objet que Python, ce n'est généralement pas une bonne idée d'implémenter une classe de ce type. La raison principale est que de nombreux attributs ne sont nécessaires qu'en interne et que la création d'interfaces pour l'utilisateur de la classe augmente inutilement la facilité d'utilisation de la classe. L'utilisateur potentiel d'une classe ne devrait pas être \"noyé\" par d'innombrables méthodes ou propriétés, pour la plupart inutiles !\n",
    "\n",
    "L'exemple suivant montre une classe, qui a des attributs internes, qui ne peuvent pas être accédés de l'extérieur. Ce sont les attributs privés ```self.__potentiel _physique``` et ```self.__potentiel_psychique```. De plus, nous montrons qu'une propriété peut être déduite des valeurs de plus d'un attribut. La propriété __condition__ de notre exemple renvoie la condition du robot dans une chaîne descriptive. La condition dépend de la somme des valeurs des conditions psychiques et physiques du robot."
   ]
  },
  {
   "cell_type": "code",
   "execution_count": 18,
   "id": "1f2abd61-3944-4bfe-bda8-0a0478a0939a",
   "metadata": {},
   "outputs": [
    {
     "name": "stdout",
     "output_type": "stream",
     "text": [
      "Seems to be okay!\n",
      "I feel bad!\n"
     ]
    }
   ],
   "source": [
    "class Robot:\n",
    "    def __init__(self, name, build_year, lk = 0.5, lp = 0.5 ):\n",
    "        self.name = name\n",
    "        self.build_year = build_year\n",
    "        self.__potential_physical = lk\n",
    "        self.__potential_psychic = lp\n",
    "        \n",
    "    @property\n",
    "    def condition(self):\n",
    "        s = self.__potential_physical + self.__potential_psychic\n",
    "        if s <= -1:\n",
    "           return \"I feel miserable!\"\n",
    "        elif s <= 0:\n",
    "           return \"I feel bad!\"\n",
    "        elif s <= 0.5:\n",
    "           return \"Could be worse!\"\n",
    "        elif s <= 1:\n",
    "           return \"Seems to be okay!\"\n",
    "        else:\n",
    "           return \"Great!\" \n",
    "if __name__ == \"__main__\":\n",
    "    x = Robot(\"Marvin\", 1979, 0.2, 0.4 )\n",
    "    y = Robot(\"Caliban\", 1993, -0.4, 0.3)\n",
    "    print(x.condition)\n",
    "    print(y.condition)"
   ]
  },
  {
   "cell_type": "markdown",
   "id": "8a72248a-0d3b-4ad6-bd66-e618b09f4bfa",
   "metadata": {},
   "source": [
    "## Attributs publics au lieu d'attributs privés\n",
    "\n",
    "Résumons l'utilisation des attributs privés et publics, des getters et setters et des propriétés : Supposons que nous soyons en train de concevoir une nouvelle classe et que nous réfléchissions à une instance ou un attribut de classe ```OurAtt```, dont nous avons besoin pour la conception de notre classe. Nous devons tenir compte des questions suivantes :\n",
    "\n",
    "- La valeur de ```OurAtt``` sera-t-elle nécessaire pour les utilisateurs potentiels de notre classe ?\n",
    "- Si non, nous pouvons ou devons en faire un attribut privé.\n",
    "- Si elle doit être accessible, nous la rendons accessible en tant qu'attribut public.\n",
    "- Nous le définirons comme un attribut privé avec la propriété correspondante, si et seulement si nous devons effectuer des contrôles ou des transformations des données. (Par exemple, vous pouvez revoir notre classe P, où l'attribut doit être dans l'intervalle entre 0 et 1000, ce qui est assuré par la propriété ```x```).\n",
    "- Vous pouvez également utiliser un getter et un setter, mais l'utilisation d'une propriété est la façon Python de traiter ce problème !\n",
    "\n",
    "Supposons que nous ayons défini ```OurAtt``` comme un attribut public. Notre classe est utilisée avec succès par d'autres utilisateurs depuis un certain temps."
   ]
  },
  {
   "cell_type": "code",
   "execution_count": 1,
   "id": "4d32c793-5aa2-4f60-ae01-113375d98a7f",
   "metadata": {},
   "outputs": [
    {
     "name": "stdout",
     "output_type": "stream",
     "text": [
      "10\n"
     ]
    }
   ],
   "source": [
    "class OurClass:\n",
    "    \n",
    "    def __init__(self, a):\n",
    "        self.OurAtt = a\n",
    "        \n",
    "x = OurClass(10)\n",
    "print(x.OurAtt)"
   ]
  },
  {
   "cell_type": "markdown",
   "id": "c440dd03-023b-4e63-9959-17033a52f281",
   "metadata": {},
   "source": [
    "Maintenant vient le point qui effraie certains __OOPistas__ traditionnels hors de leurs esprits : Imaginez que ```OurAtt``` a été utilisé comme un nombre entier. Maintenant, notre classe doit s'assurer que ```OurAtt``` doit être une valeur entre 0 et 1000 ? Sans propriété, c'est vraiment un scénario horrible ! Grâce aux propriétés, c'est facile : nous créons une version de ```OurAtt``` avec une propriété."
   ]
  },
  {
   "cell_type": "code",
   "execution_count": 20,
   "id": "762dfe26-9adc-4d33-994a-5b4e81da6e09",
   "metadata": {},
   "outputs": [
    {
     "name": "stdout",
     "output_type": "stream",
     "text": [
      "10\n"
     ]
    }
   ],
   "source": [
    "class OurClass:\n",
    "    \n",
    "    def __init__(self, a):\n",
    "        self.OurAtt = a\n",
    "        \n",
    "    @property\n",
    "    def OurAtt(self):\n",
    "        return self.__OurAtt\n",
    "    \n",
    "    @OurAtt.setter\n",
    "    def OurAtt(self, val):\n",
    "        if val < 0:\n",
    "            self.__OurAtt = 0\n",
    "        elif val > 1000:\n",
    "            self.__OurAtt = 1000\n",
    "        else:\n",
    "            self.__OurAtt = val\n",
    "            \n",
    "x = OurClass(10)\n",
    "print(x.OurAtt)"
   ]
  },
  {
   "cell_type": "markdown",
   "id": "8c75c3e5-cdf5-477b-a7ae-026f99df4a44",
   "metadata": {},
   "source": [
    "C'est génial, n'est-ce pas ? Vous pouvez commencer par la mise en œuvre la plus simple possible et vous êtes libre de migrer ultérieurement vers une version avec propriétés sans avoir à modifier l'interface ! Les propriétés ne sont donc pas seulement un remplacement des getters et setters !\n",
    "\n",
    "Une autre chose que vous avez peut-être déjà remarquée : Pour les utilisateurs d'une classe, les propriétés sont syntaxiquement identiques aux attributs ordinaires."
   ]
  },
  {
   "cell_type": "code",
   "execution_count": null,
   "id": "27d01b3e-3dc7-43aa-b676-c7385675016c",
   "metadata": {},
   "outputs": [],
   "source": []
  }
 ],
 "metadata": {
  "kernelspec": {
   "display_name": "py11",
   "language": "python",
   "name": "py11"
  },
  "language_info": {
   "codemirror_mode": {
    "name": "ipython",
    "version": 3
   },
   "file_extension": ".py",
   "mimetype": "text/x-python",
   "name": "python",
   "nbconvert_exporter": "python",
   "pygments_lexer": "ipython3",
   "version": "3.11.0"
  }
 },
 "nbformat": 4,
 "nbformat_minor": 5
}
