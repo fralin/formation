{
 "cells": [
  {
   "cell_type": "markdown",
   "id": "9a818405-6368-4ef4-a1fd-9786b8931fa4",
   "metadata": {},
   "source": [
    "# Héritage\n",
    "\n",
    "## Introduction et définitions\n",
    "\n",
    "Aucun langage de programmation orienté objet ne serait digne d'être regardé ou utilisé, s'il ne supportait pas l'héritage. L'héritage a été inventé en 1969 pour Simula. Python ne supporte pas seulement l'héritage mais aussi l'héritage multiple. D'une manière générale, l'héritage est le mécanisme qui permet de dériver de nouvelles classes à partir de classes existantes. En faisant cela, nous obtenons une hiérarchie de classes. Dans la plupart des langages orientés objet basés sur des classes, un objet créé par héritage (un \"objet enfant\") acquiert toutes, - bien qu'il y ait des exceptions dans certains langages de programmation, - les propriétés et les comportements de l'objet parent.\n",
    "\n",
    "<center><img src=\"img/illustration8.png\" width=\"50%\"></center>\n",
    "\n",
    "L'héritage permet aux programmeurs de créer des classes qui sont construites sur des classes existantes, ce qui permet à une classe créée par héritage d'hériter des attributs et des méthodes de la classe parente. Cela signifie que l'héritage favorise la réutilisation du code. Les méthodes ou, plus généralement, le logiciel hérité par une sous-classe sont considérés comme réutilisés dans la sous-classe. Les relations d'objets ou de classes par héritage donnent lieu à un graphe dirigé.\n",
    "\n",
    "La classe dont hérite une classe est appelée parent ou superclasse. Une classe qui hérite d'une superclasse est appelée sous-classe, également appelée classe héritière ou classe enfant. Les superclasses sont parfois aussi appelées ancêtres. Il existe une relation hiérarchique entre les classes. Elle est similaire aux relations ou aux catégorisations que nous connaissons dans la vie réelle. Pensez aux véhicules, par exemple. Les vélos, les voitures, les bus et les camions sont des véhicules. Les pick-ups, les fourgonnettes, les voitures de sport, les cabriolets et les breaks sont tous des voitures et, en tant que voitures, ils sont également des véhicules. Nous pourrions implémenter une classe de véhicule en Python, qui pourrait avoir des méthodes comme l'accélération et le freinage. Les voitures, les bus, les camions et les vélos peuvent être implémentés en tant que sous-classes qui hériteront de ces méthodes de vehicle.\n",
    "\n",
    "<center><img src=\"img/illustration9.png\" width=\"80%\"></center>\n",
    "\n",
    "## Syntaxe de l'héritage en Python\n",
    "\n",
    "La syntaxe pour la définition d'une sous-classe ressemble à ceci :\n",
    "\n",
    "```python\n",
    "classe DerivedClassName(BaseClassName) :\n",
    "    pass\n",
    "```\n",
    "\n",
    "\n",
    "Au lieu de l'instruction ```pass```, il y aura des méthodes et des attributs comme dans toutes les autres classes. Le nom BaseClassName doit être défini dans une portée contenant la définition de la classe dérivée.\n",
    "\n",
    "Nous sommes maintenant prêts pour un exemple d'héritage simple avec du code Python.\n",
    "\n",
    "## Exemple simple d'héritage\n",
    "\n",
    "Nous allons nous en tenir à nos chers robots ou mieux à la classe Robot des chapitres précédents de notre tutoriel Python pour montrer comment fonctionne le principe de l'héritage. Nous allons définir une classe ```PhysicianRobot```, qui hérite de Robot."
   ]
  },
  {
   "cell_type": "code",
   "execution_count": 1,
   "id": "4f2d0fc3-72c0-41fa-baf5-7e5b26260106",
   "metadata": {},
   "outputs": [
    {
     "name": "stdout",
     "output_type": "stream",
     "text": [
      "<__main__.Robot object at 0x111257310> <class '__main__.Robot'>\n",
      "<__main__.PhysicianRobot object at 0x111288050> <class '__main__.PhysicianRobot'>\n",
      "Hi, I am James\n"
     ]
    }
   ],
   "source": [
    "class Robot:\n",
    "    \n",
    "    def __init__(self, name):\n",
    "        self.name = name\n",
    "    def say_hi(self):\n",
    "        print(\"Hi, I am \" + self.name)\n",
    "        \n",
    "        \n",
    "class PhysicianRobot(Robot):\n",
    "    pass\n",
    "\n",
    "\n",
    "x = Robot(\"Marvin\")\n",
    "y = PhysicianRobot(\"James\")\n",
    "print(x, type(x))\n",
    "print(y, type(y))\n",
    "y.say_hi()"
   ]
  },
  {
   "cell_type": "markdown",
   "id": "ca357e17-564d-4857-bd8e-a08bc9ec80b6",
   "metadata": {},
   "source": [
    "<center><img src=\"img/illustration10.png\" width=\"50%\"></center>\n",
    "\n",
    "Si vous regardez le code de notre classe ```PhysicianRobot```, vous pouvez voir que nous n'avons défini aucun attribut ou méthode dans cette classe. Comme la classe PhysicianRobot est une sous-classe de Robot, elle hérite, dans ce cas, de la méthode ```__init__``` et ```say_hi```. L'héritage de ces méthodes signifie que nous pouvons les utiliser comme si elles étaient définies dans la classe PhysicianRobot. Lorsque nous créons une instance de PhysicianRobot, la fonction ```__init__``` crée également un attribut name. Nous pouvons appliquer la méthode ```say_hi``` à l'objet ```PhysisicianRobot``` y, comme nous pouvons le voir dans le résultat du code ci-dessus.\n",
    "\n",
    "## Différence entre type et isinstance\n",
    "\n",
    "Vous devriez également prêter attention aux faits suivants, que nous avons également soulignés dans d'autres sections de notre tutoriel Python. Les gens demandent souvent où se trouve la différence entre la vérification du type via la fonction type ou la fonction isinstance. La différence peut être vue dans le code suivant. Nous voyons que isinstance renvoie True si nous comparons un objet soit avec la classe à laquelle il appartient, soit avec la superclasse. Alors que l'opérateur d'égalité ne renvoie que True, si nous comparons un objet avec sa propre classe."
   ]
  },
  {
   "cell_type": "code",
   "execution_count": 2,
   "id": "cc82e1d8-01e5-4411-a70e-de4176a2a613",
   "metadata": {},
   "outputs": [
    {
     "name": "stdout",
     "output_type": "stream",
     "text": [
      "True True\n",
      "False\n",
      "True\n",
      "False True\n"
     ]
    }
   ],
   "source": [
    "x = Robot(\"Marvin\")\n",
    "y = PhysicianRobot(\"James\")\n",
    "print(isinstance(x, Robot), isinstance(y, Robot))\n",
    "print(isinstance(x, PhysicianRobot))\n",
    "print(isinstance(y, PhysicianRobot))\n",
    "print(type(y) == Robot, type(y) == PhysicianRobot)"
   ]
  },
  {
   "cell_type": "markdown",
   "id": "e36b7551-8c55-4526-986d-b5c05b46c4e5",
   "metadata": {},
   "source": [
    "Ceci est même vrai pour les ancêtres arbitraires de la classe dans la ligne d'héritage :"
   ]
  },
  {
   "cell_type": "code",
   "execution_count": 3,
   "id": "32fbf57f-c659-4215-9276-d0c7cfa7af51",
   "metadata": {},
   "outputs": [
    {
     "name": "stdout",
     "output_type": "stream",
     "text": [
      "True\n"
     ]
    }
   ],
   "source": [
    "class A:\n",
    "    pass\n",
    "\n",
    "class B(A):\n",
    "    pass\n",
    "\n",
    "class C(B):\n",
    "    pass\n",
    "\n",
    "x = C()\n",
    "print(isinstance(x, A))"
   ]
  },
  {
   "cell_type": "markdown",
   "id": "b35f8024-534d-4d7d-98f6-5c30888fc848",
   "metadata": {},
   "source": [
    "Maintenant, il devrait être clair, pourquoi [PEP](https://legacy.python.org/dev/peps/pep-0008/#programming-recommendations) 8, le guide de style officiel pour le code Python, dit : \"Les comparaisons de types d'objets devraient toujours utiliser isinstance() au lieu de comparer les types directement\".\n",
    "\n",
    "## Surcharge\n",
    "\n",
    "Revenons à notre nouvelle classe PhysicianRobot. Imaginons maintenant qu'une instance d'un PhysicianRobot doive dire bonjour d'une manière différente. Dans ce cas, nous devons redéfinir la méthode ```say_hi``` à l'intérieur de la sous-classe ```PhysicianRobot``` :"
   ]
  },
  {
   "cell_type": "code",
   "execution_count": null,
   "id": "c5cba147-1c42-4789-937d-5f2c86501e2b",
   "metadata": {},
   "outputs": [],
   "source": [
    "class Robot:\n",
    "    \n",
    "    def __init__(self, name):\n",
    "        self.name = name\n",
    "        \n",
    "    def say_hi(self):\n",
    "        print(\"Hi, I am \" + self.name)\n",
    "        \n",
    "        \n",
    "class PhysicianRobot(Robot):\n",
    "    \n",
    "    def say_hi(self):\n",
    "        print(\"Everything will be okay! \") \n",
    "        print(self.name + \" takes care of you!\")\n",
    "        \n",
    "        \n",
    "y = PhysicianRobot(\"James\")\n",
    "y.say_hi()"
   ]
  },
  {
   "cell_type": "markdown",
   "id": "9ff5cc6b-657c-4fb9-a014-0fe2ce162bb3",
   "metadata": {},
   "source": [
    "Ce que nous avons fait dans l'exemple précédent est appelé __surcharge__. Une méthode d'une classe parent est surchargée en définissant simplement une méthode avec le même nom dans la classe enfant.\n",
    "\n",
    "Si une méthode est surchargée dans une classe, il est toujours possible d'accéder à la méthode originale, mais nous devons le faire en appelant la méthode directement avec le nom de la classe, c'est-à-dire ```Robot.say_hi(y)```. \n",
    "\n",
    "Nous le démontrons dans le code suivant :"
   ]
  },
  {
   "cell_type": "code",
   "execution_count": 5,
   "id": "156d6b1c-0af2-4eae-9827-8fd72eacd0e5",
   "metadata": {},
   "outputs": [
    {
     "name": "stdout",
     "output_type": "stream",
     "text": [
      "Everything will be okay! \n",
      "Doc James takes care of you!\n",
      "... and now the 'traditional' robot way of saying hi :-)\n",
      "Hi, I am Doc James\n"
     ]
    }
   ],
   "source": [
    "y = PhysicianRobot(\"Doc James\")\n",
    "y.say_hi()\n",
    "print(\"... and now the 'traditional' robot way of saying hi :-)\")\n",
    "Robot.say_hi(y)"
   ]
  },
  {
   "cell_type": "markdown",
   "id": "3309ae36-4f24-4594-a927-7b63e9d0e7c2",
   "metadata": {},
   "source": [
    "Nous avons vu qu'une classe héritée peut hériter et surcharger les méthodes de la superclasse. En outre, une sous-classe a souvent besoin de méthodes supplémentaires avec des fonctionnalités additionnelles, qui n'existent pas dans la super-classe. Une instance de la classe ```PhysicianRobot``` aura par exemple besoin de la méthode ```heal``` pour que le médecin puisse faire un travail correct. Nous allons également ajouter un attribut ```health_level``` à la classe Robot, qui peut prendre une valeur entre 0 et 1. Les robots vont \"venir à la vie\" avec une valeur aléatoire entre 0 et 1. Si le ```health_level``` d'un Robot est inférieur à 0,8, il aura besoin d'un médecin. Nous écrivons une méthode ```needs_a_doctor``` qui renvoie ```True``` si la valeur est inférieure à 0,8 et ```False``` sinon. La \"guérison\" dans la méthode````heal``` est effectuée en fixant le ```health_level``` à une valeur aléatoire entre l'ancien ```health_level``` et 1. Cette valeur est calculée par la fonction uniforme du module random."
   ]
  },
  {
   "cell_type": "code",
   "execution_count": 6,
   "id": "dec3f77b-e2ee-455d-8154-f60c465c93c1",
   "metadata": {},
   "outputs": [
    {
     "name": "stdout",
     "output_type": "stream",
     "text": [
      "health_level of Marvin0 before healing:  0.1976510635522427\n",
      "Marvin0 has been healed by Dr. Frankenstein!\n",
      "health_level of Marvin0 after healing:  0.5921654221209174\n",
      "health_level of Marvin2 before healing:  0.6603747889304262\n",
      "Marvin2 has been healed by Dr. Frankenstein!\n",
      "health_level of Marvin2 after healing:  0.9172549876968498\n",
      "health_level of Marvin3 before healing:  0.41872102893804264\n",
      "Marvin3 has been healed by Dr. Frankenstein!\n",
      "health_level of Marvin3 after healing:  0.5725463561166525\n",
      "health_level of Marvin4 before healing:  0.2102134369681412\n",
      "Marvin4 has been healed by Dr. Frankenstein!\n",
      "health_level of Marvin4 after healing:  0.4396371143524692\n",
      "[('Marvin0', 0.5921654221209174), ('Marvin1', 0.9699897860910399), ('Marvin2', 0.9172549876968498), ('Marvin3', 0.5725463561166525), ('Marvin4', 0.4396371143524692)]\n"
     ]
    }
   ],
   "source": [
    "import random\n",
    "\n",
    "class Robot:\n",
    "    \n",
    "    def __init__(self, name):\n",
    "        self.name = name\n",
    "        self.health_level = random.random() \n",
    "        \n",
    "    def say_hi(self):\n",
    "        print(\"Hi, I am \" + self.name)\n",
    "        \n",
    "    def needs_a_doctor(self):\n",
    "        if self.health_level < 0.8:\n",
    "            return True\n",
    "        else:\n",
    "            return False\n",
    "        \n",
    "        \n",
    "class PhysicianRobot(Robot):\n",
    "    \n",
    "    def say_hi(self):\n",
    "        print(\"Everything will be okay! \") \n",
    "        print(self.name + \" takes care of you!\")\n",
    "        \n",
    "    def heal(self, robo):\n",
    "        robo.health_level = random.uniform(robo.health_level, 1)\n",
    "        print(robo.name + \" has been healed by \" + self.name + \"!\")\n",
    "        \n",
    "        \n",
    "doc = PhysicianRobot(\"Dr. Frankenstein\")        \n",
    "rob_list = []\n",
    "for i in range(5):\n",
    "    x = Robot(\"Marvin\" + str(i))\n",
    "    if x.needs_a_doctor():\n",
    "        print(\"health_level of \" + x.name + \" before healing: \", x.health_level)\n",
    "        doc.heal(x)\n",
    "        print(\"health_level of \" + x.name + \" after healing: \", x.health_level)\n",
    "    rob_list.append((x.name, x.health_level))\n",
    "print(rob_list)"
   ]
  },
  {
   "cell_type": "markdown",
   "id": "4d8c1dfd-25d7-4eb3-9176-7318d51cb0d8",
   "metadata": {},
   "source": [
    "Lorsque nous surchargeons une méthode, nous voulons parfois réutiliser la méthode de la classe parente et y ajouter de nouveaux éléments. Pour démontrer cela, nous allons écrire une nouvelle version du ```RobotMédecin```. ```say_hi``` doit renvoyer le texte de la version de la classe ```Robot``` plus le texte \" et je suis médecin ! \"."
   ]
  },
  {
   "cell_type": "code",
   "execution_count": null,
   "id": "55c6d490-5041-4b3b-ab1b-ab75197dd7e2",
   "metadata": {},
   "outputs": [],
   "source": [
    "class PhysicianRobot(Robot):\n",
    "    \n",
    "    def say_hi(self):\n",
    "        Robot.say_hi(self)\n",
    "        print(\"and I am a physician!\")\n",
    "doc = PhysicianRobot(\"Dr. Frankenstein\")      \n",
    "doc.say_hi()"
   ]
  },
  {
   "cell_type": "markdown",
   "id": "8131990c-b5a5-46f1-9794-043fbb580650",
   "metadata": {},
   "source": [
    "Nous ne voulons pas écrire de code redondant et nous avons donc appelé ```Robot.say_hi(self)```. Nous pourrions également utiliser la fonction ```super``` :"
   ]
  },
  {
   "cell_type": "code",
   "execution_count": 9,
   "id": "6ab56f62-b03b-450d-b5ba-7bfbbbd618f6",
   "metadata": {},
   "outputs": [
    {
     "name": "stdout",
     "output_type": "stream",
     "text": [
      "Hi, I am Dr. Frankenstein\n",
      "and I am a physician!\n"
     ]
    }
   ],
   "source": [
    "class PhysicianRobot(Robot):\n",
    "    def say_hi(self):\n",
    "        super().say_hi()\n",
    "        print(\"and I am a physician!\")\n",
    "        \n",
    "doc = PhysicianRobot(\"Dr. Frankenstein\")      \n",
    "doc.say_hi()"
   ]
  },
  {
   "cell_type": "markdown",
   "id": "2b42ccd1-ef97-422c-9b41-ada18b505d21",
   "metadata": {},
   "source": [
    "```super``` n'est pas vraiment nécessaire dans ce cas. On pourrait argumenter que cela rend le code plus facile à maintenir, parce que nous pourrions changer le nom de la classe parente, mais cela est rarement fait de toute façon dans les classes existantes. Le véritable avantage de ```super``` apparaît lorsque nous l'utilisons avec l'héritage multiple."
   ]
  },
  {
   "cell_type": "markdown",
   "id": "189b9912-ab93-4656-9ad1-ef0f8e253d32",
   "metadata": {},
   "source": [
    "## Distinction entre l'écrasement, la surcharge et la substitution (overriding)\n",
    "\n",
    "### Écraser\n",
    "Si on écrase une fonction, la fonction originale disparaît. La fonction sera redéfinie. Ce processus n'a rien à voir avec l'orientation objet ou l'héritage."
   ]
  },
  {
   "cell_type": "code",
   "execution_count": 10,
   "id": "68a30403-2f2f-4d66-8948-590233e68bda",
   "metadata": {},
   "outputs": [
    {
     "name": "stdout",
     "output_type": "stream",
     "text": [
      "45\n",
      "46\n"
     ]
    }
   ],
   "source": [
    "def f(x):\n",
    "    return x + 42\n",
    "print(f(3))\n",
    "# f will be overwritten (or redefined) in the following:\n",
    "def f(x):\n",
    "    return x + 43\n",
    "print(f(3))"
   ]
  },
  {
   "cell_type": "markdown",
   "id": "d36c9448-01f0-4b64-932f-826153623330",
   "metadata": {},
   "source": [
    "### Surcharge\n",
    "Ce sous-chapitre ne sera intéressant que pour les programmeurs C++ et Java qui veulent savoir comment la surcharge peut être réalisée en Python. Ceux qui ne connaissent pas la surcharge ne le manqueront pas !\n",
    "\n",
    "Dans le contexte de la programmation orientée objet, vous avez peut-être déjà entendu parler de \"surcharge\". Même si la \"surcharge\" n'est pas directement liée à la POO. La surcharge est la possibilité de définir une fonction avec le même nom plusieurs fois. Les définitions sont différentes en ce qui concerne le nombre de paramètres et les types de paramètres. C'est la capacité d'une fonction à effectuer différentes tâches, en fonction du nombre de paramètres ou des types de paramètres. Nous ne pouvons pas surcharger les fonctions de la sorte en Python, mais ce n'est pas non plus nécessaire.\n",
    "\n",
    "Ce cours n'est cependant pas consacré au C++ et nous avons jusqu'à présent évité d'utiliser tout code C++. Nous voulons faire une exception maintenant, afin que vous puissiez voir comment la surcharge fonctionne en C++.\n",
    "\n",
    "```c++\n",
    "#include \n",
    "#include \n",
    "using namespace std;\n",
    "int successor(int number) {\n",
    "    return number + 1;\n",
    "}\n",
    "double successor(double number) {\n",
    "    return number + 1;\n",
    "}\n",
    "int main() {\n",
    "    cout << successor(10) << endl;\n",
    "    cout << successor(10.3) << endl;\n",
    "    return 0;\n",
    "}\n",
    "```\n",
    "\n",
    "Nous avons défini la fonction successeur deux fois : une fois pour int et une autre fois avec float comme paramètre. En Python, la fonction peut être définie de la manière suivante, comme vous le saurez certainement :"
   ]
  },
  {
   "cell_type": "code",
   "execution_count": 11,
   "id": "47bff195-d3f6-41a6-936a-8e47e1cc89ad",
   "metadata": {},
   "outputs": [],
   "source": [
    "def successor(x):\n",
    "    return x + 1"
   ]
  },
  {
   "cell_type": "markdown",
   "id": "89d856e6-295d-41f5-960b-f2be14d860f4",
   "metadata": {},
   "source": [
    "Comme x n'est qu'une référence à un objet, la fonction Python ```successor``` peut être appelée avec tous les objets, même si elle créera des exceptions avec de nombreux types. Mais elle fonctionnera avec des valeurs ```int``` et ```float``` !\n",
    "\n",
    "Avoir une fonction avec un nombre différent de paramètres est une autre façon de surcharger les fonctions. Le programme C++ suivant montre un tel exemple. La fonction ```f``` peut être appelée avec un ou deux arguments entiers :\n",
    "\n",
    "``` c++\n",
    "#include \n",
    "using namespace std;\n",
    "int f(int n);\n",
    "int f(int n, int m);\n",
    "int main() {\n",
    "    cout << \"f(3): \" << f(3) << endl;\n",
    "    cout << \"f(3, 4): \" << f(3, 4) << endl;\n",
    "    return 0;\n",
    "}\n",
    "int f(int n) {\n",
    "    return n + 42;\n",
    "}\n",
    "int f(int n, int m) {\n",
    "    return n + m + 42; \n",
    "}\n",
    "```\n",
    "\n",
    "Cela ne fonctionne pas en Python, comme nous pouvons le voir dans l'exemple suivant. La deuxième définition de f avec deux paramètres redéfinit ou remplace la première définition avec un argument. L'écrasement signifie que la première définition n'est plus disponible."
   ]
  },
  {
   "cell_type": "code",
   "execution_count": 12,
   "id": "7294cef9-fbbf-4809-bd5a-58406eb516f2",
   "metadata": {},
   "outputs": [
    {
     "name": "stdout",
     "output_type": "stream",
     "text": [
      "49\n"
     ]
    }
   ],
   "source": [
    "def f(n):\n",
    "    return n + 42\n",
    "\n",
    "def f(n,m):\n",
    "    return n + m + 42\n",
    "\n",
    "print(f(3, 4))"
   ]
  },
  {
   "cell_type": "markdown",
   "id": "70ae7a95-73a8-4f56-8dba-d3419b144a60",
   "metadata": {},
   "source": [
    "Si vous appelez ```f``` avec un seul paramètre, vous soulèverez une exception :"
   ]
  },
  {
   "cell_type": "code",
   "execution_count": 13,
   "id": "11992b97-6e3d-4604-a2f6-938a8a862d5e",
   "metadata": {},
   "outputs": [
    {
     "ename": "TypeError",
     "evalue": "f() missing 1 required positional argument: 'm'",
     "output_type": "error",
     "traceback": [
      "\u001b[0;31m---------------------------------------------------------------------------\u001b[0m",
      "\u001b[0;31mTypeError\u001b[0m                                 Traceback (most recent call last)",
      "Cell \u001b[0;32mIn[13], line 1\u001b[0m\n\u001b[0;32m----> 1\u001b[0m \u001b[43mf\u001b[49m\u001b[43m(\u001b[49m\u001b[38;5;241;43m3\u001b[39;49m\u001b[43m)\u001b[49m\n",
      "\u001b[0;31mTypeError\u001b[0m: f() missing 1 required positional argument: 'm'"
     ]
    }
   ],
   "source": [
    "f(3)"
   ]
  },
  {
   "cell_type": "markdown",
   "id": "d9aac8a6-2e9b-4b4f-ba73-3b8b4eb4f534",
   "metadata": {},
   "source": [
    "Pourtant, il est possible de simuler le comportement de surcharge du C++ en Python dans ce cas avec un paramètre par défaut :"
   ]
  },
  {
   "cell_type": "code",
   "execution_count": 14,
   "id": "7cb360bc-0d55-42fa-a9cf-e0ac9184ca99",
   "metadata": {},
   "outputs": [
    {
     "name": "stdout",
     "output_type": "stream",
     "text": [
      "45 46\n"
     ]
    }
   ],
   "source": [
    "def f(n, m=None):\n",
    "    if m:\n",
    "        return n + m +42\n",
    "    else:\n",
    "        return n + 42\n",
    "print(f(3), f(1, 3))"
   ]
  },
  {
   "cell_type": "markdown",
   "id": "37d70111-cee6-4c42-9ccf-7dc467b77d77",
   "metadata": {},
   "source": [
    "L'opérateur ```*``` peut être utilisé comme une approche plus générale pour une famille de fonctions avec 1, 2, 3, ou même plus de paramètres :"
   ]
  },
  {
   "cell_type": "code",
   "execution_count": 15,
   "id": "32cf51e0-c784-4142-9ddc-ce422315b15f",
   "metadata": {},
   "outputs": [
    {
     "name": "stdout",
     "output_type": "stream",
     "text": [
      "45 4 50\n"
     ]
    }
   ],
   "source": [
    "def f(*x):\n",
    "    \n",
    "    if len(x) == 1:\n",
    "        return x[0] + 42\n",
    "    elif len(x) == 2:\n",
    "        return x[0] - x[1] + 5\n",
    "    else:\n",
    "        return 2 * x[0] + x[1] + 42\n",
    "    \n",
    "print(f(3), f(1, 2), f(3, 2, 1))"
   ]
  },
  {
   "cell_type": "markdown",
   "id": "2d367f7f-734b-4246-b89b-ab4dbbdaea66",
   "metadata": {},
   "source": [
    "### Remplacement de l'adresse\n",
    "La superposition est déjà expliquée ci-dessus"
   ]
  },
  {
   "cell_type": "code",
   "execution_count": null,
   "id": "32d19696-7bf6-46e3-9738-80585d8a0ab3",
   "metadata": {},
   "outputs": [],
   "source": []
  }
 ],
 "metadata": {
  "kernelspec": {
   "display_name": "py11",
   "language": "python",
   "name": "py11"
  },
  "language_info": {
   "codemirror_mode": {
    "name": "ipython",
    "version": 3
   },
   "file_extension": ".py",
   "mimetype": "text/x-python",
   "name": "python",
   "nbconvert_exporter": "python",
   "pygments_lexer": "ipython3",
   "version": "3.11.0"
  }
 },
 "nbformat": 4,
 "nbformat_minor": 5
}
