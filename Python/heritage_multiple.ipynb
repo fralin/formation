{
 "cells": [
  {
   "cell_type": "markdown",
   "id": "34d2e492-7567-4e2d-aa5a-f9941deb84d8",
   "metadata": {},
   "source": [
    "# Héritage multiple\n",
    "\n",
    "## Introduction\n",
    "\n",
    "Dans le chapitre précédent de notre tutoriel, nous avons abordé l'héritage, ou plus précisément \" l'héritage simple \". Comme nous l'avons vu, une classe hérite dans ce cas d'une seule classe. L'héritage multiple, quant à lui, est une fonctionnalité dans laquelle une classe peut hériter des attributs et des méthodes de plus d'une classe parente. Les critiques soulignent que l'héritage multiple s'accompagne d'un niveau élevé de complexité et d'ambiguïté dans des situations telles que le problème du diamant. Nous aborderons ce problème plus loin dans ce chapitre.\n",
    "\n",
    "Le préjugé répandu selon lequel l'héritage multiple est quelque chose de \"dangereux\" ou de \"mauvais\" est principalement alimenté par des langages de programmation dont les mécanismes d'héritage multiple sont mal implémentés et surtout par une utilisation incorrecte de ceux-ci. Java ne supporte même pas l'héritage multiple, alors que C++ le supporte. Python a une approche sophistiquée et bien conçue de l'héritage multiple.\n",
    "\n",
    "<center><img src=\"img/illustration11.png\" width=\"70%\"></center>\n",
    "\n",
    "Une définition de classe, où une classe enfant ```SubClassName``` hérite des classes parents ```BaseClass1```, ```BaseClass2```, ```BaseClass3```, et ainsi de suite, ressemble à ceci :\n",
    "\n",
    "```python\n",
    "class SubclassName(BaseClass1, BaseClass2, BaseClass3, ...) :\n",
    "    pass\n",
    "```\n",
    "Il est clair que toutes les superclasses ```BaseClass1```, ```BaseClass2```, ```BaseClass3```, ... peuvent également hériter d'autres superclasses. Ce que nous obtenons est un arbre d'héritage.\n",
    "\n",
    "<center><img src=\"img/illustration12.png\" width=\"70%\"></center>\n",
    "\n",
    "Exemple : ```CalendarClock```\n",
    "\n",
    "Nous voulons introduire les principes de l'héritage multiple à l'aide d'un exemple. Pour cela, nous allons implémenter deux classes indépendantes : une classe ```Horloge``` et une classe ```Calendrier```. Ensuite, nous allons introduire une classe ```CalendarClock```, qui est, comme son nom l'indique, une combinaison de ```Clock``` et ```Calendar```. ```CalendarClock``` hérite à la fois de ```Clock``` et de ```Calendar```.\n",
    "\n",
    "<center><img src=\"img/illustration13.png\" width=\"70%\"></center>\n",
    "\n",
    "La classe ```Clock``` simule le tic-tac d'une horloge. Une instance de cette classe contient l'heure, qui est stockée dans les attributs ```self.hours```, ```self.minutes``` et ```self.seconds```. En principe, nous aurions pu écrire la méthode ```__init__``` et la méthode set comme ceci \n",
    "\n",
    "```python\n",
    "def __init__(self,heures=0, minutes=0, secondes=0) :\n",
    "        self._hours = heures\n",
    "        self.__minutes = minutes\n",
    "        self.__seconds = secondes\n",
    "    def set(self,heures, minutes, secondes=0) :\n",
    "        self._hours = heures\n",
    "        self.__minutes = minutes\n",
    "        self.__secondes = secondes\n",
    "```   \n",
    "\n",
    "Nous avons renoncé à cette implémentation, car nous avons ajouté du code supplémentaire pour vérifier la plausibilité des données temporelles dans la méthode set. Nous appelons également la méthode set à partir de la méthode ```__init__```, car nous voulons éviter le code redondant. \n",
    "\n",
    "La classe ```Clock``` complète :"
   ]
  },
  {
   "cell_type": "code",
   "execution_count": 1,
   "id": "27478188-292a-42f9-9456-4c6ab2756653",
   "metadata": {},
   "outputs": [
    {
     "name": "stdout",
     "output_type": "stream",
     "text": [
      "23:59:59\n",
      "00:00:00\n",
      "<class 'str'>\n"
     ]
    }
   ],
   "source": [
    "\"\"\" \n",
    "The class Clock is used to simulate a clock.\n",
    "\"\"\"\n",
    "class Clock(object):\n",
    "    \n",
    "    def __init__(self, hours, minutes, seconds):\n",
    "        \"\"\"\n",
    "        The paramaters hours, minutes and seconds have to be \n",
    "        integers and must satisfy the following equations:\n",
    "        0 <= h < 24\n",
    "        0 <= m < 60\n",
    "        0 <= s < 60\n",
    "        \"\"\"\n",
    "        self.set_Clock(hours, minutes, seconds)\n",
    "        \n",
    "    def set_Clock(self, hours, minutes, seconds):\n",
    "        \"\"\"\n",
    "        The parameters hours, minutes and seconds have to be \n",
    "        integers and must satisfy the following equations:\n",
    "        0 <= h < 24\n",
    "        0 <= m < 60\n",
    "        0 <= s < 60\n",
    "        \"\"\"\n",
    "        if type(hours) == int and 0 <= hours and hours < 24:\n",
    "            self._hours = hours\n",
    "        else:\n",
    "            raise TypeError(\"Hours have to be integers between 0 and 23!\")\n",
    "        if type(minutes) == int and 0 <= minutes and minutes < 60:\n",
    "            self.__minutes = minutes \n",
    "        else:\n",
    "            raise TypeError(\"Minutes have to be integers between 0 and 59!\")\n",
    "        if type(seconds) == int and 0 <= seconds and seconds < 60:\n",
    "            self.__seconds = seconds\n",
    "        else:\n",
    "            raise TypeError(\"Seconds have to be integers between 0 and 59!\")\n",
    "            \n",
    "    def __str__(self):\n",
    "        return \"{0:02d}:{1:02d}:{2:02d}\".format(self._hours,\n",
    "                                                self.__minutes,\n",
    "                                                self.__seconds)\n",
    "    \n",
    "    def tick(self):\n",
    "        \"\"\"\n",
    "        This method lets the clock \"tick\", this means that the \n",
    "        internal time will be advanced by one second.\n",
    "        Examples:\n",
    "        >>> x = Clock(12,59,59)\n",
    "        >>> print(x)\n",
    "        12:59:59\n",
    "        >>> x.tick()\n",
    "        >>> print(x)\n",
    "        13:00:00\n",
    "        >>> x.tick()\n",
    "        >>> print(x)\n",
    "        13:00:01\n",
    "        \"\"\"\n",
    "        if self.__seconds == 59:\n",
    "            self.__seconds = 0\n",
    "            if self.__minutes == 59:\n",
    "                self.__minutes = 0\n",
    "                if self._hours == 23:\n",
    "                    self._hours = 0\n",
    "                else:\n",
    "                    self._hours += 1\n",
    "            else:\n",
    "                self.__minutes += 1\n",
    "        else:\n",
    "            self.__seconds += 1\n",
    "            \n",
    "if __name__ == \"__main__\":\n",
    "    x = Clock(23,59,59)\n",
    "    print(x)\n",
    "    x.tick()\n",
    "    print(x)\n",
    "    y = str(x)\n",
    "    print(type(y))"
   ]
  },
  {
   "cell_type": "markdown",
   "id": "fc3aade9-72cb-43e8-ba68-fad3eaff1c45",
   "metadata": {},
   "source": [
    "Vérifions notre gestion des exceptions en entrant des flottants et des chaînes de caractères en entrée. Nous vérifions également ce qui se passe si nous dépassons les limites des valeurs attendues :"
   ]
  },
  {
   "cell_type": "code",
   "execution_count": 2,
   "id": "0add9d29-7553-4889-b349-86482d9cebf8",
   "metadata": {},
   "outputs": [
    {
     "ename": "TypeError",
     "evalue": "Hours have to be integers between 0 and 23!",
     "output_type": "error",
     "traceback": [
      "\u001b[0;31m---------------------------------------------------------------------------\u001b[0m",
      "\u001b[0;31mTypeError\u001b[0m                                 Traceback (most recent call last)",
      "Cell \u001b[0;32mIn[2], line 1\u001b[0m\n\u001b[0;32m----> 1\u001b[0m x \u001b[38;5;241m=\u001b[39m \u001b[43mClock\u001b[49m\u001b[43m(\u001b[49m\u001b[38;5;241;43m7.7\u001b[39;49m\u001b[43m,\u001b[49m\u001b[43m \u001b[49m\u001b[38;5;241;43m45\u001b[39;49m\u001b[43m,\u001b[49m\u001b[43m \u001b[49m\u001b[38;5;241;43m17\u001b[39;49m\u001b[43m)\u001b[49m\n",
      "Cell \u001b[0;32mIn[1], line 14\u001b[0m, in \u001b[0;36mClock.__init__\u001b[0;34m(self, hours, minutes, seconds)\u001b[0m\n\u001b[1;32m      6\u001b[0m \u001b[38;5;28;01mdef\u001b[39;00m \u001b[38;5;21m__init__\u001b[39m(\u001b[38;5;28mself\u001b[39m, hours, minutes, seconds):\n\u001b[1;32m      7\u001b[0m \u001b[38;5;250m    \u001b[39m\u001b[38;5;124;03m\"\"\"\u001b[39;00m\n\u001b[1;32m      8\u001b[0m \u001b[38;5;124;03m    The paramaters hours, minutes and seconds have to be \u001b[39;00m\n\u001b[1;32m      9\u001b[0m \u001b[38;5;124;03m    integers and must satisfy the following equations:\u001b[39;00m\n\u001b[0;32m   (...)\u001b[0m\n\u001b[1;32m     12\u001b[0m \u001b[38;5;124;03m    0 <= s < 60\u001b[39;00m\n\u001b[1;32m     13\u001b[0m \u001b[38;5;124;03m    \"\"\"\u001b[39;00m\n\u001b[0;32m---> 14\u001b[0m     \u001b[38;5;28;43mself\u001b[39;49m\u001b[38;5;241;43m.\u001b[39;49m\u001b[43mset_Clock\u001b[49m\u001b[43m(\u001b[49m\u001b[43mhours\u001b[49m\u001b[43m,\u001b[49m\u001b[43m \u001b[49m\u001b[43mminutes\u001b[49m\u001b[43m,\u001b[49m\u001b[43m \u001b[49m\u001b[43mseconds\u001b[49m\u001b[43m)\u001b[49m\n",
      "Cell \u001b[0;32mIn[1], line 27\u001b[0m, in \u001b[0;36mClock.set_Clock\u001b[0;34m(self, hours, minutes, seconds)\u001b[0m\n\u001b[1;32m     25\u001b[0m     \u001b[38;5;28mself\u001b[39m\u001b[38;5;241m.\u001b[39m_hours \u001b[38;5;241m=\u001b[39m hours\n\u001b[1;32m     26\u001b[0m \u001b[38;5;28;01melse\u001b[39;00m:\n\u001b[0;32m---> 27\u001b[0m     \u001b[38;5;28;01mraise\u001b[39;00m \u001b[38;5;167;01mTypeError\u001b[39;00m(\u001b[38;5;124m\"\u001b[39m\u001b[38;5;124mHours have to be integers between 0 and 23!\u001b[39m\u001b[38;5;124m\"\u001b[39m)\n\u001b[1;32m     28\u001b[0m \u001b[38;5;28;01mif\u001b[39;00m \u001b[38;5;28mtype\u001b[39m(minutes) \u001b[38;5;241m==\u001b[39m \u001b[38;5;28mint\u001b[39m \u001b[38;5;129;01mand\u001b[39;00m \u001b[38;5;241m0\u001b[39m \u001b[38;5;241m<\u001b[39m\u001b[38;5;241m=\u001b[39m minutes \u001b[38;5;129;01mand\u001b[39;00m minutes \u001b[38;5;241m<\u001b[39m \u001b[38;5;241m60\u001b[39m:\n\u001b[1;32m     29\u001b[0m     \u001b[38;5;28mself\u001b[39m\u001b[38;5;241m.\u001b[39m__minutes \u001b[38;5;241m=\u001b[39m minutes \n",
      "\u001b[0;31mTypeError\u001b[0m: Hours have to be integers between 0 and 23!"
     ]
    }
   ],
   "source": [
    "x = Clock(7.7, 45, 17)"
   ]
  },
  {
   "cell_type": "code",
   "execution_count": 3,
   "id": "deaf419c-e67f-4fe1-b0ff-e9e0370a0a79",
   "metadata": {},
   "outputs": [
    {
     "ename": "TypeError",
     "evalue": "Hours have to be integers between 0 and 23!",
     "output_type": "error",
     "traceback": [
      "\u001b[0;31m---------------------------------------------------------------------------\u001b[0m",
      "\u001b[0;31mTypeError\u001b[0m                                 Traceback (most recent call last)",
      "Cell \u001b[0;32mIn[3], line 1\u001b[0m\n\u001b[0;32m----> 1\u001b[0m x \u001b[38;5;241m=\u001b[39m \u001b[43mClock\u001b[49m\u001b[43m(\u001b[49m\u001b[38;5;241;43m24\u001b[39;49m\u001b[43m,\u001b[49m\u001b[43m \u001b[49m\u001b[38;5;241;43m45\u001b[39;49m\u001b[43m,\u001b[49m\u001b[43m \u001b[49m\u001b[38;5;241;43m17\u001b[39;49m\u001b[43m)\u001b[49m\n",
      "Cell \u001b[0;32mIn[1], line 14\u001b[0m, in \u001b[0;36mClock.__init__\u001b[0;34m(self, hours, minutes, seconds)\u001b[0m\n\u001b[1;32m      6\u001b[0m \u001b[38;5;28;01mdef\u001b[39;00m \u001b[38;5;21m__init__\u001b[39m(\u001b[38;5;28mself\u001b[39m, hours, minutes, seconds):\n\u001b[1;32m      7\u001b[0m \u001b[38;5;250m    \u001b[39m\u001b[38;5;124;03m\"\"\"\u001b[39;00m\n\u001b[1;32m      8\u001b[0m \u001b[38;5;124;03m    The paramaters hours, minutes and seconds have to be \u001b[39;00m\n\u001b[1;32m      9\u001b[0m \u001b[38;5;124;03m    integers and must satisfy the following equations:\u001b[39;00m\n\u001b[0;32m   (...)\u001b[0m\n\u001b[1;32m     12\u001b[0m \u001b[38;5;124;03m    0 <= s < 60\u001b[39;00m\n\u001b[1;32m     13\u001b[0m \u001b[38;5;124;03m    \"\"\"\u001b[39;00m\n\u001b[0;32m---> 14\u001b[0m     \u001b[38;5;28;43mself\u001b[39;49m\u001b[38;5;241;43m.\u001b[39;49m\u001b[43mset_Clock\u001b[49m\u001b[43m(\u001b[49m\u001b[43mhours\u001b[49m\u001b[43m,\u001b[49m\u001b[43m \u001b[49m\u001b[43mminutes\u001b[49m\u001b[43m,\u001b[49m\u001b[43m \u001b[49m\u001b[43mseconds\u001b[49m\u001b[43m)\u001b[49m\n",
      "Cell \u001b[0;32mIn[1], line 27\u001b[0m, in \u001b[0;36mClock.set_Clock\u001b[0;34m(self, hours, minutes, seconds)\u001b[0m\n\u001b[1;32m     25\u001b[0m     \u001b[38;5;28mself\u001b[39m\u001b[38;5;241m.\u001b[39m_hours \u001b[38;5;241m=\u001b[39m hours\n\u001b[1;32m     26\u001b[0m \u001b[38;5;28;01melse\u001b[39;00m:\n\u001b[0;32m---> 27\u001b[0m     \u001b[38;5;28;01mraise\u001b[39;00m \u001b[38;5;167;01mTypeError\u001b[39;00m(\u001b[38;5;124m\"\u001b[39m\u001b[38;5;124mHours have to be integers between 0 and 23!\u001b[39m\u001b[38;5;124m\"\u001b[39m)\n\u001b[1;32m     28\u001b[0m \u001b[38;5;28;01mif\u001b[39;00m \u001b[38;5;28mtype\u001b[39m(minutes) \u001b[38;5;241m==\u001b[39m \u001b[38;5;28mint\u001b[39m \u001b[38;5;129;01mand\u001b[39;00m \u001b[38;5;241m0\u001b[39m \u001b[38;5;241m<\u001b[39m\u001b[38;5;241m=\u001b[39m minutes \u001b[38;5;129;01mand\u001b[39;00m minutes \u001b[38;5;241m<\u001b[39m \u001b[38;5;241m60\u001b[39m:\n\u001b[1;32m     29\u001b[0m     \u001b[38;5;28mself\u001b[39m\u001b[38;5;241m.\u001b[39m__minutes \u001b[38;5;241m=\u001b[39m minutes \n",
      "\u001b[0;31mTypeError\u001b[0m: Hours have to be integers between 0 and 23!"
     ]
    }
   ],
   "source": [
    "x = Clock(24, 45, 17)"
   ]
  },
  {
   "cell_type": "code",
   "execution_count": 4,
   "id": "5e9f4861-5224-40c7-ac9c-5a8eb6ecdb19",
   "metadata": {},
   "outputs": [
    {
     "ename": "TypeError",
     "evalue": "Minutes have to be integers between 0 and 59!",
     "output_type": "error",
     "traceback": [
      "\u001b[0;31m---------------------------------------------------------------------------\u001b[0m",
      "\u001b[0;31mTypeError\u001b[0m                                 Traceback (most recent call last)",
      "Cell \u001b[0;32mIn[4], line 1\u001b[0m\n\u001b[0;32m----> 1\u001b[0m x \u001b[38;5;241m=\u001b[39m \u001b[43mClock\u001b[49m\u001b[43m(\u001b[49m\u001b[38;5;241;43m23\u001b[39;49m\u001b[43m,\u001b[49m\u001b[43m \u001b[49m\u001b[38;5;241;43m60\u001b[39;49m\u001b[43m,\u001b[49m\u001b[43m \u001b[49m\u001b[38;5;241;43m17\u001b[39;49m\u001b[43m)\u001b[49m\n",
      "Cell \u001b[0;32mIn[1], line 14\u001b[0m, in \u001b[0;36mClock.__init__\u001b[0;34m(self, hours, minutes, seconds)\u001b[0m\n\u001b[1;32m      6\u001b[0m \u001b[38;5;28;01mdef\u001b[39;00m \u001b[38;5;21m__init__\u001b[39m(\u001b[38;5;28mself\u001b[39m, hours, minutes, seconds):\n\u001b[1;32m      7\u001b[0m \u001b[38;5;250m    \u001b[39m\u001b[38;5;124;03m\"\"\"\u001b[39;00m\n\u001b[1;32m      8\u001b[0m \u001b[38;5;124;03m    The paramaters hours, minutes and seconds have to be \u001b[39;00m\n\u001b[1;32m      9\u001b[0m \u001b[38;5;124;03m    integers and must satisfy the following equations:\u001b[39;00m\n\u001b[0;32m   (...)\u001b[0m\n\u001b[1;32m     12\u001b[0m \u001b[38;5;124;03m    0 <= s < 60\u001b[39;00m\n\u001b[1;32m     13\u001b[0m \u001b[38;5;124;03m    \"\"\"\u001b[39;00m\n\u001b[0;32m---> 14\u001b[0m     \u001b[38;5;28;43mself\u001b[39;49m\u001b[38;5;241;43m.\u001b[39;49m\u001b[43mset_Clock\u001b[49m\u001b[43m(\u001b[49m\u001b[43mhours\u001b[49m\u001b[43m,\u001b[49m\u001b[43m \u001b[49m\u001b[43mminutes\u001b[49m\u001b[43m,\u001b[49m\u001b[43m \u001b[49m\u001b[43mseconds\u001b[49m\u001b[43m)\u001b[49m\n",
      "Cell \u001b[0;32mIn[1], line 31\u001b[0m, in \u001b[0;36mClock.set_Clock\u001b[0;34m(self, hours, minutes, seconds)\u001b[0m\n\u001b[1;32m     29\u001b[0m     \u001b[38;5;28mself\u001b[39m\u001b[38;5;241m.\u001b[39m__minutes \u001b[38;5;241m=\u001b[39m minutes \n\u001b[1;32m     30\u001b[0m \u001b[38;5;28;01melse\u001b[39;00m:\n\u001b[0;32m---> 31\u001b[0m     \u001b[38;5;28;01mraise\u001b[39;00m \u001b[38;5;167;01mTypeError\u001b[39;00m(\u001b[38;5;124m\"\u001b[39m\u001b[38;5;124mMinutes have to be integers between 0 and 59!\u001b[39m\u001b[38;5;124m\"\u001b[39m)\n\u001b[1;32m     32\u001b[0m \u001b[38;5;28;01mif\u001b[39;00m \u001b[38;5;28mtype\u001b[39m(seconds) \u001b[38;5;241m==\u001b[39m \u001b[38;5;28mint\u001b[39m \u001b[38;5;129;01mand\u001b[39;00m \u001b[38;5;241m0\u001b[39m \u001b[38;5;241m<\u001b[39m\u001b[38;5;241m=\u001b[39m seconds \u001b[38;5;129;01mand\u001b[39;00m seconds \u001b[38;5;241m<\u001b[39m \u001b[38;5;241m60\u001b[39m:\n\u001b[1;32m     33\u001b[0m     \u001b[38;5;28mself\u001b[39m\u001b[38;5;241m.\u001b[39m__seconds \u001b[38;5;241m=\u001b[39m seconds\n",
      "\u001b[0;31mTypeError\u001b[0m: Minutes have to be integers between 0 and 59!"
     ]
    }
   ],
   "source": [
    "x = Clock(23, 60, 17)"
   ]
  },
  {
   "cell_type": "code",
   "execution_count": 5,
   "id": "fb55de50-dc3d-4ef0-9413-158b7b954900",
   "metadata": {},
   "outputs": [
    {
     "ename": "TypeError",
     "evalue": "Hours have to be integers between 0 and 23!",
     "output_type": "error",
     "traceback": [
      "\u001b[0;31m---------------------------------------------------------------------------\u001b[0m",
      "\u001b[0;31mTypeError\u001b[0m                                 Traceback (most recent call last)",
      "Cell \u001b[0;32mIn[5], line 1\u001b[0m\n\u001b[0;32m----> 1\u001b[0m x \u001b[38;5;241m=\u001b[39m \u001b[43mClock\u001b[49m\u001b[43m(\u001b[49m\u001b[38;5;124;43m\"\u001b[39;49m\u001b[38;5;124;43m23\u001b[39;49m\u001b[38;5;124;43m\"\u001b[39;49m\u001b[43m,\u001b[49m\u001b[43m \u001b[49m\u001b[38;5;124;43m\"\u001b[39;49m\u001b[38;5;124;43m60\u001b[39;49m\u001b[38;5;124;43m\"\u001b[39;49m\u001b[43m,\u001b[49m\u001b[43m \u001b[49m\u001b[38;5;124;43m\"\u001b[39;49m\u001b[38;5;124;43m17\u001b[39;49m\u001b[38;5;124;43m\"\u001b[39;49m\u001b[43m)\u001b[49m\n",
      "Cell \u001b[0;32mIn[1], line 14\u001b[0m, in \u001b[0;36mClock.__init__\u001b[0;34m(self, hours, minutes, seconds)\u001b[0m\n\u001b[1;32m      6\u001b[0m \u001b[38;5;28;01mdef\u001b[39;00m \u001b[38;5;21m__init__\u001b[39m(\u001b[38;5;28mself\u001b[39m, hours, minutes, seconds):\n\u001b[1;32m      7\u001b[0m \u001b[38;5;250m    \u001b[39m\u001b[38;5;124;03m\"\"\"\u001b[39;00m\n\u001b[1;32m      8\u001b[0m \u001b[38;5;124;03m    The paramaters hours, minutes and seconds have to be \u001b[39;00m\n\u001b[1;32m      9\u001b[0m \u001b[38;5;124;03m    integers and must satisfy the following equations:\u001b[39;00m\n\u001b[0;32m   (...)\u001b[0m\n\u001b[1;32m     12\u001b[0m \u001b[38;5;124;03m    0 <= s < 60\u001b[39;00m\n\u001b[1;32m     13\u001b[0m \u001b[38;5;124;03m    \"\"\"\u001b[39;00m\n\u001b[0;32m---> 14\u001b[0m     \u001b[38;5;28;43mself\u001b[39;49m\u001b[38;5;241;43m.\u001b[39;49m\u001b[43mset_Clock\u001b[49m\u001b[43m(\u001b[49m\u001b[43mhours\u001b[49m\u001b[43m,\u001b[49m\u001b[43m \u001b[49m\u001b[43mminutes\u001b[49m\u001b[43m,\u001b[49m\u001b[43m \u001b[49m\u001b[43mseconds\u001b[49m\u001b[43m)\u001b[49m\n",
      "Cell \u001b[0;32mIn[1], line 27\u001b[0m, in \u001b[0;36mClock.set_Clock\u001b[0;34m(self, hours, minutes, seconds)\u001b[0m\n\u001b[1;32m     25\u001b[0m     \u001b[38;5;28mself\u001b[39m\u001b[38;5;241m.\u001b[39m_hours \u001b[38;5;241m=\u001b[39m hours\n\u001b[1;32m     26\u001b[0m \u001b[38;5;28;01melse\u001b[39;00m:\n\u001b[0;32m---> 27\u001b[0m     \u001b[38;5;28;01mraise\u001b[39;00m \u001b[38;5;167;01mTypeError\u001b[39;00m(\u001b[38;5;124m\"\u001b[39m\u001b[38;5;124mHours have to be integers between 0 and 23!\u001b[39m\u001b[38;5;124m\"\u001b[39m)\n\u001b[1;32m     28\u001b[0m \u001b[38;5;28;01mif\u001b[39;00m \u001b[38;5;28mtype\u001b[39m(minutes) \u001b[38;5;241m==\u001b[39m \u001b[38;5;28mint\u001b[39m \u001b[38;5;129;01mand\u001b[39;00m \u001b[38;5;241m0\u001b[39m \u001b[38;5;241m<\u001b[39m\u001b[38;5;241m=\u001b[39m minutes \u001b[38;5;129;01mand\u001b[39;00m minutes \u001b[38;5;241m<\u001b[39m \u001b[38;5;241m60\u001b[39m:\n\u001b[1;32m     29\u001b[0m     \u001b[38;5;28mself\u001b[39m\u001b[38;5;241m.\u001b[39m__minutes \u001b[38;5;241m=\u001b[39m minutes \n",
      "\u001b[0;31mTypeError\u001b[0m: Hours have to be integers between 0 and 23!"
     ]
    }
   ],
   "source": [
    "x = Clock(\"23\", \"60\", \"17\")"
   ]
  },
  {
   "cell_type": "code",
   "execution_count": 6,
   "id": "d3a1e465-7642-4b2d-838a-beca7528ae18",
   "metadata": {},
   "outputs": [
    {
     "ename": "TypeError",
     "evalue": "Clock.__init__() missing 1 required positional argument: 'seconds'",
     "output_type": "error",
     "traceback": [
      "\u001b[0;31m---------------------------------------------------------------------------\u001b[0m",
      "\u001b[0;31mTypeError\u001b[0m                                 Traceback (most recent call last)",
      "Cell \u001b[0;32mIn[6], line 1\u001b[0m\n\u001b[0;32m----> 1\u001b[0m x \u001b[38;5;241m=\u001b[39m \u001b[43mClock\u001b[49m\u001b[43m(\u001b[49m\u001b[38;5;241;43m23\u001b[39;49m\u001b[43m,\u001b[49m\u001b[43m \u001b[49m\u001b[38;5;241;43m17\u001b[39;49m\u001b[43m)\u001b[49m\n",
      "\u001b[0;31mTypeError\u001b[0m: Clock.__init__() missing 1 required positional argument: 'seconds'"
     ]
    }
   ],
   "source": [
    "x = Clock(23, 17)"
   ]
  },
  {
   "cell_type": "markdown",
   "id": "bfbda4d3-7af8-4051-97f2-05c5ccf12404",
   "metadata": {},
   "source": [
    "Nous allons maintenant créer une classe ```Calendar```, qui présente de nombreuses similitudes avec la classe ```Clock``` définie précédemment. Au lieu de ```tick```, nous avons une méthode ```advance```, qui fait avancer la date d'un jour, chaque fois qu'elle est appelée. L'ajout d'un jour à une date est assez délicat. Nous devons vérifier si la date est le dernier jour d'un mois et si le nombre de jours des mois varie. Comme si cela ne suffisait pas, nous avons le mois de février et le problème des années bissextiles.\n",
    "\n",
    "Les règles de calcul d'une année bissextile sont les suivantes :\n",
    "\n",
    "- Si une année est divisible par 400, c'est une année bissextile\n",
    "- Si une année n'est pas divisible par 400 mais par 100, ce n'est pas une année bissextile.\n",
    "- Un nombre d'année qui est divisible par 4 mais pas par 100, c'est une année bissextile.\n",
    "- Tous les autres numéros d'année sont des années communes, c'est- -à-dire qu'il n'y a pas d'année bissextile.\n",
    "\n",
    "Comme petite astuce utile, nous avons ajouté la possibilité d'afficher une date en style britannique ou américain (canadien)."
   ]
  },
  {
   "cell_type": "code",
   "execution_count": 7,
   "id": "b29dd0b3-3f92-44e5-a0d7-9ffb1db30c00",
   "metadata": {},
   "outputs": [
    {
     "name": "stdout",
     "output_type": "stream",
     "text": [
      "31/12/2012 after applying advance:  01/01/2013\n",
      "2012 was a leapyear:\n",
      "28/02/2012 after applying advance:  29/02/2012\n",
      "28/02/2013 after applying advance:  01/03/2013\n",
      "1900 no leapyear: number divisible by 100 but not by 400: \n",
      "28/02/1900 after applying advance:  01/03/1900\n",
      "2000 was a leapyear, because number divisibe by 400: \n",
      "28/02/2000 after applying advance:  29/02/2000\n",
      "Switching to American date style: \n",
      "after applying advance:  02/29/2000\n"
     ]
    }
   ],
   "source": [
    "\"\"\" \n",
    "The class Calendar implements a calendar.   \n",
    "\"\"\"\n",
    "class Calendar(object):\n",
    "    months = (31,28,31,30,31,30,31,31,30,31,30,31)\n",
    "    date_style = \"British\"\n",
    "    \n",
    "    @staticmethod\n",
    "    def leapyear(year):\n",
    "        \"\"\" \n",
    "        The method leapyear returns True if the parameter year\n",
    "        is a leap year, False otherwise\n",
    "        \"\"\"\n",
    "        if not year % 4 == 0:\n",
    "            return False\n",
    "        elif not year % 100 == 0:\n",
    "            return True\n",
    "        elif not year % 400 == 0:\n",
    "            return False\n",
    "        else:\n",
    "            return True\n",
    "        \n",
    "    def __init__(self, d, m, y):\n",
    "        \"\"\"\n",
    "        d, m, y have to be integer values and year has to be \n",
    "        a four digit year number\n",
    "        \"\"\"\n",
    "        self.set_Calendar(d,m,y)\n",
    "        \n",
    "    def set_Calendar(self, d, m, y):\n",
    "        \"\"\"\n",
    "        d, m, y have to be integer values and year has to be \n",
    "        a four digit year number\n",
    "        \"\"\"\n",
    "        if type(d) == int and type(m) == int and type(y) == int:\n",
    "            self.__days = d\n",
    "            self.__months = m\n",
    "            self.__years = y\n",
    "        else:\n",
    "            raise TypeError(\"d, m, y have to be integers!\")\n",
    "            \n",
    "    def __str__(self):\n",
    "        if Calendar.date_style == \"British\":\n",
    "            return \"{0:02d}/{1:02d}/{2:4d}\".format(self.__days,\n",
    "                                                   self.__months,\n",
    "                                                   self.__years)\n",
    "        else: \n",
    "            # assuming American style\n",
    "            return \"{0:02d}/{1:02d}/{2:4d}\".format(self.__months,\n",
    "                                                   self.__days,\n",
    "                                                   self.__years)\n",
    "    def advance(self):\n",
    "        \"\"\"\n",
    "        This method advances to the next date.\n",
    "        \"\"\"\n",
    "        max_days = Calendar.months[self.__months-1]\n",
    "        if self.__months == 2 and Calendar.leapyear(self.__years):\n",
    "            max_days += 1\n",
    "        if self.__days == max_days:\n",
    "            self.__days= 1\n",
    "            if self.__months == 12:\n",
    "                self.__months = 1\n",
    "                self.__years += 1\n",
    "            else:\n",
    "                self.__months += 1\n",
    "        else:\n",
    "            self.__days += 1\n",
    "            \n",
    "if __name__ == \"__main__\":\n",
    "    x = Calendar(31,12,2012)\n",
    "    print(x, end=\" \")\n",
    "    x.advance()\n",
    "    print(\"after applying advance: \", x)\n",
    "    print(\"2012 was a leapyear:\")\n",
    "    x = Calendar(28,2,2012)\n",
    "    print(x, end=\" \")\n",
    "    x.advance()\n",
    "    print(\"after applying advance: \", x)\n",
    "    x = Calendar(28,2,2013)\n",
    "    print(x, end=\" \")\n",
    "    x.advance()\n",
    "    print(\"after applying advance: \", x)\n",
    "    print(\"1900 no leapyear: number divisible by 100 but not by 400: \")\n",
    "    x = Calendar(28,2,1900)\n",
    "    print(x, end=\" \")\n",
    "    x.advance()\n",
    "    print(\"after applying advance: \", x)\n",
    "    print(\"2000 was a leapyear, because number divisibe by 400: \")\n",
    "    x = Calendar(28,2,2000)\n",
    "    print(x, end=\" \")\n",
    "    x.advance()\n",
    "    print(\"after applying advance: \", x)\n",
    "    print(\"Switching to American date style: \")\n",
    "    Calendar.date_style = \"American\"\n",
    "    print(\"after applying advance: \", x)  "
   ]
  },
  {
   "cell_type": "markdown",
   "id": "a6ae3a9f-c6a2-4f28-8f03-f105ae227256",
   "metadata": {},
   "source": [
    "Enfin, nous allons présenter notre exemple d'héritage multiple. Nous sommes maintenant capables d'implémenter la classe ```CalendarClock``` initialement prévue, qui héritera à la fois de ```Clock``` et de ```Calendar```. La méthode ```tick``` de ```Clock``` devra être surchargée. Cependant, la nouvelle méthode ```tick``` de ```CalendarClock``` doit appeler la méthode ```tick``` de ```Clock``` : ```Clock.tick(self)```"
   ]
  },
  {
   "cell_type": "code",
   "execution_count": 10,
   "id": "dbec71ed-1ea5-4bd5-8c72-7e2849982026",
   "metadata": {},
   "outputs": [
    {
     "ename": "ModuleNotFoundError",
     "evalue": "No module named 'clock'",
     "output_type": "error",
     "traceback": [
      "\u001b[0;31m---------------------------------------------------------------------------\u001b[0m",
      "\u001b[0;31mModuleNotFoundError\u001b[0m                       Traceback (most recent call last)",
      "Cell \u001b[0;32mIn[10], line 4\u001b[0m\n\u001b[1;32m      1\u001b[0m \u001b[38;5;124;03m\"\"\" \u001b[39;00m\n\u001b[1;32m      2\u001b[0m \u001b[38;5;124;03mModule, which implements the class CalendarClock.\u001b[39;00m\n\u001b[1;32m      3\u001b[0m \u001b[38;5;124;03m\"\"\"\u001b[39;00m\n\u001b[0;32m----> 4\u001b[0m \u001b[38;5;28;01mfrom\u001b[39;00m \u001b[38;5;21;01mclock\u001b[39;00m \u001b[38;5;28;01mimport\u001b[39;00m Clock\n\u001b[1;32m      5\u001b[0m \u001b[38;5;28;01mfrom\u001b[39;00m \u001b[38;5;21;01mcalendar\u001b[39;00m \u001b[38;5;28;01mimport\u001b[39;00m Calendar\n\u001b[1;32m      8\u001b[0m \u001b[38;5;28;01mclass\u001b[39;00m \u001b[38;5;21;01mCalendarClock\u001b[39;00m(Clock, Calendar):\n",
      "\u001b[0;31mModuleNotFoundError\u001b[0m: No module named 'clock'"
     ]
    }
   ],
   "source": [
    "\"\"\" \n",
    "Module, which implements the class CalendarClock.\n",
    "\"\"\"\n",
    "from clock import Clock\n",
    "from calendar import Calendar\n",
    "\n",
    "\n",
    "class CalendarClock(Clock, Calendar):\n",
    "    \"\"\" \n",
    "        The class CalendarClock implements a clock with integrated \n",
    "        calendar. It's a case of multiple inheritance, as it inherits \n",
    "        both from Clock and Calendar      \n",
    "    \"\"\"\n",
    "    \n",
    "    def __init__(self, day, month, year, hour, minute, second):\n",
    "        Clock.__init__(self,hour, minute, second)\n",
    "        Calendar.__init__(self, day, month, year)\n",
    "        \n",
    "    def tick(self):\n",
    "        \"\"\"\n",
    "        advance the clock by one second\n",
    "        \"\"\"\n",
    "        previous_hour = self._hours\n",
    "        Clock.tick(self)\n",
    "        if (self._hours < previous_hour): \n",
    "            self.advance()\n",
    "            \n",
    "    def __str__(self):\n",
    "        return Calendar.__str__(self) + \", \" + Clock.__str__(self)\n",
    "    \n",
    "    \n",
    "if __name__ == \"__main__\":\n",
    "    x = CalendarClock(31, 12, 2013, 23, 59, 59)\n",
    "    print(\"One tick from \",x, end=\" \")\n",
    "    x.tick()\n",
    "    print(\"to \", x)\n",
    "    x = CalendarClock(28, 2, 1900, 23, 59, 59)\n",
    "    print(\"One tick from \",x, end=\" \")\n",
    "    x.tick()\n",
    "    print(\"to \", x)\n",
    "    x = CalendarClock(28, 2, 2000, 23, 59, 59)\n",
    "    print(\"One tick from \",x, end=\" \")\n",
    "    x.tick()\n",
    "    print(\"to \", x)\n",
    "    x = CalendarClock(7, 2, 2013, 13, 55, 40)\n",
    "    print(\"One tick from \",x, end=\" \")\n",
    "    x.tick()\n",
    "    print(\"to \", x)"
   ]
  },
  {
   "cell_type": "markdown",
   "id": "78ea9365-9890-4441-888d-0df6c6c7b137",
   "metadata": {},
   "source": [
    "## Le problème du diamant ou le \"diamant mortel de la mort\"\n",
    "\n",
    "<center><img src=\"img/illustration11.png\" width=\"50%\"></center>\n",
    "\n",
    "Le \"problème du diamant\" (parfois appelé \"diamant de la mort\") est le terme généralement utilisé pour désigner une ambiguïté qui survient lorsque deux classes B et C héritent d'une superclasse A, et qu'une autre classe D hérite à la fois de B et de C. S'il existe une méthode \"m\" dans A que B ou C (ou même les deux) a surchargée, et si, en outre, il ne surcharge pas cette méthode, la question est alors de savoir de quelle version de la méthode D hérite. Il peut s'agir de celle de A, B ou C.\n",
    "\n",
    "Prenons l'exemple de Python. La première configuration du problème du diamant est la suivante : B et C surchargent tous deux la méthode m de A :"
   ]
  },
  {
   "cell_type": "code",
   "execution_count": 11,
   "id": "e01904a8-9818-4a48-bd88-84521dc1469a",
   "metadata": {},
   "outputs": [],
   "source": [
    "class A:\n",
    "    def m(self):\n",
    "        print(\"m of A called\")\n",
    "class B(A):\n",
    "    def m(self):\n",
    "        print(\"m of B called\")\n",
    "class C(A):\n",
    "    def m(self):\n",
    "        print(\"m of C called\")\n",
    "class D(B,C):\n",
    "    pass"
   ]
  },
  {
   "cell_type": "markdown",
   "id": "b3814067-4cc6-43e0-bfe5-3ef2f776caa6",
   "metadata": {},
   "source": [
    "Si on appelle la méthode m sur une instance x de D, c'est-à-dire x.m(), on obtiendra la sortie \"m of B called\". Si nous transposons l'ordre des classes dans l'en-tête de classe de D dans \"class D(C,B) :\", nous obtiendrons la sortie \"m of C called\".\n",
    "\n",
    "Le cas où m ne sera surchargé que dans l'une des classes B ou C, par exemple dans C :"
   ]
  },
  {
   "cell_type": "code",
   "execution_count": 12,
   "id": "df5e38eb-f761-4906-9632-cf1925f89784",
   "metadata": {},
   "outputs": [
    {
     "name": "stdout",
     "output_type": "stream",
     "text": [
      "m of C called\n"
     ]
    }
   ],
   "source": [
    "class A:\n",
    "    def m(self):\n",
    "        print(\"m of A called\")\n",
    "class B(A):\n",
    "    pass\n",
    "class C(A):\n",
    "    def m(self):\n",
    "        print(\"m of C called\")\n",
    "class D(B,C):\n",
    "    pass\n",
    "x = D()\n",
    "x.m()"
   ]
  },
  {
   "cell_type": "markdown",
   "id": "d653a660-1602-451a-8ae5-253357e0dbce",
   "metadata": {},
   "source": [
    "Principalement, deux possibilités sont imaginables : On pourrait utiliser \"m de C\" ou \"m de A\".\n",
    "\n",
    "Nous appelons ce script avec Python2.7 (python) et avec Python3 (python3) pour voir ce qui se passe :\n",
    "```shell\n",
    "$ python diamond1.py \n",
    "m de A appelé\n",
    "$ python3 diamond1.py \n",
    "m de C appelé\n",
    "```\n",
    "\n",
    "Seulement pour ceux qui s'intéressent à la version 2 de Python : Pour avoir le même comportement d'héritage dans Python2 que dans Python3, chaque classe doit hériter de la classe ```object```. Notre classe A n'hérite pas d'object, nous obtenons donc une classe dite \"à l'ancienne\", si nous appelons le script avec python2. L'héritage multiple avec les classes à l'ancienne est régi par deux règles : la profondeur d'abord, puis la gauche à droite. Si vous changez la ligne d'en-tête de A en ```class A(object):```, nous aurons le même comportement dans les deux versions de Python."
   ]
  },
  {
   "cell_type": "markdown",
   "id": "93e45aee-1df3-47cc-b62c-d0621f7ebfee",
   "metadata": {},
   "source": [
    "```super()``` et MRO\n",
    "\n",
    "Nous avons vu dans notre précédente implémentation du problème du diamant, comment Python résout le problème, c'est-à-dire dans quel ordre les classes de base sont parcourues. Cet ordre est défini par ce que l'on appelle le __Method Resolution Order__ ou en abrégé __MRO__.\n",
    "\n",
    "Nous allons étendre notre exemple précédent, de sorte que chaque classe définisse sa propre méthode m :"
   ]
  },
  {
   "cell_type": "code",
   "execution_count": 13,
   "id": "bc310804-8c4b-44da-b9c1-a9442439a75e",
   "metadata": {},
   "outputs": [],
   "source": [
    "class A:\n",
    "    def m(self):\n",
    "        print(\"m of A called\")\n",
    "class B(A):\n",
    "    def m(self):\n",
    "        print(\"m of B called\")\n",
    "class C(A):\n",
    "    def m(self):\n",
    "        print(\"m of C called\")\n",
    "class D(B,C):\n",
    "    def m(self):\n",
    "        print(\"m of D called\")"
   ]
  },
  {
   "cell_type": "markdown",
   "id": "993da929-6ede-47bb-a3c4-1369e76f80fe",
   "metadata": {},
   "source": [
    "Appliquons la méthode m sur une instance de D. Nous pouvons voir que seul le code de la méthode m de D sera exécuté. Nous pouvons également appeler explicitement les méthodes m des autres classes via le nom de la classe, comme nous le démontrons dans la session Python interactive suivante :"
   ]
  },
  {
   "cell_type": "code",
   "execution_count": 15,
   "id": "a0d12502-eacc-40b8-b483-3d107dd64aa5",
   "metadata": {},
   "outputs": [
    {
     "name": "stdout",
     "output_type": "stream",
     "text": [
      "m of B called\n"
     ]
    }
   ],
   "source": [
    "x = D()\n",
    "B.m(x)"
   ]
  },
  {
   "cell_type": "code",
   "execution_count": 16,
   "id": "ab873238-ae30-42ed-95d9-0defb03c71e3",
   "metadata": {},
   "outputs": [
    {
     "name": "stdout",
     "output_type": "stream",
     "text": [
      "m of C called\n"
     ]
    }
   ],
   "source": [
    "C.m(x)"
   ]
  },
  {
   "cell_type": "code",
   "execution_count": 17,
   "id": "bd384a3e-42cb-4ae1-b58b-b8f029edc30b",
   "metadata": {},
   "outputs": [
    {
     "name": "stdout",
     "output_type": "stream",
     "text": [
      "m of A called\n"
     ]
    }
   ],
   "source": [
    "A.m(x)"
   ]
  },
  {
   "cell_type": "markdown",
   "id": "7d2c7a38-ce79-4187-9acf-3fabdc34c54f",
   "metadata": {},
   "source": [
    "Supposons maintenant que la méthode m de D doive également exécuter le code de m de B, C et A, lorsqu'elle est appelée. Nous pourrions l'implémenter comme suit :"
   ]
  },
  {
   "cell_type": "code",
   "execution_count": 18,
   "id": "5dd375b7-4ec1-4ec8-a97a-d4ebe39d8ee2",
   "metadata": {},
   "outputs": [],
   "source": [
    "class D(B,C):\n",
    "    def m(self):\n",
    "        print(\"m of D called\")\n",
    "        B.m(self)\n",
    "        C.m(self)\n",
    "        A.m(self)"
   ]
  },
  {
   "cell_type": "markdown",
   "id": "5bc8a1fe-1966-4507-9546-3ccb38d1987b",
   "metadata": {},
   "source": [
    "Le résultat est celui que nous recherchions :"
   ]
  },
  {
   "cell_type": "code",
   "execution_count": 19,
   "id": "3daeab64-45ac-44c8-9ad7-f6b066e6bfc4",
   "metadata": {},
   "outputs": [
    {
     "name": "stdout",
     "output_type": "stream",
     "text": [
      "m of D called\n",
      "m of B called\n",
      "m of C called\n",
      "m of A called\n"
     ]
    }
   ],
   "source": [
    "x = D()\n",
    "x.m()"
   ]
  },
  {
   "cell_type": "markdown",
   "id": "4fd1b894-d341-47ab-a911-b030fe8f70b3",
   "metadata": {},
   "source": [
    "Mais il s'avère une fois de plus que les choses sont plus compliquées qu'il n'y paraît. Comment pouvons-nous faire face à la situation, si m de B et m de C doivent appeler m de A également. Dans ce cas, nous devons supprimer l'appel ```A.m(self)``` de m dans D. Le code peut ressembler à ceci, mais il y a toujours un bug :"
   ]
  },
  {
   "cell_type": "code",
   "execution_count": 20,
   "id": "f58b6182-1ef8-4098-82c2-565e55027979",
   "metadata": {},
   "outputs": [],
   "source": [
    "class A:\n",
    "    def m(self):\n",
    "        print(\"m of A called\")\n",
    "class B(A):\n",
    "    def m(self):\n",
    "        print(\"m of B called\")\n",
    "        A.m(self)\n",
    "class C(A):\n",
    "    def m(self):\n",
    "        print(\"m of C called\")\n",
    "        A.m(self)\n",
    "class D(B,C):\n",
    "    def m(self):\n",
    "        print(\"m of D called\")\n",
    "        B.m(self)\n",
    "        C.m(self)"
   ]
  },
  {
   "cell_type": "markdown",
   "id": "22cc98ef-9509-4040-806b-c7d5c26550d9",
   "metadata": {},
   "source": [
    "Le problème est que la méthode m de A sera appelée deux fois :"
   ]
  },
  {
   "cell_type": "code",
   "execution_count": 21,
   "id": "61198421-7b2b-4edf-814c-0e6a1178abb0",
   "metadata": {},
   "outputs": [
    {
     "name": "stdout",
     "output_type": "stream",
     "text": [
      "m of D called\n",
      "m of B called\n",
      "m of A called\n",
      "m of C called\n",
      "m of A called\n"
     ]
    }
   ],
   "source": [
    "x = D()\n",
    "x.m()"
   ]
  },
  {
   "cell_type": "markdown",
   "id": "66c1a1ac-2d78-48a4-b88a-0a11eb76ca2c",
   "metadata": {},
   "source": [
    "Une façon de résoudre ce problème - certes non pythonique - consiste à scinder les méthodes m de B et C en deux méthodes. La première méthode, appelée ```_m```, consiste en le code spécifique de B et C et l'autre méthode s'appelle toujours m, mais consiste maintenant en un appel ```self._m()``` et un appel ```A.m(self)```. Le code de la méthode m de D consiste maintenant en le code spécifique de D ```print(\"m of D called\"```, et les appels ```B._m(self)```, ```C._m(self)``` et ```A.m(self)``` :"
   ]
  },
  {
   "cell_type": "code",
   "execution_count": 22,
   "id": "242b2486-f853-4ccf-85e5-6bf0c4c21c7c",
   "metadata": {},
   "outputs": [],
   "source": [
    "class A:\n",
    "    def m(self):\n",
    "        print(\"m of A called\")\n",
    "        \n",
    "class B(A):\n",
    "    def _m(self):\n",
    "        print(\"m of B called\")\n",
    "    def m(self):\n",
    "        self._m()\n",
    "        A.m(self)\n",
    "        \n",
    "class C(A):\n",
    "    def _m(self):\n",
    "        print(\"m of C called\")\n",
    "    def m(self):\n",
    "        self._m()\n",
    "        A.m(self)\n",
    "        \n",
    "        \n",
    "class D(B,C):\n",
    "    def m(self):\n",
    "        print(\"m of D called\")\n",
    "        B._m(self)\n",
    "        C._m(self)\n",
    "        A.m(self)"
   ]
  },
  {
   "cell_type": "markdown",
   "id": "23939aa6-e147-4b54-8b3e-3b2891a58796",
   "metadata": {},
   "source": [
    "Notre problème est résolu, mais - comme nous l'avons déjà mentionné - pas d'une manière pythonique :"
   ]
  },
  {
   "cell_type": "code",
   "execution_count": 23,
   "id": "a6417769-7574-4da8-94c0-33e1de221179",
   "metadata": {},
   "outputs": [
    {
     "name": "stdout",
     "output_type": "stream",
     "text": [
      "m of D called\n",
      "m of B called\n",
      "m of C called\n",
      "m of A called\n"
     ]
    }
   ],
   "source": [
    "x = D()\n",
    "x.m()"
   ]
  },
  {
   "cell_type": "markdown",
   "id": "b8245092-f131-4189-898c-ad3a8b08a583",
   "metadata": {},
   "source": [
    "La façon optimale de résoudre le problème, qui est la super façon pythonique, serait d'appeler la ```super()``` fonction :"
   ]
  },
  {
   "cell_type": "code",
   "execution_count": 24,
   "id": "ebed8aa8-0f3c-4436-b0c8-66349ead65d0",
   "metadata": {},
   "outputs": [],
   "source": [
    "class A:\n",
    "    def m(self):\n",
    "        print(\"m of A called\")\n",
    "class B(A):\n",
    "    def m(self):\n",
    "        print(\"m of B called\")\n",
    "        super().m()\n",
    "class C(A):\n",
    "    def m(self):\n",
    "        print(\"m of C called\")\n",
    "        super().m()\n",
    "class D(B,C):\n",
    "    def m(self):\n",
    "        print(\"m of D called\")\n",
    "        super().m()"
   ]
  },
  {
   "cell_type": "markdown",
   "id": "24073f83-d213-45dd-bea3-a3390f75f824",
   "metadata": {},
   "source": [
    "Il résout également notre problème, mais dans un design magnifique également :"
   ]
  },
  {
   "cell_type": "code",
   "execution_count": 25,
   "id": "ee9aac17-2fc8-43ad-bdd5-8b33fc95b05f",
   "metadata": {},
   "outputs": [
    {
     "name": "stdout",
     "output_type": "stream",
     "text": [
      "m of D called\n",
      "m of B called\n",
      "m of C called\n",
      "m of A called\n"
     ]
    }
   ],
   "source": [
    "x = D()\n",
    "x.m()"
   ]
  },
  {
   "cell_type": "markdown",
   "id": "b330c86c-94a8-4999-9f29-65a41e3d1430",
   "metadata": {},
   "source": [
    "La fonction ```super()``` est souvent utilisée lorsque les instances sont initialisées avec la méthode ```__init__``` :"
   ]
  },
  {
   "cell_type": "code",
   "execution_count": 26,
   "id": "eafb2a3c-9328-446e-8b0b-21b348dd9543",
   "metadata": {},
   "outputs": [],
   "source": [
    "class A:\n",
    "    def __init__(self):\n",
    "        print(\"A.__init__\")\n",
    "        \n",
    "class B(A):\n",
    "    def __init__(self):\n",
    "        print(\"B.__init__\")\n",
    "        super().__init__()\n",
    "        \n",
    "class C(A):\n",
    "    def __init__(self):\n",
    "        print(\"C.__init__\")\n",
    "        super().__init__()\n",
    "        \n",
    "class D(B,C):\n",
    "    def __init__(self):\n",
    "        print(\"D.__init__\")\n",
    "        super().__init__()"
   ]
  },
  {
   "cell_type": "markdown",
   "id": "714a1a1b-6da9-4bc0-85b8-f17695bbdc31",
   "metadata": {},
   "source": [
    "Nous démontrons cette méthode de travail dans la session interactive suivante :"
   ]
  },
  {
   "cell_type": "code",
   "execution_count": 27,
   "id": "11fafb51-966a-4a5c-a733-b58def842d1c",
   "metadata": {},
   "outputs": [
    {
     "name": "stdout",
     "output_type": "stream",
     "text": [
      "D.__init__\n",
      "B.__init__\n",
      "C.__init__\n",
      "A.__init__\n"
     ]
    }
   ],
   "source": [
    "d = D()"
   ]
  },
  {
   "cell_type": "code",
   "execution_count": 28,
   "id": "0a8fddd8-fcce-4bd1-aee5-ea7f3bf12ecd",
   "metadata": {},
   "outputs": [
    {
     "name": "stdout",
     "output_type": "stream",
     "text": [
      "C.__init__\n",
      "A.__init__\n"
     ]
    }
   ],
   "source": [
    "c = C()"
   ]
  },
  {
   "cell_type": "code",
   "execution_count": 29,
   "id": "11bf5730-180b-44c2-b594-ceb2cc65ee5b",
   "metadata": {},
   "outputs": [
    {
     "name": "stdout",
     "output_type": "stream",
     "text": [
      "B.__init__\n",
      "A.__init__\n"
     ]
    }
   ],
   "source": [
    "b = B()"
   ]
  },
  {
   "cell_type": "code",
   "execution_count": 30,
   "id": "efc1c5bd-6a27-453e-825a-027de0431df5",
   "metadata": {},
   "outputs": [
    {
     "name": "stdout",
     "output_type": "stream",
     "text": [
      "A.__init__\n"
     ]
    }
   ],
   "source": [
    "a = A()"
   ]
  },
  {
   "cell_type": "markdown",
   "id": "a596be94-7af9-490b-a60d-62f00e5890c2",
   "metadata": {},
   "source": [
    "La question se pose de savoir comment les fonctions ```super()``` prennent leurs décisions. Comment décide-t-elle quelle classe doit être utilisée ? Comme nous l'avons déjà mentionné, elle utilise ce que l'on appelle la méthode de résolution d'ordre (MRO). Il est basé sur l'algorithme de \"linéarisation de la superclasse C3\". On parle de linéarisation, car l'arborescence est décomposée en un ordre linéaire. La méthode mro peut être utilisée pour créer cette liste :"
   ]
  },
  {
   "cell_type": "code",
   "execution_count": 31,
   "id": "e989f1b1-7a3a-416d-a104-4883fffdc793",
   "metadata": {},
   "outputs": [
    {
     "data": {
      "text/plain": [
       "[__main__.D, __main__.B, __main__.C, __main__.A, object]"
      ]
     },
     "execution_count": 31,
     "metadata": {},
     "output_type": "execute_result"
    }
   ],
   "source": [
    "D.mro()"
   ]
  },
  {
   "cell_type": "code",
   "execution_count": 32,
   "id": "5f215fdc-5cfc-4fd1-a6da-75666675e521",
   "metadata": {},
   "outputs": [
    {
     "data": {
      "text/plain": [
       "[__main__.B, __main__.A, object]"
      ]
     },
     "execution_count": 32,
     "metadata": {},
     "output_type": "execute_result"
    }
   ],
   "source": [
    "B.mro()"
   ]
  },
  {
   "cell_type": "code",
   "execution_count": 33,
   "id": "752878cd-5364-4071-bf8e-cdf2f58744f5",
   "metadata": {},
   "outputs": [
    {
     "data": {
      "text/plain": [
       "[__main__.A, object]"
      ]
     },
     "execution_count": 33,
     "metadata": {},
     "output_type": "execute_result"
    }
   ],
   "source": [
    "A.mro()"
   ]
  },
  {
   "cell_type": "markdown",
   "id": "48937347-91c5-449b-8115-f3d7e8894d06",
   "metadata": {},
   "source": [
    "## Polymorphisme\n",
    "\n",
    "<center><img src=\"img/illustration14.png\" width=\"50%\"></center>\n",
    "\n",
    "Le polymorphisme est construit à partir de deux mots grecs. \"Poly\" signifie \"beaucoup\" et \"morph\" signifie \"forme\". Le polymorphisme est l'état ou la condition d'être polymorphe, ou si l'on utilise la traduction des composants \"la capacité d'être sous de nombreuses formes\". Le polymorphisme est un terme utilisé dans de nombreux domaines scientifiques. En cristallographie, il définit l'état, si quelque chose se cristallise en deux ou plusieurs formes chimiquement identiques mais cristallographiquement distinctes. Les biologistes connaissent le polymorphisme comme l'existence d'un organisme en plusieurs variétés de formes ou de couleurs. Les Romains avaient même un dieu, appelé Morphée, qui est capable de prendre n'importe quelle forme humaine : Morphée apparaît dans les métamorphoses d'Ovide et est le fils de Somnus, le dieu du sommeil. Vous pouvez admirer Morphée et Iris sur la photo de droite.\n",
    "\n",
    "Alors, avant de nous endormir, revenons à Python et à ce que signifie le polymorphisme dans le contexte des langages de programmation. Le polymorphisme en informatique est la capacité de présenter la même interface pour différentes formes sous-jacentes. Dans certains langages de programmation, nous pouvons avoir des fonctions ou des méthodes polymorphes, par exemple. Les fonctions ou méthodes polymorphes peuvent être appliquées à des arguments de différents types, et elles peuvent se comporter différemment selon le type des arguments auxquels elles sont appliquées. Nous pouvons également définir le même nom de fonction avec un nombre variable de paramètres.\n",
    "\n",
    "Examinons la fonction Python suivante :"
   ]
  },
  {
   "cell_type": "code",
   "execution_count": 34,
   "id": "a2fc66d3-0aa3-40c6-b5f6-d924ef212f1d",
   "metadata": {},
   "outputs": [
    {
     "name": "stdout",
     "output_type": "stream",
     "text": [
      "values:  42 43\n",
      "values:  42 43.7\n",
      "values:  42.3 43\n",
      "values:  42.0 43.9\n"
     ]
    }
   ],
   "source": [
    "def f(x, y):\n",
    "    print(\"values: \", x, y)\n",
    "    \n",
    "f(42, 43)\n",
    "f(42, 43.7) \n",
    "f(42.3, 43)\n",
    "f(42.0, 43.9)"
   ]
  },
  {
   "cell_type": "markdown",
   "id": "8b8af9c1-4d2c-4713-9619-e8e2f19d8b28",
   "metadata": {},
   "source": [
    "Nous pouvons appeler cette fonction avec différents types, comme le montre l'exemple. Dans les langages de programmation typés comme Java ou C++, nous devrions surcharger f pour mettre en œuvre les différentes combinaisons de types.\n",
    "\n",
    "Notre exemple pourrait être implémenté comme suit en C++ :\n",
    "\n",
    "```c++\n",
    "#include \n",
    "using namespace std;\n",
    "void f(int x, int y ) {\n",
    "    cout << \"values: \" << x << \", \" << x << endl;\n",
    "}\n",
    "void f(int x, double y ) {\n",
    "    cout << \"values: \" << x << \", \" << x << endl;\n",
    "}\n",
    "void f(double x, int y ) {\n",
    "    cout << \"values: \" << x << \", \" << x << endl;\n",
    "}\n",
    "void f(double x, double y ) {\n",
    "    cout << \"values: \" << x << \", \" << x << endl;\n",
    "}\n",
    "int main()\n",
    "{\n",
    "    f(42, 43); \n",
    "    f(42, 43.7); \n",
    "    f(42.3,43);\n",
    "    f(42.0, 43.9); \n",
    "}\n",
    "```\n",
    "\n",
    "Python est implicitement polymorphe. Nous pouvons appliquer notre fonction f précédemment définie même à des listes, des chaînes de caractères ou d'autres types, qui peuvent être imprimés :"
   ]
  },
  {
   "cell_type": "code",
   "execution_count": 36,
   "id": "1805c77d-f6b6-42d7-93db-5c8d1d872e8a",
   "metadata": {},
   "outputs": [
    {
     "name": "stdout",
     "output_type": "stream",
     "text": [
      "values:  [3, 5, 6] (3, 5)\n"
     ]
    }
   ],
   "source": [
    "def f(x,y):\n",
    "    print(\"values: \", x, y)\n",
    "    \n",
    "f([3,5,6],(3,5))"
   ]
  },
  {
   "cell_type": "code",
   "execution_count": 37,
   "id": "db061e78-94fc-483b-8a7d-c00c82ef8144",
   "metadata": {},
   "outputs": [
    {
     "name": "stdout",
     "output_type": "stream",
     "text": [
      "values:  A String ('A tuple', 'with Strings')\n"
     ]
    }
   ],
   "source": [
    "f(\"A String\", (\"A tuple\", \"with Strings\"))"
   ]
  },
  {
   "cell_type": "code",
   "execution_count": null,
   "id": "2b1822fd-ed2a-4661-b420-5b694e345d18",
   "metadata": {},
   "outputs": [],
   "source": []
  }
 ],
 "metadata": {
  "kernelspec": {
   "display_name": "py11",
   "language": "python",
   "name": "py11"
  },
  "language_info": {
   "codemirror_mode": {
    "name": "ipython",
    "version": 3
   },
   "file_extension": ".py",
   "mimetype": "text/x-python",
   "name": "python",
   "nbconvert_exporter": "python",
   "pygments_lexer": "ipython3",
   "version": "3.11.0"
  }
 },
 "nbformat": 4,
 "nbformat_minor": 5
}
