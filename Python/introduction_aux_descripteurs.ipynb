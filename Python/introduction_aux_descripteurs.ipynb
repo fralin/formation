{
 "cells": [
  {
   "cell_type": "markdown",
   "id": "1e4392b9-54c0-4a53-8491-ab1a83827b7e",
   "metadata": {},
   "source": [
    "# Introduction aux descripteurs\n",
    "\n",
    "Dans les deux chapitres précédents de notre tutoriel Python, nous avons appris à utiliser les propriétés Python et même à implémenter une classe de propriétés sur mesure. Dans ce chapitre, vous allez apprendre les détails des descripteurs.\n",
    "\n",
    "Les descripteurs ont été introduits dans Python dans la version 2.2. À cette époque, le document \"What's New in Python2.2\" mentionnait : \"La seule grande idée sous-jacente au nouveau modèle de classe est qu'une API pour décrire les attributs d'un objet à l'aide de descripteurs a été formalisée. Les descripteurs précisent la valeur d'un attribut, en indiquant s'il s'agit d'une méthode ou d'un champ. Avec l'API des descripteurs, les méthodes statiques et les méthodes de classe deviennent possibles, ainsi que des constructions plus exotiques.\"\n",
    "\n",
    "Un descripteur est un attribut d'objet avec un __comportement de liaison__, un attribut dont l'accès a été remplacé par des méthodes dans le protocole des descripteurs. Ces méthodes sont ```__get__()```, ```__set__()``` et ```__delete__()```.\n",
    "\n",
    "Si l'une de ces méthodes est définie pour un objet, on dit qu'il s'agit d'un descripteur.\n",
    "\n",
    "Leur but consiste à fournir aux programmeurs la possibilité d'ajouter des attributs gérés aux classes. Les descripteurs sont introduits pour obtenir, définir ou supprimer des attributs du dictionnaire ```__dict__``` de l'objet via les méthodes mentionnées ci-dessus. L'accès à un attribut de classe lance la chaîne de recherche.\n",
    "\n",
    "<center><img src=\"img/illustration4.png\" width=\"50%\"></center>\n",
    "\n",
    "Examinons de plus près ce qui se passe. \n",
    "\n",
    "Supposons que nous ayons un objet ```obj``` : que se passe-t-il si nous essayons d'accéder à un attribut (ou une propriété) ap ? \"Accéder\" à l'attribut signifie \"obtenir\" la valeur, l'attribut est donc utilisé par exemple dans une fonction d'impression ou à l'intérieur d'une expression. L'objet et la classe appartenant au ```type(obj)``` contiennent tous deux un attribut de dictionnaire ```__dict__```. Cette situation est viuslaisée dans le schéma suivant :\n",
    "\n",
    "<center><img src=\"img/illustration5.png\" width=\"70%\"></center>\n",
    "\n",
    "```obj.ap``` a une chaîne de recherche commençant par ```obj.__dict__['ap']```, c'est-à-dire qu'il vérifie si```obj.ap``` est une clé du dictionnaire ```obj.__dict__['ap']```.\n",
    "\n",
    "<center><img src=\"img/illustration6.png\" width=\"70%\"></center>\n",
    "\n",
    "Si ap n'est pas une clé de ```obj.__dict__```, il essaiera de rechercher ```type(obj).__dict__['ap']```\n",
    "\n",
    "<center><img src=\"img/illustration7.png\" width=\"70%\"></center>\n",
    "\n",
    "Si obj n'est pas non plus contenu dans ce dictionnaire, il continuera à vérifier les classes de base du type(ap) en excluant les métaclasses.\n",
    "\n",
    "Nous le démontrons dans un exemple :\n"
   ]
  },
  {
   "cell_type": "code",
   "execution_count": 1,
   "id": "5af077af-b489-4069-acb9-dee2257f6334",
   "metadata": {},
   "outputs": [
    {
     "name": "stdout",
     "output_type": "stream",
     "text": [
      "instance attribute of A instance\n",
      "class attribute of B\n",
      "instance attribute of A instance\n",
      "class attribute of A\n"
     ]
    }
   ],
   "source": [
    "class A:\n",
    "    ca_A = \"class attribute of A\"\n",
    "    \n",
    "    def __init__(self):\n",
    "        self.ia_A = \"instance attribute of A instance\"\n",
    "        \n",
    "        \n",
    "class B(A):\n",
    "    ca_B = \"class attribute of B\"\n",
    "    \n",
    "    def __init__(self):\n",
    "        super().__init__()\n",
    "        self.ia_B = \"instance attribute of A instance\"\n",
    "        \n",
    "        \n",
    "x = B()\n",
    "print(x.ia_B)\n",
    "print(x.ca_B)\n",
    "print(x.ia_A)\n",
    "print(x.ca_A)"
   ]
  },
  {
   "cell_type": "markdown",
   "id": "64464484-15f4-4a59-a4ee-a4b2f12f1619",
   "metadata": {},
   "source": [
    "Si nous appelons ```print(x.non_existing)```, nous obtenons l'exception suivante :"
   ]
  },
  {
   "cell_type": "code",
   "execution_count": 2,
   "id": "5626b84c-f1d8-4e62-ace3-0b7d96049b1a",
   "metadata": {},
   "outputs": [
    {
     "ename": "AttributeError",
     "evalue": "'B' object has no attribute 'non_existing'",
     "output_type": "error",
     "traceback": [
      "\u001b[0;31m---------------------------------------------------------------------------\u001b[0m",
      "\u001b[0;31mAttributeError\u001b[0m                            Traceback (most recent call last)",
      "Cell \u001b[0;32mIn[2], line 1\u001b[0m\n\u001b[0;32m----> 1\u001b[0m \u001b[38;5;28mprint\u001b[39m(\u001b[43mx\u001b[49m\u001b[38;5;241;43m.\u001b[39;49m\u001b[43mnon_existing\u001b[49m)\n",
      "\u001b[0;31mAttributeError\u001b[0m: 'B' object has no attribute 'non_existing'"
     ]
    }
   ],
   "source": [
    "print(x.non_existing)"
   ]
  },
  {
   "cell_type": "markdown",
   "id": "d6b49afa-8484-4348-82e1-5f26f5c9f62b",
   "metadata": {},
   "source": [
    "Si la valeur recherchée est un objet définissant l'une des méthodes du descripteur, Python peut outrepasser le comportement par défaut et invoquer la méthode du descripteur à la place. L'endroit où cela se produit dans la chaîne de précédence dépend des méthodes de descripteurs qui ont été définies.\n",
    "\n",
    "Les descripteurs fournissent un protocole puissant et général, qui est le mécanisme sous-jacent aux propriétés, méthodes, méthodes statiques, méthodes de classe et ```super()```. Les descripteurs étaient nécessaires pour mettre en œuvre les classes dites de nouveau style introduites dans la version 2.2. Les \"nouvelles classes de style\" sont aujourd'hui les classes par défaut."
   ]
  },
  {
   "cell_type": "markdown",
   "id": "56e1bd53-e532-49cf-9c31-543f1e376750",
   "metadata": {},
   "source": [
    "## Protocole des descripteurs\n",
    "\n",
    "Le protocole général des descripteurs est constitué de trois méthodes :\n",
    "\n",
    "```python\n",
    "descr.__get__(self, obj, type=None) -> valeur\n",
    "descr.__set__(self, obj, valeur) -> None\n",
    "descr.__delete__(self, obj) -> None\n",
    "```\n",
    "\n",
    "Si vous définissez une ou plusieurs de ces méthodes, vous allez créer un descripteur. Nous distinguons les descripteurs de données des descripteurs de non-données :\n",
    "\n",
    "__descripteur de non-données__\n",
    "Si nous définissons uniquement la méthode ```__get__()```, nous créons un descripteur non-data, qui est principalement utilisé pour les méthodes.\n",
    "\n",
    "__descripteur de données__\n",
    "Si un objet définit la méthode ```__set__()``` ou ```__delete__()```, il est considéré comme un descripteur de données. Pour créer un descripteur de données en lecture seule, définissez à la fois ```__get__()``` et ```__set__()```, la ```__set__()``` générant une AttributeError lorsqu'elle est appelée. Il suffit de définir la méthode ```__set__()``` avec un caractère générique levant une exception pour en faire un descripteur de données.\n",
    "\n",
    "Nous en arrivons enfin à notre exemple de descripteur simple dans le code suivant :"
   ]
  },
  {
   "cell_type": "code",
   "execution_count": 3,
   "id": "11fa4731-286b-4fbf-8e7b-56dcaea29bbe",
   "metadata": {},
   "outputs": [
    {
     "name": "stdout",
     "output_type": "stream",
     "text": [
      "__init__ of SimpleDecorator called with initval:  green\n",
      "Setting self.val to  green\n",
      "<__main__.MyClass object at 0x10d3db650> <class '__main__.MyClass'>\n",
      "Getting (Retrieving) self.val:  green\n",
      "green\n",
      "Setting self.val to  yellow\n",
      "<__main__.MyClass object at 0x10d3db650> <class '__main__.MyClass'>\n",
      "Getting (Retrieving) self.val:  yellow\n",
      "yellow\n"
     ]
    }
   ],
   "source": [
    "class SimpleDescriptor(object):\n",
    "    \"\"\"\n",
    "    A simple data descriptor that can set and return values\n",
    "    \"\"\"\n",
    "    \n",
    "    def __init__(self, initval=None):\n",
    "        print(\"__init__ of SimpleDecorator called with initval: \", initval)\n",
    "        self.__set__(self, initval)\n",
    "        \n",
    "    def __get__(self, instance, owner):\n",
    "        print(instance, owner)\n",
    "        print('Getting (Retrieving) self.val: ', self.val)\n",
    "        return self.val\n",
    "    \n",
    "    def __set__(self, instance, value):\n",
    "        print('Setting self.val to ', value)\n",
    "        self.val = value\n",
    "        \n",
    "        \n",
    "class MyClass(object):\n",
    "    x = SimpleDescriptor(\"green\")\n",
    "    \n",
    "    \n",
    "m = MyClass()\n",
    "print(m.x)\n",
    "m.x = \"yellow\"\n",
    "print(m.x)"
   ]
  },
  {
   "cell_type": "markdown",
   "id": "2d4f0220-bbef-447d-b537-8758ebe97656",
   "metadata": {},
   "source": [
    "Le troisième paramètre owner de ```__get__``` est toujours la classe propriétaire et fournit aux utilisateurs une option pour faire quelque chose avec la classe qui a été utilisée pour appeler le descripteur. Habituellement, c'est-à-dire si le descripteur est appelé via un objet obj, le type de l'objet peut être déduit en appelant type(obj). La situation est différente, si le descripteur est invoqué à travers une classe. Dans ce cas, c'est None et il ne serait pas possible d'accéder à la classe à moins que le troisième argument ne soit donné. Le deuxième paramètre instance est l'instance par laquelle l'attribut a été accédé, ou None si l'attribut est accédé par le propriétaire.\n",
    "\n",
    "Jetons un coup d'oeil aux dictionnaires ```__dict__``` des instances et de la classe :\n",
    "\n",
    "```x``` est un attribut de classe dans la classe précédente. Vous vous êtes peut-être demandé si nous pouvions également utiliser ce mécanisme dans la méthode ```__init__``` pour définir un attribut d'instance. Cela n'est pas possible. Les méthodes ```__get__()```,```__set__()``` et ```__delete__()``` ne s'appliquent que si une instance de la classe contenant la méthode (une classe dite descriptive) apparaît dans une classe propriétaire (le descripteur doit se trouver soit dans le dictionnaire de classes du propriétaire, soit dans le dictionnaire de classes de l'un de ses parents). Dans les exemples ci-dessus, l'attribut ```x``` est dans le ```__dict__``` propriétaire de la classe propriétaire ```MyClass```, comme on peut le voir ci-dessous :"
   ]
  },
  {
   "cell_type": "code",
   "execution_count": 4,
   "id": "05a4179f-2f4a-4cf8-9d05-5e4d44ec3698",
   "metadata": {},
   "outputs": [
    {
     "name": "stdout",
     "output_type": "stream",
     "text": [
      "{}\n",
      "{'__module__': '__main__', 'x': <__main__.SimpleDescriptor object at 0x10d3d0210>, '__dict__': <attribute '__dict__' of 'MyClass' objects>, '__weakref__': <attribute '__weakref__' of 'MyClass' objects>, '__doc__': None}\n",
      "{'__module__': '__main__', '__doc__': '\\n    A simple data descriptor that can set and return values\\n    ', '__init__': <function SimpleDescriptor.__init__ at 0x10cfdd760>, '__get__': <function SimpleDescriptor.__get__ at 0x10cfdd940>, '__set__': <function SimpleDescriptor.__set__ at 0x10cfdd800>, '__dict__': <attribute '__dict__' of 'SimpleDescriptor' objects>, '__weakref__': <attribute '__weakref__' of 'SimpleDescriptor' objects>}\n"
     ]
    }
   ],
   "source": [
    "print(m.__dict__)\n",
    "print(MyClass.__dict__)\n",
    "print(SimpleDescriptor.__dict__)"
   ]
  },
  {
   "cell_type": "markdown",
   "id": "6d4ec0f3-7e84-4a28-b6a2-f62dfedde7ae",
   "metadata": {},
   "source": [
    "print(MyClass.__dict__['x'])"
   ]
  },
  {
   "cell_type": "markdown",
   "id": "e0da74c2-a971-4da3-85ef-5b1e47c95e9a",
   "metadata": {},
   "source": [
    "Il est possible d'appeler un descripteur directement par son nom de méthode, par exemple ```d.__get__(obj)```.\n",
    "\n",
    "Alternativement, il est plus courant qu'un descripteur soit invoqué automatiquement lors de l'accès à un attribut. Par exemple, ```obj.d``` cherche ```d``` dans le dictionnaire ```__dict__``` de obj. Si d définit la méthode ```__get__()```, alors ```d.__get__(obj)``` est invoqué selon les règles de précédence énumérées ci-dessous.\n",
    "\n",
    "Il y a une différence si ```obj``` est un objet ou une classe :\n",
    "\n",
    "Pour les objets, la méthode permettant de contrôler l'invocation se trouve dans```object.__getattribute__()``` qui transforme ```b.x``` en l'appel ```type(b).__dict__['x'].__get__(b, type(b))```. L'implémentation fonctionne par le biais d'une chaîne de priorité qui donne aux descripteurs de données la priorité sur les variables d'instance, aux variables d'instance la priorité sur les descripteurs non-données, et attribue la priorité la plus basse à ```__getattr__()``` si elle est fournie.\n",
    "\n",
    "Pour les classes, la méthode correspondante se trouve dans la classe de type, c'est-à-dire ```type.__getattribute__()``` qui transforme ```B.x``` en ```B.__dict__['x'].__get__(None, B)```.\n",
    "\n",
    "```__getattribute__``` n'est pas implémenté en Python mais en C. Le code Python suivant est une simulation de la logique en Python. Nous pouvons voir que les descripteurs sont appelés par les implémentations de ```__getattribute__```."
   ]
  },
  {
   "cell_type": "code",
   "execution_count": 6,
   "id": "413db693-2934-42e9-95fb-7966884576fd",
   "metadata": {},
   "outputs": [
    {
     "name": "stdout",
     "output_type": "stream",
     "text": [
      "<__main__.MyClass object at 0x10d3db650> <class '__main__.MyClass'>\n",
      "Getting (Retrieving) self.val:  yellow\n"
     ]
    },
    {
     "data": {
      "text/plain": [
       "'yellow'"
      ]
     },
     "execution_count": 6,
     "metadata": {},
     "output_type": "execute_result"
    }
   ],
   "source": [
    "def __getattribute__(self, key):\n",
    "    \"Emulate type_getattro() in Objects/typeobject.c\"\n",
    "    v = type.__getattribute__(self, key)\n",
    "    if hasattr(v, '__get__'):\n",
    "        return v.__get__(None, self)\n",
    "    return v\n",
    "\n",
    "m.__getattribute__(\"x\")"
   ]
  },
  {
   "cell_type": "markdown",
   "id": "bbd37558-6ff3-4a98-b5a6-3d767ad1aaf7",
   "metadata": {},
   "source": [
    "L'objet renvoyé par ```super()``` possède également une méthode ```__getattribute__()``` personnalisée pour invoquer les descripteurs. La recherche d'attributs ```super(B, obj).m``` recherche dans ```obj.__class__.__mro__``` la classe de base A qui suit immédiatement B et renvoie ensuite ```A.__dict__['m'].__get__(obj, B)```. Si ce n'est pas un descripteur, m est retourné inchangé. S'il n'est pas dans le dictionnaire, m revient à une recherche en utilisant ```object.__getattribute__()```.\n",
    "\n",
    "Les détails ci-dessus montrent que le mécanisme pour les descripteurs est intégré dans les méthodes ```__getattribute__()``` pour object, type, et ```super()```. Les classes héritent de ce mécanisme lorsqu'elles dérivent d'object ou si elles ont une méta-classe fournissant une fonctionnalité similaire. Cela signifie également que l'on peut désactiver les appels automatiques aux descripteurs en surchargeant ```__getattribute__()```."
   ]
  },
  {
   "cell_type": "code",
   "execution_count": 7,
   "id": "00edd2de-09a6-438b-a4c0-2c751fcedd7a",
   "metadata": {},
   "outputs": [
    {
     "name": "stdout",
     "output_type": "stream",
     "text": [
      "Ben can vote in Germany\n",
      "Emilia can vote in Germany\n"
     ]
    },
    {
     "data": {
      "text/plain": [
       "22"
      ]
     },
     "execution_count": 7,
     "metadata": {},
     "output_type": "execute_result"
    }
   ],
   "source": [
    "from weakref import WeakKeyDictionary\n",
    "\n",
    "class Voter:\n",
    "    required_age = 18 # in Germany\n",
    "    \n",
    "    def __init__(self):\n",
    "        self.age = WeakKeyDictionary()\n",
    "        \n",
    "    def __get__(self, instance_obj, objtype):\n",
    "        return self.age.get(instance_obj)\n",
    "    \n",
    "    def __set__(self, instance, new_age):\n",
    "        if new_age < Voter.required_age:\n",
    "            msg = '{name} is not old enough to vote in Germany'\n",
    "            raise Exception(msg.format(name=instance.name))\n",
    "        self.age[instance] = new_age\n",
    "        print('{name} can vote in Germany'.format(\n",
    "            name=instance.name))\n",
    "        \n",
    "    def __delete__(self, instance):\n",
    "        del self.age[instance]\n",
    "        \n",
    "        \n",
    "class Person:\n",
    "    voter_age = Voter()\n",
    "    def __init__(self, name, age):\n",
    "        self.name = name\n",
    "        self.voter_age = age\n",
    "        \n",
    "        \n",
    "p1 = Person('Ben', 23)\n",
    "p2 = Person('Emilia', 22)\n",
    "p2.voter_age"
   ]
  },
  {
   "cell_type": "markdown",
   "id": "b2d60247-0d16-4a57-80ca-934ec111e536",
   "metadata": {},
   "source": [
    "Un exemple pur d'implémentation d'une classe ```property()``` [doc python](https://docs.python.org/fr/3/howto/descriptor.html#id24)"
   ]
  },
  {
   "cell_type": "code",
   "execution_count": 8,
   "id": "9d63fb71-0009-437f-9b92-d0c8734698be",
   "metadata": {},
   "outputs": [],
   "source": [
    "class Property:\n",
    "    \"Emulate PyProperty_Type() in Objects/descrobject.c\"\n",
    "    \n",
    "    def __init__(self, fget=None, fset=None, fdel=None, doc=None):\n",
    "        self.fget = fget\n",
    "        self.fset = fset\n",
    "        self.fdel = fdel\n",
    "        if doc is None and fget is not None:\n",
    "            doc = fget.__doc__\n",
    "        self.__doc__ = doc\n",
    "        \n",
    "    def __get__(self, obj, objtype=None):\n",
    "        if obj is None:\n",
    "            return self\n",
    "        if self.fget is None:\n",
    "            raise AttributeError(\"unreadable attribute\")\n",
    "        return self.fget(obj)\n",
    "    \n",
    "    def __set__(self, obj, value):\n",
    "        if self.fset is None:\n",
    "            raise AttributeError(\"can't set attribute\")\n",
    "        self.fset(obj, value)\n",
    "        \n",
    "    def __delete__(self, obj):\n",
    "        if self.fdel is None:\n",
    "            raise AttributeError(\"can't delete attribute\")\n",
    "        self.fdel(obj)\n",
    "        \n",
    "    def getter(self, fget):\n",
    "        return type(self)(fget, self.fset, self.fdel, self.__doc__)\n",
    "    \n",
    "    def setter(self, fset):\n",
    "        return type(self)(self.fget, fset, self.fdel, self.__doc__)\n",
    "    \n",
    "    def deleter(self, fdel):\n",
    "        return type(self)(self.fget, self.fset, fdel, self.__doc__)"
   ]
  },
  {
   "cell_type": "markdown",
   "id": "4607dc16-a0a6-491b-8e97-7fd0bcdd1eaa",
   "metadata": {},
   "source": [
    "Une classe simple utilisant notre implémentation de la propriété."
   ]
  },
  {
   "cell_type": "code",
   "execution_count": 9,
   "id": "550596f8-9872-49d4-92af-e4bfd6ce8e52",
   "metadata": {},
   "outputs": [],
   "source": [
    "class A:\n",
    "    \n",
    "    def __init__(self, prop):\n",
    "        self.prop = prop\n",
    "        \n",
    "    @Property\n",
    "    def prop(self):\n",
    "        print(\"The Property 'prop' will be returned now:\")\n",
    "        return self.__prop\n",
    "    \n",
    "    @prop.setter\n",
    "    def prop(self, prop):\n",
    "        print(\"prop will be set\")\n",
    "        self.__prop = prop"
   ]
  },
  {
   "cell_type": "markdown",
   "id": "ee71e01e-0278-4051-9d74-50be5c31420f",
   "metadata": {},
   "source": [
    "Utilisation de notre classe A :"
   ]
  },
  {
   "cell_type": "code",
   "execution_count": 10,
   "id": "0e139995-4e2d-45e4-abea-123985b9965e",
   "metadata": {},
   "outputs": [
    {
     "name": "stdout",
     "output_type": "stream",
     "text": [
      "Initializing the Property 'prop' with the value 'Python'\n",
      "prop will be set\n",
      "The Property 'prop' will be returned now:\n",
      "The value is:  Python\n",
      "Reassigning the Property 'prop' to 'Python descriptors'\n",
      "prop will be set\n",
      "The Property 'prop' will be returned now:\n",
      "The value is:  Python descriptors\n"
     ]
    }
   ],
   "source": [
    "print(\"Initializing the Property 'prop' with the value 'Python'\")\n",
    "x = A(\"Python\")\n",
    "print(\"The value is: \", x.prop)\n",
    "print(\"Reassigning the Property 'prop' to 'Python descriptors'\")\n",
    "x.prop = \"Python descriptors\"\n",
    "print(\"The value is: \", x.prop)"
   ]
  },
  {
   "cell_type": "markdown",
   "id": "034442bd-290c-47c9-a1cc-33532b71e00b",
   "metadata": {},
   "source": [
    "Rendons notre implémentation de propriété un peu plus bavarde avec quelques fonctions d'impression pour voir ce qui se passe :"
   ]
  },
  {
   "cell_type": "code",
   "execution_count": 11,
   "id": "1e1a87f9-694d-4d17-9687-298347d4d0cb",
   "metadata": {},
   "outputs": [
    {
     "name": "stdout",
     "output_type": "stream",
     "text": [
      "\n",
      "__init__ of Property called with:\n",
      "fget=<function A.prop at 0x10cfdf380> fset=None fdel=None doc=None\n",
      "\n",
      "Property.setter has been called!\n",
      "\n",
      "__init__ of Property called with:\n",
      "fget=<function A.prop at 0x10cfdf380> fset=<function A.prop at 0x10cef74c0> fdel=None doc= This will be the doc string of the property \n",
      "\n",
      "__init__ of Property called with:\n",
      "fget=<function A.prop2_getter at 0x10cef72e0> fset=<function A.prop2_setter at 0x10cfdf4c0> fdel=None doc=None\n",
      "Initializing the Property 'prop' with the value 'Python'\n",
      "\n",
      "Property.__set__ has been called!\n",
      "prop will be set\n",
      "\n",
      "Property.__get__ has been called!\n",
      "The Property 'prop' will be returned now:\n",
      "The value is:  Python\n",
      "Reassigning the Property 'prop' to 'Python descriptors'\n",
      "\n",
      "Property.__set__ has been called!\n",
      "prop will be set\n",
      "\n",
      "Property.__get__ has been called!\n",
      "The Property 'prop' will be returned now:\n",
      "The value is:  Python descriptors\n",
      "\n",
      "Property.__get__ has been called!\n",
      "\n",
      "Property.getter has been called!\n",
      "\n",
      "__init__ of Property called with:\n",
      "fget=<__main__.A object at 0x10d3e7fd0> fset=<function A.prop at 0x10cef74c0> fdel=None doc= This will be the doc string of the property \n",
      "<__main__.Property object at 0x10d3fad10>\n",
      "\n",
      "Property.__get__ has been called!\n"
     ]
    },
    {
     "data": {
      "text/plain": [
       "<bound method Property.setter of <__main__.Property object at 0x10d3e6950>>"
      ]
     },
     "execution_count": 11,
     "metadata": {},
     "output_type": "execute_result"
    }
   ],
   "source": [
    "class Property:\n",
    "    \"Emulate PyProperty_Type() in Objects/descrobject.c\"\n",
    "    \n",
    "    def __init__(self, fget=None, fset=None, fdel=None, doc=None):\n",
    "        print(\"\\n__init__ of Property called with:\")\n",
    "        print(\"fget=\" + str(fget) + \" fset=\" + str(fset) + \\\n",
    "              \" fdel=\" + str(fdel) + \" doc=\" + str(doc))\n",
    "        self.fget = fget\n",
    "        self.fset = fset\n",
    "        self.fdel = fdel\n",
    "        if doc is None and fget is not None:\n",
    "            doc = fget.__doc__\n",
    "        self.__doc__ = doc\n",
    "        \n",
    "    def __get__(self, obj, objtype=None):\n",
    "        print(\"\\nProperty.__get__ has been called!\")\n",
    "        if obj is None:\n",
    "            return self\n",
    "        if self.fget is None:\n",
    "            raise AttributeError(\"unreadable attribute\")\n",
    "        return self.fget(obj)\n",
    "    \n",
    "    def __set__(self, obj, value):\n",
    "        print(\"\\nProperty.__set__ has been called!\")\n",
    "        if self.fset is None:\n",
    "            raise AttributeError(\"can't set attribute\")\n",
    "        self.fset(obj, value)\n",
    "        \n",
    "    def __delete__(self, obj):\n",
    "        print(\"\\nProperty.__delete__ has been called!\")\n",
    "        if self.fdel is None:\n",
    "            raise AttributeError(\"can't delete attribute\")\n",
    "        self.fdel(obj)\n",
    "        \n",
    "    def getter(self, fget):\n",
    "        print(\"\\nProperty.getter has been called!\")\n",
    "        return type(self)(fget, self.fset, self.fdel, self.__doc__)\n",
    "    \n",
    "    def setter(self, fset):\n",
    "        print(\"\\nProperty.setter has been called!\")\n",
    "        return type(self)(self.fget, fset, self.fdel, self.__doc__)\n",
    "    \n",
    "    def deleter(self, fdel):\n",
    "        print(\"\\nProperty.deleter has been called!\")\n",
    "        return type(self)(self.fget, self.fset, fdel, self.__doc__)\n",
    "    \n",
    "    \n",
    "class A:\n",
    "    \n",
    "    def __init__(self, prop):\n",
    "        self.prop = prop\n",
    "        \n",
    "    @Property\n",
    "    def prop(self):\n",
    "        \"\"\" This will be the doc string of the property \"\"\"\n",
    "        print(\"The Property 'prop' will be returned now:\")\n",
    "        return self.__prop\n",
    "    \n",
    "    @prop.setter\n",
    "    def prop(self, prop):\n",
    "        print(\"prop will be set\")\n",
    "        self.__prop = prop\n",
    "        \n",
    "    def prop2_getter(self):\n",
    "        return self.__prop2\n",
    "    \n",
    "    def prop2_setter(self, prop2):\n",
    "        self.__prop2 = prop2\n",
    "        \n",
    "    prop2 = Property(prop2_getter, prop2_setter)\n",
    "    \n",
    "    \n",
    "print(\"Initializing the Property 'prop' with the value 'Python'\")\n",
    "x = A(\"Python\")\n",
    "print(\"The value is: \", x.prop)\n",
    "print(\"Reassigning the Property 'prop' to 'Python descriptors'\")\n",
    "x.prop = \"Python descriptors\"\n",
    "print(\"The value is: \", x.prop)\n",
    "print(A.prop.getter(x))\n",
    "\n",
    "def new_prop_setter(self, prop):\n",
    "    if prop==\"foo\":\n",
    "        self.__prop = \"foobar\"\n",
    "    else:\n",
    "        self.__prop = prop\n",
    "A.prop.setter"
   ]
  },
  {
   "cell_type": "code",
   "execution_count": 12,
   "id": "bd80fecd-eaa0-4272-9e27-199d0e3a5d25",
   "metadata": {},
   "outputs": [
    {
     "name": "stdout",
     "output_type": "stream",
     "text": [
      "\n",
      "__init__ of Property called with:\n",
      "fget=<function Robot.name at 0x10cfdf740> fset=None fdel=None doc=None\n",
      "\n",
      "Property.setter has been called!\n",
      "\n",
      "__init__ of Property called with:\n",
      "fget=<function Robot.name at 0x10cfdf740> fset=<function Robot.name at 0x10cef7240> fdel=None doc=None\n",
      "\n",
      "Property.__set__ has been called!\n",
      "\n",
      "Property.__get__ has been called!\n",
      "Marvin\n",
      "\n",
      "Property.__set__ has been called!\n",
      "\n",
      "Property.__get__ has been called!\n",
      "Eddie\n"
     ]
    }
   ],
   "source": [
    "class Robot:\n",
    "    \n",
    "    \n",
    "    def __init__(self, name=\"Marvin\", city=\"Freiburg\"):\n",
    "        self.name = name\n",
    "        self.city = city\n",
    "        \n",
    "    @Property\n",
    "    def name(self):\n",
    "        return self.__name\n",
    "    \n",
    "    @name.setter\n",
    "    def name(self, name):\n",
    "        if name == \"hello\":\n",
    "            self.__name = \"hi\"\n",
    "        else:\n",
    "            self.__name = name\n",
    "            \n",
    "            \n",
    "x = Robot(\"Marvin\")\n",
    "print(x.name)\n",
    "x.name = \"Eddie\"\n",
    "print(x.name)"
   ]
  },
  {
   "cell_type": "code",
   "execution_count": 13,
   "id": "af6d0dbd-e50c-4d8d-8a41-5fc2d80bd443",
   "metadata": {},
   "outputs": [
    {
     "data": {
      "text/plain": [
       "20"
      ]
     },
     "execution_count": 13,
     "metadata": {},
     "output_type": "execute_result"
    }
   ],
   "source": [
    "class A:\n",
    "    def a(func):\n",
    "        def helper(self, x):\n",
    "            return 4 * func(self, x)\n",
    "        return helper\n",
    "    @a\n",
    "    def b(self, x):\n",
    "        return x + 1\n",
    "a = A()\n",
    "a.b(4)"
   ]
  },
  {
   "cell_type": "markdown",
   "id": "a0747ca4-44fa-423f-9d7f-c735edd3e9e7",
   "metadata": {},
   "source": [
    "De nombreuses personnes demandent s'il est possible de créer automatiquement des descripteurs au moment de l'exécution. C'est possible, comme nous le montrons dans l'exemple suivant. D'un autre côté, cet exemple n'est pas très utile, car les getters et setters n'ont aucune fonctionnalité réelle :"
   ]
  },
  {
   "cell_type": "code",
   "execution_count": 14,
   "id": "c61aca81-0796-4515-9810-1d8a4e938687",
   "metadata": {},
   "outputs": [
    {
     "name": "stdout",
     "output_type": "stream",
     "text": [
      "Henry Hamburg\n",
      "{'_DynPropertyClass__name': 'Henry', '_DynPropertyClass__city': 'Hamburg'}\n"
     ]
    }
   ],
   "source": [
    "class DynPropertyClass(object):\n",
    "    \n",
    "    def add_property(self, attribute):\n",
    "        \"\"\" add a property to the class \"\"\"   \n",
    "        \n",
    "        def get_attribute(self):\n",
    "            \"\"\" The value for attribute 'attribute' will be retrieved \"\"\"\n",
    "            return getattr(self, \"_\" + type(x).__name__ + \"__\" + attribute)\n",
    "        \n",
    "        def set_attribute(self, value):\n",
    "            \"\"\" The value for attribute 'attribute' will be retrieved \"\"\"\n",
    "            #setter = lambda self, value: self.setProperty(attribute, value)\n",
    "            setattr(self, \"_\" + type(x).__name__ + \"__\" + attribute, value)\n",
    "        #construct property attribute and add it to the class\n",
    "        setattr(type(self), attribute, property(fget=get_attribute, \n",
    "                                                fset=set_attribute, \n",
    "                                                doc=\"Auto‑generated method\"))\n",
    "x = DynPropertyClass()\n",
    "x.add_property('name')\n",
    "x.add_property('city')\n",
    "x.name = \"Henry\"\n",
    "x.name\n",
    "x.city = \"Hamburg\"\n",
    "print(x.name, x.city)\n",
    "print(x.__dict__)"
   ]
  },
  {
   "cell_type": "code",
   "execution_count": null,
   "id": "a34a8307-a109-4d3c-8585-d40718327255",
   "metadata": {},
   "outputs": [],
   "source": []
  }
 ],
 "metadata": {
  "kernelspec": {
   "display_name": "py11",
   "language": "python",
   "name": "py11"
  },
  "language_info": {
   "codemirror_mode": {
    "name": "ipython",
    "version": 3
   },
   "file_extension": ".py",
   "mimetype": "text/x-python",
   "name": "python",
   "nbconvert_exporter": "python",
   "pygments_lexer": "ipython3",
   "version": "3.11.0"
  }
 },
 "nbformat": 4,
 "nbformat_minor": 5
}
