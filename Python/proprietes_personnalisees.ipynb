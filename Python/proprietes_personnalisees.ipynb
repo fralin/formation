{
 "cells": [
  {
   "cell_type": "markdown",
   "id": "bde0e327-37d9-420d-bf84-f29ee4898f29",
   "metadata": {},
   "source": [
    "# Mise en œuvre d'une classe de propriétés personnalisées\n",
    "\n",
    "Dans le chapitre précédent de notre tutoriel, nous avons appris à créer et à utiliser des propriétés dans une classe. L'objectif principal était de les comprendre comme un moyen de se débarrasser des getters et setters explicites et d'avoir une interface de classe simple. Cette connaissance est généralement suffisante pour la plupart des programmeurs et pour les cas d'utilisation pratiques, et ils n'auront pas besoin de plus.\n",
    "\n",
    "Si vous voulez en savoir plus sur le fonctionnement des __propriétés__, vous pouvez aller plus loin avec nous. Vous pourrez ainsi améliorer vos compétences en codage et approfondir votre compréhension de Python. Nous allons examiner la manière dont le décorateur __property__ pourrait être implémenté dans le code Python. (En réalité, il est implémenté en code C !) En faisant cela, la façon de travailler sera plus claire. Tout est basé sur le protocole des descripteurs, que nous expliquerons plus tard.\n",
    "\n",
    "<center><img src=\"img/illustration3.png\" width=\"50%\"></center>\n",
    "\n",
    "Nous définissons une classe avec le nom ```our_property``` afin qu'elle ne soit pas confondue avec la classe \"propriété\" existante. Cette classe peut être utilisée comme la \"vraie\" classe de propriété."
   ]
  },
  {
   "cell_type": "code",
   "execution_count": 2,
   "id": "60e088e6-da6a-4d4d-830b-7151adb4f4bb",
   "metadata": {},
   "outputs": [],
   "source": [
    "class our_property:\n",
    "    \"\"\" emulation of the property class \n",
    "        for educational purposes \"\"\"\n",
    "\n",
    "    def __init__(self, \n",
    "                 fget=None, \n",
    "                 fset=None, \n",
    "                 fdel=None, \n",
    "                 doc=None):\n",
    "        \"\"\"Attributes of 'our_decorator'\n",
    "        fget\n",
    "            function to be used for getting \n",
    "            an attribute value\n",
    "        fset\n",
    "            function to be used for setting \n",
    "            an attribute value\n",
    "        fdel\n",
    "            function to be used for deleting \n",
    "            an attribute\n",
    "        doc\n",
    "            the docstring\n",
    "        \"\"\"\n",
    "        self.fget = fget\n",
    "        self.fset = fset\n",
    "        self.fdel = fdel\n",
    "        if doc is None and fget is not None:\n",
    "            doc = fget.__doc__\n",
    "        self.__doc__ = doc\n",
    "\n",
    "    def __get__(self, obj, objtype=None):\n",
    "        if obj is None:\n",
    "            return self\n",
    "        if self.fget is None:\n",
    "            raise AttributeError(\"unreadable attribute\")\n",
    "        return self.fget(obj)\n",
    "\n",
    "    def __set__(self, obj, value):\n",
    "        if self.fset is None:\n",
    "            raise AttributeError(\"can't set attribute\")\n",
    "        self.fset(obj, value)\n",
    "\n",
    "    def __delete__(self, obj):\n",
    "        if self.fdel is None:\n",
    "            raise AttributeError(\"can't delete attribute\")\n",
    "        self.fdel(obj)\n",
    "\n",
    "    def getter(self, fget):\n",
    "        return type(self)(fget, self.fset, self.fdel, self.__doc__)\n",
    "\n",
    "    def setter(self, fset):\n",
    "        return type(self)(self.fget, fset, self.fdel, self.__doc__)\n",
    "\n",
    "    def deleter(self, fdel):\n",
    "        return type(self)(self.fget, self.fset, fdel, self.__doc__)"
   ]
  },
  {
   "cell_type": "markdown",
   "id": "eb1a0ba0-1d15-4db6-824f-83008e8bd068",
   "metadata": {},
   "source": [
    "Nous avons besoin d'une autre classe pour utiliser la classe précédemment définie et pour démontrer le fonctionnement du décorateur de classe de propriété. Pour continuer la tradition des chapitres précédents de notre tutoriel Python, nous allons à nouveau écrire une classe Robot. Nous allons définir une propriété dans cette classe d'exemple pour démontrer l'utilisation de notre classe de propriété précédemment définie ou mieux 'notre_décorateur'. Lorsque vous exécutez le code, vous pouvez voir que ```__init__``` de ```our_property``` sera appelé ```fget``` avec une référence à la fonction ```getter``` de ```city```. L'attribut ```city``` est une instance de la classe ```our_property```. La classe ```our_property``` fournit un autre décorateur ```setter``` pour la fonction ```setter```. Nous l'appliquons avec ```@city.setter```."
   ]
  },
  {
   "cell_type": "code",
   "execution_count": 3,
   "id": "c4a83323-9c87-4517-bed5-487a878c9592",
   "metadata": {},
   "outputs": [],
   "source": [
    "class Robot:\n",
    "    \n",
    "    def __init__(self, city):\n",
    "        self.city = city\n",
    "        \n",
    "    @our_property\n",
    "    def city(self):\n",
    "        print(\"The Property 'city' will be returned now:\")\n",
    "        return self.__city\n",
    "    \n",
    "    @city.setter\n",
    "    def city(self, city):\n",
    "        print(\"'city' will be set\")\n",
    "        self.__city = city"
   ]
  },
  {
   "cell_type": "markdown",
   "id": "5efdfb57-9630-49ab-9611-bf72a27a318d",
   "metadata": {},
   "source": [
    "```Robot.city``` est une instance de la classe ```our_property``` comme nous pouvons le voir ci-après :"
   ]
  },
  {
   "cell_type": "code",
   "execution_count": 4,
   "id": "29d7cfae-f2c5-4434-ad8a-592cc6bd42d8",
   "metadata": {},
   "outputs": [
    {
     "data": {
      "text/plain": [
       "__main__.our_property"
      ]
     },
     "execution_count": 4,
     "metadata": {},
     "output_type": "execute_result"
    }
   ],
   "source": [
    "type(Robot.city)"
   ]
  },
  {
   "cell_type": "markdown",
   "id": "203cbd08-719e-4cea-a126-9520a7a580e8",
   "metadata": {},
   "source": [
    "Si vous remplacez la ligne ```@our_property``` par ```@property```, le programme se comportera de la même manière, mais il utilisera la classe Python originale ```property``` et non notre classe ```our_property```. Nous allons créer des instances de la classe Robot dans le code Python suivant :"
   ]
  },
  {
   "cell_type": "code",
   "execution_count": 6,
   "id": "dbdac18c-cf89-44a6-9bd5-517d0bfafc8a",
   "metadata": {},
   "outputs": [
    {
     "name": "stdout",
     "output_type": "stream",
     "text": [
      "Instantiating a Root and setting 'city' to 'Berlin'\n",
      "'city' will be set\n",
      "The Property 'city' will be returned now:\n",
      "The value is:  Berlin\n",
      "Our robot moves now to Frankfurt:\n",
      "'city' will be set\n",
      "The Property 'city' will be returned now:\n",
      "The value is:  Frankfurt\n"
     ]
    }
   ],
   "source": [
    "print(\"Instantiating a Root and setting 'city' to 'Berlin'\")\n",
    "robo = Robot(\"Berlin\")\n",
    "print(\"The value is: \", robo.city)\n",
    "print(\"Our robot moves now to Frankfurt:\")\n",
    "robo.city = \"Frankfurt\"\n",
    "print(\"The value is: \", robo.city)"
   ]
  },
  {
   "cell_type": "markdown",
   "id": "c7cd5caf-c4b9-4889-8c54-3f832435ff5e",
   "metadata": {},
   "source": [
    "Rendons notre implémentation de propriété un peu plus bavarde avec quelques fonctions d'impression pour voir ce qui se passe. Nous changeons également le nom en ```chatty_property``` pour des raisons évidentes :"
   ]
  },
  {
   "cell_type": "code",
   "execution_count": 7,
   "id": "bc286887-ce21-461d-ad53-db82172333c5",
   "metadata": {},
   "outputs": [],
   "source": [
    "class chatty_property:\n",
    "    \"\"\" emulation of the property class \n",
    "        for educational purposes \"\"\"\n",
    "\n",
    "    def __init__(self, \n",
    "                 fget=None, \n",
    "                 fset=None, \n",
    "                 fdel=None, \n",
    "                 doc=None):\n",
    "        \n",
    "        self.fget = fget\n",
    "        self.fset = fset\n",
    "        self.fdel = fdel\n",
    "        print(\"\\n__init__ called with:)\")\n",
    "        print(f\"fget={fget}, fset={fset}, fdel={fdel}, doc={doc}\")\n",
    "        if doc is None and fget is not None:\n",
    "            print(f\"doc set to docstring of {fget.__name__} method\")\n",
    "            doc = fget.__doc__\n",
    "        self.__doc__ = doc\n",
    "\n",
    "    def __get__(self, obj, objtype=None):\n",
    "        if obj is None:\n",
    "            return self\n",
    "        if self.fget is None:\n",
    "            raise AttributeError(\"unreadable attribute\")\n",
    "        return self.fget(obj)\n",
    "\n",
    "    def __set__(self, obj, value):\n",
    "        if self.fset is None:\n",
    "            raise AttributeError(\"can't set attribute\")\n",
    "        self.fset(obj, value)\n",
    "\n",
    "    def __delete__(self, obj):\n",
    "        if self.fdel is None:\n",
    "            raise AttributeError(\"can't delete attribute\")\n",
    "        self.fdel(obj)\n",
    "\n",
    "    def getter(self, fget):\n",
    "        return type(self)(fget, self.fset, self.fdel, self.__doc__)\n",
    "\n",
    "    def setter(self, fset):\n",
    "        print(type(self))\n",
    "        return type(self)(self.fget, fset, self.fdel, self.__doc__)\n",
    "\n",
    "    def deleter(self, fdel):\n",
    "        return type(self)(self.fget, self.fset, fdel, self.__doc__)"
   ]
  },
  {
   "cell_type": "code",
   "execution_count": 8,
   "id": "24908dec-9ab4-4969-938e-416ea89e6ea6",
   "metadata": {},
   "outputs": [
    {
     "name": "stdout",
     "output_type": "stream",
     "text": [
      "\n",
      "__init__ called with:)\n",
      "fget=<function Robot.city at 0x10f666700>, fset=None, fdel=None, doc=None\n",
      "doc set to docstring of city method\n",
      "<class '__main__.chatty_property'>\n",
      "\n",
      "__init__ called with:)\n",
      "fget=<function Robot.city at 0x10f666700>, fset=<function Robot.city at 0x10f6667a0>, fdel=None, doc= city attribute of Robot \n"
     ]
    }
   ],
   "source": [
    "class Robot:\n",
    "    \n",
    "    def __init__(self, city):\n",
    "        self.city = city\n",
    "        \n",
    "    @chatty_property\n",
    "    def city(self):\n",
    "        \"\"\" city attribute of Robot \"\"\"\n",
    "        print(\"The Property 'city' will be returned now:\")\n",
    "        return self.__city\n",
    "    \n",
    "    @city.setter\n",
    "    def city(self, city):\n",
    "        print(\"'city' will be set\")\n",
    "        self.__city = city"
   ]
  },
  {
   "cell_type": "code",
   "execution_count": 9,
   "id": "10dcb52d-97df-4988-a5c4-88ac72787461",
   "metadata": {},
   "outputs": [
    {
     "name": "stdout",
     "output_type": "stream",
     "text": [
      "'city' will be set\n"
     ]
    }
   ],
   "source": [
    "robo = Robot(\"Berlin\")"
   ]
  },
  {
   "cell_type": "code",
   "execution_count": null,
   "id": "7f7e2c6f-bb74-40d6-8d4d-91b60c1fe63a",
   "metadata": {},
   "outputs": [],
   "source": []
  }
 ],
 "metadata": {
  "kernelspec": {
   "display_name": "py11",
   "language": "python",
   "name": "py11"
  },
  "language_info": {
   "codemirror_mode": {
    "name": "ipython",
    "version": 3
   },
   "file_extension": ".py",
   "mimetype": "text/x-python",
   "name": "python",
   "nbconvert_exporter": "python",
   "pygments_lexer": "ipython3",
   "version": "3.11.0"
  }
 },
 "nbformat": 4,
 "nbformat_minor": 5
}
