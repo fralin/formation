{
 "cells": [
  {
   "cell_type": "code",
   "execution_count": 3,
   "id": "c79471ce-726e-4544-808d-3d36a9e82cdf",
   "metadata": {},
   "outputs": [
    {
     "name": "stderr",
     "output_type": "stream",
     "text": [
      "test_puissance1 (__main__.TestPuissance.test_puissance1) ... ok\n",
      "test_puissance2 (__main__.TestPuissance.test_puissance2) ... FAIL\n",
      "\n",
      "======================================================================\n",
      "FAIL: test_puissance2 (__main__.TestPuissance.test_puissance2)\n",
      "----------------------------------------------------------------------\n",
      "Traceback (most recent call last):\n",
      "  File \"/var/folders/gp/hcjxzfyd3yj3yq_dyvblymph0000gn/T/ipykernel_7256/603249856.py\", line 9, in test_puissance2\n",
      "    self.assertEqual(calc_puissance(2,3), 4)\n",
      "AssertionError: 8 != 4\n",
      "\n",
      "----------------------------------------------------------------------\n",
      "Ran 2 tests in 0.005s\n",
      "\n",
      "FAILED (failures=1)\n"
     ]
    }
   ],
   "source": [
    "from puissance import calc_puissance\n",
    "import unittest\n",
    "\n",
    "class TestPuissance(unittest.TestCase):\n",
    "    def test_puissance1(self):\n",
    "        self.assertEqual(calc_puissance(2,2), 4)\n",
    "        \n",
    "    def test_puissance2(self):\n",
    "        self.assertEqual(calc_puissance(2,3), 4)    \n",
    "        \n",
    "res = unittest.main(argv=[''], verbosity=3, exit=False)"
   ]
  },
  {
   "cell_type": "code",
   "execution_count": null,
   "id": "bcb4e55d-e3d1-4772-a7de-5ef92a2dbb04",
   "metadata": {},
   "outputs": [],
   "source": []
  }
 ],
 "metadata": {
  "kernelspec": {
   "display_name": "py11",
   "language": "python",
   "name": "py11"
  },
  "language_info": {
   "codemirror_mode": {
    "name": "ipython",
    "version": 3
   },
   "file_extension": ".py",
   "mimetype": "text/x-python",
   "name": "python",
   "nbconvert_exporter": "python",
   "pygments_lexer": "ipython3",
   "version": "3.11.0"
  }
 },
 "nbformat": 4,
 "nbformat_minor": 5
}
