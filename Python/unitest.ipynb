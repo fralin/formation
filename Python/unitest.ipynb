{
 "cells": [
  {
   "cell_type": "markdown",
   "id": "31f8d755-8507-4691-a7f0-cbe8562de46f",
   "metadata": {},
   "source": [
    "# Tests, DocTests, UnitTests\n",
    "\n",
    "## Erreurs et tests\n",
    "\n",
    "En général, les programmeurs et les développeurs de programmes passent une grande partie de leur temps à déboguer et à tester. Il est difficile de donner des pourcentages exacts, car cela dépend fortement d'autres facteurs comme le style de programmation individuel, les problèmes à résoudre et, bien sûr, la qualification d'un programmeur. Le langage de programmation est sans aucun doute un autre facteur important.\n",
    "\n",
    "Il n'est pas nécessaire de programmer pour être assailli d'erreurs, comme le savaient déjà les Romains de l'Antiquité. Le philosophe Cicéron a inventé, il y a plus de 2000 ans, un aphorisme inoubliable, qui est souvent cité : __errare humanum est__. Cet aphorisme est souvent utilisé comme une excuse à l'échec. Même s'il n'est guère possible d'éliminer complètement toutes les erreurs dans un produit logiciel, nous devrions toujours travailler de manière ambitieuse dans ce but, c'est-à-dire maintenir le nombre d'erreurs au minimum.\n",
    "\n",
    "## Types d'erreurs\n",
    "\n",
    "Il existe plusieurs types d'erreurs. Pendant le développement d'un programme, il y a beaucoup de __petites erreurs__, principalement des fautes de frappe. L'absence de deux points - par exemple, derrière un ```if``` ou un ```else``` - ou l'écriture erronée du mot clé ```True``` avec un __t__ minuscule peuvent faire une grande différence. Ces erreurs sont appelées erreurs syntaxiques. Dans la plupart des cas, les erreurs syntaxiques peuvent être facilement trouvées, mais d'autres types d'erreurs sont plus difficiles à résoudre. Une erreur sémantique est un code syntaxiquement correct, mais le programme ne se comporte pas de la manière prévue. Imaginons que quelqu'un veuille augmenter la valeur d'une variable ```x``` de un, mais qu'au lieu de ```x += 1```, il écrive ```x = 1```. L'exemple de code suivant, plus long, peut contenir une autre erreur sémantique :"
   ]
  },
  {
   "cell_type": "code",
   "execution_count": 1,
   "id": "92a3f35b-4091-4223-8fda-131aa18ce04c",
   "metadata": {},
   "outputs": [
    {
     "name": "stdin",
     "output_type": "stream",
     "text": [
      "x?  2\n",
      "y?  1\n"
     ]
    },
    {
     "name": "stdout",
     "output_type": "stream",
     "text": [
      "So what?\n"
     ]
    }
   ],
   "source": [
    "x = int(input(\"x? \"))\n",
    "y = int(input(\"y? \"))\n",
    "if x > 10:\n",
    "    if y == x:\n",
    "        print(\"Fine\")\n",
    "else:\n",
    "    print(\"So what?\")"
   ]
  },
  {
   "cell_type": "markdown",
   "id": "0fe6d5f0-3113-4d52-8ede-fece3d35fba4",
   "metadata": {},
   "source": [
    "On peut voir deux instructions ```if```. L'une est imbriquée dans l'autre. Le code est certainement syntaxiquement correct. Mais il se peut que l'auteur du programme ait voulu uniquement afficher \"So what?\", si la valeur de la variable x est à la fois supérieure à 10 et x n'est pas égal à y. Dans ce cas, le code devrait ressembler à ceci :"
   ]
  },
  {
   "cell_type": "code",
   "execution_count": 2,
   "id": "cc8aed13-08ce-432f-9ddf-1fd9d85fbfa7",
   "metadata": {},
   "outputs": [
    {
     "name": "stdin",
     "output_type": "stream",
     "text": [
      "x?  2\n",
      "y?  1\n"
     ]
    }
   ],
   "source": [
    "x = int(input(\"x? \"))\n",
    "y = int(input(\"y? \"))\n",
    "if x > 10:\n",
    "    if y == x:\n",
    "        print(\"Fine\")\n",
    "    else:\n",
    "        print(\"So what?\")"
   ]
  },
  {
   "cell_type": "markdown",
   "id": "8249f495-77b6-4d3e-a154-1c009d586fef",
   "metadata": {},
   "source": [
    "Les deux versions du code sont syntaxiquement correctes, mais l'une d'entre elles viole la sémantique prévue. Prenons un autre exemple :"
   ]
  },
  {
   "cell_type": "code",
   "execution_count": 3,
   "id": "33a64143-f2f5-4e8a-a8e8-e25f8ab921e8",
   "metadata": {},
   "outputs": [
    {
     "name": "stdout",
     "output_type": "stream",
     "text": [
      "0\n",
      "1\n",
      "2\n",
      "3\n",
      "4\n",
      "5\n",
      "6\n"
     ]
    }
   ],
   "source": [
    "for i in range(7):\n",
    "     print(i)"
   ]
  },
  {
   "cell_type": "markdown",
   "id": "9716c1f4-3e98-4de7-bb8a-15864b5a2e71",
   "metadata": {},
   "source": [
    "L'instruction s'est exécutée sans lever d'exception, nous savons donc qu'elle est syntaxiquement correcte. Cependant, il n'est pas possible de décider si l'instruction est sémantiquement correcte, car nous ne connaissons pas le problème. Il se peut que le programmeur ait voulu sortir les nombres de 1 à 7, c'est-à-dire 1,2,...7. Dans ce cas, il ou elle ne comprend pas correctement la fonction range.\n",
    "\n",
    "Nous pouvons donc diviser les erreurs sémantiques en deux catégories.\n",
    "\n",
    "- Les erreurs dues à un manque de compréhension d'une construction du langage.\n",
    "- Les erreurs dues à une conversion de code logiquement incorrecte.\n",
    "\n",
    "## Tests unitaires\n",
    "\n",
    "Ce paragraphe porte sur les tests unitaires. Comme leur nom l'indique, ils sont utilisés pour tester des unités ou des composants du code, généralement des classes ou des fonctions. Le concept sous-jacent est de simplifier le test de grands systèmes de programmation en testant de \"petites\" unités. Pour ce faire, les parties d'un programme doivent être isolées en \"unités\" testables indépendantes. On peut définir le \"test unitaire\" comme une méthode par laquelle des unités individuelles de code source sont testées pour déterminer si elles répondent aux exigences, c'est-à-dire si elles renvoient la sortie attendue pour toutes les données d'entrée possibles - ou définies. Une unité peut être considérée comme la plus petite partie testable d'un programme, qui sont souvent des fonctions ou des méthodes de classes. Le test d'une unité doit être indépendant des autres unités car une unité est \"assez\" petite, c'est-à-dire gérable pour garantir une correction complète. En général, cela n'est pas possible pour les systèmes à grande échelle comme les grands programmes logiciels ou les systèmes d'exploitation.\n",
    "\n",
    "## Tests de modules avec nom\n",
    "\n",
    "Chaque module a un nom, qui est défini dans l'attribut intégré ```__name__```. Supposons que nous ayons écrit un module __xyz__ que nous avons enregistré sous le nom de ```xyz.py```. Si nous importons ce module avec ```import xyz```, la chaîne ```xyz``` sera affectée à ```__name__```. Si nous appelons le fichier ```xyz.py``` comme un programme autonome, c'est-à-dire de la manière suivante,\n",
    "```shell\n",
    "$python3 xyz.py\n",
    "```\n",
    "\n",
    "la valeur de ```__name__``` sera la chaîne ```__main__```.\n",
    "\n",
    "Le module suivant peut être utilisé pour calculer les nombres de fibonacci. Mais ce que fait le module n'est pas important. Nous voulons démontrer qu'il est possible de créer un simple test de module à l'intérieur d'un fichier de module, dans notre cas le fichier ```xyz.py```, en utilisant une instruction if et en vérifiant la valeur de ```__name__```. Nous vérifions si le module a été lancé de manière autonome, auquel cas la valeur de ```__name__``` sera ```__main__```. Veuillez enregistrer le code suivant sous le nom de \"fibonacci1.py\" :\n",
    "\n",
    "-Module Fibonacci-\n",
    "\n",
    "```python\n",
    "def fib(n):\n",
    "    \"\"\" Calculates the n-th Fibonacci number iteratively \"\"\"\n",
    "    a, b = 0, 1\n",
    "    for i in range(n):\n",
    "        a, b = b, a + b\n",
    "    return a\n",
    "def fiblist(n):\n",
    "    \"\"\" creates a list of Fibonacci numbers up to the n-th generation \"\"\"\n",
    "    fib = [0,1]\n",
    "    for i in range(1,n):\n",
    "        fib += [fib[-1]+fib[-2]]\n",
    "    return fib\n",
    "```\n",
    "\n",
    "Il est possible de tester ce module manuellement dans le shell interactif Python :"
   ]
  },
  {
   "cell_type": "code",
   "execution_count": 5,
   "id": "a76aee21-ca6d-4930-98da-c9bb1390e576",
   "metadata": {},
   "outputs": [
    {
     "data": {
      "text/plain": [
       "1"
      ]
     },
     "execution_count": 5,
     "metadata": {},
     "output_type": "execute_result"
    }
   ],
   "source": [
    "from fibonacci1 import fib, fiblist\n",
    "fib(1)"
   ]
  },
  {
   "cell_type": "code",
   "execution_count": 6,
   "id": "d110196e-032e-4697-8e2a-ab44ea48604a",
   "metadata": {},
   "outputs": [
    {
     "ename": "TypeError",
     "evalue": "'float' object cannot be interpreted as an integer",
     "output_type": "error",
     "traceback": [
      "\u001b[0;31m---------------------------------------------------------------------------\u001b[0m",
      "\u001b[0;31mTypeError\u001b[0m                                 Traceback (most recent call last)",
      "Cell \u001b[0;32mIn[6], line 1\u001b[0m\n\u001b[0;32m----> 1\u001b[0m \u001b[43mfib\u001b[49m\u001b[43m(\u001b[49m\u001b[38;5;241;43m0.5\u001b[39;49m\u001b[43m)\u001b[49m\n",
      "File \u001b[0;32m~/SynologyDrive/codage/Python/cours python/notebooks/fibonacci1.py:4\u001b[0m, in \u001b[0;36mfib\u001b[0;34m(n)\u001b[0m\n\u001b[1;32m      2\u001b[0m \u001b[38;5;250m\u001b[39m\u001b[38;5;124;03m\"\"\" Calculates the n-th Fibonacci number iteratively \"\"\"\u001b[39;00m\n\u001b[1;32m      3\u001b[0m a, b \u001b[38;5;241m=\u001b[39m \u001b[38;5;241m0\u001b[39m, \u001b[38;5;241m1\u001b[39m\n\u001b[0;32m----> 4\u001b[0m \u001b[38;5;28;01mfor\u001b[39;00m i \u001b[38;5;129;01min\u001b[39;00m \u001b[38;5;28;43mrange\u001b[39;49m\u001b[43m(\u001b[49m\u001b[43mn\u001b[49m\u001b[43m)\u001b[49m:\n\u001b[1;32m      5\u001b[0m     a, b \u001b[38;5;241m=\u001b[39m b, a \u001b[38;5;241m+\u001b[39m b\n\u001b[1;32m      6\u001b[0m \u001b[38;5;28;01mreturn\u001b[39;00m a\n",
      "\u001b[0;31mTypeError\u001b[0m: 'float' object cannot be interpreted as an integer"
     ]
    }
   ],
   "source": [
    "fib(0.5)"
   ]
  },
  {
   "cell_type": "markdown",
   "id": "944db7d3-bf6a-4082-89a9-cf841b9f72c7",
   "metadata": {},
   "source": [
    "Nous pouvons constater que les fonctions n'ont de sens que si l'entrée est constituée d'entiers positifs. La fonction ```fib``` renvoie 0 pour une entrée négative et ```fiblist``` renvoie toujours la liste ```[0,1]```, si l'entrée est un nombre entier négatif. Les deux fonctions soulèvent une exception ```TypeError```, car la fonction range n'est pas définie pour les flottants. Nous pouvons tester notre module en vérifiant les valeurs de retour de certains appels caractéristiques à ```fib()``` et ```fiblist()```. Nous pouvons donc ajouter l'instruction ```if``` suivante:\n",
    "```python\n",
    "if fib(0) == 0 and fib(10) == 55 and fib(50) == 12586269025:\n",
    "    print(\"Test for the fib function was successful!\")\n",
    "else:\n",
    "    print(\"The fib function is returning wrong values!\")\n",
    "```\n",
    "\n",
    "à notre module, mais donnez-lui un nouveau nom : fibonacci2.py. Nous pouvons maintenant importer ce module dans un shell Python ou à l'intérieur d'un programme Python. Si le programme avec l'importation est exécuté, nous recevons la sortie suivante :"
   ]
  },
  {
   "cell_type": "code",
   "execution_count": 12,
   "id": "fce318d2-0f9c-47ca-8e63-9cbc08cdccc9",
   "metadata": {},
   "outputs": [],
   "source": [
    "from fibonacci2 import fib"
   ]
  },
  {
   "cell_type": "markdown",
   "id": "1bea412f-2684-4c6b-a6f6-05ab4bcc04bd",
   "metadata": {},
   "source": [
    "Cette approche présente un inconvénient crucial. Si nous importons le module, nous obtiendrons une sortie indiquant que le test s'est déroulé correctement. C'est quelque chose que nous ne voulons pas voir, lorsque nous importons le module. En plus d'être dérangeant, ce n'est pas une pratique courante. Les modules devraient être silencieux lorsqu'ils sont importés, c'est-à-dire qu'ils ne devraient pas produire de sortie. Nous pouvons empêcher cela en utilisant la variable spéciale intégrée ```__name__```. Nous pouvons protéger le code de test en le plaçant dans l'instruction if suivante :\n",
    "\n",
    "```python\n",
    "if __name__ == \"__main__\":\n",
    "    if fib(0) == 0 and fib(10) == 55 and fib(50) == 12586269025:\n",
    "        print(\"Test for the fib function was successful!\")\n",
    "    else:\n",
    "        print(\"The fib function is returning wrong values!\")\n",
    "```"
   ]
  },
  {
   "cell_type": "markdown",
   "id": "6213b2e6-8a7f-4c1a-b2f5-efa2989ad2a7",
   "metadata": {},
   "source": [
    "La valeur de la variable ```__name__``` est définie automatiquement par Python. Imaginons que nous importons un module farfelu portant les noms foobar.py blubla.py et blimblam.py, les valeurs de la variable ```__name__``` seront respectivement foobar, blubla et blimblam.\n",
    "\n",
    "Si nous modifions notre module fibonacci en conséquence et l'enregistrons sous le nom de ```fibonacci3.py```, nous obtenons une importation silencieuse :"
   ]
  },
  {
   "cell_type": "code",
   "execution_count": 14,
   "id": "2d3b2bd1-c3ca-4ec9-9300-854a593d50fd",
   "metadata": {},
   "outputs": [],
   "source": [
    "import fibonacci3"
   ]
  },
  {
   "cell_type": "markdown",
   "id": "97c40fee-c107-4d10-bc6a-1a16ab8eef12",
   "metadata": {},
   "source": [
    "Nous avons réussi à faire taire la sortie. Pourtant, notre module devrait effectuer le test, s'il est lancé de manière autonome."
   ]
  },
  {
   "cell_type": "code",
   "execution_count": 15,
   "id": "3a0c37f4-2cdc-440a-ba10-086c709e8979",
   "metadata": {},
   "outputs": [
    {
     "name": "stdout",
     "output_type": "stream",
     "text": [
      "Test for the fib function was successful!\n"
     ]
    }
   ],
   "source": [
    "!python3 fibonacci3.py"
   ]
  },
  {
   "cell_type": "markdown",
   "id": "e7c876a4-d897-4c57-92e0-00e36b205d3e",
   "metadata": {},
   "source": [
    "Nous allons maintenant ajouter délibérément une erreur dans notre code.\n",
    "\n",
    "Nous modifions la ligne suivante\n",
    "```python\n",
    " a, b = 0, 1 \n",
    "```\n",
    "en\n",
    "```python\n",
    " a, b = 1, 1 \n",
    "```\n",
    "et nous enregistrons sous le nom de ```fibonacci4.py```.\n",
    "\n",
    "En principe, la fonction ```fib``` calcule toujours les valeurs de Fibonacci, mais ```fib(n)``` renvoie la valeur de Fibonacci pour l'argument \"n+1\". Si nous appelons notre module modifié, nous recevons ce message d'erreur :"
   ]
  },
  {
   "cell_type": "code",
   "execution_count": 17,
   "id": "94e849d9-6e72-48a6-97b2-1888c70e2266",
   "metadata": {},
   "outputs": [
    {
     "name": "stdout",
     "output_type": "stream",
     "text": [
      "The fib function is returning wrong values!\n"
     ]
    }
   ],
   "source": [
    "!python3 fibonacci4.py"
   ]
  },
  {
   "cell_type": "markdown",
   "id": "5a0eb77a-9315-4e13-b046-51c0f9612335",
   "metadata": {},
   "source": [
    "Réécrivons notre module :"
   ]
  },
  {
   "cell_type": "code",
   "execution_count": 18,
   "id": "1e1351d1-f2bd-45c1-a4fd-1e70fdbcb368",
   "metadata": {},
   "outputs": [
    {
     "name": "stdout",
     "output_type": "stream",
     "text": [
      "Test for the fib function was successful!\n"
     ]
    }
   ],
   "source": [
    "\"\"\" Fibonacci Module \"\"\"\n",
    "def fib(n):\n",
    "    \"\"\" Calculates the n-th Fibonacci number iteratively \"\"\"\n",
    "    a, b = 0, 1\n",
    "    for i in range(n):\n",
    "        a, b = b, a + b\n",
    "    return a\n",
    "def fiblist(n):\n",
    "    \"\"\" creates a list of Fibonacci numbers up to the n-th generation \"\"\"\n",
    "    fib = [0,1]\n",
    "    for i in range(1,n):\n",
    "        fib += [fib[-1]+fib[-2]]\n",
    "    return fib\n",
    "if __name__ == \"__main__\":\n",
    "    if fib(0) == 0 and fib(10) == 55 and fib(50) == 12586269025:\n",
    "        print(\"Test for the fib function was successful!\")\n",
    "    else:\n",
    "        print(\"The fib function is returning wrong values!\")"
   ]
  },
  {
   "cell_type": "markdown",
   "id": "3609dcc1-f2e1-45cf-bd77-cb82918bcfc6",
   "metadata": {},
   "source": [
    "## Module doctest\n",
    "\n",
    "Le module ```doctest``` est souvent considéré comme plus facile à utiliser que le module ```unittest```, bien que ce dernier soit plus adapté à des tests plus complexes. ```doctest``` est un cadre de test livré prépackagé avec Python. Le module ```doctest``` recherche des morceaux de texte qui ressemblent à des sessions Python interactives dans les parties de documentation d'un module, puis exécute (ou réexécute) les commandes de ces sessions pour vérifier qu'elles fonctionnent exactement comme indiqué, c'est-à-dire que les mêmes résultats peuvent être obtenus. En d'autres termes : Le texte d'aide du module est analysé, par exemple, les sessions python. Ces exemples sont exécutés et les résultats sont comparés à la valeur attendue.\n",
    "\n",
    "__Utilisation de doctest :__ ```doctest``` doit être importé. La partie d'une session Python interactive avec les exemples et la sortie doit être copiée dans la docstring de la fonction correspondante.\n",
    "\n",
    "Nous démontrons cette façon de procéder avec l'exemple simple suivant. Nous avons réduit le module précédent, de sorte qu'il ne reste que la fonction fib :"
   ]
  },
  {
   "cell_type": "code",
   "execution_count": 19,
   "id": "9eafcfad-ecb3-468d-accd-219a5ee59fbb",
   "metadata": {},
   "outputs": [],
   "source": [
    "import doctest\n",
    "def fib(n):\n",
    "    \"\"\" Calculates the n-th Fibonacci number iteratively \"\"\"\n",
    "    a, b = 0, 1\n",
    "    for i in range(n):\n",
    "        a, b = b, a + b\n",
    "    return a"
   ]
  },
  {
   "cell_type": "code",
   "execution_count": 20,
   "id": "08fd9c21-b6e1-47a5-8e10-023ba2fc34a6",
   "metadata": {},
   "outputs": [
    {
     "data": {
      "text/plain": [
       "0"
      ]
     },
     "execution_count": 20,
     "metadata": {},
     "output_type": "execute_result"
    }
   ],
   "source": [
    "fib(0)"
   ]
  },
  {
   "cell_type": "code",
   "execution_count": 21,
   "id": "923b4763-19c2-4dcf-b27f-65c68fd61292",
   "metadata": {},
   "outputs": [
    {
     "data": {
      "text/plain": [
       "1"
      ]
     },
     "execution_count": 21,
     "metadata": {},
     "output_type": "execute_result"
    }
   ],
   "source": [
    "fib(1)"
   ]
  },
  {
   "cell_type": "code",
   "execution_count": 22,
   "id": "a624ce2f-79f9-4bf2-9174-2a3e045d529f",
   "metadata": {},
   "outputs": [
    {
     "data": {
      "text/plain": [
       "55"
      ]
     },
     "execution_count": 22,
     "metadata": {},
     "output_type": "execute_result"
    }
   ],
   "source": [
    "fib(10)"
   ]
  },
  {
   "cell_type": "code",
   "execution_count": 23,
   "id": "b31f415f-ff29-4735-a886-d461628b341e",
   "metadata": {},
   "outputs": [
    {
     "data": {
      "text/plain": [
       "610"
      ]
     },
     "execution_count": 23,
     "metadata": {},
     "output_type": "execute_result"
    }
   ],
   "source": [
    "fib(15)"
   ]
  },
  {
   "cell_type": "markdown",
   "id": "bf05d2ca-c86a-4ec0-83a8-2df861ec6093",
   "metadata": {},
   "source": [
    "Nous copions la session complète du shell interactif dans la docstring de notre fonction. Pour lancer le module doctest, nous devons appeler la méthode testmod(), mais seulement si le module est appelé de manière autonome. Le module complet ressemble maintenant à ceci :\n",
    "\n",
    "```python\n",
    "import doctest\n",
    "def fib(n):\n",
    "    \"\"\" \n",
    "    Calculates the n-th Fibonacci number iteratively  \n",
    "    >>> fib(0)\n",
    "    0\n",
    "    >>> fib(1)\n",
    "    1\n",
    "    >>> fib(10) \n",
    "    55\n",
    "    >>> fib(15)\n",
    "    610\n",
    "    >>> \n",
    "    \"\"\"\n",
    "    a, b = 0, 1\n",
    "    for i in range(n):\n",
    "        a, b = b, a + b\n",
    "    return a\n",
    "if __name__ == \"__main__\": \n",
    "    doctest.testmod()\n",
    "    \n",
    "```\n",
    "Si nous lançons notre module directement comme ceci\n",
    "```shell\n",
    "$python fibonacci_doctest.py\n",
    "```\n",
    "nous n'obtenons aucun résultat, car tout est correct.\n",
    "\n",
    "Pour voir comment doctest fonctionne, si quelque chose ne va pas, nous plaçons une erreur dans notre code : Nous changeons à nouveau:\n",
    "\n",
    "```python\n",
    "a, b = 0, 1\n",
    "```\n",
    "en\n",
    "```python\n",
    "a, b = 1, 1\n",
    "```\n",
    "et nous sauvegardons le fichier sous le nom de ```fibonacci_doctest.py```\n"
   ]
  },
  {
   "cell_type": "code",
   "execution_count": 25,
   "id": "e2db6733-099e-49dc-87e7-617e5d7346d2",
   "metadata": {},
   "outputs": [
    {
     "name": "stdout",
     "output_type": "stream",
     "text": [
      "**********************************************************************\n",
      "File \"/Users/francoisalin/SynologyDrive/codage/Python/cours python/notebooks/fibonacci_doctest.py\", line 5, in __main__.fib\n",
      "Failed example:\n",
      "    fib(0)\n",
      "Expected:\n",
      "    0\n",
      "Got:\n",
      "    1\n",
      "**********************************************************************\n",
      "File \"/Users/francoisalin/SynologyDrive/codage/Python/cours python/notebooks/fibonacci_doctest.py\", line 9, in __main__.fib\n",
      "Failed example:\n",
      "    fib(10) \n",
      "Expected:\n",
      "    55\n",
      "Got:\n",
      "    89\n",
      "**********************************************************************\n",
      "File \"/Users/francoisalin/SynologyDrive/codage/Python/cours python/notebooks/fibonacci_doctest.py\", line 11, in __main__.fib\n",
      "Failed example:\n",
      "    fib(15)\n",
      "Expected:\n",
      "    610\n",
      "Got:\n",
      "    987\n",
      "**********************************************************************\n",
      "1 items had failures:\n",
      "   3 of   4 in __main__.fib\n",
      "***Test Failed*** 3 failures.\n"
     ]
    }
   ],
   "source": [
    "!python fibonacci_doctest.py"
   ]
  },
  {
   "cell_type": "markdown",
   "id": "d253327d-6fbf-44cc-b026-a497464fce71",
   "metadata": {},
   "source": [
    "La sortie décrit tous les appels qui renvoient des résultats erronés. Nous pouvons voir l'appel avec les arguments dans la ligne suivant \"Failed example :\". Nous pouvons voir la valeur attendue pour l'argument dans la ligne suivant \"Expected :\". La sortie nous montre également la nouvelle valeur calculée. Nous pouvons trouver cette valeur derrière \"Got :\"."
   ]
  },
  {
   "cell_type": "markdown",
   "id": "645cf618-b514-4acb-85f7-0bfe87c4fa4c",
   "metadata": {},
   "source": [
    "## Développement piloté par les tests (Test-driven Development ou TDD)\n",
    "\n",
    "Dans les chapitres précédents, nous avons testé des fonctions, que nous avions déjà terminées. Qu'en est-il du test du code que vous n'avez pas encore écrit ? Vous pensez que ce n'est pas possible ? Non seulement c'est possible, mais c'est l'idée sous-jacente du développement piloté par les tests. Dans le cas extrême, vous définissez les tests avant de commencer à coder le code source réel. Le développeur de programmes écrit un scénario de test automatisé qui définit le \"comportement\" souhaité d'une fonction. Ce scénario de test - c'est l'idée derrière cette approche - échouera dans un premier temps, car le code doit encore être écrit.\n",
    "\n",
    "Le principal problème ou la principale difficulté de cette approche réside dans l'écriture de tests appropriés. Naturellement, le test parfait devrait vérifier toutes les entrées possibles et valider la sortie. Bien entendu, cela n'est généralement pas toujours réalisable.\n",
    "\n",
    "Dans l'exemple suivant, nous avons fixé la valeur de retour de la fonction fib à 0 :"
   ]
  },
  {
   "cell_type": "code",
   "execution_count": 26,
   "id": "fc7394d5-5472-487d-af17-04fd4f7f1a84",
   "metadata": {},
   "outputs": [
    {
     "name": "stdout",
     "output_type": "stream",
     "text": [
      "**********************************************************************\n",
      "File \"__main__\", line 7, in __main__.fib\n",
      "Failed example:\n",
      "    fib(1)\n",
      "Expected:\n",
      "    1\n",
      "Got:\n",
      "    0\n",
      "**********************************************************************\n",
      "File \"__main__\", line 9, in __main__.fib\n",
      "Failed example:\n",
      "    fib(10) \n",
      "Expected:\n",
      "    55\n",
      "Got:\n",
      "    0\n",
      "**********************************************************************\n",
      "File \"__main__\", line 11, in __main__.fib\n",
      "Failed example:\n",
      "    fib(15)\n",
      "Expected:\n",
      "    610\n",
      "Got:\n",
      "    0\n",
      "**********************************************************************\n",
      "1 items had failures:\n",
      "   3 of   4 in __main__.fib\n",
      "***Test Failed*** 3 failures.\n"
     ]
    }
   ],
   "source": [
    "import doctest\n",
    "def fib(n):\n",
    "    \"\"\" \n",
    "    Calculates the n-th Fibonacci number iteratively \n",
    "    >>> fib(0)\n",
    "    0\n",
    "    >>> fib(1)\n",
    "    1\n",
    "    >>> fib(10) \n",
    "    55\n",
    "    >>> fib(15)\n",
    "    610\n",
    "    >>> \n",
    "    \"\"\"\n",
    "    return 0\n",
    "if __name__ == \"__main__\": \n",
    "    doctest.testmod()"
   ]
  },
  {
   "cell_type": "markdown",
   "id": "7e2718df-1864-4233-85ac-442ae97a19ae",
   "metadata": {},
   "source": [
    "Il est inutile de mentionner que la fonction ne renvoie que des valeurs de retour erronées, à l'exception de ```fib(0)```.\n",
    "\n",
    "Nous devons maintenant continuer à écrire et à modifier le code de la fonction ```fib``` jusqu'à ce qu'elle réussisse le test.\n",
    "\n",
    "Cette approche du test est une méthode de développement de logiciels, appelée développement piloté par les tests.\n",
    "\n",
    "## unittest\n",
    "\n",
    "Le module Python ```unittest``` est un cadre de test unitaire, basé sur ```JUni``` d'Erich Gamma et le cadre de test Smalltalk de Kent Beck. Le module contient les classes centrales du framework qui forment la base des cas et des suites de tests (TestCase, TestSuite et ainsi de suite), ainsi qu'une classe utilitaire textuelle pour exécuter les tests et rapporter les résultats (TextTestRunner). La différence la plus évidente avec le module \"doctest\" réside dans le fait que les scénarios de test du module ```unittest``` ne sont pas définis à l'intérieur du module qui doit être testé. L'avantage majeur est clair : la documentation du programme et la description des tests sont séparées l'une de l'autre. Le prix à payer, en revanche, est une augmentation du travail pour créer les cas de test.\n",
    "\n",
    "Nous allons encore une fois utiliser notre module fibonacci pour créer un scénario de test avec ```unittest```. Dans ce but, nous créons un fichier ```fibonacci_unittest.py```. Dans ce fichier, nous devons importer ```unittest``` et le module qui doit être testé, c'est-à-dire ```fibonacci```.\n",
    "\n",
    "De plus, nous devons créer une classe avec un nom arbitraire - nous l'appellerons \"FibonacciTest\" - qui hérite de ```unittest.TestCase```. Les cas de test sont définis dans cette classe en utilisant des méthodes. Le nom de ces méthodes est arbitraire, mais doit commencer par test. Dans notre méthode ```testCalculation``` nous utilisons la méthode ```assertEqual``` de la classe ```TestCase. assertEqual(first, second, msg = None)``` vérifie si l'expression \"first\" est égale à l'expression \"second\". Si les deux expressions ne sont pas égales, ```msg``` sera produit, si ```msg``` n'est pas ```None```.\n",
    "\n",
    "```python\n",
    "import unittest\n",
    "from fibonacci1 import fib\n",
    "class FibonacciTest(unittest.TestCase):\n",
    "def testCalculation(self):\n",
    "    self.assertEqual(fib(0), 0)\n",
    "    self.assertEqual(fib(1), 1)\n",
    "    self.assertEqual(fib(5), 5)\n",
    "    self.assertEqual(fib(10), 55)\n",
    "    self.assertEqual(fib(20), 6765)\n",
    "if name == \"main\": \n",
    "    unittest.main()\n",
    "```\n",
    "\n",
    "Si nous appelons ce scénario de test, nous obtenons le résultat suivant :"
   ]
  },
  {
   "cell_type": "code",
   "execution_count": 30,
   "id": "ea36e2e4-e3e2-4d0c-90f1-8a9e315608f8",
   "metadata": {},
   "outputs": [
    {
     "name": "stderr",
     "output_type": "stream",
     "text": [
      "testCalculation (__main__.FibonacciTest.testCalculation) ... ok\n",
      "\n",
      "----------------------------------------------------------------------\n",
      "Ran 1 test in 0.003s\n",
      "\n",
      "OK\n"
     ]
    }
   ],
   "source": [
    "import unittest\n",
    "from fibonacci1 import fib\n",
    "\n",
    "class FibonacciTest(unittest.TestCase):\n",
    "    def testCalculation(self):\n",
    "        self.assertEqual(fib(0), 0)\n",
    "        self.assertEqual(fib(1), 1)\n",
    "        self.assertEqual(fib(5), 5)\n",
    "        self.assertEqual(fib(10), 55)\n",
    "        self.assertEqual(fib(20), 6765)\n",
    "\n",
    "res = unittest.main(argv=[''], verbosity=3, exit=False)"
   ]
  },
  {
   "cell_type": "markdown",
   "id": "fb46bbed-103d-4945-a96c-686a66ec3475",
   "metadata": {},
   "source": [
    "C'est généralement le résultat souhaité, mais nous sommes maintenant intéressés par ce qui se passe dans le cas d'une erreur. Nous allons donc recréer notre erreur précédente. Nous changeons à nouveau la ligne bien connue :\n",
    "```python\n",
    "a, b = 0, 1\n",
    "```\n",
    "sera changée en\n",
    "```python\n",
    "a, b = 1, 1\n",
    "```"
   ]
  },
  {
   "cell_type": "code",
   "execution_count": 35,
   "id": "a840ea3c-0669-4a0b-a329-61f2e686a7a4",
   "metadata": {},
   "outputs": [
    {
     "name": "stderr",
     "output_type": "stream",
     "text": [
      "testCalculation (__main__.FibonacciTest.testCalculation) ... FAIL\n",
      "\n",
      "======================================================================\n",
      "FAIL: testCalculation (__main__.FibonacciTest.testCalculation)\n",
      "----------------------------------------------------------------------\n",
      "Traceback (most recent call last):\n",
      "  File \"/var/folders/gp/hcjxzfyd3yj3yq_dyvblymph0000gn/T/ipykernel_54903/603384514.py\", line 6, in testCalculation\n",
      "    self.assertEqual(fib(0), 0)\n",
      "AssertionError: 1 != 0\n",
      "\n",
      "----------------------------------------------------------------------\n",
      "Ran 1 test in 0.002s\n",
      "\n",
      "FAILED (failures=1)\n"
     ]
    }
   ],
   "source": [
    "import unittest\n",
    "from fibonacci4 import fib\n",
    "\n",
    "class FibonacciTest(unittest.TestCase):\n",
    "    def testCalculation(self):\n",
    "        self.assertEqual(fib(0), 0)\n",
    "        self.assertEqual(fib(1), 1)\n",
    "        self.assertEqual(fib(5), 5)\n",
    "        self.assertEqual(fib(10), 55)\n",
    "        self.assertEqual(fib(20), 6765)\n",
    "\n",
    "res = unittest.main(argv=[''], verbosity=3, exit=False)"
   ]
  },
  {
   "cell_type": "markdown",
   "id": "b06f55c9-8938-41d7-b13c-21b0ef884de3",
   "metadata": {},
   "source": [
    "La première déclaration dans testCalculation a créé une exception. Les autres appels assertEqual n'avaient pas été exécutés. Nous corrigeons notre erreur et en créons une nouvelle. Maintenant toutes les valeurs seront correctes, sauf si l'argument d'entrée est 20 :\n",
    "\n",
    "```python\n",
    "def fib(n):\n",
    "    \"\"\" Iterative Fibonacci Function \"\"\"\n",
    "    a, b = 0, 1\n",
    "    for i in range(n):\n",
    "        a, b = b, a + b\n",
    "    if n == 20:\n",
    "        a = 42    \n",
    "    return a\n",
    "```\n",
    "Le résultat d'un test ressemble maintenant à ceci :"
   ]
  },
  {
   "cell_type": "code",
   "execution_count": 36,
   "id": "b258be3c-5272-40a6-9b46-cf724139d76c",
   "metadata": {},
   "outputs": [],
   "source": [
    "def fib(n):\n",
    "    \"\"\" Iterative Fibonacci Function \"\"\"\n",
    "    a, b = 0, 1\n",
    "    for i in range(n):\n",
    "        a, b = b, a + b\n",
    "    if n == 20:\n",
    "        a = 42    \n",
    "    return a"
   ]
  },
  {
   "cell_type": "code",
   "execution_count": 37,
   "id": "77d4b18b-3aa6-4a11-9bf6-f13f6d7b258f",
   "metadata": {},
   "outputs": [
    {
     "name": "stderr",
     "output_type": "stream",
     "text": [
      "testCalculation (__main__.FibonacciTest.testCalculation) ... FAIL\n",
      "\n",
      "======================================================================\n",
      "FAIL: testCalculation (__main__.FibonacciTest.testCalculation)\n",
      "----------------------------------------------------------------------\n",
      "Traceback (most recent call last):\n",
      "  File \"/var/folders/gp/hcjxzfyd3yj3yq_dyvblymph0000gn/T/ipykernel_54903/603384514.py\", line 10, in testCalculation\n",
      "    self.assertEqual(fib(20), 6765)\n",
      "AssertionError: 42 != 6765\n",
      "\n",
      "----------------------------------------------------------------------\n",
      "Ran 1 test in 0.006s\n",
      "\n",
      "FAILED (failures=1)\n"
     ]
    }
   ],
   "source": [
    "res = unittest.main(argv=[''], verbosity=3, exit=False)"
   ]
  },
  {
   "cell_type": "markdown",
   "id": "1fc92fe2-0350-4c47-b39b-51052439a640",
   "metadata": {},
   "source": [
    "Toutes les instructions de ```testCalculation``` ont été exécutées, mais nous n'avons vu aucune sortie, car tout était correct :\n",
    "```python\n",
    "    self.assertEqual(fib(0), 0)\n",
    "    self.assertEqual(fib(1), 1)\n",
    "    self.assertEqual(fib(5), 5)\n",
    "```\n",
    "\n",
    "Pour plus d'informations sur les méthodes de la classe TestCase rendez-vous [ici](https://docs.python.org/fr/3/library/unittest.html)"
   ]
  },
  {
   "cell_type": "code",
   "execution_count": null,
   "id": "bf048671-6da6-4d41-8cb8-2ee2d60be729",
   "metadata": {},
   "outputs": [],
   "source": []
  }
 ],
 "metadata": {
  "kernelspec": {
   "display_name": "py11",
   "language": "python",
   "name": "py11"
  },
  "language_info": {
   "codemirror_mode": {
    "name": "ipython",
    "version": 3
   },
   "file_extension": ".py",
   "mimetype": "text/x-python",
   "name": "python",
   "nbconvert_exporter": "python",
   "pygments_lexer": "ipython3",
   "version": "3.11.0"
  }
 },
 "nbformat": 4,
 "nbformat_minor": 5
}
