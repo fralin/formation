{
 "cells": [
  {
   "cell_type": "markdown",
   "id": "8fceac8d-256f-4c58-9165-a9eeb79ca701",
   "metadata": {},
   "source": [
    "# Créer un environnement Virtuel pour Jupyter Notebook\n",
    "\n",
    "## Création d'un environnement virtuel\n",
    "\n",
    "### Virtual Environment with Anaconda\n",
    "Anaconda simplifie la gestion des paquets. Avec Anaconda, nous pouvons également créer un environnement virtuel.\n",
    "\n",
    "Pour créer un environnement virtuel, il nous suffit d'exécuter la commande suivant.\n",
    "```shell\n",
    "conda create -n myenv python=3.6\n",
    "```\n",
    "\n",
    "Où ```myenv``` est le nom de l'environnement virtuel et python= est la version de python que vous voulez dans l'environnement virtuel.\n",
    "Pour utiliser l'environnement virtuel, il faut l'activer. Cela ce fait à l'aide de la commande suivante:\n",
    "```shell\n",
    "conda activate myenv\n",
    "```\n",
    "\n",
    "Lorsque l'environnement virtuel est activé, vous pouvez installer toutes les dépendances de paquets que vous voulez dans cet environnement virtuel.\n",
    "\n",
    "Si vous avez terminé la tâche, vous pouvez sortir de l'environnement virtuel en exécutant le code suivant.\n",
    "\n",
    "```shell\n",
    "conda deactivate\n",
    "```\n",
    "\n",
    "Si vous voulez vérifier tous les environnements virtuels que vous avez déjà créés dans Anaconda, vous pouvez le faire en utilisant ```conda env list``` et si vous voulez supprimer un environnement, vous pouvez exécuter le code ```conda env remove -n myenv```.\n",
    "\n",
    "### Ajout d'un environnement virtuel dans Jupyter Notebook\n",
    "Lorsque vous avez créé un environnement virtuel, il n'est pas directement accessible dans vos Jupyter Notebook. Il est nécessaire d'effectuer quelques configurations avant de pouvoir y accéder.\n",
    "\n",
    "Tout d'abord, activez votre environnement virtuel puis exécutez ce code.\n",
    "\n",
    "```\n",
    "pip install --user ipykernel\n",
    "```\n",
    "\n",
    "Il faut ajouter manuellement le kernel pour disposer de  l'environnement virtuel dans le Jupyter Notebook. C'est pourquoi nous devons l'ajouter en exécutant ce code.\n",
    "\n",
    "```shell\n",
    "python -m ipykernel install --user --name=myenv\n",
    "```\n",
    "\n",
    "Une fois que c'est fait, vous pouvez vérifier que votre nouvel environnement est bien présent dans votre interface Jupyter Lab ou lorsque vous créez un nouveau Jupyter Notebook.\n",
    "\n",
    "\n",
    "Le Note Book que vous avez créé sur la base de l'environnement virtuel aura tous les paquets que vous avez déjà installés dans cet environnement.\n",
    "\n",
    "Si vous avez terminé avec l'environnement virtuel et que vous n'en avez plus besoin, vous pouvez le supprimer en utilisant ce code.\n",
    "```shell\n",
    "jupyter kernelspec uninstall myenv\n",
    "```\n"
   ]
  },
  {
   "cell_type": "code",
   "execution_count": null,
   "id": "72094486-2538-43ab-b21d-27fdb563cf51",
   "metadata": {},
   "outputs": [],
   "source": []
  }
 ],
 "metadata": {
  "kernelspec": {
   "display_name": "Python 3 (ipykernel)",
   "language": "python",
   "name": "python3"
  },
  "language_info": {
   "codemirror_mode": {
    "name": "ipython",
    "version": 3
   },
   "file_extension": ".py",
   "mimetype": "text/x-python",
   "name": "python",
   "nbconvert_exporter": "python",
   "pygments_lexer": "ipython3",
   "version": "3.9.13"
  }
 },
 "nbformat": 4,
 "nbformat_minor": 5
}
